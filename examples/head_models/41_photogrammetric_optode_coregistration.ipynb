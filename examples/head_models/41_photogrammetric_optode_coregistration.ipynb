{
 "cells": [
  {
   "cell_type": "markdown",
   "id": "0",
   "metadata": {},
   "source": [
    "# Photogrammetric Optode Coregistration"
   ]
  },
  {
   "cell_type": "code",
   "execution_count": null,
   "id": "1",
   "metadata": {},
   "outputs": [],
   "source": [
    "import os\n",
    "import sys\n",
    "\n",
    "import matplotlib.pyplot as plt\n",
    "import matplotlib.image as mpimg\n",
    "\n",
    "import logging\n",
    "logging.basicConfig()\n",
    "logging.getLogger(\"cedalion\").setLevel(logging.DEBUG)\n",
    "logging.getLogger('trame_client').setLevel(logging.WARNING)\n",
    "logging.getLogger('trame_server').setLevel(logging.WARNING)\n",
    "\n",
    "import cedalion\n",
    "import cedalion.io\n",
    "import cedalion.datasets\n",
    "import cedalion.plots\n",
    "from cedalion.geometry.photogrammetry.processors import ColoredStickerProcessor, geo3d_from_scan\n",
    "import xarray as xr\n",
    "import pyvista as pv\n",
    "import numpy as np\n",
    "import cedalion.geometry.registration\n",
    "import cedalion.dataclasses as cdc\n",
    "from cedalion.plots import OptodeSelector\n",
    "\n",
    "\n",
    "from cedalion.geometry.landmarks import order_ref_points_6\n",
    "from cedalion.geometry.registration import icp_with_full_transform, find_spread_points\n",
    "\n",
    "xr.set_options(display_expand_data=False);\n"
   ]
  },
  {
   "cell_type": "markdown",
   "id": "2",
   "metadata": {},
   "source": [
    "## Choose between interactive and static 3D plots\n",
    "Note that for optode and landmark picking you need interactive plots. Static plots are mainly useful for rendering this example notebook. "
   ]
  },
  {
   "cell_type": "code",
   "execution_count": null,
   "id": "3",
   "metadata": {},
   "outputs": [],
   "source": [
    "pv.set_jupyter_backend(\"client\")  # uncomment for static rendering (used for documentation page)\n",
    "#pv.set_jupyter_backend(\"server\")  # uncomment for interactive rendering"
   ]
  },
  {
   "cell_type": "markdown",
   "id": "4",
   "metadata": {},
   "source": [
    "Use `cedalion.io.read_einstar_obj` to read the textured triangle mesh produced by the Einstar scanner. Here, we use our example dataset."
   ]
  },
  {
   "cell_type": "code",
   "execution_count": null,
   "id": "5",
   "metadata": {},
   "outputs": [],
   "source": [
    "\"\"\" \n",
    "# insert here your own file if you do not want to use the example file\n",
    "fname_scan = \"\" # path to .obj scan file\n",
    "\"\"\"\n",
    "fname_scan, fname_snirf,fname_montage = cedalion.datasets.get_photogrammetry_example_scan()\n",
    "s = cedalion.io.read_einstar_obj(fname_scan)"
   ]
  },
  {
   "cell_type": "markdown",
   "id": "6",
   "metadata": {},
   "source": [
    "Processors are meant to analyze the textured mesh and extract positions. The ColoredStickerProcessor searches for colored circular areas. The colors must be specified by their ranges in hue and value. These can for example be found by usig a color pipette tool on the texture file.\n",
    "\n",
    "In the following to classes of stickers are searched: \"O(ptodes)\" in blue and \"L(andmarks\" in yellow."
   ]
  },
  {
   "cell_type": "code",
   "execution_count": null,
   "id": "7",
   "metadata": {},
   "outputs": [],
   "source": [
    "processor = ColoredStickerProcessor(\n",
    "    colors={\n",
    "        \"O\" : ((0.11, 0.21, 0.7, 1)), # (hue_min, hue_max, value_min, value_max)\n",
    "        #\"L\" : ((0.25, 0.37, 0.35, 0.6))\n",
    "    }\n",
    ")\n",
    "\n",
    "sticker_centers, normals, details = processor.process(s, details=True)\n",
    "display(sticker_centers)"
   ]
  },
  {
   "cell_type": "markdown",
   "id": "8",
   "metadata": {},
   "source": [
    "Visualize the surface and extraced results."
   ]
  },
  {
   "cell_type": "code",
   "execution_count": null,
   "id": "9",
   "metadata": {},
   "outputs": [],
   "source": [
    "pvplt = pv.Plotter()\n",
    "cedalion.plots.plot_surface(pvplt, s, opacity=1.0)\n",
    "cedalion.plots.plot_labeled_points(pvplt, sticker_centers, color=\"r\")\n",
    "cedalion.plots.plot_vector_field(pvplt, sticker_centers, normals)\n",
    "pvplt.show()"
   ]
  },
  {
   "cell_type": "markdown",
   "id": "10",
   "metadata": {},
   "source": [
    "The details object is meant as a container for debuging information. It also provides plotting functionality.The following scatter plot shows the vertex colors in the hue-value plane in which the vertex classification operates."
   ]
  },
  {
   "cell_type": "code",
   "execution_count": null,
   "id": "11",
   "metadata": {},
   "outputs": [],
   "source": [
    "details.plot_vertex_colors()"
   ]
  },
  {
   "cell_type": "markdown",
   "id": "12",
   "metadata": {},
   "source": [
    "The following plots show for each cluster (tentative group of sticker vertices) The vertex positions perpendicular to the sticker normal as well as the minimum enclosing circle which is used to find the sticker's center."
   ]
  },
  {
   "cell_type": "code",
   "execution_count": null,
   "id": "13",
   "metadata": {},
   "outputs": [],
   "source": [
    "details.plot_cluster_circles()"
   ]
  },
  {
   "cell_type": "markdown",
   "id": "14",
   "metadata": {},
   "source": [
    "### If not all optodes were found automatically, there's way to remove or add them manually"
   ]
  },
  {
   "cell_type": "code",
   "execution_count": null,
   "id": "15",
   "metadata": {},
   "outputs": [],
   "source": [
    "visualizer = OptodeSelector(s, sticker_centers, normals)\n",
    "visualizer.plot()\n",
    "visualizer.enable_picking()\n",
    "cedalion.plots.plot_surface(visualizer.plotter, s, opacity=1.0)\n",
    "visualizer.plotter.show()"
   ]
  },
  {
   "cell_type": "markdown",
   "id": "16",
   "metadata": {},
   "source": [
    "After selecting all optodes, update sticker_centers and normals:"
   ]
  },
  {
   "cell_type": "code",
   "execution_count": null,
   "id": "17",
   "metadata": {},
   "outputs": [],
   "source": [
    "sticker_centers = visualizer.points\n",
    "normals = visualizer.normals if visualizer.normals is not None else normals"
   ]
  },
  {
   "cell_type": "markdown",
   "id": "18",
   "metadata": {},
   "source": [
    "Finally, to get from the sticker centers to the scalp coordinates we have to subtract the lenght of the optodes in the direction of the normals:"
   ]
  },
  {
   "cell_type": "code",
   "execution_count": null,
   "id": "19",
   "metadata": {},
   "outputs": [],
   "source": [
    "optode_length = 22.6 * cedalion.units.mm\n",
    "\n",
    "scalp_coords = sticker_centers.copy()\n",
    "mask_optodes = sticker_centers.group == 'O'\n",
    "scalp_coords[mask_optodes] = sticker_centers[mask_optodes] - optode_length*normals[mask_optodes]\n",
    "# we make a copy of this raw set of scalp coordinates to use later in the 2nd case of the coregistration example \n",
    "# that showcases an alternative route if landmark-based coregistration fails\n",
    "scalp_coords_altcase = scalp_coords.copy()\n",
    "\n",
    "display(scalp_coords)"
   ]
  },
  {
   "cell_type": "code",
   "execution_count": null,
   "id": "20",
   "metadata": {},
   "outputs": [],
   "source": [
    "pvplt = pv.Plotter()\n",
    "cedalion.plots.plot_surface(pvplt, s, opacity=0.3)\n",
    "cedalion.plots.plot_labeled_points(pvplt, sticker_centers, color=\"r\")\n",
    "cedalion.plots.plot_labeled_points(pvplt, scalp_coords, color=\"g\")\n",
    "cedalion.plots.plot_vector_field(pvplt, sticker_centers, normals)\n",
    "pvplt.show()"
   ]
  },
  {
   "cell_type": "markdown",
   "id": "21",
   "metadata": {},
   "source": [
    "### Select landmarks on a head surface\n",
    "* pick_landmarks parameter is set to *True*"
   ]
  },
  {
   "cell_type": "code",
   "execution_count": null,
   "id": "22",
   "metadata": {},
   "outputs": [],
   "source": [
    "pvplt = pv.Plotter()\n",
    "get_landmarks = cedalion.plots.plot_surface(pvplt, s, opacity=1.0, pick_landmarks = True)\n",
    "pvplt.show(interactive = True)"
   ]
  },
  {
   "cell_type": "markdown",
   "id": "23",
   "metadata": {},
   "source": [
    "### Get landmarks from the plot\n",
    "Call *get_landmarks* from the previous cell. \n",
    "* 1st value - coordinates of picked landmarks\n",
    "* 2nd - labels of corresponding landmarks"
   ]
  },
  {
   "cell_type": "code",
   "execution_count": null,
   "id": "24",
   "metadata": {},
   "outputs": [],
   "source": [
    "# for documentation purposes and to enable automatically rendered example notebooks we provide the hand-picked coordinates here too.\n",
    "landmark_labels = ['Nz', 'Iz', 'Cz', 'Lpa', 'Rpa']\n",
    "landmark_coordinates = [np.array([14.00420712, -7.84856869, 449.77840004]), \n",
    "                                  np.array([99.09920059, 29.72154755, 620.73876117]),\n",
    "                                  np.array([161.63815139, -48.49738938, 494.91210993]),\n",
    "                                  np.array([82.8771277, 79.79500128, 498.3338802]),\n",
    "                                  np.array([15.17214095, -60.56186128, 563.29621021])]\n",
    "\n",
    "# uncomment if you want to use your manually picked landmarks\n",
    "# landmark_coordinates, landmark_labels = get_landmarks()\n",
    "landmark_labels"
   ]
  },
  {
   "cell_type": "markdown",
   "id": "25",
   "metadata": {},
   "source": [
    "### Write landmarks to xarray.DataArray structure\n",
    "\n",
    "* insert *landmark_coordinates* and *landmark_labels*"
   ]
  },
  {
   "cell_type": "code",
   "execution_count": null,
   "id": "26",
   "metadata": {},
   "outputs": [],
   "source": [
    "coordinates = landmark_coordinates\n",
    "labels = landmark_labels\n",
    "\n",
    "types = [cdc.PointType.LANDMARK]*5\n",
    "groups = [\"L\"]*5\n",
    "\n",
    "landmarks = xr.DataArray(\n",
    "    np.vstack(coordinates),\n",
    "    dims=[\"label\", \"digitized\"],\n",
    "    coords={\n",
    "        \"label\": (\"label\", labels),\n",
    "        \"type\": (\"label\", types),\n",
    "        \"group\": (\"label\", groups),\n",
    "    },\n",
    ").pint.quantify(\"mm\")\n",
    "\n",
    "display(landmarks)"
   ]
  },
  {
   "cell_type": "markdown",
   "id": "27",
   "metadata": {},
   "source": [
    "### Load the montage information from .snirf file\n"
   ]
  },
  {
   "cell_type": "code",
   "execution_count": null,
   "id": "28",
   "metadata": {},
   "outputs": [],
   "source": [
    "\"\"\" \n",
    "# insert here your own file if you do not want to use the example file\n",
    "fname_snirf = \"\" # path to .snirf file \n",
    "\"\"\"\n",
    "# read the example snirf file\n",
    "recording = cedalion.io.read_snirf(fname_snirf)\n",
    "rec = recording[0]\n",
    "\n",
    "# read 3D coordinates of the optodes\n",
    "montage_elements = rec.geo3d\n",
    "montage_elements = montage_elements.rename({\"pos\" : \"aligned\"})\n",
    "montage_elements"
   ]
  },
  {
   "cell_type": "markdown",
   "id": "29",
   "metadata": {},
   "source": [
    "### Find a transformation to align selected landmarks to montage coordinates"
   ]
  },
  {
   "cell_type": "markdown",
   "id": "30",
   "metadata": {},
   "source": [
    "Visualization of initial alignment of optode positions from .snirf file\n",
    "\n",
    "* Blue for detectors\n",
    "* Red for sources\n"
   ]
  },
  {
   "cell_type": "code",
   "execution_count": null,
   "id": "31",
   "metadata": {},
   "outputs": [],
   "source": [
    "trafo = cedalion.geometry.registration.register_trans_rot(landmarks, montage_elements)\n",
    "\n",
    "\n",
    "filtered_montage_elements = montage_elements.where((montage_elements.type == cdc.PointType.SOURCE) | (montage_elements.type == cdc.PointType.DETECTOR), drop=True)\n",
    "filtered_montage_elements_t = filtered_montage_elements.points.apply_transform(trafo)\n",
    "pvplt = pv.Plotter()\n",
    "cedalion.plots.plot3d(None, s.mesh, filtered_montage_elements_t, None, plotter = pvplt) \n",
    "pvplt.show()\n"
   ]
  },
  {
   "cell_type": "markdown",
   "id": "32",
   "metadata": {},
   "source": [
    "### Iterative closest point algorithm to find labels for detectes optode centers\n",
    "\n",
    "Visualization of labels assignment\n",
    "\n",
    "* Green points represent optode centers\n",
    "* Next to them there shall be labels assumed by ICP algorithm (*show_labels = True*)"
   ]
  },
  {
   "cell_type": "code",
   "execution_count": null,
   "id": "33",
   "metadata": {},
   "outputs": [],
   "source": [
    "# iterative closest point registration\n",
    "idx = cedalion.geometry.registration.icp_with_full_transform(scalp_coords, \n",
    "                                                                            filtered_montage_elements_t, max_iterations = 100) \n",
    "# extract labels for detected optodes\n",
    "label_dict = {}\n",
    "for i, label in enumerate(filtered_montage_elements.coords['label'].values):\n",
    "    label_dict[i] = label\n",
    "labels = [label_dict[index] for index in idx]\n",
    "\n",
    "# write labels to scalp_coords\n",
    "scalp_coords = scalp_coords.assign_coords(label=labels)\n",
    "\n",
    "\n",
    "## visualize results\n",
    "# Green points represent optode centers\n",
    "# Next to them there shall be labels assumed by ICP algorithm (*show_labels = True*)\n",
    "pvplt = pv.Plotter()\n",
    "cedalion.plots.plot3d(None, s.mesh, filtered_montage_elements_t, None, plotter = pvplt) \n",
    "cedalion.plots.plot_labeled_points(pvplt, scalp_coords, color=\"green\", show_labels = True)\n",
    "pvplt.show(interactive = True)"
   ]
  },
  {
   "cell_type": "markdown",
   "id": "34",
   "metadata": {},
   "source": [
    "Extract labels for detected optodes"
   ]
  },
  {
   "cell_type": "markdown",
   "id": "35",
   "metadata": {},
   "source": []
  },
  {
   "cell_type": "markdown",
   "id": "36",
   "metadata": {},
   "source": [
    "### Combine all coregistered points into a new geo3d for further use \n",
    "e.g. (to save or update an existing geo3D field in a recording  container)"
   ]
  },
  {
   "cell_type": "code",
   "execution_count": null,
   "id": "37",
   "metadata": {},
   "outputs": [],
   "source": [
    "geo3Dscan = geo3d_from_scan(scalp_coords, landmarks)"
   ]
  },
  {
   "cell_type": "markdown",
   "id": "38",
   "metadata": {},
   "source": [
    "Visualization of successfull assignment *(show_labels = True)*"
   ]
  },
  {
   "cell_type": "code",
   "execution_count": null,
   "id": "39",
   "metadata": {},
   "outputs": [],
   "source": [
    "pvplt = pv.Plotter()\n",
    "cedalion.plots.plot3d(None, s.mesh, None, None, plotter = pvplt) \n",
    "cedalion.plots.plot_labeled_points(pvplt, geo3Dscan, show_labels = True)\n",
    "pvplt.show()"
   ]
  },
  {
   "cell_type": "markdown",
   "id": "40",
   "metadata": {},
   "source": [
    "## If labels are wrong (e.g. landmarks are faulty)\n",
    "\n",
    "It is possible to find a new transformation by manually labeling 3 optodes by selecting them in a given order. For that you need the montage of your experiment."
   ]
  },
  {
   "cell_type": "code",
   "execution_count": null,
   "id": "41",
   "metadata": {
    "tags": [
     "nbsphinx-thumbnail"
    ]
   },
   "outputs": [],
   "source": [
    "# show montage (png image) in fname_montage\n",
    "# Load the image\n",
    "img = mpimg.imread(fname_montage)\n",
    "\n",
    "# Display the image\n",
    "plt.figure(figsize=(12, 10)) \n",
    "plt.imshow(img)\n",
    "plt.axis('off')  # Turn off axis labels and ticks\n",
    "plt.show()"
   ]
  },
  {
   "cell_type": "markdown",
   "id": "42",
   "metadata": {},
   "source": [
    "Determination of evenly spreaded optodes across the head surface:"
   ]
  },
  {
   "cell_type": "code",
   "execution_count": null,
   "id": "43",
   "metadata": {},
   "outputs": [],
   "source": [
    "spread_point_labels = find_spread_points(filtered_montage_elements)\n",
    "print(\"Select those points\")\n",
    "print(spread_point_labels)\n",
    "\n",
    "points = []\n",
    "pvplt = pv.Plotter()\n",
    "cedalion.plots.plot_surface(pvplt, s, opacity=1.0)\n",
    "cedalion.plots.plot_labeled_points(pvplt, sticker_centers, color=\"r\", ppoints = points)\n",
    "#cedalion.plots.plot_vector_field(plt, sticker_centers, normals)\n",
    "pvplt.show()"
   ]
  },
  {
   "cell_type": "markdown",
   "id": "44",
   "metadata": {},
   "source": [
    "(index of points for debugging purposes)"
   ]
  },
  {
   "cell_type": "code",
   "execution_count": null,
   "id": "45",
   "metadata": {},
   "outputs": [],
   "source": [
    "# for documentation purposes and to enable automatically rendered example notebooks we provide the hand-picked coordinates here too.\n",
    "labeled_points = [15, 54, 51]\n",
    "# uncomment if you want to use your manually picked points from above\n",
    "# labeled_points = points\n",
    "labeled_points"
   ]
  },
  {
   "cell_type": "markdown",
   "id": "46",
   "metadata": {},
   "source": [
    "Write the selected labels to the corresponding points of *xarray.DataArray scalp_coords*"
   ]
  },
  {
   "cell_type": "code",
   "execution_count": null,
   "id": "47",
   "metadata": {},
   "outputs": [],
   "source": [
    "new_labels = scalp_coords_altcase.label.values.copy()\n",
    "for i,idx in enumerate(labeled_points): \n",
    "    new_labels[idx] = spread_point_labels[i]\n",
    "scalp_coords_altcase = scalp_coords_altcase.assign_coords(label=new_labels)\n",
    "scalp_coords_altcase"
   ]
  },
  {
   "cell_type": "markdown",
   "id": "48",
   "metadata": {},
   "source": [
    "Find the affine transformation for the newly labeled points and apply it to the montage optodes"
   ]
  },
  {
   "cell_type": "code",
   "execution_count": null,
   "id": "49",
   "metadata": {},
   "outputs": [],
   "source": [
    "trafo2 = cedalion.geometry.registration.register_trans_rot(scalp_coords_altcase, montage_elements)\n",
    "\n",
    "filtered_montage_elements = montage_elements.where((montage_elements.type == cdc.PointType.SOURCE) | (montage_elements.type == cdc.PointType.DETECTOR), drop=True)\n",
    "filtered_montage_elements_t = filtered_montage_elements.points.apply_transform(trafo2)"
   ]
  },
  {
   "cell_type": "markdown",
   "id": "50",
   "metadata": {},
   "source": [
    "and run ICP algorithm for label assignment once again, extract labels for detected optodes and plot the results"
   ]
  },
  {
   "cell_type": "code",
   "execution_count": null,
   "id": "51",
   "metadata": {},
   "outputs": [],
   "source": [
    "# iterative closest point registration\n",
    "idx = cedalion.geometry.registration.icp_with_full_transform(scalp_coords_altcase, \n",
    "                                                                            filtered_montage_elements_t, max_iterations = 100) \n",
    "# extract labels for detected optodes\n",
    "label_dict = {}\n",
    "for i, label in enumerate(filtered_montage_elements.coords['label'].values):\n",
    "    label_dict[i] = label\n",
    "labels = [label_dict[index] for index in idx]\n",
    "\n",
    "# write labels to scalp_coords\n",
    "scalp_coords_altcase = scalp_coords_altcase.assign_coords(label=labels)\n",
    "\n",
    "\n",
    "## visualize results to verify\n",
    "# Green points represent optode centers\n",
    "# Next to them there shall be labels assumed by ICP algorithm (*show_labels = True*)\n",
    "pvplt = pv.Plotter()\n",
    "cedalion.plots.plot3d(None, s.mesh, filtered_montage_elements_t, None, plotter = pvplt) \n",
    "cedalion.plots.plot_labeled_points(pvplt, scalp_coords, color=\"green\", show_labels = True)\n",
    "pvplt.show(interactive = True)"
   ]
  },
  {
   "cell_type": "markdown",
   "id": "52",
   "metadata": {},
   "source": [
    "### Combine all coregistered points into a new geo3d for further use \n",
    "e.g. (to save or update an existing geo3D field in a recording  container)"
   ]
  },
  {
   "cell_type": "code",
   "execution_count": null,
   "id": "53",
   "metadata": {},
   "outputs": [],
   "source": [
    "geo3Dscan_alt = geo3d_from_scan(scalp_coords_altcase, landmarks)"
   ]
  },
  {
   "cell_type": "markdown",
   "id": "54",
   "metadata": {},
   "source": [
    "Visualization of successfull assignment *(show_labels = True)*"
   ]
  },
  {
   "cell_type": "code",
   "execution_count": null,
   "id": "55",
   "metadata": {},
   "outputs": [],
   "source": [
    "pvplt = pv.Plotter()\n",
    "cedalion.plots.plot3d(None, s.mesh, None, None, plotter = pvplt) \n",
    "cedalion.plots.plot_labeled_points(pvplt, geo3Dscan_alt, show_labels = True)\n",
    "pvplt.show()"
   ]
  }
 ],
 "metadata": {
  "kernelspec": {
   "display_name": "Python 3 (ipykernel)",
   "language": "python",
   "name": "python3"
  },
  "language_info": {
   "codemirror_mode": {
    "name": "ipython",
    "version": 3
   },
   "file_extension": ".py",
   "mimetype": "text/x-python",
   "name": "python",
   "nbconvert_exporter": "python",
   "pygments_lexer": "ipython3",
   "version": "3.11.6"
  }
 },
 "nbformat": 4,
 "nbformat_minor": 5
}
