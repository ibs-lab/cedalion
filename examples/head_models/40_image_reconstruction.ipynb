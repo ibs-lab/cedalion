{
 "cells": [
  {
   "cell_type": "markdown",
   "id": "0",
   "metadata": {},
   "source": [
    "# Image Reconstruction"
   ]
  },
  {
   "cell_type": "markdown",
   "id": "1",
   "metadata": {},
   "source": [
    "## Notebook configuration \n",
    "Decide for an example with a sparse probe or a high density probe for DOT. \n",
    "The notebook will load example data accordingly.\n",
    "\n",
    "Also specify, if precomputed results of the photon propagation should be used and\n",
    "if the 3D visualizations should be interactive."
   ]
  },
  {
   "cell_type": "code",
   "execution_count": null,
   "id": "2",
   "metadata": {},
   "outputs": [],
   "source": [
    "# choose between two datasets\n",
    "DATASET = \"fingertappingDOT\" # high-density montage\n",
    "#DATASET = \"fingertapping\"   # sparse montage\n",
    "\n",
    "# choose a head model\n",
    "HEAD_MODEL = \"colin27\"\n",
    "#HEAD_MODEL = \"icbm152\"\n",
    "\n",
    "# choose between the monte\n",
    "FORWARD_MODEL = \"MCX\" # photon monte carlo\n",
    "#FORWARD_MODEL = \"NIRFASTER\" # finite element method\n",
    "\n",
    "# set this flag to False to actual compute the forward model results\n",
    "PRECOMPUTED_FLUENCE = True\n",
    "\n",
    "# set this flag to True to enable interactive 3D plots\n",
    "INTERACTIVE_PLOTS = False"
   ]
  },
  {
   "cell_type": "code",
   "execution_count": null,
   "id": "3",
   "metadata": {},
   "outputs": [],
   "source": [
    "import pyvista as pv\n",
    "\n",
    "if INTERACTIVE_PLOTS:\n",
    "    pv.set_jupyter_backend('server')\n",
    "else:\n",
    "    pv.set_jupyter_backend('static')\n",
    "\n",
    "import time\n",
    "import os\n",
    "\n",
    "import matplotlib.pyplot as p\n",
    "import numpy as np\n",
    "import xarray as xr\n",
    "from IPython.display import Image\n",
    "\n",
    "import cedalion\n",
    "import cedalion.dataclasses as cdc\n",
    "import cedalion.datasets\n",
    "import cedalion.sigproc.quality as quality\n",
    "import cedalion.geometry.registration\n",
    "import cedalion.geometry.segmentation\n",
    "import cedalion.imagereco.forward_model as fw\n",
    "import cedalion.imagereco.tissue_properties\n",
    "import cedalion.io\n",
    "import cedalion.plots\n",
    "import cedalion.vis.plot_sensitivity_matrix\n",
    "from cedalion.imagereco.solver import pseudo_inverse_stacked\n",
    "\n",
    "xr.set_options(display_expand_data=False)"
   ]
  },
  {
   "cell_type": "markdown",
   "id": "4",
   "metadata": {},
   "source": [
    "## Load a DOT finger-tapping dataset \n",
    "\n",
    "For this demo we load an example finger-tapping recording through `cedalion.datasets.get_fingertapping`. The file contains a single NIRS element with one block of raw amplitude data. "
   ]
  },
  {
   "cell_type": "code",
   "execution_count": null,
   "id": "5",
   "metadata": {},
   "outputs": [],
   "source": [
    "if DATASET == \"fingertappingDOT\":\n",
    "    rec = cedalion.datasets.get_fingertappingDOT()\n",
    "elif DATASET == \"fingertapping\":\n",
    "    rec = cedalion.datasets.get_fingertapping()\n",
    "else:\n",
    "    raise ValueError(\"unknown dataset\")"
   ]
  },
  {
   "cell_type": "markdown",
   "id": "6",
   "metadata": {},
   "source": [
    "The location of the probes is obtained from the snirf metadata (i.e. /nirs0/probe/)\n",
    "\n",
    "Note that units ('m') are adopted and the coordinate system is named 'digitized'."
   ]
  },
  {
   "cell_type": "code",
   "execution_count": null,
   "id": "7",
   "metadata": {},
   "outputs": [],
   "source": [
    "geo3d_meas = rec.geo3d\n",
    "display(geo3d_meas)"
   ]
  },
  {
   "cell_type": "code",
   "execution_count": null,
   "id": "8",
   "metadata": {},
   "outputs": [],
   "source": [
    "cedalion.plots.plot_montage3D(rec[\"amp\"], geo3d_meas)"
   ]
  },
  {
   "cell_type": "markdown",
   "id": "9",
   "metadata": {},
   "source": [
    "The measurement list is a `pandas.DataFrame` that describes which source detector pairs form channels."
   ]
  },
  {
   "cell_type": "code",
   "execution_count": null,
   "id": "10",
   "metadata": {},
   "outputs": [],
   "source": [
    "meas_list = rec._measurement_lists[\"amp\"]\n",
    "display(meas_list.head(5))"
   ]
  },
  {
   "cell_type": "markdown",
   "id": "11",
   "metadata": {},
   "source": [
    "Event/stimulus information is also stored in a `pandas.DataFrame`. Here events are given more descriptive names:"
   ]
  },
  {
   "cell_type": "code",
   "execution_count": null,
   "id": "12",
   "metadata": {},
   "outputs": [],
   "source": [
    "\n",
    "if DATASET == \"fingertappingDOT\":\n",
    "   rec.stim.cd.rename_events( {\n",
    "        \"1\": \"Control\", \n",
    "        \"2\": \"FTapping/Left\", \n",
    "        \"3\": \"FTapping/Right\",\n",
    "        \"4\": \"BallSqueezing/Left\",\n",
    "        \"5\": \"BallSqueezing/Right\"\n",
    "    } )\n",
    "elif DATASET == \"fingertapping\":\n",
    "    rec.stim.cd.rename_events( {\n",
    "        \"1.0\": \"Control\", \n",
    "        \"2.0\": \"FTapping/Left\", \n",
    "        \"3.0\": \"FTapping/Right\"\n",
    "    } )\n",
    "\n",
    "display(rec.stim.groupby(\"trial_type\")[[\"onset\"]].count())"
   ]
  },
  {
   "cell_type": "markdown",
   "id": "13",
   "metadata": {},
   "source": [
    "### Perform pruning, conversion to OD and bandpass filtering\n",
    "(for this demo select 20 seconds after a trial starts at t=117s and transform raw amplitudes to optical density)\n",
    "\n",
    "Perform SNR quality check and pruning and then transform CW raw amplitudes to optical density"
   ]
  },
  {
   "cell_type": "code",
   "execution_count": null,
   "id": "14",
   "metadata": {},
   "outputs": [],
   "source": [
    "## Prune with SNR threshold\n",
    "snr_thresh = 10 # dB\n",
    "snr, rec.masks[\"snr_mask\"] = quality.snr(rec[\"amp\"], snr_thresh)\n",
    "# prune channels using the masks and the operator \"all\", which will keep only channels that pass all three metrics\n",
    "rec[\"amp_pruned\"], drop_list = quality.prune_ch(rec[\"amp\"], [rec.masks[\"snr_mask\"]], \"all\")\n",
    "\n",
    "print(drop_list)\n",
    "\n",
    "# Convert to OD\n",
    "rec[\"od\"] = cedalion.nirs.int2od(rec[\"amp_pruned\"])\n",
    "\n",
    "# bandpass filter the data\n",
    "rec[\"od_freqfiltered\"] = rec[\"od\"].cd.freq_filter(fmin=0.01, fmax=0.5, butter_order=4)"
   ]
  },
  {
   "cell_type": "markdown",
   "id": "15",
   "metadata": {},
   "source": [
    "## Calculate block averages in optical density"
   ]
  },
  {
   "cell_type": "code",
   "execution_count": null,
   "id": "16",
   "metadata": {},
   "outputs": [],
   "source": [
    "# segment data into epochs\n",
    "epochs = rec[\"od_freqfiltered\"].cd.to_epochs(\n",
    "        rec.stim, # stimulus dataframe\n",
    "        [\"FTapping/Left\", \"FTapping/Right\"],  # select events, discard the others\n",
    "        before=5 * cedalion.units.s, # seconds before stimulus\n",
    "        after=30 * cedalion.units.s, # seconds after stimulus\n",
    ")\n",
    "\n",
    "# calculate baseline\n",
    "baseline = epochs.sel(reltime=(epochs.reltime < 0)).mean(\"reltime\")\n",
    "# subtract baseline\n",
    "epochs_blcorrected = epochs - baseline\n",
    "\n",
    "# group trials by trial_type. For each group individually average the epoch dimension\n",
    "blockaverage = epochs_blcorrected.groupby(\"trial_type\").mean(\"epoch\")\n",
    "\n",
    "# Plot block averages. Please ignore errors if the plot is too small in the HD case\n",
    "\n",
    "noPlts2 = int(np.ceil(np.sqrt(len(blockaverage.channel))))\n",
    "f,ax = p.subplots(noPlts2,noPlts2, figsize=(12,10))\n",
    "ax = ax.flatten()\n",
    "for i_ch, ch in enumerate(blockaverage.channel):\n",
    "    for ls, trial_type in zip([\"-\", \"--\"], blockaverage.trial_type):    \n",
    "        ax[i_ch].plot(blockaverage.reltime, blockaverage.sel(wavelength=760, trial_type=trial_type, channel=ch), \"r\", lw=2, ls=ls)\n",
    "        ax[i_ch].plot(blockaverage.reltime, blockaverage.sel(wavelength=850, trial_type=trial_type, channel=ch), \"b\", lw=2, ls=ls)\n",
    "\n",
    "    ax[i_ch].grid(1)\n",
    "    ax[i_ch].set_title(ch.values)\n",
    "    ax[i_ch].set_ylim(-.02, .02)\n",
    "    ax[i_ch].set_axis_off()\n",
    "    ax[i_ch].axhline(0, c=\"k\")\n",
    "    ax[i_ch].axvline(0, c=\"k\")\n",
    "\n",
    "p.suptitle(\"760nm: r | 850nm: b | left: - | right: --\")\n",
    "p.tight_layout()\n"
   ]
  },
  {
   "cell_type": "markdown",
   "id": "17",
   "metadata": {},
   "source": [
    "## Load segmented MRI scan\n",
    "\n",
    "For this example use a segmentation of the Colin27 average brain."
   ]
  },
  {
   "cell_type": "code",
   "execution_count": null,
   "id": "18",
   "metadata": {},
   "outputs": [],
   "source": [
    "if HEAD_MODEL == \"colin27\":\n",
    "    SEG_DATADIR, mask_files, landmarks_file = cedalion.datasets.get_colin27_segmentation()\n",
    "elif HEAD_MODEL == \"icbm152\":\n",
    "    SEG_DATADIR, mask_files, landmarks_file = cedalion.datasets.get_icbm152_segmentation()\n",
    "else:\n",
    "    raise ValueError(\"unknown head model\")"
   ]
  },
  {
   "cell_type": "markdown",
   "id": "19",
   "metadata": {},
   "source": [
    "The segmentation masks are in individual niftii files. The dict `mask_files` maps mask filenames relative to `SEG_DATADIR` to short labels. These labels describe the tissue type of the mask. \n",
    "\n",
    "In principle the user is free to choose these labels. However, they are later used to lookup the tissue's optical properties. So they must be map to one of the tabulated tissue types (c.f. `cedalion.imagereco.tissue_properties.TISSUE_LABELS`).\n",
    "\n",
    "The variable `landmarks_file` holds the path to a file containing landmark positions in scanner space (RAS). This file can be created with Slicer3D."
   ]
  },
  {
   "cell_type": "code",
   "execution_count": null,
   "id": "20",
   "metadata": {},
   "outputs": [],
   "source": [
    "display(SEG_DATADIR)\n",
    "display(mask_files)\n",
    "display(landmarks_file)"
   ]
  },
  {
   "cell_type": "markdown",
   "id": "21",
   "metadata": {},
   "source": [
    "## Coordinate systems\n",
    "\n",
    "Up to now we have geometrical data from three different coordinate reference systems (CRS):\n",
    "\n",
    "- The optode positions are in one space `CRS='digitized'` and the coordinates are in meter. In our example the origin is at the head center and y-axis pointing in the superior direction. Other digitization tools can use other units or coordinate systems.\n",
    "- The segmentation masks are in voxel space (`CRS='ijk'`) in which the voxel edges are aligned with the coordinate axes. Each voxel has unit edge length, i.e. coordinates are dimensionless. \n",
    "  Axis-aligned grids are computationally efficient, which is why the photon simulation code (MCX) uses this coordinate system.\n",
    "- The voxel space (`CRS='ijk'`) is related to scanner space (`CRS='ras'` or `CRS='aligned'`) in which coordinates have physical units and coordinate axes point to the (r)ight, (a)nterior and s(uperior) directions. The relation between both spaces is given through an affine transformation (e.g. `t_ijk2ras`). When loading the segmentation masks in Slicer3D this transformation is automatically applied. Hence, the picked landmark coordinates are exported in RAS space.\n",
    "\n",
    "  The niftii file provides a string label for the scanner space. In this example the RAS space is called 'aligned' because the masks are aligned to another MRI scan.\n",
    "\n",
    "\n",
    "To avoid confusion between these different coordinate systems, `cedalion` tries to be explicit about which CRS a given point cloud or surface is in."
   ]
  },
  {
   "cell_type": "markdown",
   "id": "22",
   "metadata": {},
   "source": [
    "## The TwoSurfaceHeadModel\n",
    "\n",
    "The photon propagation considers the complete MRI scan, in which each voxel is attributed to one tissue type with its respective optical properties. However, the image reconstruction does not intend to reconstruct absorption changes in each voxel. The inverse problem is simplified, by considering only two surfaces (scalp and brain) and reconstruct only absorption changes in voxels close to these surfaces.\n",
    "\n",
    "The class `cedalion.imagereco.forward_model.TwoSurfaceHeadModel` groups together the segmentation mask, landmark positions and affine transformations as well as the scalp and brain surfaces. The brain surface is calculated by grouping together white and gray matter masks. The scalp surface encloses the whole head."
   ]
  },
  {
   "cell_type": "code",
   "execution_count": null,
   "id": "23",
   "metadata": {},
   "outputs": [],
   "source": [
    "head = fw.TwoSurfaceHeadModel.from_surfaces(\n",
    "    segmentation_dir=SEG_DATADIR,\n",
    "    mask_files = mask_files,\n",
    "    brain_surface_file= os.path.join(SEG_DATADIR, \"mask_brain.obj\"),\n",
    "    # scalp_surface_file= os.path.join(SEG_DATADIR, \"mask_scalp.obj\"), # FIXME!\n",
    "    landmarks_ras_file=landmarks_file,\n",
    "    brain_face_count=None,\n",
    "    scalp_face_count=None\n",
    ")"
   ]
  },
  {
   "cell_type": "code",
   "execution_count": null,
   "id": "24",
   "metadata": {},
   "outputs": [],
   "source": [
    "head.segmentation_masks"
   ]
  },
  {
   "cell_type": "code",
   "execution_count": null,
   "id": "25",
   "metadata": {},
   "outputs": [],
   "source": [
    "head.landmarks"
   ]
  },
  {
   "cell_type": "code",
   "execution_count": null,
   "id": "26",
   "metadata": {},
   "outputs": [],
   "source": [
    "head.brain"
   ]
  },
  {
   "cell_type": "code",
   "execution_count": null,
   "id": "27",
   "metadata": {},
   "outputs": [],
   "source": [
    "head.scalp"
   ]
  },
  {
   "cell_type": "markdown",
   "id": "28",
   "metadata": {},
   "source": [
    "`TwoSurfaceHeadModel.from_segmentation` converts everything into voxel space (`CRS='ijk'`)"
   ]
  },
  {
   "cell_type": "code",
   "execution_count": null,
   "id": "29",
   "metadata": {},
   "outputs": [],
   "source": [
    "head.crs"
   ]
  },
  {
   "cell_type": "markdown",
   "id": "30",
   "metadata": {},
   "source": [
    "The transformation matrix to translate from voxel to scanner space:"
   ]
  },
  {
   "cell_type": "code",
   "execution_count": null,
   "id": "31",
   "metadata": {},
   "outputs": [],
   "source": [
    "head.t_ijk2ras"
   ]
  },
  {
   "cell_type": "markdown",
   "id": "32",
   "metadata": {},
   "source": [
    "Changing between coordinate systems:"
   ]
  },
  {
   "cell_type": "code",
   "execution_count": null,
   "id": "33",
   "metadata": {},
   "outputs": [],
   "source": [
    "head_ras = head.apply_transform(head.t_ijk2ras)\n",
    "display(head_ras.crs)\n",
    "display(head_ras.brain)"
   ]
  },
  {
   "cell_type": "markdown",
   "id": "34",
   "metadata": {},
   "source": [
    "## Optode Registration\n",
    "The optode coordinates from the recording must be aligned with the scalp surface. Currently, `cedaĺion` offers a simple registration method, which finds an affine transformation (scaling, rotating, translating) that matches the landmark positions of the head model and their digitized counter parts. Afterwards, optodes are snapped to the nearest vertex on the scalp."
   ]
  },
  {
   "cell_type": "code",
   "execution_count": null,
   "id": "35",
   "metadata": {},
   "outputs": [],
   "source": [
    "geo3d_snapped_ijk = head.align_and_snap_to_scalp(geo3d_meas)\n",
    "display(geo3d_snapped_ijk)"
   ]
  },
  {
   "cell_type": "code",
   "execution_count": null,
   "id": "36",
   "metadata": {},
   "outputs": [],
   "source": [
    "plt = pv.Plotter()\n",
    "cedalion.plots.plot_surface(plt, head.brain, color=\"w\")\n",
    "cedalion.plots.plot_surface(plt, head.scalp, opacity=.1)\n",
    "cedalion.plots.plot_labeled_points(plt, geo3d_snapped_ijk)\n",
    "plt.show()"
   ]
  },
  {
   "cell_type": "markdown",
   "id": "37",
   "metadata": {},
   "source": [
    "## Simulate light propagation in tissue"
   ]
  },
  {
   "cell_type": "markdown",
   "id": "38",
   "metadata": {},
   "source": [
    "`cedalion.imagereco.forward_model.ForwardModel` is a wrapper around pmcx. Using the data in the head model it prepares the inputs for either pmcx or NIRFASTer and offers functionality to calculate the sensitivty matrix."
   ]
  },
  {
   "cell_type": "code",
   "execution_count": null,
   "id": "39",
   "metadata": {},
   "outputs": [],
   "source": [
    "fwm = cedalion.imagereco.forward_model.ForwardModel(head, geo3d_snapped_ijk, meas_list)"
   ]
  },
  {
   "cell_type": "markdown",
   "id": "40",
   "metadata": {},
   "source": [
    "### Run the simulation\n",
    "\n",
    "The `compute_fluence_mcx` and `compute_fluence_nirfaster` methods simulate a light source at each optode position and calculate the fluence in each voxel. By setting `RUN_PACKAGE`, you can choose between the pmcx or NIRFASTer package to perform this simulation.\n",
    "PLEASE NOTE: if you USE_CACHED data (download the example data) be aware that the file is quite big (~2GB)."
   ]
  },
  {
   "cell_type": "code",
   "execution_count": null,
   "id": "41",
   "metadata": {},
   "outputs": [],
   "source": [
    "if PRECOMPUTED_FLUENCE:\n",
    "    if FORWARD_MODEL == \"MCX\":\n",
    "        fluence_all, fluence_at_optodes = cedalion.datasets.get_precomputed_fluence(DATASET, HEAD_MODEL)\n",
    "    elif FORWARD_MODEL == \"NIRFASTER\":\n",
    "        raise NotImplementedError(\n",
    "            \"Currently there are no precomputed NIRFASTER results available\"\n",
    "        )\n",
    "else:\n",
    "    if FORWARD_MODEL == \"MCX\":\n",
    "        fluence_all, fluence_at_optodes = fwm.compute_fluence_mcx()\n",
    "    elif FORWARD_MODEL == \"NIRFASTER\":\n",
    "        fluence_all, fluence_at_optodes = fwm.compute_fluence_nirfaster()"
   ]
  },
  {
   "cell_type": "markdown",
   "id": "42",
   "metadata": {},
   "source": [
    "The photon simulation yields the fluence in each voxel for each wavelength."
   ]
  },
  {
   "cell_type": "code",
   "execution_count": null,
   "id": "43",
   "metadata": {},
   "outputs": [],
   "source": [
    "fluence_all"
   ]
  },
  {
   "cell_type": "markdown",
   "id": "44",
   "metadata": {},
   "source": [
    "Also, for a each combination of two optodes, the fluence in the voxels at the optode positions is calculated."
   ]
  },
  {
   "cell_type": "code",
   "execution_count": null,
   "id": "45",
   "metadata": {},
   "outputs": [],
   "source": [
    "fluence_at_optodes"
   ]
  },
  {
   "cell_type": "markdown",
   "id": "46",
   "metadata": {},
   "source": [
    "## Plot fluence\n",
    "\n",
    "To illustrate the tissue probed by light travelling from a source to the detector two fluence profiles need to be multiplied. "
   ]
  },
  {
   "cell_type": "code",
   "execution_count": null,
   "id": "47",
   "metadata": {},
   "outputs": [],
   "source": [
    "# for plotting use a geo3d without the landmarks\n",
    "geo3d_plot = geo3d_snapped_ijk[geo3d_snapped_ijk.type != cdc.PointType.LANDMARK]"
   ]
  },
  {
   "cell_type": "code",
   "execution_count": null,
   "id": "48",
   "metadata": {
    "tags": [
     "nbsphinx-thumbnail"
    ]
   },
   "outputs": [],
   "source": [
    "time.sleep(1)\n",
    "\n",
    "plt = pv.Plotter()\n",
    "\n",
    "if DATASET == \"fingertappingDOT\":\n",
    "    src, det, wl = \"S4\", \"D2\", 760\n",
    "elif DATASET == \"fingertapping\":\n",
    "    src, det, wl = \"S2\", \"D3\", 760\n",
    "else:\n",
    "    raise ValueError(\"unknown dataset\")\n",
    "\n",
    "f = fluence_all.loc[src, wl].values * fluence_all.loc[det, wl].values\n",
    "f[f <= 0] = f[f > 0].min()\n",
    "f = np.log10(f)\n",
    "vf = pv.wrap(f)\n",
    "\n",
    "plt.add_volume(\n",
    "    vf,\n",
    "    log_scale=False,\n",
    "    cmap=\"plasma_r\",\n",
    "    clim=(-10, 0),\n",
    ")\n",
    "cedalion.plots.plot_surface(plt, head.brain, color=\"w\")\n",
    "cedalion.plots.plot_labeled_points(plt, geo3d_plot, show_labels=False)\n",
    "\n",
    "cog = head.brain.vertices.mean(\"label\").values\n",
    "plt.camera.position = cog + [-300, 30, 150]\n",
    "plt.camera.focal_point = cog\n",
    "plt.camera.up = [0, 0, 1]\n",
    "\n",
    "plt.show()"
   ]
  },
  {
   "cell_type": "markdown",
   "id": "49",
   "metadata": {},
   "source": [
    "### Calculate the sensitivity matrices\n",
    "\n",
    "The sensitivity matrix describes the effect of an absorption change at a given surface vertex in the OD recording in a given channel and at given wavelength. The coordinate `is_brain` holds a mask to distinguish brain and scalp voxels."
   ]
  },
  {
   "cell_type": "code",
   "execution_count": null,
   "id": "50",
   "metadata": {},
   "outputs": [],
   "source": [
    "Adot = fwm.compute_sensitivity(fluence_all, fluence_at_optodes)\n",
    "Adot"
   ]
  },
  {
   "cell_type": "markdown",
   "id": "51",
   "metadata": {},
   "source": [
    "### Plot Sensitivity Matrix"
   ]
  },
  {
   "cell_type": "code",
   "execution_count": null,
   "id": "52",
   "metadata": {},
   "outputs": [],
   "source": [
    "plotter = cedalion.vis.plot_sensitivity_matrix.Main(\n",
    "    sensitivity=Adot,\n",
    "    brain_surface=head.brain,\n",
    "    head_surface=head.scalp,\n",
    "    labeled_points=geo3d_plot,\n",
    ")\n",
    "plotter.plot(high_th=0, low_th=-3)\n",
    "plotter.plt.show()"
   ]
  },
  {
   "cell_type": "markdown",
   "id": "53",
   "metadata": {},
   "source": [
    "The sensitivity `Adot` has shape (nchannel, nvertex, nwavelenghts). To solve the inverse problem we need a matrix that relates OD in channel space to absorption in image space. Hence, the sensitivity must include the extinction coefficients to translate between OD and concentrations. Furthermore, channels at different wavelengths must be  stacked as well vertice and chromophores into new dimensions (flat_channel, flat_vertex):\n",
    "\n",
    "$$ \\left( \\begin{matrix} OD_{c_1, \\lambda_1} \\\\ \\vdots \\\\ OD_{c_N,\\lambda_1} \\\\ OD_{c_1,\\lambda_2} \\\\ \\vdots \\\\ OD_{c_N,\\lambda_2} \\end{matrix}\\right) = A \\cdot\n",
    "\\left( \\begin{matrix} \\Delta c_{v_1, HbO} \\\\ \\vdots \\\\ \\Delta c_{v_N, HbO} \\\\ \\Delta c_{v_1, HbR} \\\\ \\vdots \\\\ \\Delta c_{v_N, HbR} \\end{matrix}\\right) $$"
   ]
  },
  {
   "cell_type": "code",
   "execution_count": null,
   "id": "54",
   "metadata": {},
   "outputs": [],
   "source": [
    "Adot_stacked = fwm.compute_stacked_sensitivity(Adot)\n",
    "Adot_stacked"
   ]
  },
  {
   "cell_type": "markdown",
   "id": "55",
   "metadata": {},
   "source": [
    "### Invert the sensitivity matrix"
   ]
  },
  {
   "cell_type": "code",
   "execution_count": null,
   "id": "56",
   "metadata": {},
   "outputs": [],
   "source": [
    "B = pseudo_inverse_stacked(Adot_stacked)\n",
    "B"
   ]
  },
  {
   "cell_type": "markdown",
   "id": "57",
   "metadata": {},
   "source": [
    "### Calculate concentration changes\n",
    "\n",
    "- the optical density has shape (nchannel, nwavelength, time). Additional dimensions like 'trial_type' in this example are allowed, too."
   ]
  },
  {
   "cell_type": "code",
   "execution_count": null,
   "id": "58",
   "metadata": {},
   "outputs": [],
   "source": [
    "blockaverage"
   ]
  },
  {
   "cell_type": "markdown",
   "id": "59",
   "metadata": {},
   "source": [
    "To apply the inverted sensitiviy matrix, the OD wavelength and channel dimensions need to be flattened. Then \n",
    "the inverted sensitivity matrix can be multiplied which contracts over flat_channel and the flat_vertex dimension remains.\n",
    "The flat_vertex dimensions containes vertices of the scalp and the brain for both chromophores. These need to be\n",
    "separated again. The function `fw.apply_inv_sensitiviy` takes care of all of this. "
   ]
  },
  {
   "cell_type": "code",
   "execution_count": null,
   "id": "60",
   "metadata": {},
   "outputs": [],
   "source": [
    "dC_brain, dC_scalp = fw.apply_inv_sensitivity(blockaverage, B)\n",
    "display(dC_brain)\n",
    "display(dC_scalp)"
   ]
  },
  {
   "cell_type": "markdown",
   "id": "61",
   "metadata": {},
   "source": [
    "## Plot concentration changes\n",
    "\n",
    "Using functionality from pyvista and VTK plot the concentration changes on the brain surface"
   ]
  },
  {
   "cell_type": "code",
   "execution_count": null,
   "id": "62",
   "metadata": {},
   "outputs": [],
   "source": [
    "b = cdc.VTKSurface.from_trimeshsurface(head.brain)\n",
    "b = pv.wrap(b.mesh)"
   ]
  },
  {
   "cell_type": "code",
   "execution_count": null,
   "id": "63",
   "metadata": {},
   "outputs": [],
   "source": [
    "# plot HbO time trace of left and right brain hemisphere during FTapping/Right\n",
    "\n",
    "for view in [\"left_hemi\", \"right_hemi\"]:\n",
    "    trial_type = \"FTapping/Right\"\n",
    "    gif_fname = \"Ftapping-right\" + \"_HbO_\" + view + \".gif\"\n",
    "\n",
    "    hbo_brain = dC_brain.sel(chromo=\"HbO\", trial_type=trial_type) / 1e-6  # uM\n",
    "    hbo_brain = hbo_brain.transpose(\"vertex\", \"reltime\")\n",
    "    ntimes = hbo_brain.sizes[\"reltime\"]\n",
    "\n",
    "    b = cdc.VTKSurface.from_trimeshsurface(head.brain)\n",
    "    b = pv.wrap(b.mesh)\n",
    "    b[\"reco_hbo\"] = hbo_brain[:, 0] - hbo_brain[:, 0]\n",
    "\n",
    "    plt = pv.Plotter()\n",
    "\n",
    "    plt.add_mesh(\n",
    "        b,\n",
    "        scalars=\"reco_hbo\",\n",
    "        cmap=\"seismic\",  # 'gist_earth_r',\n",
    "        clim=(-1.5, 1.5),\n",
    "        scalar_bar_args={\"title\": \"HbO / µM\"},\n",
    "        smooth_shading=True,\n",
    "    )\n",
    "\n",
    "    cedalion.plots.plot_labeled_points(plt, geo3d_plot)\n",
    "\n",
    "    tl = lambda tt: f\"{trial_type} HbO rel. time: {tt:.3f} s\"\n",
    "    time_label = plt.add_text(tl(0))\n",
    "\n",
    "    cog = head.brain.vertices.mean(\"label\")\n",
    "    cog = cog.pint.dequantify().values\n",
    "\n",
    "    if view == \"left_hemi\":\n",
    "        plt.camera.position = cog + [-400, 0, 0]\n",
    "    else:\n",
    "        plt.camera.position = cog + [400, 0, 0]\n",
    "    plt.camera.focal_point = cog\n",
    "    plt.camera.up = [0, 0, 1]\n",
    "    plt.reset_camera()\n",
    "\n",
    "    plt.open_gif(gif_fname)\n",
    "\n",
    "    for i in range(0, ntimes, 3):\n",
    "        b[\"reco_hbo\"] = hbo_brain[:, i] - hbo_brain[:, 0]\n",
    "        time_label.set_text(\"upper_left\", tl(hbo_brain.reltime[i]))\n",
    "\n",
    "        plt.write_frame()\n",
    "\n",
    "    plt.close()"
   ]
  },
  {
   "cell_type": "code",
   "execution_count": null,
   "id": "64",
   "metadata": {},
   "outputs": [],
   "source": [
    "display(Image(data=open(\"Ftapping-right_HbO_left_hemi.gif\",'rb').read(), format='png'))\n",
    "display(Image(data=open(\"Ftapping-right_HbO_right_hemi.gif\",'rb').read(), format='png'))"
   ]
  }
 ],
 "metadata": {
  "kernelspec": {
   "display_name": "cedalion_default_3.11",
   "language": "python",
   "name": "python3"
  },
  "language_info": {
   "codemirror_mode": {
    "name": "ipython",
    "version": 3
   },
   "file_extension": ".py",
   "mimetype": "text/x-python",
   "name": "python",
   "nbconvert_exporter": "python",
   "pygments_lexer": "ipython3",
   "version": "3.11.8"
  }
 },
 "nbformat": 4,
 "nbformat_minor": 5
}
