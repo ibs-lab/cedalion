{
 "cells": [
  {
   "cell_type": "markdown",
   "metadata": {},
   "source": [
    "# Examining and thresholding sensitivity of a probe to the cortex using the Schaefer parcellation scheme\n",
    "\n",
    "This notebook shows how to examine the theoretical sensitivity of a probe on a headmodel to brain areas (here we use parcel coordinates from the Schaefer 2018 atlas), and how to identify parcels that should be dropped, because changes in them cannot be observed. For this the original designed probe can also be reduced to an effective probe by dropping channels that are pruned due to bad signal quality."
   ]
  },
  {
   "cell_type": "code",
   "execution_count": null,
   "metadata": {},
   "outputs": [],
   "source": [
    "# set this flag to True to enable interactive 3D plots\n",
    "INTERACTIVE_PLOTS = False"
   ]
  },
  {
   "cell_type": "code",
   "execution_count": null,
   "metadata": {},
   "outputs": [],
   "source": [
    "import pyvista as pv\n",
    "\n",
    "import cedalion.sigproc\n",
    "\n",
    "if INTERACTIVE_PLOTS:\n",
    "    pv.set_jupyter_backend('html')\n",
    "else:\n",
    "    pv.set_jupyter_backend('static')\n",
    "\n",
    "import os\n",
    "\n",
    "import matplotlib.pyplot as p\n",
    "import numpy as np\n",
    "import xarray as xr\n",
    "\n",
    "import cedalion\n",
    "import cedalion.dataclasses as cdc\n",
    "import cedalion.datasets\n",
    "import cedalion.imagereco.forward_model as fw\n",
    "import cedalion.sigproc.quality as quality\n",
    "import cedalion.xrutils as xrutils\n",
    "from cedalion import units\n",
    "from cedalion.vis import plot_sensitivity_matrix\n",
    "from cedalion.io import load_Adot\n",
    "\n",
    "xr.set_options(display_expand_data=False)\n",
    "\n",
    "#%matplotlib widget\n",
    "\n",
    "# for dev purposes\n",
    "%load_ext autoreload\n",
    "%autoreload 2"
   ]
  },
  {
   "cell_type": "markdown",
   "metadata": {},
   "source": [
    "## Load a DOT finger-tapping dataset\n",
    "and perform some very basic quality checks to identify bad channels"
   ]
  },
  {
   "cell_type": "code",
   "execution_count": null,
   "metadata": {},
   "outputs": [],
   "source": [
    "# load example dataset\n",
    "rec = cedalion.datasets.get_fingertappingDOT()\n",
    "\n",
    "# check signal quality using a simple SNR threshold\n",
    "snr_thresh = 30 # the SNR (std/mean) of a channel. Set very high here for demonstration purposes\n",
    "\n",
    "# SNR thresholding using the \"snr\" function of the quality subpackage\n",
    "snr, snr_mask = quality.snr(rec[\"amp\"], snr_thresh)\n",
    "\n",
    "# drop channels with bad signal quality (here we only need the list of channels):\n",
    "# prune channels using the masks and the operator \"all\", which will keep only channels that pass all three metrics\n",
    "_, snr_ch_droplist = quality.prune_ch(rec[\"amp\"], [snr_mask], \"all\")\n",
    "\n",
    "# print list of dropped channels\n",
    "print(f\"{len(snr_ch_droplist)} channels pruned. List of pruned channels due to bad SNR: {snr_ch_droplist}\")"
   ]
  },
  {
   "cell_type": "markdown",
   "metadata": {},
   "source": [
    "## Load a headmodel and precalulated fluence profile"
   ]
  },
  {
   "cell_type": "code",
   "execution_count": null,
   "metadata": {},
   "outputs": [],
   "source": [
    "# load pathes to segmentation data for the icbm-152 atlas\n",
    "SEG_DATADIR, mask_files, landmarks_file = cedalion.datasets.get_icbm152_segmentation()\n",
    "PARCEL_FILE = cedalion.datasets.get_icbm152_parcel_file()\n",
    "\n",
    "# create forward model class for icbm152 atlas\n",
    "head = fw.TwoSurfaceHeadModel.from_surfaces(\n",
    "    segmentation_dir=SEG_DATADIR,\n",
    "    mask_files = mask_files,\n",
    "    brain_surface_file= os.path.join(SEG_DATADIR, \"mask_brain.obj\"),\n",
    "    scalp_surface_file= os.path.join(SEG_DATADIR, \"mask_scalp.obj\"),\n",
    "    landmarks_ras_file=landmarks_file,\n",
    "    parcel_file=PARCEL_FILE,\n",
    "    brain_face_count=None,\n",
    "    scalp_face_count=None\n",
    ")\n",
    "\n",
    "# snap probe to head and create forward model\n",
    "geo3D_snapped = head.align_and_snap_to_scalp(rec.geo3d)\n",
    "fwm = fw.ForwardModel(head, geo3D_snapped, rec._measurement_lists[\"amp\"])\n"
   ]
  },
  {
   "cell_type": "markdown",
   "metadata": {},
   "source": [
    "load precomputed fluce, calculate sensitivity on the cortex and plot it on head model"
   ]
  },
  {
   "cell_type": "code",
   "execution_count": null,
   "metadata": {},
   "outputs": [],
   "source": [
    "# load precomputed sensitivity for this dataset and headmodel\n",
    "Adot = cedalion.datasets.get_precomputed_sensitivity(\"fingertappingDOT\", \"icbm152\")\n",
    "\n",
    "# plot on head model\n",
    "plotter = plot_sensitivity_matrix.Main(\n",
    "    sensitivity=Adot,\n",
    "    brain_surface=head.brain,\n",
    "    head_surface=head.scalp,\n",
    "    labeled_points=geo3D_snapped,\n",
    ")\n",
    "plotter.plot(high_th=0, low_th=-3)\n",
    "plotter.plt.show()"
   ]
  },
  {
   "cell_type": "markdown",
   "metadata": {},
   "source": [
    "## Investigation of Parcels and effective Parcel Sensitivity\n",
    "First plot full parcellation scheme on head"
   ]
  },
  {
   "cell_type": "code",
   "execution_count": null,
   "metadata": {},
   "outputs": [],
   "source": [
    "parcels = cedalion.io.read_parcellations(PARCEL_FILE)"
   ]
  },
  {
   "cell_type": "code",
   "execution_count": null,
   "metadata": {},
   "outputs": [],
   "source": [
    "b = cdc.VTKSurface.from_trimeshsurface(head.brain)\n",
    "b = pv.wrap(b.mesh)\n",
    "b[\"parcels\"] = parcels.Color.tolist()\n",
    "\n",
    "plt = pv.Plotter()\n",
    "\n",
    "plt.add_mesh(\n",
    "    b,\n",
    "    scalars=\"parcels\",\n",
    "    rgb=True\n",
    ")\n",
    "\n",
    "\n",
    "cog = head.brain.vertices.pint.dequantify().mean(\"label\").values\n",
    "plt.camera.position = cog + [400,0,400]\n",
    "plt.camera.focal_point = cog\n",
    "plt.camera.left = [0, 1, 0]\n",
    "plt.reset_camera()\n",
    "\n",
    "plt.show()"
   ]
  },
  {
   "cell_type": "markdown",
   "metadata": {},
   "source": [
    "### Calculate parcel sensitivity mask\n",
    " \n",
    " Parcels are considered good, if a change in HbO and HbR [µMol] in the parcel leads\n",
    "     to an observable change of at least dOD in at least one wavelength of one channel.\n",
    "     Sensitivities of all vertices in the parcel are summed up in the sensitivity matrix Adot.\n",
    "     Bad channels in an actual measurement that are pruned can be considered by providing \n",
    "     a boolean channel_mask, where False indicates bad channels that are dropped \n",
    "     and not considered for parcel sensitivity. Requires headmodel with parcelation coordinates.\n",
    "\n",
    "For this the following input arguments are used with parcel_sensitivity():\n",
    "- Adot (channel, vertex, wavelength)): Sensitivity matrix with parcel coordinate belonging to each vertex\n",
    "- chan_mask: boolean xarray DataArray channel mask, False for channels to be dropped\n",
    "- dOD_thresh: threshold for minimum dOD change in a channel that should be observed from a hemodynamic change in a parcel\n",
    "- minCh: minimum number of channels per parcel that should see a change above dOD_thresh\n",
    "- dHbO: change in HbO concentration in the parcel in [µMol] used to calculate dOD\n",
    "- dHbR: change in HbR concentration in the parcel in [µMol] used to calculate dOD\n",
    "\n",
    "Output is a tuple (parcel_dOD, parcel_mask), where \n",
    "- parcel_dOD (channel, parcel) contains the delta OD observed in a channel given the assumed dHb change in a parcel, and \n",
    "- parcel_mask is a boolean DataArray with parcel coords from Adot that is true for parcels for which dOD_thresh is met. "
   ]
  },
  {
   "cell_type": "markdown",
   "metadata": {},
   "source": [
    "### Example without channel pruning"
   ]
  },
  {
   "cell_type": "code",
   "execution_count": null,
   "metadata": {},
   "outputs": [],
   "source": [
    "# set input parameters for parcel sensitivity calculation. \n",
    "# Here we do not (yet) drop bad channels to investigate the genereal \n",
    "# sensitivity of the probe to parcel space independent of channel quality\n",
    "\n",
    "dOD_thresh = 0.001\n",
    "minCh = 1 \n",
    "dHbO = 10 #µM\n",
    "dHbR = -3 #µM\n",
    "\n",
    "parcel_dOD, parcel_mask = fwm.parcel_sensitivity(Adot, None, dOD_thresh, minCh, dHbO, dHbR)\n",
    "\n",
    "# display results\n",
    "display(parcel_dOD)\n",
    "display(parcel_mask)\n",
    "\n",
    "# fetch parcels from the parcel_mask that are above the threshold to a list of parcel names\n",
    "sensitive_parcels = parcel_mask.where(parcel_mask, drop=True)[\"parcel\"].values.tolist()\n",
    "dropped_parcels = parcel_mask.where(~parcel_mask, drop=True)[\"parcel\"].values.tolist()\n",
    "print(f\"Number of sensitive parcels: {len(sensitive_parcels)}\")\n",
    "print(f\"Number of dropped parcels: {len(dropped_parcels)}\")"
   ]
  },
  {
   "cell_type": "markdown",
   "metadata": {},
   "source": [
    "visualize results"
   ]
  },
  {
   "cell_type": "code",
   "execution_count": null,
   "metadata": {},
   "outputs": [],
   "source": [
    "# plots a surface plot of dOD with axes \"channel\" and \"parcel\" using the log of the values in dOD on the z-axis for both wavelengths 760 and 850\n",
    "fig, axes = p.subplots(1, 2, figsize=(12, 6))\n",
    "\n",
    "for i, wl in enumerate([760.0, 850.0]):\n",
    "    ax = axes[i]\n",
    "    im = ax.imshow(np.log10(parcel_dOD.sel(wavelength=wl).values), aspect=\"auto\")\n",
    "    im.set_clim(-10, 0)\n",
    "    fig.colorbar(im, ax=ax)\n",
    "    ax.set_xlabel(\"parcel\")\n",
    "    ax.set_ylabel(\"channel\")\n",
    "    ax.set_title(f\"log(dOD) for wavelength {wl}\")\n",
    "\n",
    "p.tight_layout()\n",
    "p.show()"
   ]
  },
  {
   "cell_type": "code",
   "execution_count": null,
   "metadata": {
    "tags": [
     "nbsphinx-thumbnail"
    ]
   },
   "outputs": [],
   "source": [
    "# reduce parcel set to plot to the sensitive parcels\n",
    "# Find mask of rows to update\n",
    "mask = parcels[\"Label\"].isin(dropped_parcels)\n",
    "# Use .loc with .apply to set the Color column per row\n",
    "parcels_plotsens = parcels.copy()\n",
    "parcels_plotsens.loc[mask, \"Color\"] = parcels_plotsens.loc[mask, \"Color\"].apply(lambda _: [1, 1, 1])\n",
    "\n",
    "\n",
    "b = cdc.VTKSurface.from_trimeshsurface(head.brain)\n",
    "b = pv.wrap(b.mesh)\n",
    "b[\"parcels\"] = parcels_plotsens.Color.tolist()\n",
    "\n",
    "plt = pv.Plotter()\n",
    "plt.add_mesh(\n",
    "    b,\n",
    "    scalars=\"parcels\",\n",
    "    rgb=True\n",
    ")\n",
    "\n",
    "\n",
    "cog = head.brain.vertices.mean(\"label\").values\n",
    "plt.camera.position = cog + [400,0,400]\n",
    "plt.camera.focal_point = cog \n",
    "plt.camera.left = [0,1,0] \n",
    "plt.reset_camera()\n",
    "# add probe\n",
    "geo3D_snapped_o = geo3D_snapped.where(geo3D_snapped.label.str.contains(\"S|D\"), drop=True)\n",
    "cedalion.plots.plot_labeled_points(plt, geo3D_snapped_o)\n",
    "plt.show()"
   ]
  },
  {
   "cell_type": "markdown",
   "metadata": {},
   "source": [
    "### Example with channel pruning\n",
    "The same as before, but now we consider a list of \"bad\" channels that should be excluded from the sensitivity consideration"
   ]
  },
  {
   "cell_type": "code",
   "execution_count": null,
   "metadata": {},
   "outputs": [],
   "source": [
    "# set input parameters for parcel sensitivity calculation. \n",
    "# Now we use the snr channel mask to exclude channels with bad signal quality \n",
    "# (here artificially high threshold) from consideration for parcel sensitivity\n",
    "\n",
    "dOD_thresh = 0.001\n",
    "minCh = 1 \n",
    "dHbO = 10 #µMol\n",
    "dHbR = -3 #µMol\n",
    "chan_droplist = snr_ch_droplist # list of dropped channels due to bad SNR, effectively reducing probe\n",
    "\n",
    "\n",
    "parcel_dOD, parcel_mask = fwm.parcel_sensitivity(\n",
    "    Adot, chan_droplist, dOD_thresh, minCh, dHbO, dHbR\n",
    ")\n",
    "\n",
    "# display results\n",
    "display(parcel_dOD)\n",
    "display(parcel_mask)\n",
    "\n",
    "# fetch parcels from the parcel_mask that are above the threshold to a list of parcel names\n",
    "sensitive_parcels = parcel_mask.where(parcel_mask, drop=True)[\"parcel\"].values.tolist()\n",
    "dropped_parcels = parcel_mask.where(~parcel_mask, drop=True)[\"parcel\"].values.tolist()\n",
    "print(f\"Number of sensitive parcels: {len(sensitive_parcels)}\")\n",
    "print(f\"Number of dropped parcels: {len(dropped_parcels)}\")"
   ]
  },
  {
   "cell_type": "markdown",
   "metadata": {},
   "source": [
    "visualize results"
   ]
  },
  {
   "cell_type": "code",
   "execution_count": null,
   "metadata": {},
   "outputs": [],
   "source": [
    "# plots a surface plot of dOD with axes \"channel\" and \"parcel\" using the log of the values in dOD on the z-axis for both wavelengths 760 and 850\n",
    "fig, axes = p.subplots(1, 2, figsize=(12, 6))\n",
    "\n",
    "for i, wl in enumerate([760.0, 850.0]):\n",
    "    ax = axes[i]\n",
    "    im = ax.imshow(np.log10(parcel_dOD.sel(wavelength=wl).values), aspect=\"auto\")\n",
    "    im.set_clim(-10, 0)\n",
    "    fig.colorbar(im, ax=ax)\n",
    "    ax.set_xlabel(\"parcel\")\n",
    "    ax.set_ylabel(\"channel\")\n",
    "    ax.set_title(f\"log(dOD) for wavelength {wl}\")\n",
    "\n",
    "p.tight_layout()\n",
    "p.show()\n",
    "\n",
    "\n",
    "# reduce parcel set to plot to the sensitive parcels\n",
    "# Find mask of rows to update\n",
    "mask = parcels[\"Label\"].isin(dropped_parcels)\n",
    "# Use .loc with .apply to set the Color column per row\n",
    "parcels_plotsens = parcels.copy()\n",
    "parcels_plotsens.loc[mask, \"Color\"] = parcels_plotsens.loc[mask, \"Color\"].apply(lambda _: [1, 1, 1])\n",
    "\n",
    "b = cdc.VTKSurface.from_trimeshsurface(head.brain)\n",
    "b = pv.wrap(b.mesh)\n",
    "b[\"parcels\"] = parcels_plotsens.Color.tolist()\n",
    "\n",
    "plt = pv.Plotter()\n",
    "plt.add_mesh(\n",
    "    b,\n",
    "    scalars=\"parcels\",\n",
    "    rgb=True\n",
    ")\n",
    "\n",
    "\n",
    "cog = head.brain.vertices.mean(\"label\").values\n",
    "plt.camera.position = cog + [400,0,400]\n",
    "plt.camera.focal_point = cog \n",
    "plt.camera.left = [0,1,0] \n",
    "plt.reset_camera()\n",
    "# add probe\n",
    "geo3D_snapped_o = geo3D_snapped.where(geo3D_snapped.label.str.contains(\"S|D\"), drop=True)\n",
    "cedalion.plots.plot_labeled_points(plt, geo3D_snapped_o)\n",
    "plt.show()\n",
    "\n"
   ]
  }
 ],
 "metadata": {
  "kernelspec": {
   "display_name": "cedalion_default_3.11",
   "language": "python",
   "name": "python3"
  },
  "language_info": {
   "codemirror_mode": {
    "name": "ipython",
    "version": 3
   },
   "file_extension": ".py",
   "mimetype": "text/x-python",
   "name": "python",
   "nbconvert_exporter": "python",
   "pygments_lexer": "ipython3",
   "version": "3.11.8"
  }
 },
 "nbformat": 4,
 "nbformat_minor": 2
}
