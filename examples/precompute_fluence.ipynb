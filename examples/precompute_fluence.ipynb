{
 "cells": [
  {
   "cell_type": "markdown",
   "id": "0",
   "metadata": {},
   "source": [
    "# Precomupte forward model results"
   ]
  },
  {
   "cell_type": "code",
   "execution_count": null,
   "id": "1",
   "metadata": {},
   "outputs": [],
   "source": [
    "import pyvista as pv\n",
    "pv.set_jupyter_backend('static')"
   ]
  },
  {
   "cell_type": "code",
   "execution_count": null,
   "id": "2",
   "metadata": {},
   "outputs": [],
   "source": [
    "from functools import lru_cache\n",
    "import os\n",
    "\n",
    "import numpy as np\n",
    "import xarray as xr\n",
    "\n",
    "import cedalion.datasets\n",
    "import cedalion.geometry.segmentation\n",
    "import cedalion.imagereco.forward_model as fw\n",
    "import cedalion.io.forward_model\n",
    "import cedalion.plots\n",
    "xr.set_options(display_expand_data=False);"
   ]
  },
  {
   "cell_type": "code",
   "execution_count": null,
   "id": "3",
   "metadata": {},
   "outputs": [],
   "source": [
    "def compute_fluence_mcx(rec, head):\n",
    "    geo3d_snapped_ijk = head.align_and_snap_to_scalp(rec.geo3d)\n",
    "\n",
    "    fwm = cedalion.imagereco.forward_model.ForwardModel(\n",
    "        head, geo3d_snapped_ijk, rec._measurement_lists[\"amp\"]\n",
    "    )\n",
    "\n",
    "    fluence_all, fluence_at_optodes = fwm.compute_fluence_mcx()\n",
    "\n",
    "    return fluence_all, fluence_at_optodes\n",
    "\n",
    "\n",
    "def plot_fluence(rec, head, fluence_all, src, det, wl):\n",
    "    geo3d_snapped_ijk = head.align_and_snap_to_scalp(rec.geo3d)\n",
    "\n",
    "    f = fluence_all.loc[src, wl].values * fluence_all.loc[det, wl].values\n",
    "\n",
    "    # clip fluence to smallest positive value and transform to log\n",
    "    f[f <= 0] = f[f > 0].min()\n",
    "    f = np.log10(f)\n",
    "\n",
    "    vf = pv.wrap(f)\n",
    "\n",
    "    plt = pv.Plotter()\n",
    "    plt.add_volume(\n",
    "        vf,\n",
    "        log_scale=False,\n",
    "        cmap=\"plasma_r\",\n",
    "        clim=(-10, 0),\n",
    "    )\n",
    "    cedalion.plots.plot_surface(plt, head.brain, color=\"w\")\n",
    "    cedalion.plots.plot_labeled_points(plt, geo3d_snapped_ijk, show_labels=False)\n",
    "\n",
    "    cog = head.brain.vertices.mean(\"label\").values\n",
    "    plt.camera.position = cog + [-300, 30, 150]\n",
    "    plt.camera.focal_point = cog\n",
    "    plt.camera.up = [0, 0, 1]\n",
    "\n",
    "    plt.show()\n",
    "\n",
    "\n",
    "@lru_cache\n",
    "def get_colin27():\n",
    "    SEG_DATADIR, mask_files, landmarks_file = (\n",
    "        cedalion.datasets.get_colin27_segmentation()\n",
    "    )\n",
    "\n",
    "    head = fw.TwoSurfaceHeadModel.from_segmentation(\n",
    "        segmentation_dir=SEG_DATADIR,\n",
    "        mask_files=mask_files,\n",
    "        landmarks_ras_file=landmarks_file,\n",
    "    )\n",
    "\n",
    "    return head\n",
    "\n",
    "\n",
    "@lru_cache\n",
    "def get_icbm152():\n",
    "    SEG_DATADIR, mask_files, landmarks_file = (\n",
    "        cedalion.datasets.get_icbm152_segmentation()\n",
    "    )\n",
    "\n",
    "    head = fw.TwoSurfaceHeadModel.from_surfaces(\n",
    "        segmentation_dir=SEG_DATADIR,\n",
    "        mask_files=mask_files,\n",
    "        brain_surface_file=os.path.join(SEG_DATADIR, \"mask_brain.obj\"),\n",
    "        landmarks_ras_file=landmarks_file,\n",
    "        brain_face_count=None,\n",
    "        scalp_face_count=None,\n",
    "    )\n",
    "\n",
    "    return head\n",
    "\n",
    "\n",
    "# fluence_all, fluence_at_optodes = plot_fluence(rec, head, fluence_all, \"S4\", \"D2\", 760.)"
   ]
  },
  {
   "cell_type": "code",
   "execution_count": null,
   "id": "4",
   "metadata": {},
   "outputs": [],
   "source": [
    "rec = cedalion.datasets.get_fingertappingDOT()\n",
    "head = get_colin27()\n",
    "fluence_all, fluence_at_optodes = compute_fluence_mcx(rec, head)\n",
    "\n",
    "cedalion.io.forward_model.save_fluence(\"fluence_fingertappingDOT_colin27.h5\", fluence_all, fluence_at_optodes)"
   ]
  },
  {
   "cell_type": "code",
   "execution_count": null,
   "id": "5",
   "metadata": {},
   "outputs": [],
   "source": [
    "rec = cedalion.datasets.get_fingertappingDOT()\n",
    "head = get_icbm152()\n",
    "fluence_all, fluence_at_optodes = compute_fluence_mcx(rec, head)\n",
    "cedalion.io.forward_model.save_fluence(\"fluence_fingertappingDOT_icbm152.h5\", fluence_all, fluence_at_optodes)"
   ]
  },
  {
   "cell_type": "code",
   "execution_count": null,
   "id": "6",
   "metadata": {},
   "outputs": [],
   "source": [
    "rec = cedalion.datasets.get_fingertapping()\n",
    "head = get_colin27()\n",
    "fluence_all, fluence_at_optodes = compute_fluence_mcx(rec, head)\n",
    "cedalion.io.forward_model.save_fluence(\"fluence_fingertapping_colin27.h5\", fluence_all, fluence_at_optodes)"
   ]
  },
  {
   "cell_type": "code",
   "execution_count": null,
   "id": "7",
   "metadata": {},
   "outputs": [],
   "source": [
    "rec = cedalion.datasets.get_fingertapping()\n",
    "head = get_colin27()\n",
    "fluence_all, fluence_at_optodes = compute_fluence_mcx(rec, head)\n",
    "cedalion.io.forward_model.save_fluence(\"fluence_fingertapping_icbm152.h5\", fluence_all, fluence_at_optodes)"
   ]
  }
 ],
 "metadata": {
  "kernelspec": {
   "display_name": "Python 3 (ipykernel)",
   "language": "python",
   "name": "python3"
  },
  "language_info": {
   "codemirror_mode": {
    "name": "ipython",
    "version": 3
   },
   "file_extension": ".py",
   "mimetype": "text/x-python",
   "name": "python",
   "nbconvert_exporter": "python",
   "pygments_lexer": "ipython3",
   "version": "3.11.8"
  }
 },
 "nbformat": 4,
 "nbformat_minor": 5
}
