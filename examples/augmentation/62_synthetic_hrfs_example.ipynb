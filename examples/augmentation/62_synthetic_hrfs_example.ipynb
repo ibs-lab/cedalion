{
 "cells": [
  {
   "cell_type": "markdown",
   "metadata": {},
   "source": [
    "# Adding Synthetic Hemodynamic Reponses to Data\n",
    "\n",
    "This example notebook illustrates the functionality in `cedalion.sim.synthetic_hrf`\n",
    "to create simulated datasets with added activations."
   ]
  },
  {
   "cell_type": "code",
   "execution_count": null,
   "metadata": {},
   "outputs": [],
   "source": [
    "# This cells setups the environment when executed in Google Colab.\n",
    "try:\n",
    "    import google.colab\n",
    "    !curl -s https://raw.githubusercontent.com/ibs-lab/cedalion/dev/scripts/colab_setup.py -o colab_setup.py\n",
    "    # Select branch with --branch \"branch name\" (default is \"dev\")\n",
    "    %run colab_setup.py\n",
    "except ImportError:\n",
    "    pass"
   ]
  },
  {
   "cell_type": "code",
   "execution_count": null,
   "metadata": {},
   "outputs": [],
   "source": [
    "# set this flag to True to enable interactive 3D plots\n",
    "INTERACTIVE_PLOTS = False"
   ]
  },
  {
   "cell_type": "code",
   "execution_count": null,
   "metadata": {},
   "outputs": [],
   "source": [
    "import os\n",
    "\n",
    "import matplotlib.pyplot as plt\n",
    "import numpy as np\n",
    "import pyvista as pv\n",
    "import xarray as xr\n",
    "\n",
    "import cedalion\n",
    "import cedalion.dataclasses as cdc\n",
    "import cedalion.datasets\n",
    "import cedalion.geometry.landmarks as cd_landmarks\n",
    "import cedalion.imagereco.forward_model as fw\n",
    "import cedalion.models.glm as glm\n",
    "import cedalion.nirs\n",
    "import cedalion.plots\n",
    "\n",
    "import cedalion.sigproc.quality as quality\n",
    "import cedalion.sim.synthetic_hrf as synhrf\n",
    "import cedalion.xrutils as xrutils\n",
    "from cedalion import units\n",
    "from cedalion.imagereco.solver import pseudo_inverse_stacked\n",
    "\n",
    "xr.set_options(display_expand_data=False)\n",
    "\n",
    "if INTERACTIVE_PLOTS:\n",
    "    pv.set_jupyter_backend('server')\n",
    "else:\n",
    "    pv.set_jupyter_backend('static')"
   ]
  },
  {
   "cell_type": "markdown",
   "metadata": {},
   "source": [
    "## Loading and preprocessing the dataset\n",
    "\n",
    "This notebook uses a high-density, whole head resting state dataset recorded with a NinjaNIRS 22."
   ]
  },
  {
   "cell_type": "code",
   "execution_count": null,
   "metadata": {},
   "outputs": [],
   "source": [
    "rec = cedalion.datasets.get_nn22_resting_state()\n",
    "\n",
    "geo3d = rec.geo3d\n",
    "meas_list = rec._measurement_lists[\"amp\"]\n",
    "\n",
    "amp = rec[\"amp\"]\n",
    "amp = amp.pint.dequantify().pint.quantify(\"V\")\n",
    "\n",
    "display(amp)"
   ]
  },
  {
   "cell_type": "code",
   "execution_count": null,
   "metadata": {},
   "outputs": [],
   "source": [
    "cedalion.plots.plot_montage3D(rec[\"amp\"], geo3d)"
   ]
  },
  {
   "cell_type": "code",
   "execution_count": null,
   "metadata": {},
   "outputs": [],
   "source": [
    "# Select channels which have at least a signal-to-noise ratio of 10\n",
    "snr_thresh = 10  # the SNR (std/mean) of a channel.\n",
    "snr, snr_mask = quality.snr(rec[\"amp\"], snr_thresh)\n",
    "amp_selected, masked_channels = xrutils.apply_mask(\n",
    "    rec[\"amp\"], snr_mask, \"drop\", \"channel\"\n",
    ")\n",
    "\n",
    "print(f\"Removed {len(masked_channels)} channels because of low SNR.\")"
   ]
  },
  {
   "cell_type": "code",
   "execution_count": null,
   "metadata": {},
   "outputs": [],
   "source": [
    "# Calculate optical density\n",
    "od = cedalion.nirs.int2od(amp_selected)"
   ]
  },
  {
   "cell_type": "markdown",
   "metadata": {},
   "source": [
    "## Construct headmodel"
   ]
  },
  {
   "cell_type": "markdown",
   "metadata": {},
   "source": [
    "We load the the Colin27 headmodel, since we need the geometry for image reconstruction."
   ]
  },
  {
   "cell_type": "code",
   "execution_count": null,
   "metadata": {},
   "outputs": [],
   "source": [
    "SEG_DATADIR, mask_files, landmarks_file = cedalion.datasets.get_colin27_segmentation()"
   ]
  },
  {
   "cell_type": "code",
   "execution_count": null,
   "metadata": {},
   "outputs": [],
   "source": [
    "head_ijk = fw.TwoSurfaceHeadModel.from_surfaces(\n",
    "    segmentation_dir=SEG_DATADIR,\n",
    "    mask_files = mask_files,\n",
    "    brain_surface_file= os.path.join(SEG_DATADIR, \"mask_brain.obj\"),\n",
    "    scalp_surface_file= os.path.join(SEG_DATADIR, \"mask_scalp.obj\"),\n",
    "    landmarks_ras_file=landmarks_file,\n",
    "    brain_face_count=None,\n",
    "    scalp_face_count=None,\n",
    "    fill_holes=True,        # needs to be true, otherwise landmark calculation fails\n",
    ")\n",
    "\n",
    "# transform coordinates to a RAS coordinate system\n",
    "head_ras = head_ijk.apply_transform(head_ijk.t_ijk2ras)"
   ]
  },
  {
   "cell_type": "code",
   "execution_count": null,
   "metadata": {},
   "outputs": [],
   "source": [
    "display(head_ijk.brain)\n",
    "display(head_ras.brain)"
   ]
  },
  {
   "cell_type": "code",
   "execution_count": null,
   "metadata": {},
   "outputs": [],
   "source": [
    "head_ras.landmarks"
   ]
  },
  {
   "cell_type": "markdown",
   "metadata": {},
   "source": [
    "head.landmarks contains the 4 landmarks ['Nz' 'Iz' 'LPA' 'RPA']. \n",
    "Since we want to create synthetic HRFs on the brain surface at landmark positions, we need to build the remaining 10-10 landmarks"
   ]
  },
  {
   "cell_type": "code",
   "execution_count": null,
   "metadata": {},
   "outputs": [],
   "source": [
    "lmbuilder = cd_landmarks.LandmarksBuilder1010(head_ras.scalp, head_ras.landmarks)\n",
    "all_landmarks = lmbuilder.build()\n",
    "head_ras.landmarks = all_landmarks"
   ]
  },
  {
   "cell_type": "code",
   "execution_count": null,
   "metadata": {},
   "outputs": [],
   "source": [
    "center_brain = np.mean(head_ras.brain.mesh.vertices, axis=0)"
   ]
  },
  {
   "cell_type": "markdown",
   "metadata": {},
   "source": [
    "We want to build the synthetic HRFs at C3 and C4 (green dots in the image below)"
   ]
  },
  {
   "cell_type": "code",
   "execution_count": null,
   "metadata": {},
   "outputs": [],
   "source": [
    "plt_pv = pv.Plotter()\n",
    "cedalion.plots.plot_surface(plt_pv, head_ras.brain, color=\"#d3a6a1\")\n",
    "cedalion.plots.plot_surface(plt_pv, head_ras.scalp, opacity=0.1)\n",
    "cedalion.plots.plot_labeled_points(\n",
    "    plt_pv, head_ras.landmarks.sel(label=[\"C3\", \"C4\"]), show_labels=True\n",
    ")\n",
    "\n",
    "plt_pv.camera.position = (-400, 500,400)\n",
    "plt_pv.show()"
   ]
  },
  {
   "cell_type": "markdown",
   "metadata": {},
   "source": [
    "## Build spatial activation pattern on brain surface for landmarks C3 and C4\n",
    "\n",
    "The function `build_spatial_activation` is used to place a spatial activation pattern on the brain surface. The activation pattern is a Gaussian function of the geodesic distance to a seed vertex. Hence, the size of the activation is determined by the standard deviation of this Gaussian, specified by the parameter `spatial_scale`. The peak intensity in HbO is determined by the parameter `intensity_scale`. The intensity of HbR activation is specified relative to the HbO peak intensity. So if the HbO pattern describes an increase in Hbo then providing a negative factor smaller than 1 yields a decrease in HbR with smaller amplitude.\n",
    "The seed vertex (integer) can be selected as the closest vertex to a given landmark:"
   ]
  },
  {
   "cell_type": "code",
   "execution_count": null,
   "metadata": {},
   "outputs": [],
   "source": [
    "# obtain the closest vertices to C3 and C4\n",
    "c3_seed = head_ras.brain.mesh.kdtree.query(head_ras.landmarks.sel(label='C3'))[1]\n",
    "c4_seed = head_ras.brain.mesh.kdtree.query(head_ras.landmarks.sel(label='C4'))[1]"
   ]
  },
  {
   "cell_type": "code",
   "execution_count": null,
   "metadata": {},
   "outputs": [],
   "source": [
    "# create the spatial activation\n",
    "spatial_act = synhrf.build_spatial_activation(\n",
    "    head_ras,\n",
    "    c3_seed,\n",
    "    spatial_scale=2 * cedalion.units.cm,\n",
    "    intensity_scale=1 * units.micromolar,\n",
    "    hbr_scale=-0.4,\n",
    ")\n",
    "\n"
   ]
  },
  {
   "cell_type": "markdown",
   "metadata": {},
   "source": [
    "The resulting `DataArray` contains an activation value for each vertex and chromophore on the brain surface."
   ]
  },
  {
   "cell_type": "code",
   "execution_count": null,
   "metadata": {},
   "outputs": [],
   "source": [
    "display(spatial_act)"
   ]
  },
  {
   "cell_type": "code",
   "execution_count": null,
   "metadata": {},
   "outputs": [],
   "source": [
    "f,ax = plt.subplots(1,2,figsize=(10,5))\n",
    "cedalion.plots.brain_plot(\n",
    "        od,\n",
    "        head_ras.landmarks,\n",
    "        spatial_act.sel(chromo=\"HbO\").pint.to(\"uM\"),\n",
    "        head_ras.brain,\n",
    "        ax[0],\n",
    "        camera_pos=\"C3\",\n",
    "        cmap=\"RdBu_r\",\n",
    "        vmin=-1,\n",
    "        vmax=+1,\n",
    "        cb_label=r\"$\\Delta$ HbO / µM\",\n",
    "        title=None,\n",
    "    )\n",
    "ax[0].set_title(\"HbO\")\n",
    "cedalion.plots.brain_plot(\n",
    "        od,\n",
    "        head_ras.landmarks,\n",
    "        spatial_act.sel(chromo=\"HbR\").pint.to(\"uM\"),\n",
    "        head_ras.brain,\n",
    "        ax[1],\n",
    "        camera_pos=\"C3\",\n",
    "        cmap=\"RdBu_r\",\n",
    "        vmin=-1,\n",
    "        vmax=+1,\n",
    "        cb_label=r\"$\\Delta$ HbR / µM\",\n",
    "        title=None,\n",
    "    )\n",
    "ax[1].set_title(\"HbR\");"
   ]
  },
  {
   "cell_type": "markdown",
   "metadata": {},
   "source": [
    "The following plot illustrates the effects of the `spatial_scale` and `intensity_scale` parameters:"
   ]
  },
  {
   "cell_type": "code",
   "execution_count": null,
   "metadata": {
    "tags": [
     "nbsphinx-thumbnail"
    ]
   },
   "outputs": [],
   "source": [
    "f, ax = plt.subplots(2, 3, figsize=(9, 6))\n",
    "for i, spatial_scale in enumerate([0.5 * units.cm, 2 * units.cm, 3 * units.cm]):\n",
    "    spatial_act = synhrf.build_spatial_activation(\n",
    "        head_ras,\n",
    "        c3_seed,\n",
    "        spatial_scale=spatial_scale,\n",
    "        intensity_scale=1 * units.micromolar,\n",
    "        hbr_scale=-0.4,\n",
    "    )\n",
    "\n",
    "    cedalion.plots.brain_plot(\n",
    "        od,\n",
    "        head_ras.landmarks,\n",
    "        spatial_act.sel(chromo=\"HbO\").pint.to(\"uM\"),\n",
    "        head_ras.brain,\n",
    "        ax[0, i],\n",
    "        camera_pos=\"C3\",\n",
    "        cmap=\"RdBu_r\",\n",
    "        vmin=-1,\n",
    "        vmax=+1,\n",
    "        cb_label=r\"$\\Delta$ HbO / µM\",\n",
    "        title=None,\n",
    "    )\n",
    "    ax[0, i].set_title(f\"spatial_scale: {spatial_scale.magnitude} cm\")\n",
    "\n",
    "for i, intensity_scale in enumerate(\n",
    "    [\n",
    "        0.5 * units.micromolar,\n",
    "        1.0 * units.micromolar,\n",
    "        2.0 * units.micromolar,\n",
    "    ]\n",
    "):\n",
    "    spatial_act = synhrf.build_spatial_activation(\n",
    "        head_ras,\n",
    "        c3_seed,\n",
    "        spatial_scale=2 * units.cm,\n",
    "        intensity_scale=intensity_scale,\n",
    "        hbr_scale=-0.4,\n",
    "    )\n",
    "\n",
    "    cedalion.plots.brain_plot(\n",
    "        od,\n",
    "        head_ras.landmarks,\n",
    "        spatial_act.sel(chromo=\"HbO\").pint.to(\"uM\"),\n",
    "        head_ras.brain,\n",
    "        ax[1, i],\n",
    "        camera_pos=\"C3\",\n",
    "        cmap=\"RdBu_r\",\n",
    "        vmin=-2,\n",
    "        vmax=+2,\n",
    "        cb_label=r\"$\\Delta$ HbO / µM\",\n",
    "        title=None,\n",
    "    )\n",
    "    ax[1, i].set_title(f\"intensity_scale: {intensity_scale.magnitude} µM\")\n",
    "\n",
    "f.tight_layout()\n",
    "\n"
   ]
  },
  {
   "cell_type": "markdown",
   "metadata": {},
   "source": [
    "For this example notebook two activations are placed below C3 and C4:"
   ]
  },
  {
   "cell_type": "code",
   "execution_count": null,
   "metadata": {},
   "outputs": [],
   "source": [
    "spatial_act_c3 = synhrf.build_spatial_activation(\n",
    "    head_ras,\n",
    "    c3_seed,\n",
    "    spatial_scale=2 * cedalion.units.cm,\n",
    "    intensity_scale=1 * units.micromolar,\n",
    "    hbr_scale=-0.4,\n",
    ")\n",
    "spatial_act_c4 = synhrf.build_spatial_activation(\n",
    "    head_ras,\n",
    "    c4_seed,\n",
    "    spatial_scale=2 * cedalion.units.cm,\n",
    "    intensity_scale=1 * units.micromolar,\n",
    "    hbr_scale=-0.4,\n",
    ")"
   ]
  },
  {
   "cell_type": "markdown",
   "metadata": {},
   "source": [
    "We concatenate the two images for C3 and C4 along dimension `trial_type` to get a single `DataArray` with the spatial information for both landmarks."
   ]
  },
  {
   "cell_type": "code",
   "execution_count": null,
   "metadata": {},
   "outputs": [],
   "source": [
    "# concatenate the two spatial activations along a new dimension\n",
    "spatial_imgs = xr.concat(\n",
    "    [spatial_act_c3, spatial_act_c4], dim=\"trial_type\"\n",
    ").assign_coords(trial_type=[\"Stim C3\", \"Stim C4\"])\n",
    "spatial_imgs"
   ]
  },
  {
   "cell_type": "markdown",
   "metadata": {},
   "source": [
    "## Plots of spatial patterns\n",
    "\n",
    "Using the helper function `cedalion.plots.brain_plot`, the created activations\n",
    "on the brain surface below C3 and C4 are plotted:"
   ]
  },
  {
   "cell_type": "code",
   "execution_count": null,
   "metadata": {},
   "outputs": [],
   "source": [
    "f, ax = plt.subplots(1,2, figsize=(10,5))\n",
    "\n",
    "cedalion.plots.brain_plot(\n",
    "    od,\n",
    "    head_ras.landmarks,\n",
    "    spatial_imgs.sel(trial_type=\"Stim C3\", chromo=\"HbO\").pint.to(\"uM\"),\n",
    "    head_ras.brain,\n",
    "    ax[0],\n",
    "    camera_pos=\"C3\",\n",
    "    cmap=\"RdBu_r\",\n",
    "    vmin=-1,\n",
    "    vmax=+1,\n",
    "    cb_label=r\"$\\Delta$ HbO / µM\",\n",
    "    title=\"C3 Activation\",\n",
    ")\n",
    "\n",
    "cedalion.plots.brain_plot(\n",
    "    od,\n",
    "    head_ras.landmarks,\n",
    "    spatial_imgs.sel(trial_type=\"Stim C4\", chromo=\"HbO\").pint.to(\"uM\"),\n",
    "    head_ras.brain,\n",
    "    ax[1],\n",
    "    camera_pos=\"C4\",\n",
    "    cmap=\"RdBu_r\",\n",
    "    vmin=-1,\n",
    "    vmax=+1,\n",
    "    cb_label=r\"$\\Delta$ HbO / µM\",\n",
    "    title=\"C4 Activation\",\n",
    ")\n",
    "\n",
    "f.tight_layout()"
   ]
  },
  {
   "cell_type": "markdown",
   "metadata": {},
   "source": [
    "## Image Reconstruction\n",
    "\n",
    "We load the precomputed Adot matrix to be able to map from image to channel space. (For details see image_reconstruction example notebook)."
   ]
  },
  {
   "cell_type": "code",
   "execution_count": null,
   "metadata": {},
   "outputs": [],
   "source": [
    "Adot = cedalion.datasets.get_precomputed_sensitivity(\"nn22_resting\", \"colin27\")"
   ]
  },
  {
   "cell_type": "code",
   "execution_count": null,
   "metadata": {},
   "outputs": [],
   "source": [
    "# we only consider brain vertices, not scalp\n",
    "Adot_brain = Adot[:, (Adot.is_brain).values,:]\n",
    "\n",
    "# drop the pruned channels\n",
    "Adot_brain = Adot_brain.sel(channel=od.channel)\n",
    "Adot_brain"
   ]
  },
  {
   "cell_type": "markdown",
   "metadata": {},
   "source": [
    "The forward model and image reconstruction translate between timeseries of different wavelengths in channel space and time series of different chromophores in image space. To this end the image reconstruction operates on stacked arrays in which the dimensions 'channel' and 'wavelength' are stacked to form a new dimension 'flat_channel'. Likewise the dimensions 'vertex' and 'chromo' are stacked as 'flat_vertex'."
   ]
  },
  {
   "cell_type": "code",
   "execution_count": null,
   "metadata": {},
   "outputs": [],
   "source": [
    "Adot_stacked = fw.ForwardModel.compute_stacked_sensitivity(Adot_brain)\n",
    "\n",
    "Adot_stacked = Adot_stacked.pint.quantify()\n",
    "Adot_stacked\n"
   ]
  },
  {
   "cell_type": "markdown",
   "metadata": {},
   "source": [
    "invert the sensitivity matrix:"
   ]
  },
  {
   "cell_type": "code",
   "execution_count": null,
   "metadata": {},
   "outputs": [],
   "source": [
    "Adot_inverted = pseudo_inverse_stacked(Adot_stacked)\n",
    "Adot_inverted = Adot_inverted.pint.quantify()\n",
    "Adot_inverted"
   ]
  },
  {
   "cell_type": "markdown",
   "metadata": {},
   "source": [
    "To multiply the spatial image with the sensitivity matrix the spatial image's vertex\n",
    "and chromo dimensions must be stacked, too."
   ]
  },
  {
   "cell_type": "code",
   "execution_count": null,
   "metadata": {},
   "outputs": [],
   "source": [
    "spatial_imgs_stacked = fw.stack_flat_vertex(spatial_imgs)\n",
    "display(spatial_imgs_stacked)"
   ]
  },
  {
   "cell_type": "markdown",
   "metadata": {},
   "source": [
    "We can now map our spatial patterns to channel space:"
   ]
  },
  {
   "cell_type": "code",
   "execution_count": null,
   "metadata": {},
   "outputs": [],
   "source": [
    "spatial_chan_stacked = Adot_stacked @ spatial_imgs_stacked\n",
    "spatial_chan_stacked"
   ]
  },
  {
   "cell_type": "code",
   "execution_count": null,
   "metadata": {},
   "outputs": [],
   "source": [
    "spatial_chan = fw.unstack_flat_channel(spatial_chan_stacked)"
   ]
  },
  {
   "cell_type": "markdown",
   "metadata": {},
   "source": [
    "Show the spatial activation in channel space with a scalp plot."
   ]
  },
  {
   "cell_type": "code",
   "execution_count": null,
   "metadata": {},
   "outputs": [],
   "source": [
    "fig, ax = plt.subplots(1, 2)\n",
    "# adjust plot size\n",
    "fig.set_size_inches(12, 6)\n",
    "cedalion.plots.scalp_plot(\n",
    "    od,\n",
    "    rec.geo3d,\n",
    "    spatial_chan.sel(trial_type=\"Stim C3\", wavelength=850),\n",
    "    ax[0],\n",
    "    cmap=\"YlOrRd\",\n",
    "    title=\"850nm, activation under C3\",\n",
    "    vmin=spatial_chan.values.min(),\n",
    "    vmax=spatial_chan.values.max(),\n",
    "    cb_label=\"max peak amplitude\",\n",
    ")\n",
    "cedalion.plots.scalp_plot(\n",
    "    od,\n",
    "    rec.geo3d,\n",
    "    spatial_chan.sel(trial_type=\"Stim C4\", wavelength=850),\n",
    "    ax[1],\n",
    "    cmap=\"YlOrRd\",\n",
    "    title=\"850nm, activation under C4\",\n",
    "    vmin=spatial_chan.values.min(),\n",
    "    vmax=spatial_chan.values.max(),\n",
    "    cb_label=\"Max peak amplitude\",\n",
    ")\n",
    "plt.show()"
   ]
  },
  {
   "cell_type": "markdown",
   "metadata": {},
   "source": [
    "Get top 5 channels for each trial type where synthetic activation is highest"
   ]
  },
  {
   "cell_type": "code",
   "execution_count": null,
   "metadata": {},
   "outputs": [],
   "source": [
    "roi_chans_c3 = spatial_chan.channel[\n",
    "    spatial_chan.sel(trial_type=\"Stim C3\").max(\"wavelength\").argsort()[-5:].values\n",
    "].values\n",
    "roi_chans_c4 = spatial_chan.channel[\n",
    "    spatial_chan.sel(trial_type=\"Stim C4\").max(\"wavelength\").argsort()[-5:].values\n",
    "].values\n"
   ]
  },
  {
   "cell_type": "markdown",
   "metadata": {},
   "source": [
    "## Concentration Scale\n",
    "\n",
    "The activations were simulataed in image space with a peak concentration change of 1 µM \n",
    "in one vertex. The change in optical density in one channel reflects concentration\n",
    "changes in the ensemble of vertices that this channel is sensitive to.\n",
    "\n",
    "When applying the Beer-Lambert-transformation in channel space, a change in \n",
    "concentration is calculated for each channel. However, the scales of these concentration\n",
    "changes and the concentration changes in single vertices are not the same.\n",
    "\n",
    "Here, a correction factor is calculated to scale the activation in channel\n",
    "space to 1uM.\n"
   ]
  },
  {
   "cell_type": "code",
   "execution_count": null,
   "metadata": {},
   "outputs": [],
   "source": [
    "dpf = xr.DataArray(\n",
    "    [6, 6],\n",
    "    dims=\"wavelength\",\n",
    "    coords={\"wavelength\": rec[\"amp\"].wavelength},\n",
    ")"
   ]
  },
  {
   "cell_type": "code",
   "execution_count": null,
   "metadata": {},
   "outputs": [],
   "source": [
    "# add time axis with one time point so we can convert to conc\n",
    "spatial_chan_w_time = spatial_chan.expand_dims(\"time\")\n",
    "spatial_chan_w_time = spatial_chan_w_time.assign_coords(time=[0])\n",
    "spatial_chan_w_time.time.attrs[\"units\"] = \"second\"\n",
    "display(spatial_chan_w_time)\n",
    "spatial_chan_conc = cedalion.nirs.od2conc(\n",
    "    spatial_chan_w_time, geo3d, dpf, spectrum=\"prahl\"\n",
    ")"
   ]
  },
  {
   "cell_type": "code",
   "execution_count": null,
   "metadata": {},
   "outputs": [],
   "source": [
    "# rescale so that synthetic hrfs add 1 micromolar at peak.\n",
    "rescale_factor = (1* units.micromolar / spatial_chan_conc.max())\n",
    "display(rescale_factor)\n",
    "spatial_chan *= rescale_factor"
   ]
  },
  {
   "cell_type": "markdown",
   "metadata": {},
   "source": [
    "## HRFs in channel space"
   ]
  },
  {
   "cell_type": "markdown",
   "metadata": {},
   "source": [
    "So far the notebook focused on the spatial extent of the activation. \n",
    "To build the temporal HRF model we use the same functionality that generates hrf regressors for the GLM.\n",
    "\n",
    "First we select a basis function, which defines the temporal shape of the HRF."
   ]
  },
  {
   "cell_type": "code",
   "execution_count": null,
   "metadata": {},
   "outputs": [],
   "source": [
    "basis_fct = glm.Gamma(tau=0 * units.s, sigma=3 * units.s, T=3 * units.s)"
   ]
  },
  {
   "cell_type": "code",
   "execution_count": null,
   "metadata": {},
   "outputs": [],
   "source": [
    "od.time"
   ]
  },
  {
   "cell_type": "markdown",
   "metadata": {},
   "source": [
    "A Stim DataFrame, which contains the onset, duration and amplitude of the synthetic HRFs, is created."
   ]
  },
  {
   "cell_type": "code",
   "execution_count": null,
   "metadata": {},
   "outputs": [],
   "source": [
    "stim_df = synhrf.build_stim_df(\n",
    "    max_time=od.time.values[-1] * units.seconds,\n",
    "    trial_types=[\"Stim C3\", \"Stim C4\"],\n",
    "    min_interval=10 * units.seconds,\n",
    "    max_interval=20 * units.seconds,\n",
    "    min_stim_dur = 10 * units.seconds,\n",
    "    max_stim_dur = 10 * units.seconds,\n",
    "    min_stim_value = 1.0,\n",
    "    max_stim_value = 1.0,\n",
    "    order=\"random\",\n",
    ")"
   ]
  },
  {
   "cell_type": "code",
   "execution_count": null,
   "metadata": {},
   "outputs": [],
   "source": [
    "stim_df.head()"
   ]
  },
  {
   "cell_type": "markdown",
   "metadata": {},
   "source": [
    "We can now use our stim dataframe, basis function, and spatial information to create the synthetic HRF timeseries"
   ]
  },
  {
   "cell_type": "code",
   "execution_count": null,
   "metadata": {},
   "outputs": [],
   "source": [
    "syn_ts = synhrf.build_synthetic_hrf_timeseries(od, stim_df, basis_fct, spatial_chan)"
   ]
  },
  {
   "cell_type": "markdown",
   "metadata": {},
   "source": [
    "We get a synthetic HRF timeseries for each channel, trial_type and chromo / wavelength"
   ]
  },
  {
   "cell_type": "code",
   "execution_count": null,
   "metadata": {},
   "outputs": [],
   "source": [
    "syn_ts"
   ]
  },
  {
   "cell_type": "markdown",
   "metadata": {},
   "source": [
    "Sum the synthetic timeseries over trial_type dimension, so it has the same shape as the resting state data"
   ]
  },
  {
   "cell_type": "code",
   "execution_count": null,
   "metadata": {},
   "outputs": [],
   "source": [
    "syn_ts_sum = syn_ts.sum(dim='trial_type')\n",
    "syn_ts_sum"
   ]
  },
  {
   "cell_type": "markdown",
   "metadata": {},
   "source": [
    "## Adding HRFs to measured data\n",
    "\n",
    "Here, the simulated activations are combined with physiological noise by adding\n",
    "the synthetic HRFs to the resting state dataset:\n"
   ]
  },
  {
   "cell_type": "code",
   "execution_count": null,
   "metadata": {},
   "outputs": [],
   "source": [
    "od_w_hrf = od + syn_ts_sum"
   ]
  },
  {
   "cell_type": "markdown",
   "metadata": {},
   "source": [
    "## Recover the HRFs again\n",
    "\n",
    "In the following, the added activations should be extracted from the simulated dataset\n",
    "again. To this end, the data is frequency filtered and block averages are calculated."
   ]
  },
  {
   "cell_type": "code",
   "execution_count": null,
   "metadata": {},
   "outputs": [],
   "source": [
    "od_w_hrf_filtered = od_w_hrf.cd.freq_filter(fmin=0.02, fmax=0.5, butter_order=4)"
   ]
  },
  {
   "cell_type": "code",
   "execution_count": null,
   "metadata": {},
   "outputs": [],
   "source": [
    "od_w_hrf_filtered"
   ]
  },
  {
   "cell_type": "code",
   "execution_count": null,
   "metadata": {},
   "outputs": [],
   "source": [
    "epochs = od_w_hrf_filtered.cd.to_epochs(\n",
    "    stim_df,  # stimulus dataframe\n",
    "    [\"Stim C3\", \"Stim C4\"],  # select events\n",
    "    before=5 * units.seconds,  # seconds before stimulus\n",
    "    after=20 * units.seconds,  # seconds after stimulus\n",
    ")\n",
    "\n",
    "# calculate baseline\n",
    "baseline = epochs.sel(reltime=(epochs.reltime < 0)).mean(\"reltime\")\n",
    "# subtract baseline\n",
    "epochs_blcorrected = epochs - baseline\n",
    "\n",
    "# group trials by trial_type. For each group individually average the epoch dimension\n",
    "blockaverage = epochs_blcorrected.groupby(\"trial_type\").mean(\"epoch\")\n",
    "\n",
    "n_roi = roi_chans_c3.size\n",
    "# show results\n",
    "f, ax = plt.subplots(2, n_roi, figsize=(16, 8))\n",
    "ax = ax.flatten()\n",
    "for i_ch, ch in enumerate(roi_chans_c3):\n",
    "    for ls, trial_type in zip([\"-\", \"--\"], blockaverage.trial_type):\n",
    "        ax[i_ch].plot(\n",
    "            blockaverage.reltime,\n",
    "            blockaverage.sel(wavelength=760, trial_type=trial_type, channel=ch),\n",
    "            \"r\",\n",
    "            lw=2,\n",
    "            ls=ls,\n",
    "        )\n",
    "        ax[i_ch].plot(\n",
    "            blockaverage.reltime,\n",
    "            blockaverage.sel(wavelength=850, trial_type=trial_type, channel=ch),\n",
    "            \"b\",\n",
    "            lw=2,\n",
    "            ls=ls,\n",
    "        )\n",
    "    ax[i_ch].grid(1)\n",
    "    ax[i_ch].set_title(ch)\n",
    "    ax[i_ch].set_ylim(-0.05, 0.05)\n",
    "\n",
    "for i_ch, ch in enumerate(roi_chans_c4):\n",
    "    for ls, trial_type in zip([\"-\", \"--\"], blockaverage.trial_type):\n",
    "        ax[i_ch + n_roi].plot(\n",
    "            blockaverage.reltime,\n",
    "            blockaverage.sel(wavelength=760, trial_type=trial_type, channel=ch),\n",
    "            \"r\",\n",
    "            lw=2,\n",
    "            ls=ls,\n",
    "        )\n",
    "        ax[i_ch + n_roi].plot(\n",
    "            blockaverage.reltime,\n",
    "            blockaverage.sel(wavelength=850, trial_type=trial_type, channel=ch),\n",
    "            \"b\",\n",
    "            lw=2,\n",
    "            ls=ls,\n",
    "        )\n",
    "    ax[i_ch + n_roi].grid(1)\n",
    "    ax[i_ch + n_roi].set_title(ch)\n",
    "    ax[i_ch + n_roi].set_ylim(-0.05, 0.05)\n",
    "\n",
    "plt.suptitle(\n",
    "    \"Blockaverage for channels most sensitive to C3 (top) and C4 (bottom): 760nm: r | 850nm: b | C3: - | C4: --\"\n",
    ")\n",
    "plt.tight_layout()\n",
    "plt.show()"
   ]
  },
  {
   "cell_type": "markdown",
   "metadata": {},
   "source": [
    "## Map block average back to brain surface"
   ]
  },
  {
   "cell_type": "markdown",
   "metadata": {},
   "source": [
    "We map our extracted block averages back to the brain surface to visualize the recovered HRFs activation for Stim C3.\n",
    "We can compare it to the synthetic HRF image we created earlier."
   ]
  },
  {
   "cell_type": "code",
   "execution_count": null,
   "metadata": {},
   "outputs": [],
   "source": [
    "blockaverage_img = Adot_inverted @ fw.stack_flat_channel(blockaverage)"
   ]
  },
  {
   "cell_type": "code",
   "execution_count": null,
   "metadata": {},
   "outputs": [],
   "source": [
    "# build an xindex to use .sel along the chromo dimension\n",
    "blockaverage_img = blockaverage_img.set_xindex(\"chromo\")"
   ]
  },
  {
   "cell_type": "code",
   "execution_count": null,
   "metadata": {},
   "outputs": [],
   "source": [
    "# plot HbO time trace of left and right brain hemisphere during FTapping/Right\n",
    "\n",
    "for view in [\"left_hemi\", \"right_hemi\"]:\n",
    "    trial_type = \"Stim C3\"\n",
    "    gif_fname = \"Ftapping-right\" + \"_HbO_\" + view + \".gif\"\n",
    "\n",
    "    hbo = (\n",
    "        blockaverage_img.sel(chromo=\"HbO\", trial_type=trial_type).pint.dequantify()\n",
    "        / 1e-5\n",
    "    )  # FIXME unit handling\n",
    "    hbo_brain = hbo\n",
    "\n",
    "    ntimes = hbo.sizes[\"reltime\"]\n",
    "\n",
    "    b = cdc.VTKSurface.from_trimeshsurface(head_ras.brain)\n",
    "    b = pv.wrap(b.mesh)\n",
    "    b[\"reco_hbo\"] = hbo_brain[:, 0] - hbo_brain[:, 0]\n",
    "\n",
    "    p = pv.Plotter()\n",
    "\n",
    "    p.add_mesh(\n",
    "        b,\n",
    "        scalars=\"reco_hbo\",\n",
    "        cmap=\"seismic\",  # 'gist_earth_r',\n",
    "        clim=(-2.5, 2.5),\n",
    "        scalar_bar_args={\"title\": \"HbO / µM\"},\n",
    "        smooth_shading=True,\n",
    "    )\n",
    "\n",
    "    tl = lambda tt: f\"{trial_type} HbO rel. time: {tt:.3f} s\"\n",
    "    time_label = p.add_text(tl(0))\n",
    "\n",
    "    cog = head_ras.brain.vertices.mean(\"label\").values\n",
    "    if view == \"left_hemi\":\n",
    "        p.camera.position = cog + [-400, 0, 0]\n",
    "    else:\n",
    "        p.camera.position = cog + [400, 0, 0]\n",
    "    p.camera.focal_point = cog\n",
    "    p.camera.up = [0, 0, 1]\n",
    "    p.reset_camera()\n",
    "\n",
    "    p.open_gif(gif_fname)\n",
    "\n",
    "    for i in range(0, ntimes, 3):\n",
    "        b[\"reco_hbo\"] = hbo_brain[:, i] - hbo_brain[:, 0]\n",
    "        time_label.set_text(\"upper_left\", tl(hbo_brain.reltime[i]))\n",
    "\n",
    "        p.write_frame()\n",
    "\n",
    "    p.close()"
   ]
  },
  {
   "cell_type": "code",
   "execution_count": null,
   "metadata": {},
   "outputs": [],
   "source": [
    "from IPython.display import Image\n",
    "\n",
    "display(Image(data=open(\"Ftapping-right_HbO_left_hemi.gif\",'rb').read(), format='png'))\n",
    "display(Image(data=open(\"Ftapping-right_HbO_right_hemi.gif\",'rb').read(), format='png'))"
   ]
  }
 ],
 "metadata": {
  "kernelspec": {
   "display_name": "Python 3 (ipykernel)",
   "language": "python",
   "name": "python3"
  },
  "language_info": {
   "codemirror_mode": {
    "name": "ipython",
    "version": 3
   },
   "file_extension": ".py",
   "mimetype": "text/x-python",
   "name": "python",
   "nbconvert_exporter": "python",
   "pygments_lexer": "ipython3",
   "version": "3.11.8"
  }
 },
 "nbformat": 4,
 "nbformat_minor": 2
}
