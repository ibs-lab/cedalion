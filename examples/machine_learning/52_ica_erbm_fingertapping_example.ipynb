{
 "cells": [
  {
   "cell_type": "code",
   "execution_count": null,
   "id": "0",
   "metadata": {},
   "outputs": [],
   "source": [
    "# This cells setups the environment when executed in Google Colab.\n",
    "try:\n",
    "    import google.colab\n",
    "    !curl -s https://raw.githubusercontent.com/ibs-lab/cedalion/dev/scripts/colab_setup.py -o colab_setup.py\n",
    "    # Select branch with --branch \"branch name\" (default is \"dev\")\n",
    "    %run colab_setup.py\n",
    "except ImportError:\n",
    "    pass"
   ]
  },
  {
   "cell_type": "code",
   "execution_count": null,
   "id": "1",
   "metadata": {},
   "outputs": [],
   "source": [
    "import cedalion\n",
    "import cedalion.datasets\n",
    "from cedalion import units\n",
    "import cedalion.sigproc.quality as quality\n",
    "from cedalion.sigproc.frequency import sampling_rate\n",
    "from cedalion.sigdecomp import ERBM\n",
    "import numpy as np\n",
    "import scipy as sp\n",
    "import matplotlib.pyplot as plt\n"
   ]
  },
  {
   "cell_type": "markdown",
   "id": "2",
   "metadata": {},
   "source": [
    "# Example for ICA Source Extraction \n",
    "\n",
    "[Independent Component Analysis](https://en.wikipedia.org/wiki/Independent_component_analysis) (ICA) is a method for separating multivariate signals into statistically independent non-Gaussian components.\n",
    "In this notebook we will investigate an example on how [Independent Component Analysis by Entropy Rate Bound Minimization](https://ieeexplore.ieee.org/stamp/stamp.jsp?tp=&arnumber=6845364) (ICA-ERBM) can be used to extract physiological sources from fNIRS data. For this example, we will use a finger tapping dataset.  \n",
    "Let $X \\in \\mathbb{R}^{N \\times T }$ denote the finger tapping data with $N$ channels and $T$ time points. We assume that the data $X$ consists of unknown independent sources $S \\in  \\mathbb{R}^{N \\times T }$ that were mixed through an unknown mixing matrix $A \\in  \\mathbb{R}^{N \\times N}$, such that  \n",
    "$$ X = A \\cdot S. $$  \n",
    "Source reconstruction in ICA-ERBM is done by minimizing the [entropy rate](https://en.wikipedia.org/wiki/Entropy_rate) of the estimated sources. A demixing matrix $W$ is determined and the estimated sources $\\hat S \\in  \\mathbb{R}^{N \\times T }$ can be computed as  \n",
    "$$ \\hat S = W \\cdot X. $$\n",
    "Among the extracted sources, we will identify the ones that correspond to the PPG and Mayer Wave signals. \n"
   ]
  },
  {
   "cell_type": "markdown",
   "id": "3",
   "metadata": {},
   "source": [
    "## Loading Raw Finger Tapping Data"
   ]
  },
  {
   "cell_type": "code",
   "execution_count": null,
   "id": "4",
   "metadata": {},
   "outputs": [],
   "source": [
    "# Load finger tapping data set\n",
    "finger_tapping_data = cedalion.datasets.get_fingertappingDOT()\n",
    "\n",
    "# Extract the fnirs recording\n",
    "fnirs_data = finger_tapping_data['amp']\n",
    "\n",
    "# Plot three channels of the fnirs data\n",
    "fig, ax = plt.subplots(3, 1, sharex=True, figsize=(10, 5))\n",
    "for i, ch in enumerate([\"S1D1\", \"S1D2\", \"S7D9\"]):\n",
    "    ax[i].plot(fnirs_data.time, fnirs_data.sel(channel=ch, wavelength=\"760\"), \"r-\", label=\"760nm\")\n",
    "    ax[i].plot(fnirs_data.time, fnirs_data.sel(channel=ch, wavelength=\"850\"), \"b-\", label=\"850nm\")\n",
    "    ax[i].set_title(f\"Channel {ch}\")\n",
    "\n",
    "ax[0].legend()\n",
    "ax[2].set_xlim(0,60)\n",
    "ax[2].set_xlabel(\"time / s\")\n",
    "plt.tight_layout()"
   ]
  },
  {
   "cell_type": "markdown",
   "id": "5",
   "metadata": {},
   "source": [
    "## Conversion to Optical Density"
   ]
  },
  {
   "cell_type": "code",
   "execution_count": null,
   "id": "6",
   "metadata": {},
   "outputs": [],
   "source": [
    "# Convert to Optical Density (OD)\n",
    "fnirs_data_od = cedalion.nirs.int2od(fnirs_data)"
   ]
  },
  {
   "cell_type": "markdown",
   "id": "7",
   "metadata": {},
   "source": [
    "## Channel Quality Assessment and Pruning\n",
    "The Scalp Coupling Index (SCI) and Peak Spectral Power (PSP) are used for quality assessment. We compute SCI and PSP for each channel, and remove channels with less than 75% of clean time. "
   ]
  },
  {
   "cell_type": "code",
   "execution_count": null,
   "id": "8",
   "metadata": {},
   "outputs": [],
   "source": [
    "# Calculate masks for SCI and PSP quality metrics\n",
    "window_length = 5 * units.s\n",
    "sci_thresh = 0.75\n",
    "psp_thresh = 0.1\n",
    "sci_psp_percentage_thresh = 0.75\n",
    "\n",
    "sci, sci_mask = quality.sci(fnirs_data_od, window_length, sci_thresh)\n",
    "psp, psp_mask = quality.psp(fnirs_data_od, window_length, psp_thresh)\n",
    "sci_x_psp_mask = sci_mask & psp_mask\n",
    "perc_time_clean = sci_x_psp_mask.sum(dim=\"time\") / len(sci.time)\n",
    "sci_psp_mask = [perc_time_clean >= sci_psp_percentage_thresh]\n",
    "\n",
    "# Prune channels that do not pass the quality test\n",
    "fnirs_data_pruned, drop_list = quality.prune_ch(fnirs_data_od, sci_psp_mask, \"all\")\n",
    "\n",
    "# Display pruned channels\n",
    "print(f\"List of pruned channels: {drop_list}  ({len(drop_list)})\")\n"
   ]
  },
  {
   "cell_type": "markdown",
   "id": "9",
   "metadata": {},
   "source": [
    "## High-pass filter"
   ]
  },
  {
   "cell_type": "code",
   "execution_count": null,
   "id": "10",
   "metadata": {},
   "outputs": [],
   "source": [
    "# Filter the data\n",
    "# fmax = 0 is used to indicate high-pass filtering\n",
    "fnirs_data_filtered = fnirs_data_pruned.cd.freq_filter(\n",
    "    fmin=0.01, fmax=0, butter_order=4\n",
    ")\n",
    "\n",
    "# Store sampling rate\n",
    "fnirs_data_samplingrate = sampling_rate(fnirs_data_pruned.time).magnitude\n",
    "\n",
    "# Plot the filtered data\n",
    "fig, ax = plt.subplots(3, 1, sharex=True, figsize=(10, 5))\n",
    "for i, ch in enumerate([\"S1D1\", \"S1D2\", \"S7D9\"]):\n",
    "    ax[i].plot(fnirs_data_filtered.time, fnirs_data_filtered.sel(channel=ch, wavelength=\"760\"), \"r-\", label=\"760nm\")\n",
    "    ax[i].plot(fnirs_data_filtered.time, fnirs_data_filtered.sel(channel=ch, wavelength=\"850\"), \"b-\", label=\"850nm\")\n",
    "    ax[i].set_title(f\"Channel {ch}\")\n",
    "\n",
    "ax[0].legend()\n",
    "ax[2].set_xlim(0,60)\n",
    "ax[2].set_label(\"time / s\")\n",
    "plt.tight_layout()"
   ]
  },
  {
   "cell_type": "markdown",
   "id": "11",
   "metadata": {},
   "source": [
    "## Select Channels and Time Slice for ICA \n",
    "\n",
    "The entire finger tapping dataset was recorded over 30 minutes and contains 99 channels after pruning. Unfortunately, these dimensions result in a long runtime for ICA-ERBM. For this reason, we will use only a subset of the channels and a 10-minute slice of the selected channels. Despite the longer runtime, this example is also applicable to the full dataset.\n"
   ]
  },
  {
   "cell_type": "code",
   "execution_count": null,
   "id": "12",
   "metadata": {},
   "outputs": [],
   "source": [
    "# Choose the best 30 channels based on the percentage of time clean\n",
    "id_best_channels = np.argsort(perc_time_clean).values[-30:]\n",
    "best_channels = fnirs_data[\"channel\"][id_best_channels]\n",
    "\n",
    "# Extract the best channels from the filtered data\n",
    "fnirs_best_channels = fnirs_data_filtered.sel(channel=best_channels)\n",
    "\n",
    "# Select a 10 min interval\n",
    "duration = 10 * 60\n",
    "buffer = 60\n",
    "fnirs_best_channels = fnirs_best_channels.sel(time=slice(buffer, buffer + duration))\n",
    "\n",
    "# Ignore units\n",
    "fnirs_best_channels = fnirs_best_channels.pint.dequantify()\n",
    "\n",
    "# Select the first wavelength\n",
    "X = fnirs_best_channels.values[:, 0, :]\n",
    "print(f\"Shape of data for ICA-ERBM: {X.shape}\")"
   ]
  },
  {
   "cell_type": "markdown",
   "id": "13",
   "metadata": {},
   "source": [
    "## Apply ICA-ERBM  \n",
    "\n",
    "ICA-ERBM is applied to the selected channels. For the autoregressive filter used in ICA-ERBM, we use the default parameter $p = 11$. The source estimates are then computed as $\\hat S = W \\cdot X$. "
   ]
  },
  {
   "cell_type": "code",
   "execution_count": null,
   "id": "14",
   "metadata": {},
   "outputs": [],
   "source": [
    "# Set filter length\n",
    "p = 11\n",
    "\n",
    "# Apply ICA-ERBM to the data\n",
    "W = ERBM.ERBM(X, p)\n",
    "\n",
    "# Compute separated source as S = W * X\n",
    "sources = W.dot(X)"
   ]
  },
  {
   "cell_type": "code",
   "execution_count": null,
   "id": "15",
   "metadata": {},
   "outputs": [],
   "source": [
    "# Apply z-score normalization to the sources\n",
    "sources_zscore = sp.stats.zscore(sources, axis=0)"
   ]
  },
  {
   "cell_type": "markdown",
   "id": "16",
   "metadata": {},
   "source": [
    "## Selection of PPG Source\n",
    "\n",
    "From the reconstructed sources, we now want to identify those that are most similar to a PPG signal. To this end, we compare the frequency band in which the PPG signal is expected to have large amplitudes with the surrounding frequency bands. The sources with the highest contrast are selected. The PPG signal is expected to exhibit high amplitudes in a frequency band around 1 Hz."
   ]
  },
  {
   "cell_type": "code",
   "execution_count": null,
   "id": "17",
   "metadata": {},
   "outputs": [],
   "source": [
    "# Compute the frequency spectrum for each source\n",
    "psd_sources = np.abs(np.fft.fft(sources, axis = 1))\n",
    "\n",
    "# The frequencies corresponding to the spectrum\n",
    "freqs = np.fft.fftfreq(sources.shape[1], 1/fnirs_data_samplingrate)\n",
    "\n",
    "# Choose the indices of frequencies that are in the ppg band (0.75 - 1.25 Hz)\n",
    "ppg_band_ind = np.logical_and(freqs >= 0.75, freqs <= 1.25)\n",
    "\n",
    "# Choose the indices of frequencies that are in the band (0 - 0.75 Hz and 1.25 - 3.0 Hz)\n",
    "comp_band =  np.logical_and(freqs >= 0, freqs < 0.75) +  np.logical_and(freqs > 1.25 , freqs <= 3.0) \n",
    "\n",
    "# Compute the quotient of the ppg band and the contrast band\n",
    "psd_quotient = np.sum(psd_sources[:, ppg_band_ind], axis = 1 ) / np.sum(psd_sources[:, comp_band], axis = 1 )\n",
    "\n",
    "# Choose the indices of the sources with the highest contrast\n",
    "max_contrast_index = np.argsort(psd_quotient, axis = 0 )[-5:]\n",
    "\n",
    "# Reverse the order of the indices to have the highest contrast first\n",
    "max_contrast_index = max_contrast_index[::-1]\n",
    "\n",
    "# Choose the sources with the highest contrast\n",
    "ppg_sources = sources_zscore[max_contrast_index, :]"
   ]
  },
  {
   "cell_type": "code",
   "execution_count": null,
   "id": "18",
   "metadata": {
    "tags": [
     "nbsphinx-thumbnail"
    ]
   },
   "outputs": [],
   "source": [
    "# Plot the sources with the highest contrast and their frequency spectrum\n",
    "fig, ax = plt.subplots(ppg_sources.shape[0], 2, figsize=(12, 2 * ppg_sources.shape[0]))\n",
    "\n",
    "for i in range(ppg_sources.shape[0]):\n",
    "    # Plot the source for 60 seconds\n",
    "    samples = int(fnirs_data_samplingrate * 60 * 1)\n",
    "    ax[i, 0].plot( 1/fnirs_data_samplingrate * np.arange(0,samples), ppg_sources[i, :samples], label=f\"Source {max_contrast_index[i]+1}\")\n",
    "    ax[i, 0].set_title(f\"Source {max_contrast_index[i] + 1}\", fontsize=10)\n",
    "\n",
    "    # Plot frequency spectrum of the source\n",
    "    psd = np.abs(np.fft.rfft(ppg_sources[i, :])) ** 2\n",
    "    x_freqs = np.fft.rfftfreq(ppg_sources.shape[1], 1 / fnirs_data_samplingrate)\n",
    "    ax[i, 1].plot(x_freqs, psd, label=\"Contrast Band\")\n",
    "    ax[i, 1].set_title(f\"Frequency Spectrum of Source {max_contrast_index[i]+1}, Contrast Quotient: {psd_quotient[max_contrast_index[i]]:.2f}\",  fontsize=10)\n",
    "\n",
    "    # Highlight the PPG band in the frequency spectrum\n",
    "    highlight_ppg_band = np.logical_and(x_freqs >= 0.75, x_freqs <= 1.25)\n",
    "    ax[i, 1].plot(x_freqs[highlight_ppg_band], psd[highlight_ppg_band], color='orange', label='PPG Band')\n",
    "\n",
    "ax[0, 1].legend()\n",
    "ax[i, 0].set_xlabel(\"Time / s\")\n",
    "ax[i, 1].set_xlabel(\"Frequency / Hz\")\n",
    "fig.suptitle(\"PPG Sources\", fontsize=16)\n",
    "plt.tight_layout()\n"
   ]
  },
  {
   "cell_type": "markdown",
   "id": "19",
   "metadata": {},
   "source": [
    "## Selection of Mayer Wave Source\n",
    "\n",
    "Mayer waves are expected to have a frequency around 0.1 Hz. Similar to the PPG sources above, we will use the contrast between the frequency band around 0.1 Hz and the surrounding bands to rank the sources and identify those that are most similar to the Mayer wave."
   ]
  },
  {
   "cell_type": "code",
   "execution_count": null,
   "id": "20",
   "metadata": {},
   "outputs": [],
   "source": [
    "# Choose the indices of frequencies that are in the Mayer Wave band (0.05 - 0.15 Hz)\n",
    "mw_band_ind = np.logical_and(freqs >= 0.05, freqs <= 0.15)\n",
    "\n",
    "# Choose the indices of frequencies that are in the band (0 - 0.05 Hz and 0.15 - 3.0 Hz)\n",
    "comp_band =  np.logical_and(freqs >= 0, freqs < 0.05) +  np.logical_and(freqs > 0.15 , freqs <= 3.0) \n",
    "\n",
    "# Compute the quotient of the Mayer Wave band and the contrast band\n",
    "psd_quotient = np.sum(psd_sources[:, mw_band_ind], axis = 1 ) / np.sum(psd_sources[:, comp_band], axis = 1 )\n",
    "\n",
    "# Choose the indices of the sources with the highest contrast\n",
    "max_contrast_index = np.argsort(psd_quotient, axis = 0 )[-5:]\n",
    "\n",
    "# Reverse the order of the indices to have the highest contrast first\n",
    "max_contrast_index = max_contrast_index[::-1]\n",
    "\n",
    "# Extract the sources with the highest contrast\n",
    "mw_sources = sources_zscore[max_contrast_index, :]"
   ]
  },
  {
   "cell_type": "code",
   "execution_count": null,
   "id": "21",
   "metadata": {},
   "outputs": [],
   "source": [
    "# Plot the sources with the highest contrast and their frequency spectrum\n",
    "fig, ax = plt.subplots(mw_sources.shape[0], 2, figsize=(12, 2 * mw_sources.shape[0]))\n",
    "\n",
    "for i in range(mw_sources.shape[0]):\n",
    "    # Plot the source for 60 seconds\n",
    "    samples = int(fnirs_data_samplingrate * 60 * 1)\n",
    "    ax[i, 0].plot( 1/fnirs_data_samplingrate * np.arange(0,samples), mw_sources[i, : samples], label=f\"Source {max_contrast_index[i]+1}\")\n",
    "    ax[i, 0].set_title(f\"Source {max_contrast_index[i] + 1}\", fontsize=10)\n",
    "\n",
    "    # Plot frequency spectrum of the source\n",
    "    psd = np.abs(np.fft.rfft(mw_sources[i, :])) ** 2\n",
    "    x_freqs = np.fft.rfftfreq(mw_sources.shape[1], 1 / fnirs_data_samplingrate)\n",
    "    ax[i, 1].plot(x_freqs, psd, label=\"Contrast Band\")\n",
    "    ax[i, 1].set_title(f\"Frequency Spectrum of Source {max_contrast_index[i]+1}, Contrast Quotient: {psd_quotient[max_contrast_index[i]]:.2f}\",  fontsize=10)\n",
    "\n",
    "    # Highlight the Mayer Wave band in the frequency spectrum\n",
    "    highlight_mw_band = np.logical_and(x_freqs >= 0.05, x_freqs <= 0.15) \n",
    "    ax[i, 1].plot(x_freqs[highlight_mw_band], psd[highlight_mw_band], color='orange', label='Mayer Wave Band')\n",
    "\n",
    "ax[0, 1].legend()\n",
    "ax[i, 0].set_xlabel(\"Time / s\")\n",
    "ax[i, 1].set_xlabel(\"Frequency / Hz\")\n",
    "fig.suptitle(\"Mayer Wave Sources\", fontsize=16)\n",
    "plt.tight_layout()"
   ]
  }
 ],
 "metadata": {
  "kernelspec": {
   "display_name": "cedalion_v25.1.0",
   "language": "python",
   "name": "python3"
  },
  "language_info": {
   "codemirror_mode": {
    "name": "ipython",
    "version": 3
   },
   "file_extension": ".py",
   "mimetype": "text/x-python",
   "name": "python",
   "nbconvert_exporter": "python",
   "pygments_lexer": "ipython3",
   "version": "3.11.13"
  }
 },
 "nbformat": 4,
 "nbformat_minor": 5
}
