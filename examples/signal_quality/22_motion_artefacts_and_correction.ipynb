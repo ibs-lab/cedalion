{
 "cells": [
  {
   "cell_type": "markdown",
   "metadata": {},
   "source": [
    "## Motion Artefact Detection and Correction (WIP / in validation)\n",
    "The same xarray-based masks can be used for indicating motion-artefacts. The example below shows how to checks channels for motion artefacts using standard thresholds from Homer2/3. The output is a mask that can be handed to motion correction algorithms"
   ]
  },
  {
   "cell_type": "code",
   "execution_count": null,
   "metadata": {},
   "outputs": [],
   "source": [
    "import cedalion\n",
    "import cedalion.nirs\n",
    "import cedalion.sigproc.quality as quality\n",
    "import cedalion.sigproc.motion_correct as motion_correct\n",
    "import cedalion.xrutils as xrutils\n",
    "import cedalion.datasets as datasets\n",
    "import xarray as xr\n",
    "import matplotlib.pyplot as p\n",
    "import cedalion.plots as plots\n",
    "from cedalion import units\n",
    "import numpy as np\n",
    "from matplotlib.colors import LinearSegmentedColormap"
   ]
  },
  {
   "cell_type": "code",
   "execution_count": null,
   "metadata": {},
   "outputs": [],
   "source": [
    "# get example finger tapping dataset\n",
    "\n",
    "rec = datasets.get_fingertapping()\n",
    "rec[\"od\"] = cedalion.nirs.int2od(rec[\"amp\"])\n",
    "\n",
    "# Plot some data for visual validation\n",
    "f,ax = p.subplots(1,1, figsize=(12,4))\n",
    "ax.plot( rec[\"amp\"].time, rec[\"amp\"].sel(channel=\"S3D3\", wavelength=\"850\"), \"r-\", label=\"850nm\")\n",
    "ax.plot( rec[\"amp\"].time, rec[\"amp\"].sel(channel=\"S3D3\", wavelength=\"760\"), \"r-\", label=\"760nm\")\n",
    "p.legend()\n",
    "ax.set_xlabel(\"time / s\")\n",
    "ax.set_ylabel(\"Signal intensity / a.u.\")\n",
    "\n",
    "display(rec[\"amp\"])"
   ]
  },
  {
   "cell_type": "markdown",
   "metadata": {},
   "source": [
    "### Detecting Motion Artifacts and generating the MA mask"
   ]
  },
  {
   "cell_type": "code",
   "execution_count": null,
   "metadata": {},
   "outputs": [],
   "source": [
    "# we use Optical Density data for motion artifact detection\n",
    "fNIRSdata = rec[\"od\"]\n",
    "\n",
    "# define parameters for motion artifact detection. We follow the method from Homer2/3: \"hmrR_MotionArtifactByChannel\" and \"hmrR_MotionArtifact\".\n",
    "t_motion = 0.5*units.s  # time window for motion artifact detection\n",
    "t_mask = 1.0*units.s    # time window for masking motion artifacts (+- t_mask s before/after detected motion artifact)\n",
    "stdev_thresh = 4.0      # threshold for standard deviation of the signal used to detect motion artifacts. Default is 50. We set it very low to find something in our good data for demonstration purposes.\n",
    "amp_thresh = 5.0        # threshold for amplitude of the signal used to detect motion artifacts. Default is 5.\n",
    "\n",
    "# to identify motion artifacts with these parameters we call the following function\n",
    "ma_mask = quality.id_motion(fNIRSdata, t_motion, t_mask, stdev_thresh, amp_thresh)\n",
    "# it hands us a boolean mask (xarray) of the input dimension, where False indicates a motion artifact at a given time point.\n",
    "\n",
    "# show the masks data\n",
    "ma_mask"
   ]
  },
  {
   "cell_type": "markdown",
   "metadata": {},
   "source": [
    "The output mask is quite detailed and still contains all original dimensions (e.g. single wavelengths) and allows us to combine it with a mask from another motion artifact detection method. This is the same approach as for the channel quality metrics above.\n",
    "\n",
    "Let us now plot the result for an example channel. Note, that for both wavelengths a different number of artifacts was identified, which can sometimes happen:"
   ]
  },
  {
   "cell_type": "code",
   "execution_count": null,
   "metadata": {},
   "outputs": [],
   "source": [
    "p.figure()\n",
    "p.plot(ma_mask.sel(time=slice(0,250)).time, ma_mask.sel(channel=\"S3D3\", wavelength=\"760\", time=slice(0,250)), \"b-\")\n",
    "p.plot(ma_mask.sel(time=slice(0,250)).time, ma_mask.sel(channel=\"S3D3\", wavelength=\"850\", time=slice(0,250)), \"r-\")\n",
    "p.xlabel(\"time / s\")\n",
    "p.ylabel(\"Motion artifact mask\")\n",
    "p.show() "
   ]
  },
  {
   "cell_type": "markdown",
   "metadata": {},
   "source": [
    "Our example dataset is very clean. So we artificially detected motion artifacts with a very low threshold. Plotting the mask and the data together (we have to rescale a bit to make both fit): "
   ]
  },
  {
   "cell_type": "code",
   "execution_count": null,
   "metadata": {},
   "outputs": [],
   "source": [
    "p.figure()\n",
    "p.plot(fNIRSdata.sel(time=slice(0,250)).time, fNIRSdata.sel(channel=\"S3D3\", wavelength=\"760\", time=slice(0,250)), \"r-\")\n",
    "p.plot(ma_mask.sel(time=slice(0,250)).time, ma_mask.sel(channel=\"S3D3\", wavelength=\"760\", time=slice(0,250))/10, \"k-\")\n",
    "p.xlabel(\"time / s\")\n",
    "p.ylabel(\"fNIRS Signal / Motion artifact mask\")\n",
    "p.show() "
   ]
  },
  {
   "cell_type": "markdown",
   "metadata": {},
   "source": [
    "### Refining the MA Mask\n",
    "At the latest when we want to correct motion artifacts, we usually do not need the level of granularity that the mask provides. For instance, we usually want to treat a detected motion artifact in either of both wavelengths or chromophores of one channel as a single artifact that gets flagged for both. We might also want to flag motion artifacts globally, i.e. mask time points for all channels even if only some of them show an artifact. This can easily be done by using the \"id_motion_refine\" function. The function also returns useful information about motion artifacts in each channel in \"ma_info\""
   ]
  },
  {
   "cell_type": "code",
   "execution_count": null,
   "metadata": {},
   "outputs": [],
   "source": [
    "# refine the motion artifact mask. This function collapses the mask along dimensions that are chosen by the \"operator\" argument.\n",
    "# Here we use \"by_channel\", which will yield a mask for each channel by collapsing the masks along either the wavelength or concentration dimension.\n",
    "ma_mask_refined, ma_info = quality.id_motion_refine(ma_mask, 'by_channel')\n",
    "\n",
    "# show the refined mask\n",
    "ma_mask_refined"
   ]
  },
  {
   "cell_type": "markdown",
   "metadata": {},
   "source": [
    "Now the mask does not have the \"wavelength\" or \"concentration\" dimension anymore, and the masks of these dimensions are combined:"
   ]
  },
  {
   "cell_type": "code",
   "execution_count": null,
   "metadata": {},
   "outputs": [],
   "source": [
    "# plot the figure\n",
    "\n",
    "p.figure()\n",
    "p.plot(fNIRSdata.sel(time=slice(0,250)).time, fNIRSdata.sel(channel=\"S3D3\", wavelength=\"760\", time=slice(0,250)), \"r-\")\n",
    "p.plot(ma_mask_refined.sel(time=slice(0,250)).time, ma_mask_refined.sel(channel=\"S3D3\", time=slice(0,250))/10, \"k-\")\n",
    "p.xlabel(\"time / s\")\n",
    "p.ylabel(\"fNIRS Signal / Refined Motion artifact mask\")\n",
    "p.show() \n",
    "\n",
    "# show the information about the motion artifacts: we get a pandas dataframe telling us \n",
    "# 1) for which channels artifacts were detected, \n",
    "# 2) what is the fraction of time points that were marked as artifacts and\n",
    "# 3) how many artifacts where detected \n",
    "ma_info"
   ]
  },
  {
   "cell_type": "markdown",
   "metadata": {},
   "source": [
    "Now we look at the \"all\" operator, which will collapse the mask across all dimensions except time, leading to a single motion artifact mask"
   ]
  },
  {
   "cell_type": "code",
   "execution_count": null,
   "metadata": {},
   "outputs": [],
   "source": [
    "# \"all\", yields a mask that flags an artifact at any given time if flagged for any channetransl, wavelength, chromophore, etc.\n",
    "ma_mask_refined, ma_info = quality.id_motion_refine(ma_mask, 'all')\n",
    "\n",
    "# show the refined mask\n",
    "ma_mask_refined"
   ]
  },
  {
   "cell_type": "code",
   "execution_count": null,
   "metadata": {},
   "outputs": [],
   "source": [
    "# plot the figure\n",
    "\n",
    "p.figure()\n",
    "p.plot(fNIRSdata.sel(time=slice(0,250)).time, fNIRSdata.sel(channel=\"S3D3\", wavelength=\"760\", time=slice(0,250)), \"r-\")\n",
    "p.plot(ma_mask_refined.sel(time=slice(0,250)).time, ma_mask_refined.sel(time=slice(0,250))/10, \"k-\")\n",
    "p.xlabel(\"time / s\")\n",
    "p.ylabel(\"fNIRS Signal / Refined Motion artifact mask\")\n",
    "p.show() \n",
    "\n",
    "# show the information about the motion artifacts: we get a pandas dataframe telling us \n",
    "# 1) that the mask is for all channels\n",
    "# 2) fraction of time points that were marked as artifacts for this mask across all channels\n",
    "# 3) how many artifacts where detected in total\n",
    "ma_info"
   ]
  },
  {
   "cell_type": "markdown",
   "metadata": {},
   "source": [
    "### Motion Correction\n",
    "#### SplineSG method: \n",
    "1. identifies baselineshifts in the data and uses spline interpolation to correct these shifts\n",
    "2. uses a Savitzky-Golay filter to remove spikes\n"
   ]
  },
  {
   "cell_type": "code",
   "execution_count": null,
   "metadata": {
    "tags": [
     "nbsphinx-thumbnail"
    ]
   },
   "outputs": [],
   "source": [
    "frame_size = 10 * units.s\n",
    "rec['od_splineSG'] = motion_correct.motion_correct_splineSG(rec['od'], frame_size=frame_size, p=1)\n",
    "\n",
    "f, ax = p.subplots(1,1, figsize=(12,4))\n",
    "ax.plot(rec['od'].time, rec['od'].sel(channel=\"S3D3\", wavelength=\"850\"), \"r-\", label=\"850nm raw\")\n",
    "ax.plot(rec['od'].time, rec['od_splineSG'].sel(channel=\"S3D3\", wavelength=\"850\"), \"g-\", label=\"850nm cleaned\")\n",
    "ax.set_xlim(0,500)\n",
    "ax.legend()"
   ]
  },
  {
   "cell_type": "markdown",
   "metadata": {},
   "source": [
    "#### PCA recurse method:\n",
    "\n",
    "- WIP"
   ]
  }
 ],
 "metadata": {
  "kernelspec": {
   "display_name": "cedalion_240924",
   "language": "python",
   "name": "python3"
  },
  "language_info": {
   "codemirror_mode": {
    "name": "ipython",
    "version": 3
   },
   "file_extension": ".py",
   "mimetype": "text/x-python",
   "name": "python",
   "nbconvert_exporter": "python",
   "pygments_lexer": "ipython3",
   "version": "3.11.8"
  }
 },
 "nbformat": 4,
 "nbformat_minor": 2
}
