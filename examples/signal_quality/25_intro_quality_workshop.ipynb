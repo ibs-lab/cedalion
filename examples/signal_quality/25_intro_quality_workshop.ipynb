{
 "cells": [
  {
   "cell_type": "markdown",
   "id": "0",
   "metadata": {},
   "source": [
    "# Data Loading and Preprocessing"
   ]
  },
  {
   "cell_type": "code",
   "execution_count": null,
   "id": "1",
   "metadata": {},
   "outputs": [],
   "source": [
    "# This cells setups the environment when executed in Google Colab.\n",
    "try:\n",
    "    import google.colab\n",
    "    !curl -s https://raw.githubusercontent.com/ibs-lab/cedalion/dev/scripts/colab_setup.py -o colab_setup.py\n",
    "    # Select branch with --branch \"branch name\" (default is \"dev\")\n",
    "    %run colab_setup.py\n",
    "except ImportError:\n",
    "    pass"
   ]
  },
  {
   "cell_type": "code",
   "execution_count": null,
   "id": "2",
   "metadata": {},
   "outputs": [],
   "source": [
    "import cedalion\n",
    "import cedalion.sigproc.quality as quality\n",
    "import cedalion.sigproc.motion_correct as motion_correct\n",
    "from cedalion.plots import segmented_cmap\n",
    "from cedalion import units\n",
    "import cedalion.xrutils as xrutils\n",
    "import cedalion.datasets\n",
    "\n",
    "from pathlib import Path\n",
    "import numpy as np\n",
    "import xarray as xr\n",
    "\n",
    "import matplotlib.pyplot as p"
   ]
  },
  {
   "cell_type": "markdown",
   "id": "3",
   "metadata": {},
   "source": [
    "## Load Data\n",
    "\n",
    "Example datasets are accessible through functions in `cedalion.datasets`. These take care of downloading, caching and updating the data files. Often they also already load the data.\n",
    "\n",
    "Here we load a single-subject DOT dataset with a motor task."
   ]
  },
  {
   "cell_type": "code",
   "execution_count": null,
   "id": "4",
   "metadata": {},
   "outputs": [],
   "source": [
    "rec = cedalion.datasets.get_fingertappingDOT()"
   ]
  },
  {
   "cell_type": "markdown",
   "id": "5",
   "metadata": {},
   "source": [
    "This recording object hold a single NIRS time series `'amp'`"
   ]
  },
  {
   "cell_type": "code",
   "execution_count": null,
   "id": "6",
   "metadata": {},
   "outputs": [],
   "source": [
    "rec.timeseries.keys()"
   ]
  },
  {
   "cell_type": "markdown",
   "id": "7",
   "metadata": {},
   "source": [
    "It contains several auxiliary time series from additional sensors:"
   ]
  },
  {
   "cell_type": "code",
   "execution_count": null,
   "id": "8",
   "metadata": {},
   "outputs": [],
   "source": [
    "rec.aux_ts.keys()"
   ]
  },
  {
   "cell_type": "markdown",
   "id": "9",
   "metadata": {},
   "source": [
    "## Inspecting the Datasets"
   ]
  },
  {
   "cell_type": "markdown",
   "id": "10",
   "metadata": {},
   "source": [
    "### Raw Amplitude Time Series"
   ]
  },
  {
   "cell_type": "code",
   "execution_count": null,
   "id": "11",
   "metadata": {},
   "outputs": [],
   "source": [
    "rec[\"amp\"]"
   ]
  },
  {
   "cell_type": "markdown",
   "id": "12",
   "metadata": {},
   "source": [
    "### Stimulus event information"
   ]
  },
  {
   "cell_type": "code",
   "execution_count": null,
   "id": "13",
   "metadata": {},
   "outputs": [],
   "source": [
    "rec.stim"
   ]
  },
  {
   "cell_type": "markdown",
   "id": "14",
   "metadata": {},
   "source": [
    "### Montage"
   ]
  },
  {
   "cell_type": "code",
   "execution_count": null,
   "id": "15",
   "metadata": {},
   "outputs": [],
   "source": [
    "rec.geo3d"
   ]
  },
  {
   "cell_type": "code",
   "execution_count": null,
   "id": "16",
   "metadata": {},
   "outputs": [],
   "source": [
    "cedalion.plots.plot_montage3D(rec[\"amp\"], rec.geo3d)"
   ]
  },
  {
   "cell_type": "markdown",
   "id": "17",
   "metadata": {},
   "source": [
    "### Channel Distances"
   ]
  },
  {
   "cell_type": "code",
   "execution_count": null,
   "id": "18",
   "metadata": {},
   "outputs": [],
   "source": [
    "distances = cedalion.nirs.channel_distances(rec[\"amp\"], rec.geo3d)\n",
    "\n",
    "p.figure(figsize=(8,4))\n",
    "p.hist(distances, 40)\n",
    "p.xlabel(\"channel distance / mm\")\n",
    "p.ylabel(\"channel count\");"
   ]
  },
  {
   "cell_type": "markdown",
   "id": "19",
   "metadata": {},
   "source": [
    "### Plot raw amplitude for one channel"
   ]
  },
  {
   "cell_type": "code",
   "execution_count": null,
   "id": "20",
   "metadata": {},
   "outputs": [],
   "source": [
    "# example time trace\n",
    "amp = rec[\"amp\"]\n",
    "ch = \"S12D25\"\n",
    "f, ax = p.subplots(1,1, figsize=(12,4))\n",
    "ax.set_prop_cycle(\"color\", cedalion.plots.COLORBREWER_Q8)\n",
    "ax.plot(amp.time, amp.sel(channel=ch, wavelength=760), label=\"amp. 760 nm\")\n",
    "ax.plot(amp.time, amp.sel(channel=ch, wavelength=850), label=\"amp. 850 nm\")\n",
    "cedalion.plots.plot_stim_markers(ax, rec.stim, y=1)\n",
    "ax.set_xlabel(\"time / s\")\n",
    "ax.set_ylabel(\"amplitude / V\")\n",
    "ax.set_xlim(0,150)\n",
    "ax.legend()\n",
    "ax.set_title(ch);"
   ]
  },
  {
   "cell_type": "markdown",
   "id": "21",
   "metadata": {},
   "source": [
    "## Quality Metrics : SCI & PSP\n",
    "\n",
    "- using functions from cedalion.sigproc.quality we calculate two metrics:\n",
    "  - scalp coupling index (SCI) \n",
    "  - peak spectral power (PSP)\n",
    "\n",
    "- note the different time axis: both metrics a calculated in sliding windows \n",
    "- both functions return a metric and boolean arrays (masks) if the metric is above threshold"
   ]
  },
  {
   "cell_type": "code",
   "execution_count": null,
   "id": "22",
   "metadata": {},
   "outputs": [],
   "source": [
    "sci_threshold = 0.75\n",
    "window_length = 10*units.s\n",
    "sci, sci_mask = quality.sci(rec[\"amp\"], window_length, sci_threshold)\n",
    "\n",
    "psp_threshold = 0.03\n",
    "psp, psp_mask = quality.psp(rec[\"amp\"], window_length, psp_threshold)\n",
    "\n",
    "\n",
    "display(sci.rename(\"sci\"))\n",
    "display(sci_mask.rename(\"sci_mask\"))\n"
   ]
  },
  {
   "cell_type": "code",
   "execution_count": null,
   "id": "23",
   "metadata": {},
   "outputs": [],
   "source": [
    "# define three colomaps: redish below a threshold, blueish above\n",
    "sci_norm, sci_cmap = segmented_cmap(\n",
    "    \"sci_cmap\",\n",
    "    0,\n",
    "    1.0,\n",
    "    [(0.0, \"#000000\"), (sci_threshold, \"#DC3220\"), (sci_threshold, \"#5D3A9B\"), (1.0, \"#0C7BDC\")],\n",
    "    bad=\"magenta\", over=\"magenta\", under=\"magenta\"\n",
    ")\n",
    "psp_norm, psp_cmap = segmented_cmap(\n",
    "    \"psp_cmap\",\n",
    "    0,\n",
    "    1.0,\n",
    "    [(0.0, \"#000000\"), (psp_threshold, \"#DC3220\"), (psp_threshold, \"#5D3A9B\"), (1.0, \"#0C7BDC\")],\n",
    "    bad=\"magenta\", over=\"magenta\", under=\"magenta\"\n",
    ")\n",
    "\n",
    "mask_norm, mask_cmap = segmented_cmap(\n",
    "    \"mask_cmap\",\n",
    "    0,\n",
    "    1.0,\n",
    "    [(0.0, \"#DC3220\"), (0.5, \"#DC3220\"), (0.5, \"#0C7BDC\"), (1.0, \"#0C7BDC\")],\n",
    ")\n",
    "\n",
    "def plot_sci(sci):\n",
    "    # plot the heatmap\n",
    "    f,ax = p.subplots(1,1,figsize=(17,10))\n",
    "\n",
    "    m = ax.pcolormesh(sci.time, np.arange(len(sci.channel)), sci, shading=\"nearest\", cmap=sci_cmap, norm=sci_norm)\n",
    "    cb = p.colorbar(m, ax=ax)\n",
    "    cb.set_label(\"SCI\")\n",
    "    ax.set_xlabel(\"time / s\")\n",
    "    p.tight_layout()\n",
    "    ax.yaxis.set_ticks(np.arange(len(sci.channel)))\n",
    "    ax.yaxis.set_ticklabels(sci.channel.values, fontsize=7)\n",
    "\n",
    "def plot_psp(psp):\n",
    "    f,ax = p.subplots(1,1,figsize=(17,10))\n",
    "\n",
    "    m = ax.pcolormesh(psp.time, np.arange(len(psp.channel)), psp, shading=\"nearest\", cmap=psp_cmap, norm=psp_norm)\n",
    "    cb = p.colorbar(m, ax=ax)\n",
    "    cb.set_label(\"PSP\")\n",
    "    ax.set_xlabel(\"time / s\")\n",
    "    p.tight_layout()\n",
    "    ax.yaxis.set_ticks(np.arange(len(psp.channel)))\n",
    "    ax.yaxis.set_ticklabels(psp.channel.values, fontsize=7)\n",
    "\n",
    "def plot_quality_mask(mask, cb_label : str, bool_labels = [\"TAINTED\", \"CLEAN\"]):\n",
    "    # plot the binary heatmap\n",
    "    f,ax = p.subplots(1,1,figsize=(17,10))\n",
    "\n",
    "    m = ax.pcolormesh(mask.time, np.arange(len(mask.channel)), mask, shading=\"nearest\", cmap=mask_cmap, norm=mask_norm)\n",
    "    cb = p.colorbar(m, ax=ax)\n",
    "    p.tight_layout()\n",
    "    ax.yaxis.set_ticks(np.arange(len(mask.channel)))\n",
    "    ax.yaxis.set_ticklabels(mask.channel.values, fontsize=7);\n",
    "    cb.set_label(cb_label)\n",
    "    ax.set_xlabel(\"time / s\");\n",
    "    cb.set_ticks([.25,.75])\n",
    "    cb.set_ticklabels(bool_labels)\n",
    "    ax.set_xlabel(\"time / s\");"
   ]
  },
  {
   "cell_type": "code",
   "execution_count": null,
   "id": "24",
   "metadata": {},
   "outputs": [],
   "source": [
    "plot_sci(sci)\n",
    "plot_quality_mask(sci > sci_threshold, f\"SCI > {sci_threshold}\")\n",
    "plot_psp(psp)\n",
    "plot_quality_mask(psp > psp_threshold, f\"PSP > {psp_threshold}\")"
   ]
  },
  {
   "cell_type": "markdown",
   "id": "25",
   "metadata": {},
   "source": [
    "## Combining Signal Quality Masks\n",
    "\n",
    "We want both SCI and PSP to be above their respective thresholds for a window to be considered clean. We can use the boolean and operation to combine both and then look at the percentage of time both metrics are above the thresholds."
   ]
  },
  {
   "cell_type": "code",
   "execution_count": null,
   "id": "26",
   "metadata": {},
   "outputs": [],
   "source": [
    "combined_mask = sci_mask & psp_mask\n",
    "\n",
    "display(combined_mask)\n",
    "plot_quality_mask(combined_mask, \"combined_mask\")"
   ]
  },
  {
   "cell_type": "markdown",
   "id": "27",
   "metadata": {},
   "source": [
    "- calculate percentage of clean time per channel"
   ]
  },
  {
   "cell_type": "code",
   "execution_count": null,
   "id": "28",
   "metadata": {},
   "outputs": [],
   "source": [
    "perc_time_clean = combined_mask.sum(dim=\"time\") / len(sci.time)\n",
    "\n",
    "display(perc_time_clean)\n",
    "\n",
    "f, ax = p.subplots(1,1,figsize=(6.5,6.5))\n",
    "\n",
    "cedalion.plots.scalp_plot(\n",
    "    rec[\"amp\"],\n",
    "    rec.geo3d,\n",
    "    perc_time_clean,\n",
    "    ax,\n",
    "    cmap=\"RdYlGn\",\n",
    "    vmin=0.80,\n",
    "    vmax=1,\n",
    "    title=None,\n",
    "    cb_label=\"Percentage of clean time\",\n",
    "    channel_lw=2,\n",
    "    optode_labels=True\n",
    ")\n",
    "f.tight_layout()"
   ]
  },
  {
   "cell_type": "markdown",
   "id": "29",
   "metadata": {},
   "source": [
    "## Correct Motion Artefacts\n",
    "- use `cedalion.nirs.int2d` to get optical densities\n",
    "- apply Temporal Derivative Distribution Repair (TDDR) first to correct jumps \n",
    "- then apply Wavelet motion artifact correction"
   ]
  },
  {
   "cell_type": "code",
   "execution_count": null,
   "id": "30",
   "metadata": {},
   "outputs": [],
   "source": [
    "rec[\"od\"] = cedalion.nirs.int2od(rec[\"amp\"])\n",
    "rec[\"od_tddr\"] = motion_correct.tddr(rec[\"od\"])\n",
    "rec[\"od_wavelet\"] = motion_correct.wavelet(rec[\"od_tddr\"])\n",
    "rec[\"amp_corrected\"] = cedalion.nirs.od2int(rec[\"od_wavelet\"], rec[\"amp\"].mean(\"time\"))\n"
   ]
  },
  {
   "cell_type": "code",
   "execution_count": null,
   "id": "31",
   "metadata": {},
   "outputs": [],
   "source": [
    "# recalculate sci & psp on cleaned data\n",
    "sci_corr, sci_corr_mask = quality.sci(rec[\"amp_corrected\"], window_length, sci_threshold)\n",
    "psp_corr, psp_corr_mask = quality.psp(rec[\"amp_corrected\"], window_length, psp_threshold)\n",
    "combined_corr_mask = sci_corr_mask & psp_corr_mask"
   ]
  },
  {
   "cell_type": "code",
   "execution_count": null,
   "id": "32",
   "metadata": {},
   "outputs": [],
   "source": [
    "plot_quality_mask(combined_mask, f\"combined mask\")\n",
    "plot_quality_mask(combined_corr_mask, f\"combined corrected mask\")"
   ]
  },
  {
   "cell_type": "markdown",
   "id": "33",
   "metadata": {},
   "source": [
    "## Compare masks before and after motion artifact correction"
   ]
  },
  {
   "cell_type": "code",
   "execution_count": null,
   "id": "34",
   "metadata": {},
   "outputs": [],
   "source": [
    "changed_windows = (combined_mask == quality.TAINTED) & (combined_corr_mask == quality.CLEAN)\n",
    "\n",
    "plot_quality_mask(changed_windows, \"mask of time windows cleaned by motion correction\", bool_labels=[\"unchanged\", \"improved\"])\n",
    "\n",
    "changed_windows = (combined_mask == quality.CLEAN) & (combined_corr_mask == quality.TAINTED)\n",
    "\n",
    "plot_quality_mask(changed_windows, \"mask of time windows corrupted by motion correction\", bool_labels=[\"unchanged\", \"worsened\"])"
   ]
  },
  {
   "cell_type": "markdown",
   "id": "35",
   "metadata": {},
   "source": [
    "recalculate percentage of clean time"
   ]
  },
  {
   "cell_type": "code",
   "execution_count": null,
   "id": "36",
   "metadata": {},
   "outputs": [],
   "source": [
    "perc_time_clean_corr = combined_corr_mask.sum(dim=\"time\") / len(sci.time)\n",
    "\n",
    "f, ax = p.subplots(1,1,figsize=(6.5,6.5))\n",
    "\n",
    "cedalion.plots.scalp_plot(\n",
    "    rec[\"amp\"],\n",
    "    rec.geo3d,\n",
    "    perc_time_clean_corr,\n",
    "    ax,\n",
    "    cmap=\"RdYlGn\",\n",
    "    vmin=0.80,\n",
    "    vmax=1,\n",
    "    title=None,\n",
    "    cb_label=\"Percentage of clean time\",\n",
    "    channel_lw=2,\n",
    "    optode_labels=True\n",
    ")\n",
    "f.tight_layout()"
   ]
  },
  {
   "cell_type": "markdown",
   "id": "37",
   "metadata": {},
   "source": [
    "## Global Variance of the Temporal Derivative (GVTD) for identifying global bad time segments"
   ]
  },
  {
   "cell_type": "code",
   "execution_count": null,
   "id": "38",
   "metadata": {},
   "outputs": [],
   "source": [
    "gvtd, gvtd_mask = quality.gvtd(rec[\"amp\"])\n",
    "gvtd_corr, gvtd_prr_mask = quality.gvtd(rec[\"amp_corrected\"])"
   ]
  },
  {
   "cell_type": "code",
   "execution_count": null,
   "id": "39",
   "metadata": {},
   "outputs": [],
   "source": [
    "# select the 10 segments with highest gvtd\n",
    "top10_bad_segments = sorted(\n",
    "    [seg for seg in quality.mask_to_segments(combined_mask.all(\"channel\"))],\n",
    "    key=lambda t: gvtd.sel(time=slice(t[0], t[1])).max(),\n",
    "    reverse=True,\n",
    ")[:10]\n"
   ]
  },
  {
   "cell_type": "markdown",
   "id": "40",
   "metadata": {},
   "source": [
    "Calculate GVTD for the original and corrected time series"
   ]
  },
  {
   "cell_type": "code",
   "execution_count": null,
   "id": "41",
   "metadata": {
    "tags": [
     "nbsphinx-thumbnail"
    ]
   },
   "outputs": [],
   "source": [
    "f,ax = p.subplots(4,1,figsize=(16,6), sharex=True)\n",
    "ax[0].plot(gvtd.time, gvtd)\n",
    "ax[1].plot(combined_mask.time, combined_mask.all(\"channel\"))\n",
    "ax[2].plot(gvtd_corr.time, gvtd_corr)\n",
    "ax[3].plot(combined_corr_mask.time, combined_corr_mask.all(\"channel\"))\n",
    "ax[0].set_ylim(0, 0.02)\n",
    "ax[2].set_ylim(0, 0.02)\n",
    "ax[0].set_ylabel(\"GVTD\")\n",
    "ax[2].set_ylabel(\"GVTD\")\n",
    "ax[1].set_ylabel(\"combined_mask\")\n",
    "ax[3].set_ylabel(\"combined_corr_mask\")\n",
    "ax[3].set_xlabel(\"time / s\")\n",
    "\n",
    "for i in range(4):\n",
    "    cedalion.plots.plot_segments(ax[i], top10_bad_segments)\n"
   ]
  },
  {
   "cell_type": "markdown",
   "id": "42",
   "metadata": {},
   "source": [
    "## Highlight motion correction in selected segments"
   ]
  },
  {
   "cell_type": "code",
   "execution_count": null,
   "id": "43",
   "metadata": {},
   "outputs": [],
   "source": [
    "example_channels = [\"S4D10\", \"S13D26\"]\n",
    "\n",
    "f, ax = p.subplots(5,4, figsize=(16,16), sharex=False)\n",
    "ax = ax.T.flatten()\n",
    "padding = 15\n",
    "i = 0\n",
    "for ch in example_channels:\n",
    "    for (start, end) in top10_bad_segments:\n",
    "        ax[i].set_prop_cycle(color=[\"#e41a1c\", \"#ff7f00\", \"#377eb8\", \"#984ea3\"])\n",
    "        for wl in rec[\"od\"].wavelength.values:\n",
    "            sel = rec[\"od\"].sel(time=slice(start-padding, end+padding), channel=ch, wavelength=wl)\n",
    "            ax[i].plot(sel.time, sel, label=f\"{wl:.0f} nm orig\")\n",
    "            sel = rec[\"od_wavelet\"].sel(time=slice(start-padding, end+padding), channel=ch, wavelength=wl)\n",
    "            ax[i].plot(sel.time, sel, label=f\"{wl:.0f} nm corr\")\n",
    "            ax[i].set_title(ch)\n",
    "        ax[i].legend(ncol=2, loc=\"upper center\")\n",
    "        ylim = ax[i].get_ylim()\n",
    "        ax[i].set_ylim(ylim[0], ylim[1]+0.25*(ylim[1]-ylim[0])) # make space for legend\n",
    "\n",
    "        i += 1\n",
    "\n",
    "p.tight_layout()\n"
   ]
  },
  {
   "cell_type": "markdown",
   "id": "44",
   "metadata": {},
   "source": [
    "## Final channel selection"
   ]
  },
  {
   "cell_type": "code",
   "execution_count": null,
   "id": "45",
   "metadata": {},
   "outputs": [],
   "source": [
    "perc_time_clean_corr[perc_time_clean_corr < 0.95]"
   ]
  },
  {
   "cell_type": "code",
   "execution_count": null,
   "id": "46",
   "metadata": {},
   "outputs": [],
   "source": [
    "signal_quality_selection_masks = [perc_time_clean >= .95]\n",
    "\n",
    "rec[\"amp_pruned\"], pruned_channels = quality.prune_ch(\n",
    "    rec[\"amp\"], signal_quality_selection_masks, \"all\"\n",
    ")\n",
    "display(rec[\"amp_pruned\"])\n",
    "display(pruned_channels)"
   ]
  }
 ],
 "metadata": {
  "kernelspec": {
   "display_name": "cedalion_v25.1.0",
   "language": "python",
   "name": "python3"
  },
  "language_info": {
   "codemirror_mode": {
    "name": "ipython",
    "version": 3
   },
   "file_extension": ".py",
   "mimetype": "text/x-python",
   "name": "python",
   "nbconvert_exporter": "python",
   "pygments_lexer": "ipython3",
   "version": "3.11.13"
  }
 },
 "nbformat": 4,
 "nbformat_minor": 5
}
