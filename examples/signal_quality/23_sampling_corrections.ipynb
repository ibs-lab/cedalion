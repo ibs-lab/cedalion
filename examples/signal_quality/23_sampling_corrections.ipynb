{
 "cells": [
  {
   "cell_type": "markdown",
   "metadata": {},
   "source": [
    "## Sampling Errors and other Hardware Corrections\n",
    "\n",
    "Sitting somewhere between I/O and preprocessing, the methods in the notebook are intended to correct flaws in the data caused on the acquisition hardware side."
   ]
  },
  {
   "cell_type": "markdown",
   "metadata": {},
   "source": [
    "### Nonpositive or NaN values in amplitude\n",
    "\n",
    "Sometimes, in noisy channels background light subtraction can lead to nonpositive amplitude values. Also, single samples of data can go missing and show as NaN values. We can simulate this by loading an example dataset and altering the data."
   ]
  },
  {
   "cell_type": "code",
   "execution_count": null,
   "metadata": {},
   "outputs": [],
   "source": [
    "# This cells setups the environment when executed in Google Colab.\n",
    "try:\n",
    "    import google.colab\n",
    "    !curl -s https://raw.githubusercontent.com/ibs-lab/cedalion/colab_setup/scripts/colab_setup.py -o colab_setup.py\n",
    "    # Select branch with --branch \"branch name\" (default is \"dev\")\n",
    "    %run colab_setup.py\n",
    "except ImportError:\n",
    "    pass"
   ]
  },
  {
   "cell_type": "code",
   "execution_count": null,
   "metadata": {},
   "outputs": [],
   "source": [
    "import matplotlib.pyplot as p\n",
    "import numpy as np\n",
    "import xarray as xr\n",
    "\n",
    "import cedalion\n",
    "import cedalion.dataclasses as cdc\n",
    "import cedalion.datasets\n",
    "import cedalion.sigproc.quality as quality\n",
    "import pint_xarray\n",
    "\n",
    "%matplotlib widget\n",
    "\n",
    "# Load the dataset\n",
    "rec = cedalion.datasets.get_fingertappingDOT()\n",
    "\n",
    "display(rec[\"amp\"])\n",
    "\n",
    "# Set values to simulate hardware issues\n",
    "unit = rec[\"amp\"].pint.units\n",
    "chwl = dict(channel=\"S1D1\", wavelength=\"850\")\n",
    "rec[\"amp\"].sel(**chwl).isel(time=slice(8,10))[:] = np.nan * unit\n",
    "rec[\"amp\"].sel(**chwl).isel(time=slice(19,20))[:] = 0 * unit\n",
    "\n",
    "# Plot first 30 sec\n",
    "f, ax = p.subplots(1, 1, figsize=(12, 4))\n",
    "ax.plot(rec[\"amp\"].time.isel(time=slice(0,30)), rec[\"amp\"].sel(**chwl).isel(time=slice(0,30)))\n",
    "ax.set_ylim(0.138, 0.148)\n",
    "ax.set_title(\"Amplitude\")\n",
    "ax.set_xlabel(\"Time (s)\")\n",
    "ax.set_ylabel(\"Amplitude (a.u.)\")\n",
    "p.show()"
   ]
  },
  {
   "cell_type": "markdown",
   "metadata": {},
   "source": [
    "The repair_amp function handles nonpositive amp values and optionally fills NaNs using the xarray interpolate_na method. It replaces nonpositive values with a small magnitude and runs a rolling median filter over the data. This method works best for isolated nonpositive values."
   ]
  },
  {
   "cell_type": "code",
   "execution_count": null,
   "metadata": {},
   "outputs": [],
   "source": [
    "# Correct sample issues from hardware\n",
    "rec[\"amp_proc\"] = quality.repair_amp(rec[\"amp\"], median_len=3, interp_nan=True)\n",
    "\n",
    "\n",
    "# Plot first 30 sec\n",
    "f, ax = p.subplots(1, 1, figsize=(12, 4))\n",
    "ax.plot(rec[\"amp_proc\"].time.isel(time=slice(0,30)), rec[\"amp_proc\"].sel(**chwl).isel(time=slice(0,30)))\n",
    "ax.set_title(\"Amplitude\")\n",
    "ax.set_xlabel(\"Time (s)\")\n",
    "ax.set_ylabel(\"Amplitude (a.u.)\")\n",
    "ax.set_ylim(0.138, 0.148)\n",
    "p.show()"
   ]
  }
 ],
 "metadata": {
  "kernelspec": {
   "display_name": "cedalion",
   "language": "python",
   "name": "python3"
  },
  "language_info": {
   "codemirror_mode": {
    "name": "ipython",
    "version": 3
   },
   "file_extension": ".py",
   "mimetype": "text/x-python",
   "name": "python",
   "nbconvert_exporter": "python",
   "pygments_lexer": "ipython3",
   "version": "3.11.9"
  }
 },
 "nbformat": 4,
 "nbformat_minor": 2
}
