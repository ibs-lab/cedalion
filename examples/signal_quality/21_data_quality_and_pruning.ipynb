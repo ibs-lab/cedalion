{
 "cells": [
  {
   "cell_type": "markdown",
   "metadata": {},
   "source": [
    "# Channel  Quality Assessment and Pruning\n",
    "\n",
    "This notebook sketches how to prune bad channels "
   ]
  },
  {
   "cell_type": "code",
   "execution_count": null,
   "metadata": {},
   "outputs": [],
   "source": [
    "import cedalion\n",
    "import cedalion.nirs\n",
    "import cedalion.sigproc.quality as quality\n",
    "import cedalion.xrutils as xrutils\n",
    "import cedalion.datasets as datasets\n",
    "import xarray as xr\n",
    "import matplotlib.pyplot as p\n",
    "import cedalion.plots as plots\n",
    "from cedalion import units\n",
    "import numpy as np\n",
    "from matplotlib.colors import LinearSegmentedColormap\n"
   ]
  },
  {
   "cell_type": "markdown",
   "metadata": {},
   "source": [
    "### Loading raw CW-NIRS data from a SNIRF file and converting it to OD and CONC\n",
    "\n",
    "This notebook uses a finger-tapping dataset in BIDS layout provided by Rob Luke that is automatically fetched. \n",
    "You can also find it [here](https://github.com/rob-luke/BIDS-NIRS-Tapping)."
   ]
  },
  {
   "cell_type": "code",
   "execution_count": null,
   "metadata": {},
   "outputs": [],
   "source": [
    "# get example finger tapping dataset\n",
    "\n",
    "rec = datasets.get_fingertapping()\n",
    "rec[\"od\"] = cedalion.nirs.int2od(rec[\"amp\"])\n",
    "\n",
    "# Plot some data for visual validation\n",
    "f,ax = p.subplots(1,1, figsize=(12,4))\n",
    "ax.plot( rec[\"amp\"].time, rec[\"amp\"].sel(channel=\"S1D1\", wavelength=\"850\"), \"r-\", label=\"850nm\")\n",
    "ax.plot( rec[\"amp\"].time, rec[\"amp\"].sel(channel=\"S1D1\", wavelength=\"760\"), \"r-\", label=\"760nm\")\n",
    "p.legend()\n",
    "ax.set_xlabel(\"time / s\")\n",
    "ax.set_ylabel(\"Signal intensity / a.u.\")\n",
    "\n",
    "display(rec[\"amp\"])"
   ]
  },
  {
   "cell_type": "markdown",
   "metadata": {},
   "source": [
    "## Calculating Signal Quality Metrics and applying Masks\n",
    "\n",
    "To assess channel quality metrics such as SNR, channel distances, average amplitudes, sci, and others, we use small helper functions. \n",
    "As input, the quality functions should also expect thresholds for these metrics, so they can feed back both the calculated quality metrics as well as a mask. The masks can then be combined and applied - e.g. to prune channels with low SNR.\n",
    "The input and output arguments are based on xarray time series, quality parameters / instructions for thresholding. \n",
    "The returned mask is a boolean array in the shape and size of the input time series. It indicates where the threshold for our quality metric was passed (\"True\") and is False otherwise.\n",
    "Masks can be combined with other masks, for instance to apply several metrics to assess or prune channels. At any point in time, the mask can be applied using the \"apply_mask()\" function available from cedalion's the xrutils package. \n",
    "\n",
    "If you are a user who is mainly interested in high-level application, you can skip to the Section \"***Channel Pruning using Quality Metrics and the Pruning Function***\" below. The \"prune_ch()\" function provides a higher abstraction layer to simply prune your data, using the same metrics and functions that are demonstrated below. \n",
    " "
   ]
  },
  {
   "cell_type": "markdown",
   "metadata": {},
   "source": [
    "### Channel Quality Metrics: SNR"
   ]
  },
  {
   "cell_type": "code",
   "execution_count": null,
   "metadata": {},
   "outputs": [],
   "source": [
    "# Here we assess channel quality by SNR\n",
    "snr_thresh = 16 # the SNR (std/mean) of a channel. Set high here for demonstration purposes\n",
    "\n",
    "# SNR thresholding using the \"snr\" function of the quality subpackage\n",
    "snr, snr_mask = quality.snr(rec[\"amp\"], snr_thresh)\n",
    "\n",
    "# apply mask function. In this example, we want all signals with an SNR below the threshold to be replaced with \"nan\". \n",
    "# We do not want to collapse / combine any dimension of the mask (last argument: \"none\")\n",
    "data_masked_snr_1, masked_elements_1 = xrutils.apply_mask(rec[\"amp\"], snr_mask, \"nan\", \"none\")\n",
    "\n",
    "# alternatively, we can \"drop\" all channels with an SNR below the threshold. Since the SNR of both wavelength might differ\n",
    "# (pass the threshold for one wavelength, but not for the other), we collapse to the \"channel\" dimension.\n",
    "data_masked_snr_2, masked_elements_2 = xrutils.apply_mask(rec[\"amp\"], snr_mask, \"drop\", \"channel\")\n",
    "\n",
    "# show some results\n",
    "print(f\"channels that were masked according to the SNR threshold: {masked_elements_2}\")\n",
    "\n",
    "# dropped:\n",
    "data_masked_snr_2"
   ]
  },
  {
   "cell_type": "code",
   "execution_count": null,
   "metadata": {},
   "outputs": [],
   "source": [
    "# we can plot the values per channel in a 2D montage\n",
    "wl_idx = 0\n",
    "# plots._simple_scalp_plot(rec['amp'], rec.geo3d, snr.isel(wavelength=wl_idx), ax, cmap=p.cm.jet, vmin=0, vmax=25, title='SNR ' + str(rec.wavelengths[wl_idx]))\n",
    "# plots.scalp_plot(rec, snr.isel(wavelength=wl_idx).values, ax, colormap=p.cm.jet, vmin=0, vmax=25, title='SNR ' + str(rec.wavelengths[wl_idx]))\n",
    "\n",
    "f, ax = p.subplots(1, 2, figsize=(10, 4))\n",
    "for i, wl in enumerate(rec[\"amp\"].wavelength.values):\n",
    "    plots.scalp_plot(\n",
    "        rec[\"amp\"],\n",
    "        rec.geo3d,\n",
    "        snr.sel(wavelength=wl),\n",
    "        ax[i],\n",
    "        cmap=\"RdYlGn\",\n",
    "        vmin=0,\n",
    "        vmax=50,\n",
    "        title=f\"{wl} nm\",\n",
    "        cb_label=\"SNR\",\n",
    "        channel_lw=2\n",
    "    )\n",
    "f.tight_layout()"
   ]
  },
  {
   "cell_type": "markdown",
   "metadata": {},
   "source": [
    "### Channel Quality Metrics: Scalp Coupling Index"
   ]
  },
  {
   "cell_type": "code",
   "execution_count": null,
   "metadata": {},
   "outputs": [],
   "source": [
    "# Here we can assess the scalp coupling index (SCI) of the channels\n",
    "sci_threshold = 0.75\n",
    "window_length = 5*units.s\n",
    "sci, sci_mask = quality.sci(rec[\"amp\"], window_length, sci_threshold)"
   ]
  },
  {
   "cell_type": "code",
   "execution_count": null,
   "metadata": {},
   "outputs": [],
   "source": [
    "# we can plot a heat map to visualize the SCI across all time windows and channels\n",
    "colors = [\"black\", \"#DC3220\", \"#5D3A9B\", \"#0C7BDC\"]\n",
    "nodes = [0.0, 0.75, 0.751, 1.0]\n",
    "sci_cmap = LinearSegmentedColormap.from_list(\"sci_cmap\", list(zip(nodes,colors)))\n",
    "sci_binary_cmap = LinearSegmentedColormap.from_list(\"sci_binary_cmap\", list(zip([0,0.5,0.5,1],[\"#DC3220\",\"#DC3220\",\"#0C7BDC\",\"#0C7BDC\"])))\n",
    "\n",
    "# plot the heatmap\n",
    "f,ax = p.subplots(1,1,figsize=(17,8))\n",
    "\n",
    "m = ax.pcolormesh(sci.time, np.arange(len(sci.channel)), sci, shading=\"nearest\", cmap=sci_cmap)\n",
    "cb = p.colorbar(m, ax=ax)\n",
    "cb.set_label(\"SCI\")\n",
    "ax.set_xlabel(\"time / s\")\n",
    "p.tight_layout()\n",
    "ax.yaxis.set_ticks(np.arange(len(sci.channel)))\n",
    "ax.yaxis.set_ticklabels(sci.channel.values);\n",
    "\n",
    "# plot the binary heatmap\n",
    "f,ax = p.subplots(1,1,figsize=(17,8))\n",
    "\n",
    "m = ax.pcolormesh(sci.time, np.arange(len(sci.channel)), sci>0.75, shading=\"nearest\", cmap=sci_binary_cmap)\n",
    "cb = p.colorbar(m, ax=ax)\n",
    "p.tight_layout()\n",
    "ax.yaxis.set_ticks(np.arange(len(sci.channel)))\n",
    "ax.yaxis.set_ticklabels(sci.channel.values);\n",
    "cb.set_label(\"SCI > 0.75\")\n",
    "ax.set_xlabel(\"time / s\");\n"
   ]
  },
  {
   "cell_type": "code",
   "execution_count": null,
   "metadata": {},
   "outputs": [],
   "source": [
    "ch = \"S3D3\"\n",
    "t1,t2 = 100, 1200\n",
    "f,ax = p.subplots(2,1, figsize=(17,5), sharex=True)\n",
    "ax[0].plot(rec[\"amp\"].time, rec[\"amp\"].sel(channel=ch, wavelength=760), \"r-\")\n",
    "ax[0].set_ylabel(\"HbO\", color=\"r\")\n",
    "ax02 = ax[0].twinx()\n",
    "ax02.plot(rec[\"amp\"].time, rec[\"amp\"].sel(channel=ch, wavelength=850), \"b-\")\n",
    "ax02.set_ylabel(\"HbR\", color=\"b\")\n",
    "ax[1].plot(sci.time, sci.sel(channel=ch), \"m.-\")\n",
    "ax[1].set_ylabel(\"sci\", color=\"m\")\n",
    "ax12 = ax[1].twinx()\n",
    "ax12.plot(sci_mask.time, sci_mask.sel(channel=ch), \"g-\")\n",
    "ax12.set_ylabel(\"sci_mask\", color=\"g\")\n",
    "ax[1].set_xlim(t1, t2)\n",
    "ax[1].axhline(0.75, c=\"k\", ls=\":\")\n",
    "for i in sci.time.values:\n",
    "    if i < t1 or i > t2:\n",
    "        continue\n",
    "    ax[0].axvline(i, c=\"k\", alpha=.2)\n",
    "    ax[1].axvline(i, c=\"k\", alpha=.2)"
   ]
  },
  {
   "cell_type": "markdown",
   "metadata": {},
   "source": [
    "### Channel Quality Metrics: Peak Spectral Power"
   ]
  },
  {
   "cell_type": "code",
   "execution_count": null,
   "metadata": {},
   "outputs": [],
   "source": [
    "# We can also look at the peak spectral power which takes the peak power of the cross-correlation signal between the cardiac band of the two wavelengths\n",
    "psp_threshold = 0.1\n",
    "psp, psp_mask = quality.psp(rec[\"amp\"], window_length, psp_threshold)"
   ]
  },
  {
   "cell_type": "code",
   "execution_count": null,
   "metadata": {},
   "outputs": [],
   "source": [
    "# We can look at similar heatmaps across time and channels\n",
    "# plot the heatmap\n",
    "colors = [\"black\", \"#DC3220\", \"#5D3A9B\", \"#0C7BDC\"]\n",
    "nodes = [0.0, 0.45, 0.46, 1.0]\n",
    "psp_cmap = LinearSegmentedColormap.from_list(\"psp_cmap\", list(zip(nodes,colors)))\n",
    "psp_binary_cmap = LinearSegmentedColormap.from_list(\"psp_binary_cmap\", list(zip([0,0.5,0.5,1],[\"#DC3220\",\"#DC3220\",\"#0C7BDC\",\"#0C7BDC\"])))\n",
    "\n",
    "f,ax = p.subplots(1,1,figsize=(17,8))\n",
    "\n",
    "m = ax.pcolormesh(psp.time, np.arange(len(psp.channel)), psp, shading=\"nearest\", cmap=psp_cmap)\n",
    "cb = p.colorbar(m, ax=ax)\n",
    "cb.set_label(\"PSP\")\n",
    "ax.set_xlabel(\"time / s\")\n",
    "p.tight_layout()\n",
    "ax.yaxis.set_ticks(np.arange(len(psp.channel)))\n",
    "ax.yaxis.set_ticklabels(psp.channel.values);\n",
    "\n",
    "# plot the binary heatmap\n",
    "f,ax = p.subplots(1,1,figsize=(17,8))\n",
    "\n",
    "m = ax.pcolormesh(psp.time, np.arange(len(psp.channel)), psp>psp_threshold, shading=\"nearest\", cmap=psp_binary_cmap)\n",
    "cb = p.colorbar(m, ax=ax)\n",
    "p.tight_layout()\n",
    "ax.yaxis.set_ticks(np.arange(len(psp.channel)))\n",
    "ax.yaxis.set_ticklabels(psp.channel.values);\n",
    "cb.set_label(\"PSP > 0.1\")\n",
    "ax.set_xlabel(\"time / s\");"
   ]
  },
  {
   "cell_type": "markdown",
   "metadata": {},
   "source": [
    "### Combining SCI and PSP\n",
    "We want both SCI and PSP to be above their respective thresholds for a window to be considered clean. We can then look at the percentage of time both metrics are above the thresholds."
   ]
  },
  {
   "cell_type": "code",
   "execution_count": null,
   "metadata": {},
   "outputs": [],
   "source": [
    "sci_x_psp_mask = sci_mask & psp_mask\n",
    "perc_time_clean = sci_x_psp_mask.sum(dim=\"time\") / len(sci.time)\n",
    "\n",
    "# plot the percentage of clean time per channel\n",
    "f,ax = p.subplots(1,1,figsize=(8,8))\n",
    "# plots.scalp_plot(rec, perc_time_clean, ax, colormap=p.cm.jet, vmin=0, vmax=1, title='Percentage of clean time')\n",
    "# plots._simple_scalp_plot(rec['amp'], rec.geo3d, perc_time_clean, ax, cmap=p.cm.jet, vmin=0, vmax=1, title='Percentage of clean time')\n",
    "\n",
    "plots.scalp_plot(\n",
    "    rec[\"amp\"],\n",
    "    rec.geo3d,\n",
    "    perc_time_clean,\n",
    "    ax,\n",
    "    cmap=\"RdYlGn\",\n",
    "    vmin=0,\n",
    "    vmax=1,\n",
    "    title=None,\n",
    "    cb_label=\"Percentage of clean time\",\n",
    "    channel_lw=2\n",
    ")\n",
    "f.tight_layout()\n",
    "\n",
    "# we can also plot this as a binary heatmap\n",
    "f,ax = p.subplots(1,1,figsize=(17,8))\n",
    "\n",
    "m = ax.pcolormesh(sci_x_psp_mask.time, np.arange(len(sci_x_psp_mask.channel)), sci_x_psp_mask, shading=\"nearest\", cmap=sci_binary_cmap)\n",
    "cb = p.colorbar(m, ax=ax)\n",
    "p.tight_layout()\n",
    "ax.yaxis.set_ticks(np.arange(len(sci_x_psp_mask.channel)))\n",
    "ax.yaxis.set_ticklabels(sci_x_psp_mask.channel.values);\n",
    "cb.set_label(\"PSP > 0.1 and SCI > 0.75\")\n",
    "ax.set_xlabel(\"time / s\");"
   ]
  },
  {
   "cell_type": "markdown",
   "metadata": {},
   "source": [
    "### Channel Quality Metrics: Channel Distance"
   ]
  },
  {
   "cell_type": "code",
   "execution_count": null,
   "metadata": {},
   "outputs": [],
   "source": [
    "# Here we assess channel distances. We might want to exclude very short or very long channels\n",
    "sd_threshs = [1, 4.5]*units.cm # defines the lower and upper bounds for the source-detector separation that we would like to keep\n",
    "\n",
    "# Source Detector Separation thresholding\n",
    "ch_dist, sd_mask = quality.sd_dist(rec[\"amp\"], rec.geo3d, sd_threshs)\n",
    "# print the channel distances\n",
    "print(f\"channel distances are: {ch_dist}\")\n",
    "\n",
    "# apply mask function. In this example, we want to \"drop\" all channels that do not fall inside sd_threshs \n",
    "# i.e. drop channels shorter than 1cm and longer than 4.5cm. We want to collapse along the \"channel\" dimension.\n",
    "data_masked_sd, masked_elements = xrutils.apply_mask(rec[\"amp\"], sd_mask, \"drop\", \"channel\")\n",
    "\n",
    "# display the resultings\n",
    "print(f\"channels that were masked according to the SD Distance thresholds: {masked_elements}\")\n",
    "data_masked_sd"
   ]
  },
  {
   "cell_type": "markdown",
   "metadata": {},
   "source": [
    "### Channel Quality Metrics: Mean Amplitudes"
   ]
  },
  {
   "cell_type": "code",
   "execution_count": null,
   "metadata": {},
   "outputs": [],
   "source": [
    "# Here we assess average channel amplitudes. We might want to exclude very small or large signals\n",
    "amp_threshs = [0.1, 3]*units.volt # define whether a channel's amplitude is within a certain range\n",
    "\n",
    "# Amplitude thresholding\n",
    "mean_amp, amp_mask = quality.mean_amp(rec[\"amp\"], amp_threshs)\n",
    "\n",
    "# apply mask function. In this example, we want drop all channels that do not fall inside the amplitude thresholds. \n",
    "# We collapse to the \"channel\" dimension.\n",
    "data_masked_amp, masked_elements = xrutils.apply_mask(rec[\"amp\"], amp_mask, \"drop\", \"channel\")\n",
    "\n",
    "# display the results\n",
    "print(f\"channels that were masked according to the amplitude threshold: {masked_elements}\")\n",
    "data_masked_amp\n"
   ]
  },
  {
   "cell_type": "markdown",
   "metadata": {},
   "source": [
    "### Channel Pruning using Quality Metrics and the Pruning Function\n",
    "\n",
    "To prune channels according to quality criteria, we do not have to manually go through the steps above. Instead, we can create quality masks for the metrics that we are interested in and hand them to a dedicated channel pruning function. The prune function expects a list of quality masks alongside a logical operator that defines how these masks should be combined."
   ]
  },
  {
   "cell_type": "code",
   "execution_count": null,
   "metadata": {},
   "outputs": [],
   "source": [
    "# as above we use three metrics and define thresholds accordingly\n",
    "snr_thresh = 16 # the SNR (std/mean) of a channel. \n",
    "sd_threshs = [1, 4.5]*units.cm # defines the lower and upper bounds for the source-detector separation that we would like to keep\n",
    "amp_threshs = [0.1, 3]*units.volt # define whether a channel's amplitude is within a certain range\n",
    "\n",
    "# then we calculate the masks for each metric: SNR, SD distance and mean amplitude\n",
    "_, snr_mask = quality.snr(rec[\"amp\"], snr_thresh)\n",
    "_, sd_mask = quality.sd_dist(rec[\"amp\"], rec.geo3d, sd_threshs)\n",
    "_, amp_mask = quality.mean_amp(rec[\"amp\"], amp_threshs)\n",
    "# you can also include other masks, e.g. the SCI mask\n",
    "\n",
    "# put all masks in a list\n",
    "masks = [snr_mask, sd_mask, amp_mask]\n",
    "\n",
    "# prune channels using the masks and the operator \"all\", which will keep only channels that pass all three metrics\n",
    "amp_pruned, drop_list = quality.prune_ch(rec[\"amp\"], masks, \"all\")\n",
    "\n",
    "# print list of dropped channels\n",
    "print(f\"List of pruned channels: {drop_list}\")\n",
    "# display the new data xarray\n",
    "amp_pruned"
   ]
  },
  {
   "cell_type": "markdown",
   "metadata": {},
   "source": [
    "### Timeseries Quality Metric: Global Variance of the Temporal Derivative"
   ]
  },
  {
   "cell_type": "code",
   "execution_count": null,
   "metadata": {
    "tags": [
     "nbsphinx-thumbnail"
    ]
   },
   "outputs": [],
   "source": [
    "# we can plot the timeseries of the GVTD to evaluate motion in the data\n",
    "gvtd = quality.gvtd(rec[\"amp\"])\n",
    "f, ax = p.subplots(1,1, figsize=(12,4))\n",
    "ax.plot(gvtd.time, gvtd)\n",
    "ax.set_xlabel(\"time / s\")\n",
    "ax.set_title(\"Global Variance of Temporal Derivative\")\n",
    "ax.set_xlim(0, 500)"
   ]
  }
 ],
 "metadata": {
  "kernelspec": {
   "display_name": "Python 3 (ipykernel)",
   "language": "python",
   "name": "python3"
  },
  "language_info": {
   "codemirror_mode": {
    "name": "ipython",
    "version": 3
   },
   "file_extension": ".py",
   "mimetype": "text/x-python",
   "name": "python",
   "nbconvert_exporter": "python",
   "pygments_lexer": "ipython3",
   "version": "3.11.9"
  }
 },
 "nbformat": 4,
 "nbformat_minor": 2
}
