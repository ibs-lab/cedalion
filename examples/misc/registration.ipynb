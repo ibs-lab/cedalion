{
 "cells": [
  {
   "cell_type": "markdown",
   "id": "0",
   "metadata": {},
   "source": [
    "# Registration"
   ]
  },
  {
   "cell_type": "code",
   "execution_count": null,
   "id": "1",
   "metadata": {},
   "outputs": [],
   "source": [
    "import xarray as xr\n",
    "import numpy as np\n",
    "\n",
    "import cedalion\n",
    "import cedalion.io\n",
    "import cedalion.dataclasses as cdc\n",
    "import cedalion.geometry.registration\n",
    "import cedalion.geometry.segmentation\n",
    "import cedalion.plots\n",
    "\n",
    "xr.set_options(display_expand_data=False);"
   ]
  },
  {
   "cell_type": "markdown",
   "id": "2",
   "metadata": {},
   "source": [
    "## Read optode locations from snirf file\n",
    "\n",
    "Optode locations are returned as a 2D xr.DataArray. Different labeled points are found along the first dimension 'label'. The second dimensions contains the 3D coordinates of each point. There is an abundance of coordinate system (CRS) definitions and in this example alone we have to distinguish between these different coordinate system:\n",
    "- the segmented volume is in voxel space, denoted 'ijk', unitless\n",
    "- the coordinates with physical units in scanner or atlas space\n",
    "- the coordinate system of the digitization device\n",
    "\n",
    "To keep track we use the name of the second dimension to store an identifier for CRS."
   ]
  },
  {
   "cell_type": "code",
   "execution_count": null,
   "id": "3",
   "metadata": {},
   "outputs": [],
   "source": [
    "elements = cedalion.io.read_snirf(\"../../data/BIDS-NIRS-Tapping/sub-01/nirs/sub-01_task-tapping_nirs.snirf\")\n",
    "geo3d_meas = elements[0].geo3d\n",
    "geo3d_meas = geo3d_meas.points.rename({\"NASION\" : \"Nz\"})\n",
    "geo3d_meas = geo3d_meas.rename({\"pos\" : \"digitized\"})\n",
    "display(geo3d_meas)"
   ]
  },
  {
   "cell_type": "markdown",
   "id": "4",
   "metadata": {},
   "source": [
    "## Read segmented MRI scans\n",
    "\n",
    "The image cubes are returned as a stacked xr.DataArray. "
   ]
  },
  {
   "cell_type": "code",
   "execution_count": null,
   "id": "5",
   "metadata": {},
   "outputs": [],
   "source": [
    "DATADIR = \"/home/eike/Projekte/ibslab/30_dev/AtlasViewerPy/demo_data\""
   ]
  },
  {
   "cell_type": "code",
   "execution_count": null,
   "id": "6",
   "metadata": {},
   "outputs": [],
   "source": [
    "masks, t_ijk2ras = cedalion.io.read_segmentation_masks(DATADIR+\"/anatomy_data\")\n",
    "masks"
   ]
  },
  {
   "cell_type": "markdown",
   "id": "7",
   "metadata": {},
   "source": [
    "Additionaly, a transformation matrix is returned ton convert from voxel space (ijk) to scanner space as it is defined in the niftii files. Since the segmentation masks were derived from a MRI scan, nibabel denotes the coordinate system with the affine code `'aligned'`.\n",
    "\n",
    "The transformation matrices are also xr.DataArrays that contain both CRS names as dimension names. When applying this transformation to coordinates in voxel space (`'ijk'`) the matrix multiplication will contract the `'ijk'` dimension and the coordinates will have their coordinate dimension named `'aligned'`. The units of the transformation matrix will take care of necessary unit conversions. Here dimensionless in voxel space to millimeter in scanner space."
   ]
  },
  {
   "cell_type": "code",
   "execution_count": null,
   "id": "8",
   "metadata": {},
   "outputs": [],
   "source": [
    "t_ijk2ras # transform from voxel space (ijk) to scanner space (x=Right y=Anterior z=Superior)"
   ]
  },
  {
   "cell_type": "markdown",
   "id": "9",
   "metadata": {},
   "source": [
    "## Derive surfaces from segmentations"
   ]
  },
  {
   "cell_type": "code",
   "execution_count": null,
   "id": "10",
   "metadata": {},
   "outputs": [],
   "source": [
    "pial_surface = cedalion.geometry.segmentation.surface_from_segmentation(masks, [\"wm\", \"gm\"])\n",
    "pial_surface = pial_surface.apply_transform(t_ijk2ras)\n",
    "\n",
    "scalp_surface = cedalion.geometry.segmentation.surface_from_segmentation(\n",
    "    masks, \n",
    "    masks.segmentation_type.values, # select all\n",
    "    fill_holes_in_mask=True)\n",
    "scalp_surface = scalp_surface.apply_transform(t_ijk2ras)\n",
    "display(scalp_surface)"
   ]
  },
  {
   "cell_type": "markdown",
   "id": "11",
   "metadata": {},
   "source": [
    "## Load landmarks of the loaded scan.\n",
    "\n",
    "These were handpicked are define a reference to which the otopde positions should be registered. "
   ]
  },
  {
   "cell_type": "code",
   "execution_count": null,
   "id": "12",
   "metadata": {},
   "outputs": [],
   "source": [
    "geo3d_volume = cedalion.io.read_mrk_json(DATADIR+\"/anatomy_data/landmarks.mrk.json\", crs=\"aligned\")\n",
    "geo3d_volume"
   ]
  },
  {
   "cell_type": "markdown",
   "id": "13",
   "metadata": {},
   "source": [
    "## Simple registration algorithm\n",
    "Find an affine transformation that translates and rotates the optode coordinates to match the landmarks.\n",
    "Scaling is allowed only to transform units."
   ]
  },
  {
   "cell_type": "code",
   "execution_count": null,
   "id": "14",
   "metadata": {},
   "outputs": [],
   "source": [
    "trafo = cedalion.geometry.registration.register_trans_rot(geo3d_volume, geo3d_meas)\n",
    "display(trafo)\n",
    "cedalion.plots.plot3d(None, scalp_surface.mesh, geo3d_meas.points.apply_transform(trafo), None) "
   ]
  },
  {
   "cell_type": "markdown",
   "id": "15",
   "metadata": {},
   "source": [
    "## Snap points to closest vertex on the scalp surface"
   ]
  },
  {
   "cell_type": "code",
   "execution_count": null,
   "id": "16",
   "metadata": {},
   "outputs": [],
   "source": [
    "snapped = scalp_surface.snap(geo3d_meas.points.apply_transform(trafo))\n",
    "cedalion.plots.plot3d(None, scalp_surface.mesh, snapped, None) "
   ]
  },
  {
   "cell_type": "markdown",
   "id": "17",
   "metadata": {},
   "source": [
    "## Compare common landmarks in both point sets"
   ]
  },
  {
   "cell_type": "code",
   "execution_count": null,
   "id": "18",
   "metadata": {},
   "outputs": [],
   "source": [
    "common = snapped.points.common_labels(geo3d_volume)\n",
    "display(geo3d_volume.sel(label=common))\n",
    "display(snapped.sel(label=common))"
   ]
  },
  {
   "cell_type": "markdown",
   "id": "19",
   "metadata": {},
   "source": [
    "## Transform registered optode locations back to voxel space"
   ]
  },
  {
   "cell_type": "code",
   "execution_count": null,
   "id": "20",
   "metadata": {},
   "outputs": [],
   "source": [
    "t_ras2ijk = cedalion.xrutils.pinv(t_ijk2ras)\n",
    "snapped.points.apply_transform(t_ras2ijk).round()"
   ]
  },
  {
   "cell_type": "markdown",
   "id": "21",
   "metadata": {},
   "source": [
    "## ICP registration [WIP]"
   ]
  },
  {
   "cell_type": "code",
   "execution_count": null,
   "id": "22",
   "metadata": {},
   "outputs": [],
   "source": [
    "losses, trafos = cedalion.geometry.registration.register_icp(scalp_surface, geo3d_volume, elements[0].geo3d)\n",
    "\n",
    "p.plot(losses)"
   ]
  },
  {
   "cell_type": "code",
   "execution_count": null,
   "id": "23",
   "metadata": {},
   "outputs": [],
   "source": [
    "reg2 = elements[0].geo3d.points.apply_transform(trafos[-1])\n",
    "cedalion.plots.plot3d(None, scalp_surface, reg2, None)\n",
    "display(trafos[-1])"
   ]
  },
  {
   "cell_type": "code",
   "execution_count": null,
   "id": "24",
   "metadata": {},
   "outputs": [],
   "source": [
    "simple_scalp = surface.as_trimesh().simplify_quadric_decimation(60e3)\n",
    "simple_brain = pial_surface.simplify_quadric_decimation(60e3)"
   ]
  },
  {
   "cell_type": "code",
   "execution_count": null,
   "id": "25",
   "metadata": {},
   "outputs": [],
   "source": [
    "brain_mask = masks.sel(segmentation_type=[\"gm\", \"wm\"]).sum(\"segmentation_type\")"
   ]
  },
  {
   "cell_type": "code",
   "execution_count": null,
   "id": "26",
   "metadata": {},
   "outputs": [],
   "source": [
    "cell_coords = cedalion.imagereco.geometry.cell_coordinates(brain_mask, t_vox2ras).stack({\"cell\" : [\"i\",\"j\",\"k\"]})"
   ]
  },
  {
   "cell_type": "code",
   "execution_count": null,
   "id": "27",
   "metadata": {},
   "outputs": [],
   "source": [
    "from scipy.spatial import KDTree\n",
    "t = KDTree(simple_brain.vertices)"
   ]
  },
  {
   "cell_type": "code",
   "execution_count": null,
   "id": "28",
   "metadata": {},
   "outputs": [],
   "source": [
    "cell_indices = np.flatnonzero(brain_mask.values)\n",
    "dists, vertex_indices = t.query(cell_coords[:,indices].values.T, workers=-1)"
   ]
  },
  {
   "cell_type": "code",
   "execution_count": null,
   "id": "29",
   "metadata": {},
   "outputs": [],
   "source": [
    "cell_indices"
   ]
  },
  {
   "cell_type": "code",
   "execution_count": null,
   "id": "30",
   "metadata": {},
   "outputs": [],
   "source": [
    "import scipy.sparse\n",
    "scipy.sparse.coo_matrix?"
   ]
  },
  {
   "cell_type": "code",
   "execution_count": null,
   "id": "31",
   "metadata": {},
   "outputs": [],
   "source": [
    "ncells = np.prod(brain_mask.shape)\n",
    "nvertices = len(simple_scalp.vertices)\n",
    "Mcoo = scipy.sparse.coo_array((np.ones(len(cell_indices)), (vertex_indices, cell_indices)), shape=(nvertices, ncells)) \n",
    "Mcsr = scipy.sparse.csr_array((np.ones(len(cell_indices)), (vertex_indices, cell_indices)), shape=(nvertices, ncells)) "
   ]
  },
  {
   "cell_type": "code",
   "execution_count": null,
   "id": "32",
   "metadata": {},
   "outputs": [],
   "source": [
    "test = np.arange(ncells)"
   ]
  },
  {
   "cell_type": "code",
   "execution_count": null,
   "id": "33",
   "metadata": {},
   "outputs": [],
   "source": [
    "%timeit (Mcoo @ test)"
   ]
  },
  {
   "cell_type": "code",
   "execution_count": null,
   "id": "34",
   "metadata": {},
   "outputs": [],
   "source": [
    "%timeit (Mcsr @ test)"
   ]
  },
  {
   "cell_type": "code",
   "execution_count": null,
   "id": "35",
   "metadata": {},
   "outputs": [],
   "source": [
    "t_ras2vox = np.linalg.pinv(t_vox2ras).round(12)"
   ]
  },
  {
   "cell_type": "code",
   "execution_count": null,
   "id": "36",
   "metadata": {},
   "outputs": [],
   "source": [
    "reg2.pint.to(\"mm\").points.apply_transform(t_ras2vox).max(\"label\")"
   ]
  },
  {
   "cell_type": "code",
   "execution_count": null,
   "id": "37",
   "metadata": {},
   "outputs": [],
   "source": []
  },
  {
   "cell_type": "code",
   "execution_count": null,
   "id": "38",
   "metadata": {},
   "outputs": [],
   "source": []
  },
  {
   "cell_type": "code",
   "execution_count": null,
   "id": "39",
   "metadata": {},
   "outputs": [],
   "source": [
    "[str(i) for i in geo3d_volume.label.values]"
   ]
  },
  {
   "cell_type": "code",
   "execution_count": null,
   "id": "40",
   "metadata": {},
   "outputs": [],
   "source": [
    "geo3d_volume.pint.to(\"mm\").pint.dequantify().values"
   ]
  },
  {
   "cell_type": "code",
   "execution_count": null,
   "id": "41",
   "metadata": {},
   "outputs": [],
   "source": []
  },
  {
   "cell_type": "code",
   "execution_count": null,
   "id": "42",
   "metadata": {},
   "outputs": [],
   "source": [
    "#trimesh.smoothing.filter_taubin(pial_surface, lamb=0.5).show()\n",
    "#pial_surface_low = pial_surface.simplify_quadric_decimation(60e3)\n",
    "\n",
    "#display(pial_surface)\n",
    "#display(pial_surface_low)\n",
    "#trimesh.smoothing.filter_taubin(pial_surface.mesh, lamb=0.5)"
   ]
  },
  {
   "cell_type": "code",
   "execution_count": null,
   "id": "43",
   "metadata": {},
   "outputs": [],
   "source": [
    "# calculate median tri size\n",
    "#tri = pial_surface_low.vertices[pial_surface_low.faces]\n",
    "#a = np.linalg.norm(tri[:,1,:] - tri[:,0,:], axis=1)\n",
    "#b = np.linalg.norm(tri[:,2,:] - tri[:,0,:], axis=1)\n",
    "#A = a*b/2\n",
    "#np.median(A), np.std(A)"
   ]
  }
 ],
 "metadata": {
  "kernelspec": {
   "display_name": "Python 3 (ipykernel)",
   "language": "python",
   "name": "python3"
  },
  "language_info": {
   "codemirror_mode": {
    "name": "ipython",
    "version": 3
   },
   "file_extension": ".py",
   "mimetype": "text/x-python",
   "name": "python",
   "nbconvert_exporter": "python",
   "pygments_lexer": "ipython3",
   "version": "3.10.13"
  }
 },
 "nbformat": 4,
 "nbformat_minor": 5
}
