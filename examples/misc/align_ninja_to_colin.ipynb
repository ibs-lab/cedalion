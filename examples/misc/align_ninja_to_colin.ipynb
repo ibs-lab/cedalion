{
 "cells": [
  {
   "cell_type": "markdown",
   "id": "0",
   "metadata": {},
   "source": [
    "# NinjaCap-wholeHeadHD-probe registration to Colin27\n",
    "This example jupyter notebook shows how to align the optodes of the NinjaCap-wholeHeadHD to the Colin27 head model.\n",
    "Thorough coregistration is the foundation of every data analysis using head models. \n",
    "\n",
    "Currently, `cedaĺion` offers a simple registration method, which finds an affine transformation (scaling, rotating, translating) that matches the landmark positions of the head model and their digitized counterparts (probe data). Afterward, optodes are snapped to the nearest vertex on the scalp."
   ]
  },
  {
   "cell_type": "code",
   "execution_count": null,
   "id": "1",
   "metadata": {},
   "outputs": [],
   "source": [
    "import pyvista as pv\n",
    "#pv.set_jupyter_backend('html')\n",
    "pv.set_jupyter_backend('static')\n",
    "#pv.OFF_SCREEN=True"
   ]
  },
  {
   "cell_type": "code",
   "execution_count": null,
   "id": "2",
   "metadata": {},
   "outputs": [],
   "source": [
    "import os, numpy as np, xarray as xr\n",
    "\n",
    "import cedalion\n",
    "import cedalion.io as cio\n",
    "import cedalion.datasets\n",
    "import cedalion.imagereco.forward_model as fw\n",
    "import cedalion.geometry.registration as cgeoreg\n",
    "import cedalion.geometry.landmarks as cgeolm\n",
    "import cedalion.plots as cp"
   ]
  },
  {
   "cell_type": "markdown",
   "id": "3",
   "metadata": {},
   "source": [
    "## Load segmented MRI scan\n",
    "\n",
    "For this example use a segmentation of the Colin27 average brain."
   ]
  },
  {
   "cell_type": "code",
   "execution_count": null,
   "id": "4",
   "metadata": {},
   "outputs": [],
   "source": [
    "SEG_DATADIR, mask_files, landmarks_file = cedalion.datasets.get_colin27_segmentation()\n",
    "masks, t_ijk2ras = cedalion.io.read_segmentation_masks(SEG_DATADIR, mask_files)"
   ]
  },
  {
   "cell_type": "markdown",
   "id": "5",
   "metadata": {},
   "source": [
    "Construct Colin27 headmodel from segmentation masks"
   ]
  },
  {
   "cell_type": "code",
   "execution_count": null,
   "id": "6",
   "metadata": {},
   "outputs": [],
   "source": [
    "colin = fw.TwoSurfaceHeadModel.from_surfaces(\n",
    "    segmentation_dir=SEG_DATADIR,\n",
    "    mask_files = mask_files,\n",
    "    brain_surface_file= os.path.join(SEG_DATADIR, \"mask_brain.obj\"),\n",
    "    scalp_surface_file= os.path.join(SEG_DATADIR, \"mask_scalp.obj\"),\n",
    "    landmarks_ras_file=landmarks_file,\n",
    "    smoothing=0.5,\n",
    "    fill_holes=True,\n",
    ")\n",
    "colin.scalp.units = cedalion.units.mm\n",
    "colin.brain.units = cedalion.units.mm"
   ]
  },
  {
   "cell_type": "markdown",
   "id": "7",
   "metadata": {},
   "source": [
    "## Compute EEG's 10-10 system landmarks of Colin27 for optode coregistration"
   ]
  },
  {
   "cell_type": "code",
   "execution_count": null,
   "id": "8",
   "metadata": {},
   "outputs": [],
   "source": [
    "# Build the 10-10 system landmarks from the fiducials and the scalp using cedalions LandmarksBuilder1010\n",
    "scalp_surface = colin.scalp\n",
    "\n",
    "# Align fiducials to head coordinate system\n",
    "fiducials_ras = cio.read_mrk_json(os.path.join(SEG_DATADIR, landmarks_file), crs=\"aligned\")\n",
    "fiducials_ijk = fiducials_ras.points.apply_transform(np.linalg.pinv(t_ijk2ras))\n",
    "# Compute landmarks by EEG's 1010 system rules\n",
    "lmbuilder = cgeolm.LandmarksBuilder1010(scalp_surface, fiducials_ijk)\n",
    "all_landmarks = lmbuilder.build()\n",
    "lmbuilder.plot()"
   ]
  },
  {
   "cell_type": "markdown",
   "id": "9",
   "metadata": {},
   "source": [
    "## Load NinjaCap data"
   ]
  },
  {
   "cell_type": "code",
   "execution_count": null,
   "id": "10",
   "metadata": {},
   "outputs": [],
   "source": [
    "ninjacap_optodes, ninjacap_landmarks, meas_list = cedalion.datasets.get_ninja_cap_probe() "
   ]
  },
  {
   "cell_type": "code",
   "execution_count": null,
   "id": "11",
   "metadata": {},
   "outputs": [],
   "source": [
    "# Handpick or load handpicked fiducials from file\n",
    "fiducials_ras = cio.read_mrk_json(os.path.join(SEG_DATADIR, landmarks_file), crs=\"aligned\")"
   ]
  },
  {
   "cell_type": "markdown",
   "id": "12",
   "metadata": {},
   "source": [
    "## Construct transform from matching landmarks"
   ]
  },
  {
   "cell_type": "code",
   "execution_count": null,
   "id": "13",
   "metadata": {},
   "outputs": [],
   "source": [
    "# Individial landmarks\n",
    "individual_ref_pos = np.array(all_landmarks) \n",
    "individual_ref_labels = [lab.item() for lab in all_landmarks.label] \n",
    "\n",
    "# Load ninja cap data\n",
    "ninjacap_optodes, ninjacap_landmarks, meas_list = cedalion.datasets.get_ninja_cap_probe() \n",
    "ninja_ref_pos = list(np.array(ninjacap_landmarks.values))\n",
    "ninja_ref_labels = list(np.array(ninjacap_landmarks.label))\n",
    "\n",
    "# Construct transform from intersection\n",
    "intersection = list(set(ninja_ref_labels) & set(individual_ref_labels)) \n",
    "individual_ref_pos = [individual_ref_pos[individual_ref_labels.index(intsct)] for intsct in intersection]\n",
    "ninja_ref_pos = [ninja_ref_pos[ninja_ref_labels.index(intsct)] for intsct in intersection]\n",
    "print(\"%d Landmarks used for co-registration:\\n\" % len(intersection), intersection)"
   ]
  },
  {
   "cell_type": "code",
   "execution_count": null,
   "id": "14",
   "metadata": {},
   "outputs": [],
   "source": [
    "# This transform is somehow not working: I havn't figured out why yet\n",
    "\"\"\"\n",
    "# Individial landmarks\n",
    "individual_ref_pos = all_landmarks\n",
    "# the landmarks are in Colins current coordinate system\n",
    "individual_ref_pos = individual_ref_pos.rename({individual_ref_pos.points.crs: colin.scalp.crs})\n",
    "individual_ref_labels = [lab.item() for lab in all_landmarks.label] \n",
    "\n",
    "# Load ninja cap data\n",
    "ninjacap_optodes, ninjacap_landmarks, meas_list = cedalion.datasets.get_ninja_cap_probe() \n",
    "ninja_ref_pos = ninjacap_landmarks\n",
    "ninja_ref_labels = list(np.array(ninjacap_landmarks.label))\n",
    "\n",
    "# Construct transform from intersection\n",
    "intersection = list(set(ninja_ref_labels) & set(individual_ref_labels))\n",
    "print(\"%d Landmarks used for co-registration:\\n\" % len(intersection), intersection)\n",
    "\n",
    "individual_ref_pos = individual_ref_pos.sel(label=intersection)\n",
    "ninja_ref_pos = ninja_ref_pos.sel(label=intersection)\n",
    "ninja_ref_pos = ninja_ref_pos.pint.quantify(cedalion.units.mm)\n",
    "\n",
    "T = cgeoreg.register_trans_rot_isoscale(individual_ref_pos, ninja_ref_pos)\n",
    "\"\"\""
   ]
  },
  {
   "cell_type": "code",
   "execution_count": null,
   "id": "15",
   "metadata": {},
   "outputs": [],
   "source": [
    "# Alternative, non-cedalion, implementation from atlasviewer\n",
    "def gen_xform_from_pts(p1, p2):\n",
    "    \"\"\"\n",
    "    given two sets of points, p1 and p2 in n dimensions,\n",
    "    find the n-dims affine transformation matrix t, from p1 to p2.\n",
    "\n",
    "    Source: https://github.com/bunpc/atlasviewer/blob/71fc98ec8ca54783378310304113e825bbcd476a/utils/gen_xform_from_pts.m#l4\n",
    "    \n",
    "    parameters:\n",
    "    p1 : ndarray\n",
    "        an array of shape (p, n) representing the first set of points.\n",
    "    p2 : ndarray\n",
    "        an array of shape (p, n) representing the second set of points.\n",
    "\n",
    "    returns:\n",
    "    t : ndarray\n",
    "        the (n+1, n+1) affine transformation matrix.\n",
    "    \"\"\"\n",
    "    p1, p2 = np.array(p1), np.array(p2)\n",
    "    p = p1.shape[0]\n",
    "    q = p2.shape[0]\n",
    "    m = p1.shape[1]\n",
    "    n = p2.shape[1]\n",
    "    \n",
    "    if p != q:\n",
    "        raise valueerror('number of points for p1 and p2 must be the same')\n",
    "    \n",
    "    if m != n:\n",
    "        raise valueerror('number of dimensions for p1 and p2 must be the same')\n",
    "    \n",
    "    if p < n:\n",
    "        raise valueerror(f'cannot solve transformation with fewer anchor points ({p}) than dimensions ({n}).')\n",
    "    \n",
    "    t = np.eye(n + 1)\n",
    "    a = np.hstack((p1, np.ones((p, 1))))\n",
    "    \n",
    "    for ii in range(n):\n",
    "        x = np.linalg.pinv(a) @ p2[:, ii]\n",
    "        t[ii, :] = x\n",
    "        \n",
    "    return t\n",
    "\n",
    "\n",
    "T = gen_xform_from_pts(ninja_ref_pos, individual_ref_pos); # get affine  "
   ]
  },
  {
   "cell_type": "markdown",
   "id": "16",
   "metadata": {},
   "source": [
    "## Apply transform and snap optodes"
   ]
  },
  {
   "cell_type": "code",
   "execution_count": null,
   "id": "17",
   "metadata": {},
   "outputs": [],
   "source": [
    "# Apply transform\n",
    "ninja_aligned = ninjacap_optodes.points.apply_transform(T)\n",
    "if isinstance(T, np.ndarray):\n",
    "    ninja_aligned = ninja_aligned.rename({ninja_aligned.points.crs: colin.scalp.crs})\n",
    "plt = pv.Plotter()\n",
    "cedalion.plots.plot_surface(plt, colin.scalp, opacity=0.1)\n",
    "cedalion.plots.plot_labeled_points(plt, ninja_aligned)\n",
    "plt.show()\n",
    "\n",
    "# Snap to surface\n",
    "ninja_snapped_aligned = colin.scalp.snap(ninja_aligned)\n",
    "# Plot\n",
    "plt = pv.Plotter()\n",
    "cedalion.plots.plot_surface(plt, colin.scalp)\n",
    "cedalion.plots.plot_labeled_points(plt, ninja_snapped_aligned)\n",
    "plt.show()"
   ]
  },
  {
   "cell_type": "code",
   "execution_count": null,
   "id": "18",
   "metadata": {},
   "outputs": [],
   "source": [
    "# Construct forward model\n",
    "fwm = cedalion.imagereco.forward_model.ForwardModel(colin, ninja_snapped_aligned, meas_list)"
   ]
  },
  {
   "cell_type": "code",
   "execution_count": null,
   "id": "19",
   "metadata": {},
   "outputs": [],
   "source": []
  }
 ],
 "metadata": {
  "kernelspec": {
   "display_name": "Python 3 (ipykernel)",
   "language": "python",
   "name": "python3"
  },
  "language_info": {
   "codemirror_mode": {
    "name": "ipython",
    "version": 3
   },
   "file_extension": ".py",
   "mimetype": "text/x-python",
   "name": "python",
   "nbconvert_exporter": "python",
   "pygments_lexer": "ipython3",
   "version": "3.10.13"
  }
 },
 "nbformat": 4,
 "nbformat_minor": 5
}
