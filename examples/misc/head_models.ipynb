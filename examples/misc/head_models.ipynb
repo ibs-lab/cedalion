{
 "cells": [
  {
   "cell_type": "markdown",
   "metadata": {},
   "source": [
    "# Headmodels in Cedalion\n",
    "This notebook displays the different ways of loading headmodels into cedalion - either Atlases ( Colin27 / ICBM152 ) or individual anatomies."
   ]
  },
  {
   "cell_type": "code",
   "execution_count": null,
   "metadata": {},
   "outputs": [],
   "source": [
    "# load dependencies\n",
    "\n",
    "import pyvista as pv\n",
    "pv.set_jupyter_backend('server')\n",
    "#pv.set_jupyter_backend('static')\n",
    "\n",
    "import os\n",
    "\n",
    "import cedalion\n",
    "import cedalion.io\n",
    "import cedalion.plots\n",
    "import cedalion.datasets\n",
    "import cedalion.imagereco.forward_model as fw"
   ]
  },
  {
   "cell_type": "markdown",
   "metadata": {},
   "source": [
    "## Colin 27\n",
    "An average of 27 scans of the same person"
   ]
  },
  {
   "cell_type": "code",
   "execution_count": null,
   "metadata": {},
   "outputs": [],
   "source": [
    "# load segmentation data from the colin27 atlas\n",
    "SEG_DATADIR_cl27, mask_files_cl27, landmarks_file_cl27 = cedalion.datasets.get_colin27_segmentation()\n",
    "\n",
    "# create forward model class for colin 27 atlas\n",
    "head_colin27 = fw.TwoSurfaceHeadModel.from_surfaces(\n",
    "    segmentation_dir=SEG_DATADIR_cl27,\n",
    "    mask_files = mask_files_cl27,\n",
    "    brain_surface_file= os.path.join(SEG_DATADIR_cl27, \"mask_brain.obj\"),\n",
    "    landmarks_ras_file=landmarks_file_cl27,\n",
    "    brain_face_count=None,\n",
    "    scalp_face_count=None\n",
    ")\n"
   ]
  },
  {
   "cell_type": "code",
   "execution_count": null,
   "metadata": {},
   "outputs": [],
   "source": [
    "# plot Colin headmodel\n",
    "plt = pv.Plotter()\n",
    "cedalion.plots.plot_surface(plt, head_colin27.brain, color=\"w\")\n",
    "cedalion.plots.plot_surface(plt, head_colin27.scalp, opacity=.1)\n",
    "plt.show()"
   ]
  },
  {
   "cell_type": "markdown",
   "metadata": {},
   "source": [
    "## ICBM 152\n",
    "An average of 152 scans from different persons"
   ]
  },
  {
   "cell_type": "code",
   "execution_count": null,
   "metadata": {},
   "outputs": [],
   "source": [
    "# load segmentation data from the icbm152 atlas\n",
    "SEG_DATADIR_ic152, mask_files_ic152, landmarks_file_ic152 = cedalion.datasets.get_icbm152_segmentation()\n",
    "\n",
    "# create forward model class for icbm152 atlas\n",
    "head_icbm152 = fw.TwoSurfaceHeadModel.from_surfaces(\n",
    "    segmentation_dir=SEG_DATADIR_ic152,\n",
    "    mask_files = mask_files_ic152,\n",
    "    brain_surface_file= os.path.join(SEG_DATADIR_ic152, \"mask_brain.obj\"),\n",
    "    landmarks_ras_file=landmarks_file_ic152,\n",
    "    brain_face_count=None,\n",
    "    scalp_face_count=None\n",
    ")\n"
   ]
  },
  {
   "cell_type": "code",
   "execution_count": null,
   "metadata": {},
   "outputs": [],
   "source": [
    "# plot ICBM headmodel\n",
    "plt = pv.Plotter()\n",
    "cedalion.plots.plot_surface(plt, head_icbm152.brain, color=\"w\")\n",
    "cedalion.plots.plot_surface(plt, head_icbm152.scalp, opacity=.1)\n",
    "plt.show()"
   ]
  }
 ],
 "metadata": {
  "kernelspec": {
   "display_name": "cedalion",
   "language": "python",
   "name": "python3"
  },
  "language_info": {
   "codemirror_mode": {
    "name": "ipython",
    "version": 3
   },
   "file_extension": ".py",
   "mimetype": "text/x-python",
   "name": "python",
   "nbconvert_exporter": "python",
   "pygments_lexer": "ipython3",
   "version": "3.11.9"
  }
 },
 "nbformat": 4,
 "nbformat_minor": 2
}
