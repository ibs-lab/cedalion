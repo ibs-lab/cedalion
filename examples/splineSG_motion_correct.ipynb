{
 "cells": [
  {
   "cell_type": "markdown",
   "metadata": {},
   "source": [
    "# Motion Correction: SplineSG\n",
    "\n",
    "This notebook sketches how splineSG works and how to implement it for motion correction.\n"
   ]
  },
  {
   "cell_type": "code",
   "execution_count": null,
   "metadata": {},
   "outputs": [],
   "source": [
    "import cedalion\n",
    "import cedalion.nirs\n",
    "import cedalion.sigproc.quality as quality\n",
    "from cedalion.sigproc.artifact import detect_baselineshift, detect_outliers\n",
    "from cedalion.sigproc.motion_correct import motion_correct_spline, motion_correct_splineSG\n",
    "import cedalion.xrutils as xrutils\n",
    "import cedalion.datasets as datasets\n",
    "import xarray as xr\n",
    "import matplotlib.pyplot as p\n",
    "from functools import reduce\n",
    "\n",
    "\n",
    "from cedalion import Quantity, units"
   ]
  },
  {
   "cell_type": "code",
   "execution_count": null,
   "metadata": {},
   "outputs": [],
   "source": [
    "# get example finger tapping dataset\n",
    "snirf_element = datasets.get_fingertapping()\n",
    "amp = snirf_element[0].data[0]\n",
    "geo = snirf_element[0].geo3d\n",
    "od = cedalion.nirs.int2od(amp)\n",
    "\n",
    "data = xr.Dataset(\n",
    "    data_vars = {\n",
    "        \"amp\" : amp,\n",
    "        \"od\"  : od,\n",
    "        \"geo3d\": geo\n",
    "    })\n",
    "\n",
    "\n",
    "# Plot some data for visual validation\n",
    "f,ax = p.subplots(1,1, figsize=(12,4))\n",
    "ax.plot( data.amp.time, data.amp.sel(channel=\"S1D1\", wavelength=\"850\"), \"r-\", label=\"850nm\")\n",
    "ax.plot( data.amp.time, data.amp.sel(channel=\"S1D1\", wavelength=\"760\"), \"b-\", label=\"760nm\")\n",
    "p.legend()\n",
    "ax.set_xlabel(\"time / s\")\n",
    "ax.set_ylabel(\"Signal intensity / a.u.\")"
   ]
  },
  {
   "cell_type": "markdown",
   "metadata": {},
   "source": [
    "## Detecting outliers and baseline shifts\n",
    "\n",
    "SplineSG has two stages. First, in the spline interpolation stage, baselineshifts are detected and spline interpolation is applied to these segments of the signal. Two functions are called initially, detect_outliers(), which returns a boolean mask containing False when outliers are detected and False otherwise, and detect_baselineshift(), which is passed the mask from detect_outliers and returns another mask that indicates where there are baseline shifts. Spline interpolation is then performed on the segments of data where baseline shifts are detected."
   ]
  },
  {
   "cell_type": "code",
   "execution_count": null,
   "metadata": {},
   "outputs": [],
   "source": [
    "# call detect_outliers first \n",
    "# this returns mask, M, and M_array which is the result of applying the mask, M to the fNIRSdata\n",
    "M = detect_outliers(ts = data.od, t_window_std = 1)\n",
    "\n",
    "# call detect_baselineshifts\n",
    "tInc = detect_baselineshift(ts = data.od, outlier_mask = M)\n",
    "\n",
    "# perform spline interpolation\n",
    "dodSpline = motion_correct_spline(fNIRSdata=data.od, tIncCh=tInc)\n"
   ]
  },
  {
   "cell_type": "code",
   "execution_count": null,
   "metadata": {},
   "outputs": [],
   "source": [
    "# plot difference between uncorrected OD and after spline correction\n",
    "f,ax = p.subplots(1,1, figsize=(12,4))\n",
    "ax.plot( data.od.time, data.od.sel(channel=\"S2D3\", wavelength=\"760\"), \"b-\", label=\"850nm OD\")\n",
    "ax.plot( dodSpline.time, dodSpline.sel(channel=\"S2D3\", wavelength=\"760\"), \"g-\", label=\"850nm OD post spline\")\n",
    "p.legend()\n",
    "ax.set_xlabel(\"time / s\")\n",
    "ax.set_ylabel(\"Optical density / a.u.\")"
   ]
  },
  {
   "cell_type": "markdown",
   "metadata": {},
   "source": [
    "## Savitzky-Golay filtering\n",
    "\n",
    "The second stage applies a Savitzky-Golay filter to the data to further smooth the signal."
   ]
  },
  {
   "cell_type": "code",
   "execution_count": null,
   "metadata": {},
   "outputs": [],
   "source": [
    "# the function motionCorrectSplineSG performs all the steps outlined above\n",
    "dodSplineSG = motion_correct_splineSG(fNIRSdata=data.od, framesize_sec=10)\n"
   ]
  },
  {
   "cell_type": "code",
   "execution_count": null,
   "metadata": {},
   "outputs": [],
   "source": [
    "# plot uncorrected data vs after splineSG motion correction \n",
    "f,ax = p.subplots(1,1, figsize=(12,4))\n",
    "ax.plot( data.od.time, data.od.sel(channel=\"S1D1\", wavelength=\"760\"), \"b-\", label=\"760nm OD\")\n",
    "ax.plot( dodSplineSG.time, dodSplineSG.sel(channel=\"S1D1\", wavelength=\"760\"), \"g-\", label=\"760nm OD post splineSG\")\n",
    "p.legend()\n",
    "ax.set_xlabel(\"time / s\")\n",
    "ax.set_ylabel(\"Optical density / a.u.\")"
   ]
  },
  {
   "cell_type": "code",
   "execution_count": null,
   "metadata": {},
   "outputs": [],
   "source": []
  }
 ],
 "metadata": {
  "kernelspec": {
   "display_name": "Python 3 (ipykernel)",
   "language": "python",
   "name": "python3"
  },
  "language_info": {
   "codemirror_mode": {
    "name": "ipython",
    "version": 3
   },
   "file_extension": ".py",
   "mimetype": "text/x-python",
   "name": "python",
   "nbconvert_exporter": "python",
   "pygments_lexer": "ipython3",
   "version": "3.10.13"
  }
 },
 "nbformat": 4,
 "nbformat_minor": 2
}
