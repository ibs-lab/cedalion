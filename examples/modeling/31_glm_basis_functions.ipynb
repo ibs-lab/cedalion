{
 "cells": [
  {
   "cell_type": "markdown",
   "metadata": {},
   "source": [
    "# GLM Basis Functions"
   ]
  },
  {
   "cell_type": "code",
   "execution_count": null,
   "metadata": {},
   "outputs": [],
   "source": [
    "# This cells setups the environment when executed in Google Colab.\n",
    "try:\n",
    "    import google.colab\n",
    "    !curl -s https://raw.githubusercontent.com/ibs-lab/cedalion/dev/scripts/colab_setup.py -o colab_setup.py\n",
    "    # Select branch with --branch \"branch name\" (default is \"dev\")\n",
    "    %run colab_setup.py\n",
    "except ImportError:\n",
    "    pass"
   ]
  },
  {
   "cell_type": "code",
   "execution_count": null,
   "metadata": {},
   "outputs": [],
   "source": [
    "import cedalion\n",
    "import cedalion.models.glm.basis_functions as bf\n",
    "import cedalion.models.glm.design_matrix as dm\n",
    "\n",
    "import cedalion.dataclasses as cdc\n",
    "\n",
    "import matplotlib.pyplot as p\n",
    "import numpy as np\n",
    "import xarray as xr\n",
    "import matplotlib.pyplot as p\n",
    "import cedalion.datasets\n",
    "\n",
    "units = cedalion.units\n",
    "\n",
    "xr.set_options(display_expand_data=False)"
   ]
  },
  {
   "cell_type": "code",
   "execution_count": null,
   "metadata": {},
   "outputs": [],
   "source": [
    "# dummy time series\n",
    "fs = 8.0\n",
    "ts = cdc.build_timeseries(\n",
    "    np.random.random((100, 1, 2)),\n",
    "    dims=[\"time\", \"channel\", \"chromo\"],\n",
    "    time=np.arange(100) / fs,\n",
    "    channel=[\"S1D1\"],\n",
    "    value_units=units.uM,\n",
    "    time_units=units.s,\n",
    "    other_coords={'chromo' : [\"HbO\", \"HbR\"]}\n",
    ")\n",
    "display(ts)"
   ]
  },
  {
   "cell_type": "code",
   "execution_count": null,
   "metadata": {},
   "outputs": [],
   "source": [
    "basis = bf.GaussianKernels(\n",
    "    t_pre=5 * units.s,\n",
    "    t_post=30 * units.s,\n",
    "    t_delta=3 * units.s,\n",
    "    t_std=3 * units.s,\n",
    ")\n",
    "hrf = basis(ts)\n",
    "\n",
    "p.figure()\n",
    "for i_comp, comp in enumerate(hrf.component.values):\n",
    "    p.plot(hrf.time, hrf[:, i_comp], label=comp)\n",
    "\n",
    "p.axvline(-5, c=\"r\", ls=\":\")\n",
    "p.axvline(30, c=\"r\", ls=\":\")\n",
    "p.legend(ncols=3)"
   ]
  },
  {
   "cell_type": "code",
   "execution_count": null,
   "metadata": {},
   "outputs": [],
   "source": [
    "basis = bf.GaussianKernelsWithTails(\n",
    "    t_pre=5 * units.s,\n",
    "    t_post=30 * units.s,\n",
    "    t_delta=3 * units.s,\n",
    "    t_std=3 * units.s,\n",
    ")\n",
    "hrf = basis(ts)\n",
    "\n",
    "p.figure()\n",
    "for i_comp, comp in enumerate(hrf.component.values):\n",
    "    p.plot(hrf.time, hrf[:, i_comp], label=comp)\n",
    "p.axvline(-5, c=\"r\", ls=\":\")\n",
    "p.axvline(30, c=\"r\", ls=\":\")\n",
    "p.legend(ncols=3)"
   ]
  },
  {
   "cell_type": "code",
   "execution_count": null,
   "metadata": {},
   "outputs": [],
   "source": [
    "basis = bf.Gamma(\n",
    "    tau={\"HbO\": 0 * units.s, \"HbR\": 1 * units.s},\n",
    "    sigma=3 * units.s,\n",
    ")\n",
    "hrf = basis(ts)\n",
    "display(hrf)\n",
    "p.figure()\n",
    "for i_comp, comp in enumerate(hrf.component.values):\n",
    "    for i_chromo, chromo in enumerate(hrf.chromo.values):\n",
    "        p.plot(hrf.time, hrf[:, i_comp, i_chromo], label=f\"{comp} {chromo}\")\n",
    "\n",
    "p.legend()"
   ]
  },
  {
   "cell_type": "code",
   "execution_count": null,
   "metadata": {},
   "outputs": [],
   "source": [
    "basis = bf.Gamma(\n",
    "    tau={\"HbO\": 0 * units.s, \"HbR\": 1 * units.s},\n",
    "    sigma=2 * units.s,\n",
    ")\n",
    "hrf = basis(ts)\n",
    "display(hrf)\n",
    "\n",
    "p.figure()\n",
    "for i_comp, comp in enumerate(hrf.component.values):\n",
    "    for i_chromo, chromo in enumerate(hrf.chromo.values):\n",
    "        p.plot(hrf.time, hrf[:, i_comp, i_chromo], label=f\"{comp} {chromo}\")\n",
    "\n",
    "p.legend()"
   ]
  },
  {
   "cell_type": "code",
   "execution_count": null,
   "metadata": {
    "tags": [
     "nbsphinx-thumbnail"
    ]
   },
   "outputs": [],
   "source": [
    "basis = bf.GammaDeriv(\n",
    "    tau=2 * units.s,\n",
    "    sigma=2 * units.s,\n",
    ")\n",
    "hrf = basis(ts)\n",
    "display(hrf)\n",
    "p.figure()\n",
    "for i_comp, comp in enumerate(hrf.component.values):\n",
    "    for i_chromo, chromo in enumerate([\"HbO\"]):\n",
    "        p.plot(hrf.time, hrf[:, i_comp, i_chromo], label=f\"{comp} {chromo}\")\n",
    "\n",
    "p.legend()"
   ]
  },
  {
   "cell_type": "code",
   "execution_count": null,
   "metadata": {},
   "outputs": [],
   "source": [
    "basis = bf.AFNIGamma(\n",
    "    p=1,\n",
    "    q=0.7 * units.s,\n",
    ")\n",
    "hrf = basis(ts)\n",
    "display(hrf)\n",
    "p.figure()\n",
    "for i_comp, comp in enumerate(hrf.component.values):\n",
    "    for i_chromo, chromo in enumerate([\"HbO\"]):\n",
    "        p.plot(hrf.time, hrf[:, i_comp, i_chromo], label=f\"{comp} {chromo}\")\n",
    "\n",
    "p.legend()"
   ]
  },
  {
   "cell_type": "code",
   "execution_count": null,
   "metadata": {},
   "outputs": [],
   "source": [
    "basis = bf.DiracDelta()\n",
    "hrf = basis(ts)\n",
    "display(hrf)\n",
    "p.figure()\n",
    "for i_comp, comp in enumerate(hrf.component.values):\n",
    "    for i_chromo, chromo in enumerate([\"HbO\"]):\n",
    "        p.stem(hrf.time, hrf[:, i_comp, i_chromo], label=f\"{comp} {chromo}\")\n",
    "\n",
    "p.legend()"
   ]
  }
 ],
 "metadata": {
  "kernelspec": {
   "display_name": "cedalion_250621",
   "language": "python",
   "name": "python3"
  },
  "language_info": {
   "codemirror_mode": {
    "name": "ipython",
    "version": 3
   },
   "file_extension": ".py",
   "mimetype": "text/x-python",
   "name": "python",
   "nbconvert_exporter": "python",
   "pygments_lexer": "ipython3",
   "version": "3.11.13"
  }
 },
 "nbformat": 4,
 "nbformat_minor": 2
}
