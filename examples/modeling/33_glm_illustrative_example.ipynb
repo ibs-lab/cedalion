{
 "cells": [
  {
   "cell_type": "markdown",
   "metadata": {},
   "source": [
    "# GLM Illustrative Example\n",
    "\n",
    "This notebok showcases cedalion's GLM functionality. It creates a GLM design matrix and uses it to simulate a simple timeseries. It then fits different models to the simulated timeseries."
   ]
  },
  {
   "cell_type": "code",
   "execution_count": null,
   "metadata": {},
   "outputs": [],
   "source": [
    "import cedalion\n",
    "import cedalion.io\n",
    "import cedalion.nirs\n",
    "import cedalion.dataclasses as cdc\n",
    "import cedalion.models.glm as glm\n",
    "import cedalion.plots as plots\n",
    "import numpy as np\n",
    "import xarray as xr\n",
    "from pathlib import Path\n",
    "import matplotlib.pyplot as p\n",
    "import pandas as pd\n",
    "from cedalion import units\n",
    "xr.set_options(display_expand_data=False);"
   ]
  },
  {
   "cell_type": "markdown",
   "metadata": {},
   "source": [
    "## Creating a simple simulated time series\n",
    "\n",
    "### 1. Build a NDTimeSeries with noise"
   ]
  },
  {
   "cell_type": "code",
   "execution_count": null,
   "metadata": {},
   "outputs": [],
   "source": [
    "\n",
    "fs = 10.0 * cedalion.units.Hz # sampling rate\n",
    "T = 240 * cedalion.units.s # time series length\n",
    "channel = [\"S1D1\", \"S1D2\"] # two channels\n",
    "chromo = [\"HbO\", \"HbR\"] # two chromophores\n",
    "nsample = int(T * fs)  # number of samples\n",
    "\n",
    "# create a NDTimeSeries that contains normal distributed noise\n",
    "ts = cdc.build_timeseries(\n",
    "    np.random.normal(0, 0.05, (nsample, len(channel), len(chromo))),\n",
    "    dims=[\"time\", \"channel\", \"chromo\"],\n",
    "    time=np.arange(nsample) / fs,\n",
    "    channel=channel,\n",
    "    value_units=units.uM,\n",
    "    time_units=units.s,\n",
    "    other_coords={\"chromo\": chromo},\n",
    ")\n",
    "display(ts)"
   ]
  },
  {
   "cell_type": "markdown",
   "metadata": {},
   "source": [
    "### 2. Build the Stimulus DataFrame\n",
    "\n",
    "Specify two trial types: 'StimA', 'StimB' and define for each 3 trials with a duration of 10s.\n",
    "\n",
    "The trials get different values assigned, which control the amplitude of the hemodynamic response.\n",
    "\n",
    "The stimulus Dataframe needs the columns 'trial_type', 'onset', 'duration' and 'value'."
   ]
  },
  {
   "cell_type": "code",
   "execution_count": null,
   "metadata": {},
   "outputs": [],
   "source": [
    "stim = pd.concat(\n",
    "    (\n",
    "        pd.DataFrame({\"onset\": o, \"trial_type\": \"StimA\"} for o in [10, 80, 150]),\n",
    "        pd.DataFrame({\"onset\": o, \"trial_type\": \"StimB\"} for o in [45, 115, 185]),\n",
    "    )\n",
    ")\n",
    "\n",
    "stim[\"value\"] = [0.5, 1, 1.5, 1.25, 0.75, 1.0]\n",
    "stim[\"duration\"] = 10.\n",
    "display(stim)"
   ]
  },
  {
   "cell_type": "markdown",
   "metadata": {},
   "source": [
    "### 3. Build a Design Matrix\n",
    "\n",
    "- Cedalion provides the convenience function `glm.make_design_matrix` to specify model\n",
    "- two outputs:\n",
    "  1. a design matrix that applies to all channels, with\n",
    "    - HRF regressors\n",
    "    - drift regressors\n",
    "    - constant term\n",
    "  2. a list of channel-wise regressors with\n",
    "    - regressors that can differ between channels. E.g. for the short-distance channel regression one wants to choose for each long channel the content of a short channel. \n",
    "\n",
    "The functional form of the HRF regressors is specified by the `basis_function` argument. Please refer to the notebook `glm_basis_functions.ipynb` and the sphinx documentation for more details."
   ]
  },
  {
   "cell_type": "code",
   "execution_count": null,
   "metadata": {},
   "outputs": [],
   "source": [
    "dm, channel_wise_regressors = glm.make_design_matrix(\n",
    "    ts_long=ts,\n",
    "    ts_short=None,\n",
    "    stim=stim,\n",
    "    geo3d=None,\n",
    "    basis_function=glm.Gamma(tau=0 * units.s, sigma=5 * units.s, T=10 * units.s),\n",
    "    drift_order=0,\n",
    "    short_channel_method=None,\n",
    ")\n",
    "# For this use case we want the HbR regressors to be \n",
    "# inverted and smaller in amplitude than their HbO counterparts.\n",
    "dm.loc[:, [\"HRF StimA\", \"HRF StimB\"], \"HbR\"] *= -0.25\n",
    "display(dm)\n",
    "display('channel_wise_regressors:', channel_wise_regressors)"
   ]
  },
  {
   "cell_type": "markdown",
   "metadata": {},
   "source": [
    "The design matrix is a `xr.DataArray` with dimensions 'time', 'chromo' (or 'wavelength') and 'regressor'.\n",
    "Each regressor has a string label for clarity. The convention used by `make_design_matrix` is to\n",
    "use labels of the form `'HRF <trial_typ> <number>'` for the HRF regressors and `'Drift <number>'` for the\n",
    "drift components. \n",
    "\n",
    "Using such a schema is convenient when one needs to select regressors. If there would be multiple regressors \n",
    "for stimulus \"StimA\" one could distinguish all these from other HRF or drift regressors by selecting labels \n",
    "that start with 'HRF StimA'."
   ]
  },
  {
   "cell_type": "code",
   "execution_count": null,
   "metadata": {},
   "outputs": [],
   "source": [
    "f, ax = p.subplots(1,2,figsize=(12,5))\n",
    "dm.sel(chromo=\"HbO\").plot(ax=ax[0], vmin=-1, vmax=1, cmap='RdBu_r')\n",
    "dm.sel(chromo=\"HbR\").plot(ax=ax[1], vmin=-1, vmax=1, cmap='RdBu_r')\n",
    "p.xticks(rotation=90)\n",
    "p.show()\n",
    "\n",
    "f, ax = p.subplots(1,2,figsize=(12,3))\n",
    "for i,chromo in enumerate(dm.chromo.values):\n",
    "    for reg in dm.regressor.values:\n",
    "        ax[i].plot(dm.time, dm.sel(chromo=chromo, regressor=reg), label=reg)\n",
    "    plots.plot_stim_markers(ax[i], stim, y=1)\n",
    "    ax[i].set_title(f\"chromo={chromo}\")\n",
    "    ax[i].legend()\n"
   ]
  },
  {
   "cell_type": "markdown",
   "metadata": {},
   "source": [
    "### 4. Add regressors to time series with noise\n",
    "\n",
    "The time series has two channels: 'S1D1' and 'S1D2'. In this example\n",
    "during trial 'StimA' activations should occur only in 'S1D1'. During\n",
    "'StimB' activations are only in the other channel.\n",
    "\n",
    "The regressors are added with different offsets and scaling factors."
   ]
  },
  {
   "cell_type": "code",
   "execution_count": null,
   "metadata": {},
   "outputs": [],
   "source": [
    "# define offsets and scaling factors\n",
    "SCALE_STIMA = 1.25\n",
    "OFFSET_STIMA = 0.5\n",
    "SCALE_STIMB = 0.75\n",
    "OFFSET_STIMB = 0.25\n",
    "\n",
    "# add scaled regressor and offsets to time series, which up to now contains only noise\n",
    "ts.loc[:, \"S1D1\", :] += (\n",
    "    SCALE_STIMA * dm.sel(regressor=\"HRF StimA\").pint.quantify(\"uM\")\n",
    "    + OFFSET_STIMA * cedalion.units.uM\n",
    ")\n",
    "ts.loc[:, \"S1D2\", :] += (\n",
    "    SCALE_STIMB * dm.sel(regressor=\"HRF StimB\").pint.quantify(\"uM\")\n",
    "    + OFFSET_STIMB * cedalion.units.uM\n",
    ")\n",
    "\n",
    "# plot original regressors for StimA and StimB\n",
    "f, ax = p.subplots(1, 2, sharex=True, sharey=True, figsize=(12,3))\n",
    "for i, reg in enumerate([\"HRF StimA\", \"HRF StimB\"]):\n",
    "    ax[i].plot(dm.time, dm.sel(regressor=reg, chromo=\"HbO\"), \"r-\")\n",
    "    ax[i].plot(dm.time, dm.sel(regressor=reg, chromo=\"HbR\"), \"b-\")\n",
    "    ax[i].set_title(f\"Reg {reg}\")\n",
    "    plots.plot_stim_markers(ax[i], stim, y=1)\n",
    "    ax[i].grid(True)\n",
    "p.tight_layout()\n",
    "\n",
    "# plot the resulting time series\n",
    "f, ax = p.subplots(1, 2, sharex=True, sharey=True, figsize=(12,3))\n",
    "for i, ch in enumerate(ts.channel.values):\n",
    "    ax[i].plot(ts.time, ts.sel(channel=ch, chromo=\"HbO\"), \"r-\")\n",
    "    ax[i].plot(ts.time, ts.sel(channel=ch, chromo=\"HbR\"), \"b-\")\n",
    "    ax[i].set_title(f\"Ch {ch}\")\n",
    "    ax[i].grid(True)\n",
    "    plots.plot_stim_markers(ax[i], stim, y=1)\n",
    "p.tight_layout()"
   ]
  },
  {
   "cell_type": "markdown",
   "metadata": {},
   "source": [
    "## Fitting the GLM - using the same design matrix\n",
    "\n",
    "The method `glm.fit` is used to fit the GLM to the time series.\n",
    "\n",
    "- only 'Ordinary Least Squares' (ols) is currently implemented\n",
    "- more realistic noise models, AR-ILS not available, yet\n",
    "- no stats, uncertainties\n",
    "\n",
    "- the returned coefficients / betas are stored again in an xr.DataArray"
   ]
  },
  {
   "cell_type": "code",
   "execution_count": null,
   "metadata": {},
   "outputs": [],
   "source": [
    "betas = glm.fit(ts, dm, channel_wise_regressors, noise_model=\"ols\")\n",
    "display(betas)"
   ]
  },
  {
   "cell_type": "markdown",
   "metadata": {},
   "source": [
    "Translate the DataArray into a DataFrame to get a rendered table.\n",
    "Here, the scaling factors and offsets are added as an additional column as\n",
    "these are the expected values for the coefficients."
   ]
  },
  {
   "cell_type": "code",
   "execution_count": null,
   "metadata": {},
   "outputs": [],
   "source": [
    "df = betas.rename(\"betas_S1D1\").to_dataframe()\n",
    "# add a column with expected values\n",
    "df[\"expected\"] = [\n",
    "    SCALE_STIMA, SCALE_STIMA,\n",
    "    0.0, 0.0,\n",
    "    0.0, 0.0,\n",
    "    SCALE_STIMB, SCALE_STIMB,\n",
    "    OFFSET_STIMA, OFFSET_STIMA,\n",
    "    OFFSET_STIMB, OFFSET_STIMB,\n",
    "]\n",
    "display(df)"
   ]
  },
  {
   "cell_type": "code",
   "execution_count": null,
   "metadata": {},
   "outputs": [],
   "source": [
    "# helper function to compare original time series and model prediction\n",
    "def plot_data_to_fit_comparison(ts, pred, stim):\n",
    "    f, ax = p.subplots(2,1, sharex=True, figsize=(12,4))\n",
    "    for i, ch in enumerate(ts.channel.values):\n",
    "        ax[i].plot(ts.time, ts.sel(channel=ch, chromo=\"HbO\"), \"r-\")\n",
    "        ax[i].plot(ts.time, ts.sel(channel=ch, chromo=\"HbR\"), \"b-\")\n",
    "        ax[i].plot(pred.time, pred.sel(channel=ch, chromo=\"HbO\"), \"-\", c=\"#e41a1c\", lw=2)\n",
    "        ax[i].plot(pred.time, pred.sel(channel=ch, chromo=\"HbR\"), \"-\", c=\"#377eb8\", lw=2)\n",
    "        ax[i].set_title(f\"Ch {ch}\")\n",
    "        plots.plot_stim_markers(ax[i], stim, y=1)\n",
    "    p.tight_layout()"
   ]
  },
  {
   "cell_type": "code",
   "execution_count": null,
   "metadata": {},
   "outputs": [],
   "source": [
    "# use all regressors of the design matrix to predict the time series\n",
    "pred = glm.predict(ts, betas, dm, channel_wise_regressors)\n",
    "display(pred)\n",
    "plot_data_to_fit_comparison(ts, pred, stim)\n",
    "\n",
    "\n",
    "# use only HRF-related regressors, i.e. remove the drift/offset\n",
    "pred = glm.predict(\n",
    "    ts,\n",
    "    # select regressor whose label start with HRF Stim\n",
    "    betas.sel(regressor=betas.regressor.str.startswith(\"HRF Stim\")),\n",
    "    dm,\n",
    "    channel_wise_regressors,\n",
    ")\n",
    "plot_data_to_fit_comparison(ts, pred, stim)\n"
   ]
  },
  {
   "cell_type": "markdown",
   "metadata": {},
   "source": [
    "## Fitting the GLM - this time using a slightly different model"
   ]
  },
  {
   "cell_type": "code",
   "execution_count": null,
   "metadata": {},
   "outputs": [],
   "source": [
    "# copy the stimulus DataFrame and set all values to 1, i.e.\n",
    "# there is no prior knowledge about amplitude differences between trials\n",
    "stim_other = stim.copy()\n",
    "stim_other[\"value\"] = 1.\n",
    "display(stim_other)\n",
    "\n",
    "# this design matrix also uses Gamma basis functions but \n",
    "# the onset (tau) is delayed and the HRF width (sigma) is longer.\n",
    "dm_other, channel_wise_regressors_other = glm.make_design_matrix(\n",
    "    ts,\n",
    "    None,\n",
    "    stim_other,\n",
    "    None,\n",
    "    basis_function=glm.Gamma(tau=1 * units.s, sigma=7 * units.s, T=10 * units.s),\n",
    "    drift_order=0,\n",
    "    short_channel_method=None,\n",
    ")\n",
    "\n",
    "\n",
    "betas = glm.fit(ts, dm_other, channel_wise_regressors_other, noise_model=\"ols\")\n",
    "\n",
    "# display the fitted betas as a DataFrame\n",
    "display(betas.rename(\"betas_S1D1\").to_dataframe())"
   ]
  },
  {
   "cell_type": "code",
   "execution_count": null,
   "metadata": {},
   "outputs": [],
   "source": [
    "pred = glm.predict(ts, betas, dm_other, channel_wise_regressors_other)\n",
    "display(pred)\n",
    "plot_data_to_fit_comparison(ts, pred, stim_other)\n",
    "\n",
    "\n",
    "pred = glm.predict(\n",
    "    ts,\n",
    "    betas.sel(regressor=betas.regressor.str.startswith(\"HRF Stim\")),\n",
    "    dm_other,\n",
    "    channel_wise_regressors_other,\n",
    ")\n",
    "plot_data_to_fit_comparison(ts, pred, stim_other)\n"
   ]
  },
  {
   "cell_type": "markdown",
   "metadata": {},
   "source": [
    "## Fitting with multiple gaussian kernels"
   ]
  },
  {
   "cell_type": "code",
   "execution_count": null,
   "metadata": {},
   "outputs": [],
   "source": [
    "dm_other, channel_wise_regressors_other = glm.make_design_matrix(\n",
    "    ts,\n",
    "    None,\n",
    "    stim_other,\n",
    "    None,\n",
    "    basis_function=glm.GaussianKernels(\n",
    "        t_pre=5 * units.s, t_post=30 * units.s, t_delta=3 * units.s, t_std=2 * units.s\n",
    "    ),\n",
    "    drift_order=0,\n",
    "    short_channel_method=None,\n",
    ")\n",
    "\n",
    "betas = glm.fit(ts, dm_other, channel_wise_regressors_other, noise_model=\"ols\")\n",
    "\n",
    "f,ax = p.subplots(1,1, figsize=(12,4))\n",
    "for reg in dm_other.regressor.values:\n",
    "    p.plot(dm_other.time, dm_other.sel(chromo=\"HbO\", regressor=reg), label=reg)\n",
    "plots.plot_stim_markers(ax, stim_other, y=1.)\n",
    "p.legend(ncol=3, loc=\"center right\")\n",
    "p.xlim(0,90)"
   ]
  },
  {
   "cell_type": "code",
   "execution_count": null,
   "metadata": {},
   "outputs": [],
   "source": [
    "# translate the xr.DataArray into a pd.DataFrame which are displayed as tables\n",
    "display(betas.rename(\"betas_S1D1\").to_dataframe())"
   ]
  },
  {
   "cell_type": "code",
   "execution_count": null,
   "metadata": {
    "tags": [
     "nbsphinx-thumbnail"
    ]
   },
   "outputs": [],
   "source": [
    "pred = glm.predict(ts, betas, dm_other, channel_wise_regressors_other)\n",
    "display(pred)\n",
    "plot_data_to_fit_comparison(ts, pred, stim_other)\n",
    "\n",
    "\n",
    "pred = glm.predict(\n",
    "    ts,\n",
    "    betas.sel(regressor=betas.regressor.str.startswith(\"HRF Stim\")),\n",
    "    dm_other,\n",
    "    channel_wise_regressors_other,\n",
    ")\n",
    "plot_data_to_fit_comparison(ts, pred, stim_other)\n"
   ]
  }
 ],
 "metadata": {
  "kernelspec": {
   "display_name": "cedalion",
   "language": "python",
   "name": "python3"
  },
  "language_info": {
   "codemirror_mode": {
    "name": "ipython",
    "version": 3
   },
   "file_extension": ".py",
   "mimetype": "text/x-python",
   "name": "python",
   "nbconvert_exporter": "python",
   "pygments_lexer": "ipython3",
   "version": "3.11.8"
  }
 },
 "nbformat": 4,
 "nbformat_minor": 2
}
