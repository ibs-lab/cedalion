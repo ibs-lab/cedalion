{
 "cells": [
  {
   "cell_type": "markdown",
   "metadata": {},
   "source": [
    "# Statsmodels Methods Overview"
   ]
  },
  {
   "cell_type": "code",
   "execution_count": null,
   "metadata": {},
   "outputs": [],
   "source": [
    "# This cells setups the environment when executed in Google Colab.\n",
    "try:\n",
    "    import google.colab\n",
    "    !curl -s https://raw.githubusercontent.com/ibs-lab/cedalion/dev/scripts/colab_setup.py -o colab_setup.py\n",
    "    # Select branch with --branch \"branch name\" (default is \"dev\")\n",
    "    %run colab_setup.py\n",
    "except ImportError:\n",
    "    pass"
   ]
  },
  {
   "cell_type": "code",
   "execution_count": null,
   "metadata": {
    "nbsphinx": "hidden"
   },
   "outputs": [],
   "source": [
    "# this cell won't be rendered in the sphinx documentation to keep the page short\n",
    "\n",
    "import matplotlib.pyplot as p\n",
    "import numpy as np\n",
    "import pandas as pd\n",
    "import xarray as xr\n",
    "\n",
    "import cedalion\n",
    "import cedalion.datasets\n",
    "import cedalion.io\n",
    "import cedalion.models.glm as glm\n",
    "import cedalion.nirs\n",
    "import cedalion.plots as plots\n",
    "import cedalion.sigproc.frequency\n",
    "from cedalion import units\n",
    "\n",
    "xr.set_options(display_expand_data=False);\n",
    "\n",
    "rec = cedalion.datasets.get_fingertapping()\n",
    "\n",
    "# rename trials\n",
    "rec.stim.cd.rename_events(\n",
    "    {\n",
    "        \"1.0\": \"control\",\n",
    "        \"2.0\": \"Tapping/Left\",\n",
    "        \"3.0\": \"Tapping/Right\",\n",
    "        \"15.0\": \"sentinel\",\n",
    "    }\n",
    ")\n",
    "rec.stim = rec.stim[rec.stim.trial_type != \"sentinel\"]\n",
    "\n",
    "# differential pathlenght factors\n",
    "dpf = xr.DataArray(\n",
    "    [6, 6],\n",
    "    dims=\"wavelength\",\n",
    "    coords={\"wavelength\": rec[\"amp\"].wavelength},\n",
    ")\n",
    "\n",
    "# calculate optical density and concentrations\n",
    "rec[\"od\"] = cedalion.nirs.int2od(rec[\"amp\"])\n",
    "rec[\"conc\"] = cedalion.nirs.od2conc(rec[\"od\"], rec.geo3d, dpf, spectrum=\"prahl\")\n",
    "\n",
    "# Bandpass filter remove cardiac component and slow drifts.\n",
    "# Here we use a highpass to remove drift. Another possible option would be to\n",
    "# use drift regressors in the design matrix.\n",
    "fmin = 0.02 * units.Hz\n",
    "fmax = 0 * units.Hz\n",
    "\n",
    "rec[\"conc_filtered\"] = cedalion.sigproc.frequency.freq_filter(rec[\"conc\"], fmin, fmax)\n",
    "\n",
    "\n",
    "ts = rec[\"conc_filtered\"]\n",
    "\n",
    "# split time series into two based on channel distance\n",
    "ts_long, ts_short = cedalion.nirs.split_long_short_channels(\n",
    "    rec[\"conc_filtered\"], rec.geo3d, distance_threshold=1.5 * units.cm\n",
    ")\n",
    "\n",
    "dms = (\n",
    "    glm.design_matrix.hrf_regressors(\n",
    "        ts_long, rec.stim, glm.Gamma(tau=0 * units.s, sigma=3 * units.s)\n",
    "    )\n",
    "    & glm.design_matrix.closest_short_channel_regressor(ts_long, ts_short, rec.geo3d)\n",
    ")\n",
    "dms.channel_wise[0] = dms.channel_wise[0].pint.dequantify()\n",
    "dms.channel_wise[0] /= dms.channel_wise[0].max(\"time\")\n",
    "\n",
    "dm = dms.common\n",
    "\n"
   ]
  },
  {
   "cell_type": "markdown",
   "metadata": {},
   "source": [
    "Cedalion uses statsmodels for its GLM fitting functionality, and this notebook gives an overview of some common statsmodels methods. The glm.fit function returns an xr.DataArray of statsmodels RegressionResults objects with dimensions (channel, chromo). Any RegressionResults method can be called on this DataArray using the .sm accessor. A full list of available methods and attribute can be found in the [statsmodels documentation](https://www.statsmodels.org/dev/generated/statsmodels.regression.linear_model.RegressionResults.html).\n",
    "\n",
    "In this notebook, we'll assume that we have already loaded our data and set up the GLM. See the other GLM notebooks for details on setup.\n",
    "\n",
    "We'll start by fitting the GLM and displaying the resulting object."
   ]
  },
  {
   "cell_type": "code",
   "execution_count": null,
   "metadata": {},
   "outputs": [],
   "source": [
    "results = glm.fit(ts_long, dms)\n",
    "display(results)"
   ]
  },
  {
   "cell_type": "markdown",
   "metadata": {},
   "source": [
    "The results object is a DataArray of statsmodels [RegressionResults](https://www.statsmodels.org/dev/generated/statsmodels.regression.linear_model.RegressionResults.html): one for each channel/chromophore. In order to call a method on our results object, we just use the accessor `.sm`, followed by the RegressionResults method. Cedalion handles calling the method on each individual RegressionResults object in the results DataArray, and returns the outputs in a new DataArray with the appropriate dimensions. This allows us to get information on all channels simply and concisely.\n"
   ]
  },
  {
   "cell_type": "markdown",
   "metadata": {},
   "source": [
    "### Beta Coefficients (params)"
   ]
  },
  {
   "cell_type": "markdown",
   "metadata": {},
   "source": [
    "First, we'll retreive the coefficients of the GLM fit."
   ]
  },
  {
   "cell_type": "code",
   "execution_count": null,
   "metadata": {},
   "outputs": [],
   "source": [
    "results.sm.params"
   ]
  },
  {
   "cell_type": "markdown",
   "metadata": {},
   "source": [
    "### Standard Error\n",
    "\n",
    "The method [bse](https://www.statsmodels.org/dev/generated/statsmodels.regression.linear_model.RegressionResults.bse.html#statsmodels.regression.linear_model.RegressionResults.bse) returns the standard errors of the parameter estimates"
   ]
  },
  {
   "cell_type": "code",
   "execution_count": null,
   "metadata": {},
   "outputs": [],
   "source": [
    "results.sm.bse"
   ]
  },
  {
   "cell_type": "markdown",
   "metadata": {},
   "source": [
    "### Confidence Intervals (conf_int)"
   ]
  },
  {
   "cell_type": "markdown",
   "metadata": {},
   "source": [
    "The method [conf_int](https://www.statsmodels.org/dev/generated/statsmodels.regression.linear_model.RegressionResults.conf_int.html#statsmodels.regression.linear_model.RegressionResults.conf_int) calculates the confidence interval of the fitted parameters. We can specify the alpha level for the confidence interval (default 5%).\n",
    "\n",
    "In the output, the index conf_int marks the low (conf_int=0) and high (conf_int=1) endpoints of the confidence interval."
   ]
  },
  {
   "cell_type": "code",
   "execution_count": null,
   "metadata": {},
   "outputs": [],
   "source": [
    "results.sm.conf_int(alpha=0.05)"
   ]
  },
  {
   "cell_type": "markdown",
   "metadata": {},
   "source": [
    "### Covariance and Variance\n",
    "\n",
    "The method [cov_params](https://www.statsmodels.org/dev/generated/statsmodels.regression.linear_model.RegressionResults.cov_params.html) computes the covariance matrix. Note that we can recover the variances from the diagonal elements of the matrix."
   ]
  },
  {
   "cell_type": "code",
   "execution_count": null,
   "metadata": {},
   "outputs": [],
   "source": [
    "results.sm.cov_params()"
   ]
  },
  {
   "cell_type": "markdown",
   "metadata": {},
   "source": [
    "Here we visualize the covariance matrix for a single regressor:"
   ]
  },
  {
   "cell_type": "code",
   "execution_count": null,
   "metadata": {},
   "outputs": [],
   "source": [
    "p.imshow(results.sm.cov_params()[0,0,:,:]);"
   ]
  },
  {
   "cell_type": "markdown",
   "metadata": {},
   "source": [
    "The convenience function `sm.regressor_variances` computes the variances of the regressors, i.e. the diagonal elements of the covariance matrices."
   ]
  },
  {
   "cell_type": "code",
   "execution_count": null,
   "metadata": {},
   "outputs": [],
   "source": [
    "# returns diagonal elements of the cov matrices\n",
    "results.sm.regressor_variances()"
   ]
  },
  {
   "cell_type": "markdown",
   "metadata": {},
   "source": [
    "### Statistical Tests - T-values, P-values\n",
    "\n",
    "Statsmodels also has sophisticated functionality for performing statistical tests on regression results.\n",
    "\n",
    "The method [t-values](https://www.statsmodels.org/dev/generated/statsmodels.regression.linear_model.RegressionResults.tvalues.html) simply returns the t-statistic for each coefficient.\n"
   ]
  },
  {
   "cell_type": "code",
   "execution_count": null,
   "metadata": {},
   "outputs": [],
   "source": [
    "results.sm.tvalues"
   ]
  },
  {
   "cell_type": "markdown",
   "metadata": {},
   "source": [
    "The method [t-test](https://www.statsmodels.org/dev/generated/statsmodels.regression.linear_model.RegressionResults.t_test.html#statsmodels.regression.linear_model.RegressionResults.t_test) allows for general linear hypothesis tests.\n",
    "\n",
    "We can specify contrasts either by passing an r-matrix or through strings. See the [patsy documentation](https://patsy.readthedocs.io/en/latest/API-reference.html#patsy.DesignInfo.linear_constraint) for details on specifying linear contrasts using strings.\n",
    "\n",
    "The method returns an array of statsmodel [ContrastResult objects](https://www.statsmodels.org/dev/dev/generated/statsmodels.stats.contrast.ContrastResults.html#statsmodels.stats.contrast.ContrastResults)."
   ]
  },
  {
   "cell_type": "code",
   "execution_count": null,
   "metadata": {},
   "outputs": [],
   "source": [
    "# Specifying hypotheses for t-test as string\n",
    "hypotheses = \"HRF Tapping/Left = HRF control, HRF Tapping/Right = HRF control\"\n",
    "\n",
    "contrast_results = results.sm.t_test(hypotheses)\n",
    "display(contrast_results)\n"
   ]
  },
  {
   "cell_type": "markdown",
   "metadata": {},
   "source": [
    "We can use the `.sm` accessor on the resulting `DataArray` of `ContrastResult` objects, just like we did before with the `RegressionResult` arrays.\n",
    "\n",
    "The convenience functions `sm.tvalues()` and `sm.pvalues()` return the t- and p-values of the contrast, respectively.\n",
    "\n",
    "The `sm.map` method works analogously to the map function in python, applying a given function to each cell of the DataArray.\n",
    "\n",
    "Below, we extract the t-values of the contrast using first the map method and then the convenience function."
   ]
  },
  {
   "cell_type": "code",
   "execution_count": null,
   "metadata": {},
   "outputs": [],
   "source": [
    "# Extracting t-values from the contrast results\n",
    "display(contrast_results.sm.map(lambda i : i.tvalue, name=\"hypothesis\"))\n",
    "\n",
    "display(contrast_results.sm.t_values())"
   ]
  },
  {
   "cell_type": "code",
   "execution_count": null,
   "metadata": {},
   "outputs": [],
   "source": [
    "# Extracting p-values from the contrast results\n",
    "display(contrast_results.sm.p_values())"
   ]
  },
  {
   "cell_type": "markdown",
   "metadata": {},
   "source": [
    "### Plotting Uncertainty Bands"
   ]
  },
  {
   "cell_type": "markdown",
   "metadata": {},
   "source": [
    "In this section, we explore a technique, still in development, for visualizing uncertainty in a GLM with many regressors. This method visualizes the uncertainty in a GLM fit by drawing multiple samples of the beta coefficients from their estimated covariance (via multivariate normal sampling). It then uses these sampled betas to generate predicted time courses, and plots the mean prediction with a shaded band representing ±3 standard deviations across samples, thus capturing the variability due to model uncertainty. The band is quite narrow because uncertainty is low in this toy example.\n",
    "\n",
    "FIXME: Band even smaller than before?"
   ]
  },
  {
   "cell_type": "code",
   "execution_count": null,
   "metadata": {},
   "outputs": [],
   "source": [
    "# Sample betas\n",
    "\n",
    "betas = results.sm.params\n",
    "cov = results.sm.cov_params()\n",
    "\n",
    "sampled_betas = xr.zeros_like(betas).expand_dims({\"sample\" : 100}, axis=-1).copy()\n",
    "for i_ch in range(sampled_betas.shape[0]):\n",
    "    for i_cr in range(sampled_betas.shape[1]):\n",
    "        sampled_betas[i_ch, i_cr, :, :] = np.random.multivariate_normal(\n",
    "            betas[i_ch, i_cr, :],\n",
    "            cov[i_ch, i_cr, :, :],\n",
    "            size=100,\n",
    "        ).T\n",
    "\n",
    "display(sampled_betas)"
   ]
  },
  {
   "cell_type": "code",
   "execution_count": null,
   "metadata": {},
   "outputs": [],
   "source": [
    "# Predicting the time series using the sampled betas\n",
    "pred = glm.predict(ts_long, sampled_betas, dms)\n",
    "display(pred)"
   ]
  },
  {
   "cell_type": "code",
   "execution_count": null,
   "metadata": {},
   "outputs": [],
   "source": [
    "# Plot a band between mean-3*std and mean+3*std\n",
    "# We select a 20 second window for better visualization\n",
    "pred_mean = pred.mean(\"sample\")\n",
    "pred_std = pred.std(\"sample\")\n",
    "\n",
    "mm = pred_mean.loc[slice(60,80), \"S5D5\", \"HbO\"]\n",
    "ss = pred_std.loc[slice(60,80), \"S5D5\", \"HbO\"]\n",
    "\n",
    "p.plot(mm.time, mm, c=\"r\")\n",
    "p.fill_between(mm.time, mm-3*ss, mm+3*ss, fc=\"y\", alpha=.8)\n",
    "\n",
    "p.xlabel(\"time / s\")\n",
    "p.ylabel(r\"$\\Delta$  c / uM\");"
   ]
  }
 ],
 "metadata": {
  "kernelspec": {
   "display_name": "cedalion_250620",
   "language": "python",
   "name": "python3"
  },
  "language_info": {
   "codemirror_mode": {
    "name": "ipython",
    "version": 3
   },
   "file_extension": ".py",
   "mimetype": "text/x-python",
   "name": "python",
   "nbconvert_exporter": "python",
   "pygments_lexer": "ipython3",
   "version": "3.13.5"
  }
 },
 "nbformat": 4,
 "nbformat_minor": 2
}
