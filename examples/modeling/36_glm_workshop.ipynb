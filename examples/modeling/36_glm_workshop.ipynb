{
 "cells": [
  {
   "cell_type": "markdown",
   "id": "0",
   "metadata": {},
   "source": [
    "# Fitting a GLM with Gaussian Kernels"
   ]
  },
  {
   "cell_type": "code",
   "execution_count": null,
   "id": "1",
   "metadata": {},
   "outputs": [],
   "source": [
    "# This cells setups the environment when executed in Google Colab.\n",
    "try:\n",
    "    import google.colab\n",
    "    !curl -s https://raw.githubusercontent.com/ibs-lab/cedalion/dev/scripts/colab_setup.py -o colab_setup.py\n",
    "    # Select branch with --branch \"branch name\" (default is \"dev\")\n",
    "    %run colab_setup.py\n",
    "except ImportError:\n",
    "    pass"
   ]
  },
  {
   "cell_type": "code",
   "execution_count": null,
   "id": "2",
   "metadata": {},
   "outputs": [],
   "source": [
    "import cedalion\n",
    "import cedalion.sigproc.quality as quality\n",
    "import cedalion.sigproc.motion_correct as motion_correct\n",
    "import cedalion.sigproc.physio as physio\n",
    "\n",
    "\n",
    "from cedalion import units\n",
    "import cedalion.xrutils as xrutils\n",
    "import cedalion.models.glm as glm\n",
    "import cedalion.datasets\n",
    "\n",
    "import cedalion.plots\n",
    "from cedalion.plots import segmented_cmap\n",
    "\n",
    "from pathlib import Path\n",
    "import numpy as np\n",
    "import xarray as xr\n",
    "\n",
    "import matplotlib.pyplot as p\n",
    "from statsmodels.stats.multitest import multipletests\n",
    "\n",
    "xr.set_options(display_expand_data=False)\n",
    "xrutils.unit_stripping_is_error()"
   ]
  },
  {
   "cell_type": "markdown",
   "id": "3",
   "metadata": {},
   "source": [
    "## Load Data"
   ]
  },
  {
   "cell_type": "code",
   "execution_count": null,
   "id": "4",
   "metadata": {},
   "outputs": [],
   "source": [
    "rec = cedalion.datasets.get_fingertappingDOT()\n",
    "\n",
    "# assign better trial_type labels\n",
    "rec.stim.cd.rename_events(\n",
    "    {\n",
    "        \"1\": \"Control\",\n",
    "        \"2\": \"FTapping/Left\",\n",
    "        \"3\": \"FTapping/Right\",\n",
    "        \"4\": \"BallSqueezing/Left\",\n",
    "        \"5\": \"BallSqueezing/Right\",\n",
    "    }\n",
    ")"
   ]
  },
  {
   "cell_type": "code",
   "execution_count": null,
   "id": "5",
   "metadata": {},
   "outputs": [],
   "source": [
    "# count trials\n",
    "rec.stim.groupby(\"trial_type\")[[\"trial_type\"]].count().rename(\n",
    "    {\"trial_type\": \"# trials\"},\n",
    "    axis=1,\n",
    ")\n"
   ]
  },
  {
   "cell_type": "markdown",
   "id": "6",
   "metadata": {},
   "source": [
    "## Trim dataset\n",
    "\n",
    "Reduce the lenght of the dataset to about 5 minutes. This keeps computing times low for presentation and maintains 3 trials for each condition.\n",
    "Also ignore the BallSqueezing conditions."
   ]
  },
  {
   "cell_type": "code",
   "execution_count": null,
   "id": "7",
   "metadata": {},
   "outputs": [],
   "source": [
    "\n",
    "tmin = 5\n",
    "tmax = 315\n",
    "\n",
    "rec.stim = rec.stim[\n",
    "    (tmin <= rec.stim.onset)\n",
    "    & (rec.stim.onset <= tmax)\n",
    "    & (rec.stim.trial_type.isin([\"Control\", \"FTapping/Left\", \"FTapping/Right\"]))\n",
    "]\n",
    "rec[\"amp_cropped\"] = rec[\"amp\"].sel(time=slice(tmin,tmax))\n",
    "\n",
    "# count trials\n",
    "rec.stim.groupby(\"trial_type\")[[\"trial_type\"]].count().rename(\n",
    "    {\"trial_type\": \"# trials\"},\n",
    "    axis=1,\n",
    ")\n"
   ]
  },
  {
   "cell_type": "markdown",
   "id": "8",
   "metadata": {},
   "source": [
    "## Preprocessing \n",
    "\n",
    "- apply TDDR and wavelet corrections\n",
    "- remove two known bad channels\n",
    "- transform to concentrations\n",
    "- apply a frequency filter"
   ]
  },
  {
   "cell_type": "code",
   "execution_count": null,
   "id": "9",
   "metadata": {},
   "outputs": [],
   "source": [
    "rec[\"od\"] = cedalion.nirs.int2od(rec[\"amp_cropped\"])\n",
    "rec[\"od_tddr\"] = motion_correct.tddr(rec[\"od\"])\n",
    "rec[\"od_wavelet\"] = motion_correct.wavelet(rec[\"od_tddr\"])\n",
    "\n",
    "bad_channels = ['S13D26', 'S14D28']\n",
    "\n",
    "rec[\"od_clean\"] = rec[\"od_wavelet\"].sel(channel=~rec[\"od\"].channel.isin(bad_channels))\n",
    "\n",
    "# differential pathlength factors\n",
    "dpf = xr.DataArray(\n",
    "    [6, 6],\n",
    "    dims=\"wavelength\",\n",
    "    coords={\"wavelength\": rec[\"amp\"].wavelength},\n",
    ")\n",
    "\n",
    "rec[\"conc\"] = cedalion.nirs.od2conc(rec[\"od_clean\"], rec.geo3d, dpf, spectrum=\"prahl\")\n",
    "\n",
    "# Here we use a lowpass-filter to remove the cardiac component. \n",
    "# Drift will be modeled in the design matrix.\n",
    "\n",
    "fmin = 0 * units.Hz\n",
    "fmax = 0.5 * units.Hz\n",
    "\n",
    "rec[\"conc_filtered\"] = cedalion.sigproc.frequency.freq_filter(rec[\"conc\"], fmin, fmax)\n",
    "\n",
    "TS_NAME = \"conc_filtered\""
   ]
  },
  {
   "cell_type": "code",
   "execution_count": null,
   "id": "10",
   "metadata": {},
   "outputs": [],
   "source": [
    "display(rec[TS_NAME])"
   ]
  },
  {
   "cell_type": "markdown",
   "id": "11",
   "metadata": {},
   "source": [
    "## Montage and Channel Distances"
   ]
  },
  {
   "cell_type": "code",
   "execution_count": null,
   "id": "12",
   "metadata": {},
   "outputs": [],
   "source": [
    "cedalion.plots.plot_montage3D(rec[\"amp\"], rec.geo3d)"
   ]
  },
  {
   "cell_type": "code",
   "execution_count": null,
   "id": "13",
   "metadata": {},
   "outputs": [],
   "source": [
    "distances = cedalion.nirs.channel_distances(rec[\"amp\"], rec.geo3d)\n",
    "\n",
    "p.figure(figsize=(8,4))\n",
    "p.hist(distances, 40)\n",
    "p.axvline(22.5, c=\"r\", ls=\"--\")\n",
    "p.xlabel(\"channel distance / mm\")\n",
    "p.ylabel(\"channel count\");"
   ]
  },
  {
   "cell_type": "markdown",
   "id": "14",
   "metadata": {},
   "source": [
    "The montage has longer (3-3.5cm) and shorter (~1.7-2.2cm) distance channels. Define a cut-off at 22.5 mm to define long and short channels."
   ]
  },
  {
   "cell_type": "code",
   "execution_count": null,
   "id": "15",
   "metadata": {},
   "outputs": [],
   "source": [
    "rec[\"ts_long\"], rec[\"ts_short\"] = cedalion.nirs.split_long_short_channels(\n",
    "    rec[TS_NAME], rec.geo3d, distance_threshold=22.5 * units.mm\n",
    ")\n",
    "\n",
    "display(rec[\"ts_long\"])\n",
    "display(rec[\"ts_short\"])"
   ]
  },
  {
   "cell_type": "markdown",
   "id": "16",
   "metadata": {},
   "source": [
    "## Fitting a General Linear Model "
   ]
  },
  {
   "cell_type": "markdown",
   "id": "17",
   "metadata": {},
   "source": [
    "### Building the Design Matrix\n",
    "\n",
    "Here we model the HRF with Gaussian kernels. For more modelling choices please refer to the [GLM basis functions notebook](./31_glm_basis_functions.ipynb)."
   ]
  },
  {
   "cell_type": "code",
   "execution_count": null,
   "id": "18",
   "metadata": {},
   "outputs": [],
   "source": [
    "\n",
    "gaussian_kernels = glm.basis_functions.GaussianKernels(\n",
    "    t_pre=2 * units.s,\n",
    "    t_post=15 * units.s,\n",
    "    t_delta=1.5 * units.s,\n",
    "    t_std=2 * units.s,\n",
    ")\n",
    "\n",
    "hrf_basis = gaussian_kernels(rec[\"ts_long\"])\n",
    "for i in range(hrf_basis.sizes[\"component\"]):\n",
    "    p.plot(hrf_basis.time, hrf_basis[:,i])\n",
    "    p.xlabel(\"relative time / s\")\n",
    "p.axvline(0, c=\"k\")\n"
   ]
  },
  {
   "cell_type": "markdown",
   "id": "19",
   "metadata": {},
   "source": [
    "Create design matrix from hrf, short channel and drift regressors.\n",
    "\n",
    "When fitting a GLM to fNIRS data, there are regressors that apply to all channels. Other regressors differ between channel. For example, if one chooses for each channel the closest nearby short-channel to model superficial components, then this regressor differs between channels.\n",
    "\n",
    "Consequently, the design matrix has two parts: common regressors and channel-wise regressors. \n",
    "\n",
    "In this example, all short channels are averaged to form a global (mostly) superficial component. The design matrix has only common regressors."
   ]
  },
  {
   "cell_type": "code",
   "execution_count": null,
   "id": "20",
   "metadata": {},
   "outputs": [],
   "source": [
    "\n",
    "dms = (\n",
    "    glm.design_matrix.hrf_regressors(\n",
    "        rec[\"ts_long\"],\n",
    "        rec.stim,\n",
    "        gaussian_kernels,\n",
    "    )\n",
    "    & glm.design_matrix.drift_cosine_regressors(rec[TS_NAME], fmax=0.02 * units.Hz)\n",
    "    & glm.design_matrix.average_short_channel_regressor(rec[\"ts_short\"])\n",
    ")"
   ]
  },
  {
   "cell_type": "code",
   "execution_count": null,
   "id": "21",
   "metadata": {},
   "outputs": [],
   "source": [
    "display(dms)\n",
    "display(dms.common)\n",
    "display(dms.channel_wise)"
   ]
  },
  {
   "cell_type": "markdown",
   "id": "22",
   "metadata": {},
   "source": [
    "### Visualize the design matrix"
   ]
  },
  {
   "cell_type": "code",
   "execution_count": null,
   "id": "23",
   "metadata": {},
   "outputs": [],
   "source": [
    "# select common regressors\n",
    "dm = dms.common\n",
    "display(dm)\n",
    "\n",
    "# using xr.DataArray.plot\n",
    "f, ax = p.subplots(1,1,figsize=(12,10))\n",
    "dm.sel(chromo=\"HbO\", time=dm.time < 600).T.plot()\n",
    "p.title(\"Shared Regressors\")\n",
    "#p.xticks(rotation=90)\n",
    "p.show()"
   ]
  },
  {
   "cell_type": "code",
   "execution_count": null,
   "id": "24",
   "metadata": {},
   "outputs": [],
   "source": [
    "# line plots of all regressors\n",
    "f, ax = p.subplots(2,1,sharex=True, figsize=(12,6))\n",
    "\n",
    "ch = \"S5D6\"\n",
    "\n",
    "for i, chromo in enumerate([\"HbO\", \"HbR\"]):\n",
    "    for reg in dm.regressor.values:\n",
    "        label = reg if i == 0 else None\n",
    "        ax[i].plot(dm.time, dm.sel(chromo=chromo, regressor=reg), label=label)\n",
    "\n",
    "    for cwr in dms.channel_wise:\n",
    "        for reg in cwr.regressor.values:\n",
    "            label = reg if i == 0 else None\n",
    "            ax[i].plot(cwr.time, cwr.sel(chromo=chromo, regressor=reg, channel=ch), label=label)\n",
    "\n",
    "    cedalion.plots.plot_stim_markers(ax[i], rec.stim, y=1)\n",
    "    ax[i].grid()\n",
    "    ax[i].set_title(chromo)\n",
    "    ax[i].set_ylim(-1.5,1.5)\n",
    "f.suptitle(\"All Regressors for Channel \" + ch)\n",
    "\n",
    "f.legend(ncol=5, loc=\"upper center\", bbox_to_anchor=(0.5, 0))\n",
    "ax[0].set_xlim(0,240);\n",
    "ax[1].set_xlabel(\"time / s\");\n",
    "f.set_tight_layout(True)"
   ]
  },
  {
   "cell_type": "markdown",
   "id": "25",
   "metadata": {},
   "source": [
    "### Fitting the Model\n",
    "\n",
    " Choose between `noise_model='ols'` and `noise_model='ar_irls'`. "
   ]
  },
  {
   "cell_type": "code",
   "execution_count": null,
   "id": "26",
   "metadata": {},
   "outputs": [],
   "source": [
    "#results = glm.fit(rec[\"ts_long\"], dms, noise_model=\"ols\", max_jobs=-1)\n",
    "results = glm.fit(rec[\"ts_long\"], dms, noise_model=\"ar_irls\", max_jobs=-1)\n",
    "\n",
    "display(results)"
   ]
  },
  {
   "cell_type": "markdown",
   "id": "27",
   "metadata": {},
   "source": [
    "### Inspecting Fit Results\n",
    "\n",
    "The result of the fit is an array of statsmodels result objects. Each contains the fitted parameters and other functionality to inspect fit parameter uncertainty or to perform hypothesis tests.\n",
    "\n"
   ]
  },
  {
   "cell_type": "code",
   "execution_count": null,
   "id": "28",
   "metadata": {},
   "outputs": [],
   "source": [
    "results[0,0].item().params"
   ]
  },
  {
   "cell_type": "markdown",
   "id": "29",
   "metadata": {},
   "source": [
    "- separating drift / background regressors and signal\n",
    "- plotting to show model-data fit"
   ]
  },
  {
   "cell_type": "markdown",
   "id": "30",
   "metadata": {},
   "source": [
    "Cedalion provides the `.sm` accessor on arrays of result objects to make accessing the statsmodels functionality easier."
   ]
  },
  {
   "cell_type": "code",
   "execution_count": null,
   "id": "31",
   "metadata": {},
   "outputs": [],
   "source": [
    "display(results.sm.params)"
   ]
  },
  {
   "cell_type": "markdown",
   "id": "32",
   "metadata": {},
   "source": [
    "The `glm.predict` function takes the original time series, the design matrix and the fitted parameters. Using these it predicts the sum of all regressors scaled with the best fitted parameters.\n",
    "\n",
    "When only a subset of the fitted parameters is provided, only those regressors are considered. This allows to predict the signal or background components separately."
   ]
  },
  {
   "cell_type": "code",
   "execution_count": null,
   "id": "33",
   "metadata": {},
   "outputs": [],
   "source": [
    "predicted = glm.predict(rec[\"ts_long\"], results.sm.params, dms)\n",
    "\n",
    "predicted_background = glm.predict(\n",
    "    rec[\"ts_long\"],\n",
    "    results.sm.params.sel(\n",
    "        regressor=results.sm.params.regressor.str.startswith(\"Drift\")\n",
    "        | results.sm.params.regressor.str.startswith(\"short\")\n",
    "    ),\n",
    "    dms,\n",
    ")\n",
    "predicted_signal = glm.predict(\n",
    "    rec[\"ts_long\"],\n",
    "    results.sm.params.sel(regressor=results.sm.params.regressor.str.startswith(\"HRF\")),\n",
    "    dms,\n",
    ")\n",
    "\n",
    "meas_hrf_only = rec[\"ts_long\"].pint.dequantify() - predicted_background "
   ]
  },
  {
   "cell_type": "markdown",
   "id": "34",
   "metadata": {},
   "source": [
    "Compare the preprocessed data to the full model"
   ]
  },
  {
   "cell_type": "code",
   "execution_count": null,
   "id": "35",
   "metadata": {},
   "outputs": [],
   "source": [
    "channels = [\"S3D1\", \"S12D22\", \"S9D25\", \"S11D31\"]\n",
    "\n",
    "f, ax = p.subplots(len(channels),1, figsize=(16, 3*len(channels)), sharex=True)\n",
    "\n",
    "for i_ch, ch in enumerate(channels):\n",
    "    ax[i_ch].plot(rec[\"ts_long\"].time, rec[\"ts_long\"].sel(channel=ch, chromo=\"HbO\"), \"-\", c=\"orange\", label=\"Data HbO\")\n",
    "    ax[i_ch].plot(rec[\"ts_long\"].time, rec[\"ts_long\"].sel(channel=ch, chromo=\"HbR\"), \"-\", c=\"purple\", label=\"Data HbR\")\n",
    "    ax[i_ch].plot(predicted_background.time, predicted.sel(channel=ch, chromo=\"HbO\"), \"r-\", label=\"Model HbO\")\n",
    "    ax[i_ch].plot(predicted_background.time, predicted.sel(channel=ch, chromo=\"HbR\"), \"b-\", label=\"Model HbR\")\n",
    "    #ax[i_ch].plot(predicted_background.time, predicted_background.sel(channel=ch, chromo=\"HbO\"), \"r-\", alpha=.5, label=\"Model Drift HbO\")\n",
    "    #ax[i_ch].plot(predicted_background.time, predicted_background.sel(channel=ch, chromo=\"HbR\"), \"b-\", alpha=.5, label=\"Model Drift HbO\")\n",
    "    cedalion.plots.plot_stim_markers(ax[i_ch], rec.stim, y=1)\n",
    "    ax[i_ch].set_title(f\"{ch} - {distances.sel(channel=ch).item().magnitude:.1f} mm\")\n",
    "    ax[i_ch].set_ylim(-1.75,1.75)\n",
    "    ax[i_ch].legend(loc=\"upper left\", ncol=8)"
   ]
  },
  {
   "cell_type": "markdown",
   "id": "36",
   "metadata": {},
   "source": [
    "Subtract the components modelled by short and drift regressors and show the fitted activations"
   ]
  },
  {
   "cell_type": "code",
   "execution_count": null,
   "id": "37",
   "metadata": {},
   "outputs": [],
   "source": [
    "f, ax = p.subplots(len(channels),1, figsize=(16, 3*len(channels)), sharex=True)\n",
    "\n",
    "for i_ch, ch in enumerate(channels):\n",
    "    ax[i_ch].plot(meas_hrf_only.time, meas_hrf_only.sel(channel=ch, chromo=\"HbO\"), \"-\", c=\"orange\", label=\"Data - Model Drift HbO\" )\n",
    "    ax[i_ch].plot(meas_hrf_only.time, meas_hrf_only.sel(channel=ch, chromo=\"HbR\"), \"-\", c=\"purple\", label=\"Data - Model Drift HbR\")\n",
    "    ax[i_ch].plot(predicted_signal.time, predicted_signal.sel(channel=ch, chromo=\"HbO\"), \"r-\", label=\"Model HRF HbO\")\n",
    "    ax[i_ch].plot(predicted_signal.time, predicted_signal.sel(channel=ch, chromo=\"HbR\"), \"b-\", label=\"Model HRF HbR\")\n",
    "    cedalion.plots.plot_stim_markers(ax[i_ch], rec.stim, y=1)\n",
    "\n",
    "    ax[i_ch].legend(loc=\"upper left\", ncol=8)\n",
    "    ax[i_ch].set_title(ch)\n",
    "    #ax[i_ch].set_ylim(-1.25, 1.25)\n",
    "    ax[i_ch].set_ylim(-.5, .5)\n",
    "\n"
   ]
  },
  {
   "cell_type": "markdown",
   "id": "38",
   "metadata": {},
   "source": [
    "### Plot goodness of fit metrics\n",
    "\n",
    "Here the median absolute residuals (MAR) and $R^2$ are used.\n",
    "\n",
    "(Note the scale difference between HbO and HbR for the MAR metric)"
   ]
  },
  {
   "cell_type": "code",
   "execution_count": null,
   "id": "39",
   "metadata": {},
   "outputs": [],
   "source": [
    "mar = np.abs(predicted - rec[\"ts_long\"].pint.dequantify()).median(\"time\")\n",
    "\n",
    "ss_res = ((rec[\"ts_long\"].pint.dequantify() - predicted)**2).sum(\"time\")\n",
    "ss_tot = ((rec[\"ts_long\"] - rec[\"ts_long\"].mean(\"time\"))**2).pint.dequantify().sum(\"time\")\n",
    "r2 = (1 - ss_res / ss_tot)\n",
    "\n",
    "f,ax = p.subplots(2,2, figsize=(12,10))\n",
    "\n",
    "for i, chromo in enumerate([\"HbO\", \"HbR\"]):\n",
    "    cedalion.plots.scalp_plot(\n",
    "        rec[\"ts_long\"],\n",
    "        rec.geo3d,\n",
    "        # results.sm.pvalues.sel(regressor=reg, chromo=chromo),\n",
    "        mar.sel(chromo=chromo),\n",
    "        ax[0,i],\n",
    "        cmap=\"RdYlGn_r\",\n",
    "        vmin=0,\n",
    "        vmax={\"HbO\" : 0.15, \"HbR\" : 0.05}[chromo],\n",
    "        title=f\"MAR - {chromo}\",\n",
    "        cb_label=\"MAR / µM\",\n",
    "        channel_lw=2,\n",
    "        optode_labels=True,\n",
    "        optode_size=24,\n",
    "    )\n",
    "    cedalion.plots.scalp_plot(\n",
    "        rec[\"ts_long\"],\n",
    "        rec.geo3d,\n",
    "        r2.sel(chromo=chromo),\n",
    "        ax[1,i],\n",
    "        cmap=\"RdYlGn\",\n",
    "        vmin=0,\n",
    "        vmax=1,\n",
    "        title=f\"$R^2$ - {chromo}\",\n",
    "        cb_label=\"$R^2$\",\n",
    "        channel_lw=2,\n",
    "        optode_labels=True,\n",
    "        optode_size=24,\n",
    "    )\n",
    "\n",
    "f.set_tight_layout(True)"
   ]
  },
  {
   "cell_type": "markdown",
   "id": "40",
   "metadata": {},
   "source": [
    "### Hypothesis tests\n",
    "\n",
    "- Performing a hypothesis test requires formulating null hypotheses.\n",
    "- Here H0: the \"size of activation\" of left or right fingertapping does not differ from the control condition\n",
    "- for simple models with one regressor per condition statsmodels offers and easy interface to formulate H0.\n",
    "\n",
    "- how to express \"size of activation\" for a model with multiple gaussian kernels?\n",
    "\n",
    "- Formulate H0 as a linear combination of the fitted parameters $\\theta_i$ and a contrast vector $c_i$ and test if the result deviates from zero:\n",
    "\n",
    "$$H0: x = \\begin{pmatrix} \\theta_1 \\\\ \\theta_2 \\\\ \\theta_3 \\end{pmatrix} \\cdot \\begin{pmatrix} c_1 \\\\ c_2 \\\\ c_3 \\end{pmatrix} = 0$$\n",
    "\n",
    "\n",
    "$$ \\textrm{for example: }c = \\begin{pmatrix} 1 \\\\ 0 \\\\ -1 \\end{pmatrix} \\rightarrow H0: \\theta_1 = \\theta_3 $$\n",
    "\n",
    "- Here we want to use the area under the HRF as size of the activation\n",
    "- since the model is linear the area under the fitted HRF can be computed by scaling the areas of the gaussian kernels with the fitted parameters\n",
    "$$A_{HRF} = \\begin{pmatrix} \\theta_1 \\\\ \\theta_2 \\\\ \\vdots \\\\ \\theta_N \\end{pmatrix} \\cdot \\begin{pmatrix} A_1 \\\\ A_2 \\\\ \\vdots \\\\ A_n \\end{pmatrix} $$\n",
    "\n",
    "- **Use the area under each regressor as contrast with oppsite signs to formulate which conditions should be compared**\n",
    "\n",
    "- restrict area calculation to a time window where the main activation is expected"
   ]
  },
  {
   "cell_type": "code",
   "execution_count": null,
   "id": "41",
   "metadata": {},
   "outputs": [],
   "source": [
    "def gaussian_kernel_timewindowed_auc_contrast(\n",
    "    dms, df_stim, condition1: str, condition2: str, tmin: float, tmax: float\n",
    "):\n",
    "    \"\"\"This function computes contrast vectors based on the time-windowed are of the regressors.\"\"\"\n",
    "\n",
    "    time = dms.common.time\n",
    "\n",
    "    # create two masks, that for each condition contains 1.0 only for \n",
    "    # time samples between onset+tmin and onset+tmax. All other entries\n",
    "    # zero\n",
    "    mask_cond1 = np.zeros(len(time))\n",
    "    mask_cond2 = np.zeros(len(time))\n",
    "\n",
    "    for _, row in df_stim.iterrows():\n",
    "        t1, t2 = row[\"onset\"]+tmin, row[\"onset\"]+tmax\n",
    "        if row[\"trial_type\"].startswith(condition1):\n",
    "            mask_cond1[(t1 <= time) & (time <= t2)] = 1.\n",
    "        if row[\"trial_type\"].startswith(condition2):\n",
    "            mask_cond2[(t1 <= time) & (time <= t2)] = 1.\n",
    "\n",
    "    # each gaussian regressor is multiplied with the mask for its condition. This sets\n",
    "    # all parts of the regressor outside the time window to zero. Through integration the remaining \n",
    "    # area under the curve is calculated.\n",
    "\n",
    "    nregressors = dms.common.sizes[\"regressor\"] \n",
    "    contrast = np.zeros(nregressors)\n",
    "    for i in range(nregressors):\n",
    "        if dms.common.regressor.values[i].startswith(f\"HRF {condition1}\"):\n",
    "            contrast[i] = np.trapezoid(dms.common[:,i,0]*mask_cond1, dms.common.time)\n",
    "        if dms.common.regressor.values[i].startswith(f\"HRF {condition2}\"):\n",
    "            contrast[i] = - np.trapezoid(dms.common[:,i,0]*mask_cond2, dms.common.time)\n",
    "\n",
    "    return contrast\n",
    "\n",
    "hypothesis_labels = [\n",
    "    \"HRF FTapping/Left = HRF Control\",\n",
    "    \"HRF FTapping/Right = HRF Control\",\n",
    "]\n",
    "\n",
    "hypotheses = [\n",
    "    gaussian_kernel_timewindowed_auc_contrast(dms, rec.stim, \"FTapping/Left\", \"Control\", 5, 10),\n",
    "    gaussian_kernel_timewindowed_auc_contrast(dms, rec.stim, \"FTapping/Right\", \"Control\", 5, 10),\n",
    "]\n",
    "\n",
    "display(hypotheses)"
   ]
  },
  {
   "cell_type": "markdown",
   "id": "42",
   "metadata": {},
   "source": [
    "Using the calculated contrasts (i.e. hypotheses) perform a t-test in each channel and chromophore using `.sm`"
   ]
  },
  {
   "cell_type": "code",
   "execution_count": null,
   "id": "43",
   "metadata": {},
   "outputs": [],
   "source": [
    "contrast_results = results.sm.t_test(hypotheses)\n",
    "\n",
    "display(contrast_results)\n",
    "display(contrast_results[0,0].item())"
   ]
  },
  {
   "cell_type": "markdown",
   "id": "44",
   "metadata": {},
   "source": [
    "### Apply FDR-control and visualize corrected p-values for all channels"
   ]
  },
  {
   "cell_type": "code",
   "execution_count": null,
   "id": "45",
   "metadata": {
    "tags": [
     "nbsphinx-thumbnail"
    ]
   },
   "outputs": [],
   "source": [
    "# create a colormap for p-values\n",
    "norm, cmap = cedalion.plots.segmented_cmap(\n",
    "    \"logpvalue\",\n",
    "    vmin=-4,\n",
    "    vmax=0,\n",
    "    segments=[\n",
    "        (np.log10(0.0001), \"blue\"),\n",
    "        (np.log10(0.001), \"red\"),\n",
    "        (np.log10(0.005), \"orange\"),\n",
    "        (np.log10(0.01), \"yellow\"),\n",
    "        (np.log10(0.05), \"green\"),\n",
    "        (np.log10(0.05), \"lightgray\"),\n",
    "        (np.log10(1), \"darkgray\"),\n",
    "    ],\n",
    "    under=\"magenta\"\n",
    ")\n",
    "\n",
    "nhypo = len(hypotheses)\n",
    "f, ax = p.subplots(2,len(hypotheses),figsize=(6 * nhypo,8))\n",
    "\n",
    "for i_row, chromo in enumerate([\"HbO\", \"HbR\"]):\n",
    "    for i_hypo, hypo in enumerate(hypotheses):\n",
    "\n",
    "        # get p_values for all channels and apply fdr correction\n",
    "        # use Benjamini-Hochberg here\n",
    "        p_values = contrast_results.sm.p_values().sel(chromo=chromo, hypothesis=i_hypo)\n",
    "        _, q_values, _, _ = multipletests(p_values, alpha=0.05, method=\"fdr_bh\")\n",
    "\n",
    "        cedalion.plots.scalp_plot(\n",
    "            rec[\"ts_long\"],\n",
    "            rec.geo3d,\n",
    "            np.log10(q_values),\n",
    "            ax[i_row][i_hypo],\n",
    "            cmap=cmap,\n",
    "            norm=norm,\n",
    "            title=f\"'{hypothesis_labels[i_hypo]}'?\\n{chromo}\",\n",
    "            cb_label=\"BH-corrected p-value\",\n",
    "            channel_lw=2,\n",
    "            optode_labels=False,\n",
    "            cb_ticks_labels=[(np.log10(i), str(i)) for i in [0.0001, 0.001, 0.005, 0.01, 0.05, 1.]],\n",
    "            optode_size=24,\n",
    "        )\n",
    "\n",
    "\n",
    "f.tight_layout()"
   ]
  },
  {
   "cell_type": "markdown",
   "id": "46",
   "metadata": {},
   "source": [
    "## Extract and plot HRFs with uncertainties\n",
    "\n",
    "- for extracting the HRF build a special design matrix\n",
    "  - spans only the time of one trial\n",
    "  - is not covolved over the stimulus duration (does not apply for gaussian kernels)"
   ]
  },
  {
   "cell_type": "code",
   "execution_count": null,
   "id": "47",
   "metadata": {},
   "outputs": [],
   "source": [
    "dms_extract = glm.design_matrix.hrf_extract_regressors(rec[\"ts_long\"], rec.stim, gaussian_kernels)\n",
    "display(dms_extract.common)\n"
   ]
  },
  {
   "cell_type": "markdown",
   "id": "48",
   "metadata": {},
   "source": [
    "Now predict time series with `dms_extract`. Additionally account for the uncertainties of the fitted parameters.\n",
    "\n",
    "Using the covariance matrix of the fitted parameters and a multivariate\n",
    "normal distribution, 10 sets of parameters are sampled around the best\n",
    "fit value. From this ensemble of predictions the mean and std are returned."
   ]
  },
  {
   "cell_type": "code",
   "execution_count": null,
   "id": "49",
   "metadata": {},
   "outputs": [],
   "source": [
    "hrfs_control_mean, hrfs_control_std = glm.predict_with_uncertainty(\n",
    "    rec[\"ts_long\"],\n",
    "    results,\n",
    "    dms_extract,\n",
    "    results.sm.params.regressor.str.startswith(\"HRF Control\"),\n",
    ")\n",
    "\n",
    "for i_hypo, trial_type in enumerate([\"HRF FTapping/Left\", \"HRF FTapping/Right\"]):\n",
    "    hrfs_mean, hrfs_std = glm.predict_with_uncertainty(\n",
    "        rec[\"ts_long\"],\n",
    "        results,\n",
    "        dms_extract,\n",
    "        results.sm.params.regressor.str.startswith(trial_type),\n",
    "    )\n",
    "\n",
    "    p_values_hbo = contrast_results.sm.p_values().sel(chromo=\"HbO\", hypothesis=i_hypo)\n",
    "    p_values_hbr = contrast_results.sm.p_values().sel(chromo=\"HbR\", hypothesis=i_hypo)\n",
    "\n",
    "    # apply fdr correction (q-values are shown in captions)\n",
    "    _, q_values_hbo, _, _ = multipletests(p_values_hbo, alpha=0.05, method=\"fdr_bh\")\n",
    "    _, q_values_hbr, _, _ = multipletests(p_values_hbr, alpha=0.05, method=\"fdr_bh\")\n",
    "\n",
    "    channels = hrfs_mean.channel.values\n",
    "\n",
    "    f, ax = p.subplots(5, 9, figsize=(16, 9), sharex=True, sharey=True)\n",
    "    ax = ax.flatten()\n",
    "\n",
    "    for i_ch, ch in enumerate(channels[: len(ax)]):\n",
    "        q_hbo = np.log10(q_values_hbo[i_ch])\n",
    "        q_hbr = np.log10(q_values_hbr[i_ch])\n",
    "\n",
    "        mm_hbo = hrfs_mean.sel(channel=ch, chromo=\"HbO\")\n",
    "        mm_hbr = hrfs_mean.sel(channel=ch, chromo=\"HbR\")\n",
    "        ss_hbo = hrfs_std.sel(channel=ch, chromo=\"HbO\")\n",
    "        ss_hbr = hrfs_std.sel(channel=ch, chromo=\"HbR\")\n",
    "\n",
    "        ax[i_ch].plot(mm_hbo.time, mm_hbo, \"r-\", label=\"HbO\")\n",
    "        ax[i_ch].fill_between(\n",
    "            mm_hbo.time, mm_hbo - ss_hbo, mm_hbo + ss_hbo, fc=\"r\", alpha=0.3\n",
    "        )\n",
    "        ax[i_ch].plot(mm_hbr.time, mm_hbr, \"b-\", label=\"HbR\")\n",
    "        ax[i_ch].fill_between(\n",
    "            mm_hbr.time, mm_hbr - ss_hbr, mm_hbr + ss_hbr, fc=\"b\", alpha=0.3\n",
    "        )\n",
    "\n",
    "        mm_hbo = hrfs_control_mean.sel(channel=ch, chromo=\"HbO\")\n",
    "        mm_hbr = hrfs_control_mean.sel(channel=ch, chromo=\"HbR\")\n",
    "        ss_hbo = hrfs_control_std.sel(channel=ch, chromo=\"HbO\")\n",
    "        ss_hbr = hrfs_control_std.sel(channel=ch, chromo=\"HbR\")\n",
    "\n",
    "        ax[i_ch].plot(mm_hbo.time, mm_hbo, \"orange\", label=\"HbO Control\")\n",
    "        ax[i_ch].fill_between(\n",
    "            mm_hbo.time, mm_hbo - ss_hbo, mm_hbo + ss_hbo, fc=\"orange\", alpha=0.3\n",
    "        )\n",
    "        ax[i_ch].plot(mm_hbr.time, mm_hbr, \"magenta\", label=\"HbR Control\")\n",
    "        ax[i_ch].fill_between(\n",
    "            mm_hbr.time, mm_hbr - ss_hbr, mm_hbr + ss_hbr, fc=\"magenta\", alpha=0.3\n",
    "        )\n",
    "\n",
    "        ax[i_ch].set_title(\n",
    "            f\"{ch}\\nlogq: HbO:{q_hbo:.1f} HbR:{q_hbr:.1f}\", fontdict={\"fontsize\": 8}\n",
    "        )\n",
    "        ax[i_ch].set_ylim(-0.3, 0.3)\n",
    "        ax[i_ch].grid()\n",
    "        ax[i_ch].axvline(0, c=\"k\", lw=2)\n",
    "        if i_ch == 0:\n",
    "            ax[i_ch].legend(loc=\"upper left\")\n",
    "    f.suptitle(trial_type)\n",
    "    f.set_tight_layout(True)\n"
   ]
  }
 ],
 "metadata": {
  "kernelspec": {
   "display_name": "cedalion_v25.1.0",
   "language": "python",
   "name": "python3"
  },
  "language_info": {
   "codemirror_mode": {
    "name": "ipython",
    "version": 3
   },
   "file_extension": ".py",
   "mimetype": "text/x-python",
   "name": "python",
   "nbconvert_exporter": "python",
   "pygments_lexer": "ipython3",
   "version": "3.11.13"
  }
 },
 "nbformat": 4,
 "nbformat_minor": 5
}
