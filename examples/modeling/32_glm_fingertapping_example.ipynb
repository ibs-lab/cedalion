{
 "cells": [
  {
   "cell_type": "markdown",
   "metadata": {},
   "source": [
    "# GLM Fingertapping Example"
   ]
  },
  {
   "cell_type": "code",
   "execution_count": null,
   "metadata": {},
   "outputs": [],
   "source": [
    "import matplotlib.pyplot as p\n",
    "import numpy as np\n",
    "import pandas as pd\n",
    "import xarray as xr\n",
    "\n",
    "import cedalion\n",
    "import cedalion.datasets\n",
    "import cedalion.io\n",
    "import cedalion.models.glm as glm\n",
    "import cedalion.nirs\n",
    "import cedalion.plots as plots\n",
    "import cedalion.sigproc.frequency\n",
    "from cedalion import units\n",
    "\n",
    "xr.set_options(display_expand_data=False);"
   ]
  },
  {
   "cell_type": "markdown",
   "metadata": {},
   "source": [
    "## Loading and preprocessing the dataset\n",
    "\n",
    "This notebook uses a finger-tapping dataset in BIDS layout provided by [Rob Luke](https://github.com/rob-luke/BIDS-NIRS-Tapping). It can can be downloaded via `cedalion.datasets`."
   ]
  },
  {
   "cell_type": "code",
   "execution_count": null,
   "metadata": {},
   "outputs": [],
   "source": [
    "rec = cedalion.datasets.get_fingertapping()\n",
    "\n",
    "# rename trials\n",
    "rec.stim.cd.rename_events(\n",
    "    {\n",
    "        \"1.0\": \"control\",\n",
    "        \"2.0\": \"Tapping/Left\",\n",
    "        \"3.0\": \"Tapping/Right\",\n",
    "        \"15.0\": \"sentinel\",\n",
    "    }\n",
    ")\n",
    "rec.stim = rec.stim[rec.stim.trial_type != \"sentinel\"]\n",
    "\n",
    "# differential pathlenght factors\n",
    "dpf = xr.DataArray(\n",
    "    [6, 6],\n",
    "    dims=\"wavelength\",\n",
    "    coords={\"wavelength\": rec[\"amp\"].wavelength},\n",
    ")\n",
    "\n",
    "# calculate optical density and concentrations\n",
    "rec[\"od\"] = cedalion.nirs.int2od(rec[\"amp\"])\n",
    "rec[\"conc\"] = cedalion.nirs.od2conc(rec[\"od\"], rec.geo3d, dpf, spectrum=\"prahl\")\n",
    "\n",
    "# Bandpass filter remove cardiac component and slow drifts.\n",
    "# Here we use a highpass to remove drift. Another possible option would be to\n",
    "# use drift regressors in the design matrix.\n",
    "fmin = 0.02 * units.Hz\n",
    "#fmax = 0.3 * units.Hz\n",
    "fmax = 0 * units.Hz\n",
    "\n",
    "rec[\"conc_filtered\"] = cedalion.sigproc.frequency.freq_filter(rec[\"conc\"], fmin, fmax)\n",
    "\n",
    "display(rec)"
   ]
  },
  {
   "cell_type": "markdown",
   "metadata": {},
   "source": [
    "Plot freq. filtered concentration data for two channels on the left (S1D1, S1D3) and right (S5D5, S5D7) hemispheres."
   ]
  },
  {
   "cell_type": "code",
   "execution_count": null,
   "metadata": {},
   "outputs": [],
   "source": [
    "ts = rec[\"conc_filtered\"]\n",
    "\n",
    "f, ax = p.subplots(4, 1, sharex=True, figsize=(12, 6))\n",
    "for i, ch in enumerate([\"S1D1\", \"S1D3\", \"S5D5\", \"S5D7\"]):\n",
    "    ax[i].plot(ts.time, ts.sel(channel=ch, chromo=\"HbO\"), \"r-\", label=\"HbO\")\n",
    "    ax[i].plot(ts.time, ts.sel(channel=ch, chromo=\"HbR\"), \"b-\", label=\"HbR\")\n",
    "    ax[i].set_title(f\"Ch. {ch}\")\n",
    "    cedalion.plots.plot_stim_markers(ax[i], rec.stim, y=1)\n",
    "    ax[i].set_ylabel(r\"$\\Delta$ c / uM\")\n",
    "\n",
    "ax[0].legend(ncol=6)\n",
    "ax[3].set_label(\"time / s\")\n",
    "ax[3].set_xlim(0,300)\n",
    "p.tight_layout()"
   ]
  },
  {
   "cell_type": "markdown",
   "metadata": {},
   "source": [
    "## Build design matrix\n",
    "- use the `glm.make_design_matrix` method to build regressors\n",
    "- to account for signal components from superficial layers use short-distance channel regression: for each long channel the closest short channel is selected. From these the channel-wise regressor'short' is derived."
   ]
  },
  {
   "cell_type": "code",
   "execution_count": null,
   "metadata": {},
   "outputs": [],
   "source": [
    "# split time series into two based on channel distance\n",
    "ts_long, ts_short = cedalion.nirs.split_long_short_channels(\n",
    "    rec[\"conc_filtered\"], rec.geo3d, distance_threshold=1.5 * units.cm\n",
    ")\n",
    "\n",
    "dms = (\n",
    "    glm.design_matrix.hrf_regressors(\n",
    "        ts_long, rec.stim, glm.Gamma(tau=0 * units.s, sigma=3 * units.s, T=3 * units.s)\n",
    "    )\n",
    "    & glm.design_matrix.drift_regressors(ts, drift_order=1)\n",
    "    & glm.design_matrix.closest_short_channel_regressor(ts_long, ts_short, rec.geo3d)\n",
    ")\n"
   ]
  },
  {
   "cell_type": "markdown",
   "metadata": {},
   "source": [
    "The design matrix `dm` holds all regressors that apply to all channels. It has dimensions 'time', 'chromo' and 'regressor'. Regressors have string labels."
   ]
  },
  {
   "cell_type": "code",
   "execution_count": null,
   "metadata": {},
   "outputs": [],
   "source": [
    "display(dms)\n",
    "display(dms.common)\n"
   ]
  },
  {
   "cell_type": "markdown",
   "metadata": {},
   "source": [
    "`channel_wise_regressors` is list of additional xr.DataArrays that contain regressors which differ between channels.\n",
    "Each such array may contain only one regressor (i.e. the size of the regressor dimension must be 1). The regressors for \n",
    "each channel are arranged in the additional 'channel' dimension."
   ]
  },
  {
   "cell_type": "code",
   "execution_count": null,
   "metadata": {},
   "outputs": [],
   "source": [
    "\n",
    "display(dms.channel_wise[0])\n",
    "\n"
   ]
  },
  {
   "cell_type": "code",
   "execution_count": null,
   "metadata": {},
   "outputs": [],
   "source": [
    "dms.channel_wise[0] = dms.channel_wise[0].pint.dequantify()\n",
    "dms.channel_wise[0] /= dms.channel_wise[0].max(\"time\")"
   ]
  },
  {
   "cell_type": "markdown",
   "metadata": {},
   "source": [
    "## Visualize the design matrix"
   ]
  },
  {
   "cell_type": "code",
   "execution_count": null,
   "metadata": {},
   "outputs": [],
   "source": [
    "dm = dms.common\n",
    "display(dm)\n",
    "\n",
    "# using xr.DataArray.plot\n",
    "f, ax = p.subplots(1,1,figsize=(12,5))\n",
    "dm.sel(chromo=\"HbO\", time=dm.time < 600).T.plot()\n",
    "p.xticks(rotation=90)\n",
    "p.show()\n",
    "\n",
    "# line plots of all regressors\n",
    "f, ax = p.subplots(2,1,sharex=True, figsize=(12,5))\n",
    "\n",
    "ch = \"S5D5\"\n",
    "\n",
    "for i, chromo in enumerate([\"HbO\", \"HbR\"]):\n",
    "    for reg in dm.regressor.values:\n",
    "        ax[i].plot(dm.time, dm.sel(chromo=chromo, regressor=reg), label=reg)\n",
    "\n",
    "    for cwr in dms.channel_wise:\n",
    "        for reg in cwr.regressor.values:\n",
    "            ax[i].plot(cwr.time, cwr.sel(chromo=chromo, regressor=reg, channel=ch), label=reg)\n",
    "    plots.plot_stim_markers(ax[i], rec.stim, y=1)\n",
    "    ax[i].grid()\n",
    "    ax[i].set_title(chromo)\n",
    "    ax[i].set_ylim(-1.5,1.5)\n",
    "\n",
    "ax[0].legend(ncol=5)\n",
    "ax[0].set_xlim(0,240);"
   ]
  },
  {
   "cell_type": "markdown",
   "metadata": {},
   "source": [
    "## Fitting the model"
   ]
  },
  {
   "cell_type": "code",
   "execution_count": null,
   "metadata": {},
   "outputs": [],
   "source": [
    "results = glm.fit(ts_long, dms, noise_model=\"ar_irls\", max_jobs=1)\n",
    "\n",
    "display(results)\n",
    "\n",
    "#pd.set_option('display.max_rows', None)\n",
    "#display(betas.rename(\"beta\").to_dataframe())"
   ]
  },
  {
   "cell_type": "code",
   "execution_count": null,
   "metadata": {},
   "outputs": [],
   "source": [
    "betas = results.sm.params\n",
    "betas"
   ]
  },
  {
   "cell_type": "code",
   "execution_count": null,
   "metadata": {},
   "outputs": [],
   "source": [
    "betas.rename(\"betas\").to_dataframe()"
   ]
  },
  {
   "cell_type": "code",
   "execution_count": null,
   "metadata": {},
   "outputs": [],
   "source": [
    "# best fit parameters + confidence intervals\n",
    "pd.concat([results[0,0].item().conf_int(), results[0,0].item().params.rename(\"beta\")], axis=1)"
   ]
  },
  {
   "cell_type": "markdown",
   "metadata": {},
   "source": [
    "## Model Predictions\n",
    "\n",
    "- using `glm.predict` one can scale the regressors in `dm` and `channel_wise_regressors` with the estimated coefficients to obtain a model prediction\n",
    "- by giving only a subset of betas to `glm.predict` one can predict subcomponents of the model"
   ]
  },
  {
   "cell_type": "code",
   "execution_count": null,
   "metadata": {},
   "outputs": [],
   "source": [
    "# prediction using all regressors\n",
    "betas = results.sm.params\n",
    "pred = glm.predict(ts_long, betas, dms)#, channel_wise_regressors)\n",
    "\n",
    "# prediction of all nuisance regressors, i.e. all regressors that don't start with 'HRF '\n",
    "pred_wo_hrf = glm.predict(\n",
    "    ts_long,\n",
    "    betas.sel(regressor=~betas.regressor.str.startswith(\"HRF \")),\n",
    "    dms,\n",
    ")\n",
    "\n",
    "# prediction of all HRF regressors, i.e. all regressors that start with 'HRF '\n",
    "pred_hrf = glm.predict(\n",
    "    ts_long,\n",
    "    betas.sel(regressor=betas.regressor.str.startswith(\"HRF \")),\n",
    "    dms,\n",
    ")"
   ]
  },
  {
   "cell_type": "markdown",
   "metadata": {},
   "source": [
    "## Plot model predictions"
   ]
  },
  {
   "cell_type": "code",
   "execution_count": null,
   "metadata": {},
   "outputs": [],
   "source": [
    "# plot the data and model prediction\n",
    "#ch = \"S6D7\"\n",
    "ch = \"S5D5\"\n",
    "f, ax = p.subplots(1,1, figsize=(12, 4))\n",
    "p.plot(ts_long.time, ts_long.sel(chromo=\"HbO\", channel=ch), \"r-\", label=\"data HbO\", alpha=.5)\n",
    "p.plot(pred.time, pred.sel(chromo=\"HbO\", channel=ch), \"r-\", label=\"model\", lw=2 )\n",
    "p.plot(pred.time, pred_wo_hrf.sel(chromo=\"HbO\", channel=ch), \"k:\", label=\"model w/o HRF\", alpha=.5)\n",
    "plots.plot_stim_markers(ax, rec.stim, y=1)\n",
    "p.xlim(60,300)\n",
    "p.ylim(-.4,.4)\n",
    "p.xlabel(\"time / s\")\n",
    "p.ylabel(r\"$\\Delta$  c / uM\")\n",
    "p.legend(ncol=4)\n",
    "\n",
    "\n",
    "# subtract from data nuisance regressors and plot against predicted HRF components\n",
    "f, ax = p.subplots(1,1, figsize=(12, 4))\n",
    "p.plot(pred_hrf.time, pred_hrf.sel(chromo=\"HbO\", channel=ch), \"r-\", label=\"HRF HbO\")\n",
    "p.plot(pred_hrf.time, pred_hrf.sel(chromo=\"HbR\", channel=ch), \"b-\", label=\"HRF HbR\")\n",
    "p.plot(\n",
    "    pred_hrf.time, \n",
    "    ts_long.sel(chromo=\"HbO\", channel=ch).pint.dequantify() - pred_wo_hrf.sel(chromo=\"HbO\", channel=ch), \n",
    "    \"r-\", label=\"data HbO - nuisance reg.\", alpha=.5\n",
    ")\n",
    "p.plot(\n",
    "    pred_hrf.time, \n",
    "    ts_long.sel(chromo=\"HbR\", channel=ch).pint.dequantify() - pred_wo_hrf.sel(chromo=\"HbR\", channel=ch), \n",
    "    \"b-\", label=\"data HbR - nuisance reg.\", alpha=.5\n",
    ")\n",
    "plots.plot_stim_markers(ax, rec.stim, y=1)\n",
    "p.legend(ncol=4, loc=\"lower right\")\n",
    "\n",
    "p.xlim(60,500)\n",
    "p.xlabel(\"time / s\")\n",
    "p.ylabel(r\"$\\Delta$  c / uM\");\n"
   ]
  },
  {
   "cell_type": "markdown",
   "metadata": {},
   "source": [
    "### Scalp plots\n",
    "\n",
    "#### Betas"
   ]
  },
  {
   "cell_type": "code",
   "execution_count": null,
   "metadata": {
    "tags": [
     "nbsphinx-thumbnail"
    ]
   },
   "outputs": [],
   "source": [
    "f, ax = p.subplots(2, 3, figsize=(12, 8))\n",
    "vlims = {\"HbO\" : [0.,0.3], \"HbR\" : [-0.1, 0.05]}\n",
    "for i_chr, chromo in enumerate(betas.chromo.values):\n",
    "    vmin, vmax = vlims[chromo]\n",
    "    for i_reg, reg in enumerate([\"HRF Tapping/Left\", \"HRF Tapping/Right\", \"HRF control\"]):\n",
    "        cedalion.plots.scalp_plot(\n",
    "            rec[\"amp\"],\n",
    "            rec.geo3d,\n",
    "            betas.sel(chromo=chromo, regressor=reg),\n",
    "            ax[i_chr, i_reg],\n",
    "            min_dist=1.5 * cedalion.units.cm,\n",
    "            title=f\"{chromo} {reg}\",\n",
    "            vmin=vmin,\n",
    "            vmax=vmax,\n",
    "            optode_labels=True,\n",
    "            cmap=\"RdBu_r\",\n",
    "            cb_label=r\"$\\beta$\"\n",
    "        )\n",
    "p.tight_layout()"
   ]
  },
  {
   "cell_type": "markdown",
   "metadata": {},
   "source": [
    "#### T-Values"
   ]
  },
  {
   "cell_type": "code",
   "execution_count": null,
   "metadata": {},
   "outputs": [],
   "source": [
    "display(results.sm.tvalues)\n",
    "results.sm.tvalues.min().item(), results.sm.tvalues.max().item()"
   ]
  },
  {
   "cell_type": "code",
   "execution_count": null,
   "metadata": {},
   "outputs": [],
   "source": [
    "f, ax = p.subplots(2, 3, figsize=(12, 8))\n",
    "vlims = {\"HbO\" : [-20,20], \"HbR\" : [-20, 20]}\n",
    "for i_chr, chromo in enumerate(betas.chromo.values):\n",
    "    vmin, vmax = vlims[chromo]\n",
    "    for i_reg, reg in enumerate([\"HRF Tapping/Left\", \"HRF Tapping/Right\", \"HRF control\"]):\n",
    "        cedalion.plots.scalp_plot(\n",
    "            rec[\"amp\"],\n",
    "            rec.geo3d,\n",
    "            results.sm.tvalues.sel(chromo=chromo, regressor=reg),\n",
    "            ax[i_chr, i_reg],\n",
    "            min_dist=1.5 * cedalion.units.cm,\n",
    "            title=f\"{chromo} {reg}\",\n",
    "            vmin=vmin,\n",
    "            vmax=vmax,\n",
    "            optode_labels=True,\n",
    "            cmap=\"RdBu_r\",\n",
    "            cb_label=r\"$t$\"\n",
    "        )\n",
    "p.tight_layout()"
   ]
  },
  {
   "cell_type": "markdown",
   "metadata": {},
   "source": [
    "## SM Functionality to Document"
   ]
  },
  {
   "cell_type": "code",
   "execution_count": null,
   "metadata": {},
   "outputs": [],
   "source": [
    "results.sm.params"
   ]
  },
  {
   "cell_type": "code",
   "execution_count": null,
   "metadata": {},
   "outputs": [],
   "source": [
    "results.sm.conf_int(alpha=0.05)"
   ]
  },
  {
   "cell_type": "code",
   "execution_count": null,
   "metadata": {},
   "outputs": [],
   "source": [
    "results.sm.cov_params()"
   ]
  },
  {
   "cell_type": "code",
   "execution_count": null,
   "metadata": {},
   "outputs": [],
   "source": [
    "p.imshow(results.sm.cov_params()[0,0,:,:]);"
   ]
  },
  {
   "cell_type": "code",
   "execution_count": null,
   "metadata": {},
   "outputs": [],
   "source": [
    "# convenience function to access the diagonal elements of the cov matrices\n",
    "results.sm.regressor_variances()"
   ]
  },
  {
   "cell_type": "markdown",
   "metadata": {},
   "source": [
    "### Statistical Tests\n",
    "[t-test statmodels docs](https://www.statsmodels.org/dev/generated/statsmodels.regression.linear_model.RegressionResults.t_test.html#statsmodels.regression.linear_model.RegressionResults.t_test)\n"
   ]
  },
  {
   "cell_type": "code",
   "execution_count": null,
   "metadata": {},
   "outputs": [],
   "source": [
    "results.sm.tvalues"
   ]
  },
  {
   "cell_type": "markdown",
   "metadata": {},
   "source": [
    "specifying contrasts through strings\n",
    "results in an array of [ContrastResult objects](https://www.statsmodels.org/dev/dev/generated/statsmodels.stats.contrast.ContrastResults.html#statsmodels.stats.contrast.ContrastResults)"
   ]
  },
  {
   "cell_type": "code",
   "execution_count": null,
   "metadata": {},
   "outputs": [],
   "source": [
    "hypotheses = \"HRF Tapping/Left = HRF control, HRF Tapping/Right = HRF control\"\n",
    "results.sm.t_test(hypotheses)"
   ]
  },
  {
   "cell_type": "markdown",
   "metadata": {},
   "source": [
    "extract tvalues and pvalues with map\n",
    "\n",
    "**FIXME**: add convenience functions"
   ]
  },
  {
   "cell_type": "code",
   "execution_count": null,
   "metadata": {},
   "outputs": [],
   "source": [
    "display(results.sm.t_test(hypotheses).sm.map(lambda i : i.tvalue, name=\"hypothesis\"))"
   ]
  },
  {
   "cell_type": "code",
   "execution_count": null,
   "metadata": {},
   "outputs": [],
   "source": [
    "display(results.sm.t_test(hypotheses).sm.map(lambda i : i.pvalue, name=\"hypothesis\"))"
   ]
  },
  {
   "cell_type": "markdown",
   "metadata": {},
   "source": [
    "Plotting Uncertainty Bands"
   ]
  },
  {
   "cell_type": "code",
   "execution_count": null,
   "metadata": {},
   "outputs": [],
   "source": [
    "betas = results.sm.params\n",
    "cov = results.sm.cov_params()"
   ]
  },
  {
   "cell_type": "code",
   "execution_count": null,
   "metadata": {},
   "outputs": [],
   "source": [
    "sampled_betas = xr.zeros_like(betas).expand_dims({\"sample\" : 100}, axis=-1).copy()\n",
    "for i_ch in range(sampled_betas.shape[0]):\n",
    "    for i_cr in range(sampled_betas.shape[1]):\n",
    "        sampled_betas[i_ch, i_cr, :, :] = np.random.multivariate_normal(\n",
    "            betas[i_ch, i_cr, :],\n",
    "            cov[i_ch, i_cr, :, :],\n",
    "            size=100,\n",
    "        ).T"
   ]
  },
  {
   "cell_type": "code",
   "execution_count": null,
   "metadata": {},
   "outputs": [],
   "source": [
    "sampled_betas"
   ]
  },
  {
   "cell_type": "code",
   "execution_count": null,
   "metadata": {},
   "outputs": [],
   "source": [
    "pred = glm.predict(ts_long, sampled_betas, dms)"
   ]
  },
  {
   "cell_type": "code",
   "execution_count": null,
   "metadata": {},
   "outputs": [],
   "source": [
    "pred"
   ]
  },
  {
   "cell_type": "code",
   "execution_count": null,
   "metadata": {},
   "outputs": [],
   "source": [
    "pred_mean = pred.mean(\"sample\")\n",
    "pred_std = pred.std(\"sample\")"
   ]
  },
  {
   "cell_type": "code",
   "execution_count": null,
   "metadata": {},
   "outputs": [],
   "source": [
    "mm = pred_mean.loc[slice(60,80), \"S5D5\", \"HbO\"]\n",
    "ss = pred_std.loc[slice(60,80), \"S5D5\", \"HbO\"]\n",
    "\n",
    "p.plot(mm.time, mm, c=\"r\")\n",
    "p.fill_between(mm.time, mm-3*ss, mm+3*ss, fc=\"y\", alpha=.8)\n",
    "\n",
    "p.xlabel(\"time / s\")\n",
    "p.ylabel(r\"$\\Delta$  c / uM\");"
   ]
  }
 ],
 "metadata": {
  "kernelspec": {
   "display_name": "cedalion_default_3.11",
   "language": "python",
   "name": "python3"
  },
  "language_info": {
   "codemirror_mode": {
    "name": "ipython",
    "version": 3
   },
   "file_extension": ".py",
   "mimetype": "text/x-python",
   "name": "python",
   "nbconvert_exporter": "python",
   "pygments_lexer": "ipython3",
   "version": "3.11.8"
  }
 },
 "nbformat": 4,
 "nbformat_minor": 2
}
