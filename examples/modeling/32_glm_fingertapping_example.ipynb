{
 "cells": [
  {
   "cell_type": "markdown",
   "metadata": {},
   "source": [
    "# GLM Fingertapping Example"
   ]
  },
  {
   "cell_type": "code",
   "execution_count": null,
   "metadata": {},
   "outputs": [],
   "source": [
    "# This cells setups the environment when executed in Google Colab.\n",
    "try:\n",
    "    import google.colab\n",
    "    !curl -s https://raw.githubusercontent.com/ibs-lab/cedalion/dev/scripts/colab_setup.py -o colab_setup.py\n",
    "    # Select branch with --branch \"branch name\" (default is \"dev\")\n",
    "    %run colab_setup.py\n",
    "except ImportError:\n",
    "    pass"
   ]
  },
  {
   "cell_type": "code",
   "execution_count": null,
   "metadata": {},
   "outputs": [],
   "source": [
    "import matplotlib.pyplot as p\n",
    "import numpy as np\n",
    "import pandas as pd\n",
    "import xarray as xr\n",
    "\n",
    "import cedalion\n",
    "import cedalion.datasets\n",
    "import cedalion.io\n",
    "import cedalion.models.glm as glm\n",
    "import cedalion.nirs\n",
    "import cedalion.plots as plots\n",
    "import cedalion.sigproc.frequency\n",
    "from cedalion import units\n",
    "\n",
    "xr.set_options(display_expand_data=False);"
   ]
  },
  {
   "cell_type": "markdown",
   "metadata": {},
   "source": [
    "## Loading and preprocessing the dataset\n",
    "\n",
    "This notebook uses a finger-tapping dataset in BIDS layout provided by [Rob Luke](https://github.com/rob-luke/BIDS-NIRS-Tapping). It can can be downloaded via `cedalion.datasets`.\n",
    "\n",
    "We start by loading the data and performing some basic preproccessing steps."
   ]
  },
  {
   "cell_type": "code",
   "execution_count": null,
   "metadata": {},
   "outputs": [],
   "source": [
    "rec = cedalion.datasets.get_fingertapping()\n",
    "\n",
    "# rename trials\n",
    "rec.stim.cd.rename_events(\n",
    "    {\n",
    "        \"1.0\": \"control\",\n",
    "        \"2.0\": \"Tapping/Left\",\n",
    "        \"3.0\": \"Tapping/Right\",\n",
    "        \"15.0\": \"sentinel\",\n",
    "    }\n",
    ")\n",
    "rec.stim = rec.stim[rec.stim.trial_type != \"sentinel\"]\n",
    "\n",
    "# differential pathlength factors\n",
    "dpf = xr.DataArray(\n",
    "    [6, 6],\n",
    "    dims=\"wavelength\",\n",
    "    coords={\"wavelength\": rec[\"amp\"].wavelength},\n",
    ")\n",
    "\n",
    "# calculate optical density and concentrations\n",
    "rec[\"od\"] = cedalion.nirs.int2od(rec[\"amp\"])\n",
    "rec[\"conc\"] = cedalion.nirs.od2conc(rec[\"od\"], rec.geo3d, dpf, spectrum=\"prahl\")\n",
    "\n",
    "# Bandpass filter remove cardiac component and slow drifts.\n",
    "# Here we use a highpass to remove drift. Another possible option would be to\n",
    "# use drift regressors in the design matrix.\n",
    "fmin = 0.02 * units.Hz\n",
    "fmax = 0 * units.Hz\n",
    "\n",
    "rec[\"conc_filtered\"] = cedalion.sigproc.frequency.freq_filter(rec[\"conc\"], fmin, fmax)\n",
    "\n",
    "display(rec)"
   ]
  },
  {
   "cell_type": "markdown",
   "metadata": {},
   "source": [
    "Now, we plot the frequnecy filtered concentration data for two channels from both the left (S1D1, S1D3) and right (S5D5, S5D7) hemispheres."
   ]
  },
  {
   "cell_type": "code",
   "execution_count": null,
   "metadata": {},
   "outputs": [],
   "source": [
    "ts = rec[\"conc_filtered\"]\n",
    "\n",
    "f, ax = p.subplots(4, 1, sharex=True, figsize=(12, 6))\n",
    "for i, ch in enumerate([\"S1D1\", \"S1D3\", \"S5D5\", \"S5D7\"]):\n",
    "    ax[i].plot(ts.time, ts.sel(channel=ch, chromo=\"HbO\"), \"r-\", label=\"HbO\")\n",
    "    ax[i].plot(ts.time, ts.sel(channel=ch, chromo=\"HbR\"), \"b-\", label=\"HbR\")\n",
    "    ax[i].set_title(f\"Ch. {ch}\")\n",
    "    cedalion.plots.plot_stim_markers(ax[i], rec.stim, y=1)\n",
    "    ax[i].set_ylabel(r\"$\\Delta$ c / uM\")\n",
    "\n",
    "ax[0].legend(ncol=6)\n",
    "ax[3].set_label(\"time / s\")\n",
    "ax[3].set_xlim(0,300)\n",
    "p.tight_layout()"
   ]
  },
  {
   "cell_type": "markdown",
   "metadata": {},
   "source": [
    "## Build design matrix\n",
    "\n",
    "We can build a design matrix by concatenating different regressors. The regressor functions are found in glm.design_matrix. A regressor or sum of regressors returns a DesignMatrix object with two attributes:\n",
    "  1. common (xr.DataArray): regressors that apply to all channels, e.g.\n",
    "    - HRF regressors\n",
    "    - drift regressors\n",
    "    - constant term\n",
    "  2. channel_wise (list[xr.DataArray]): regressors that can differ between channels, such as short-distance channel regressors. \n",
    "  \n",
    "In this example, we use short-distance channel regression to account for signal components from superficial layers: for each long channel the closest short channel is selected. From these the channel-wise regressor 'short' is derived.\n",
    "\n",
    "The regressor function closest_short_channel_regressor requires the following arguments:\n",
    "- ts_long: Time series of long channels\n",
    "- ts_short: Time series of short channels\n",
    "- geo3d: Probe geometry\n",
    "\n",
    "We use the utility function nirs.split_long_short_channels to create the two distance-based timeseries ts_long and ts_short."
   ]
  },
  {
   "cell_type": "code",
   "execution_count": null,
   "metadata": {},
   "outputs": [],
   "source": [
    "# split time series into two based on channel distance\n",
    "ts_long, ts_short = cedalion.nirs.split_long_short_channels(\n",
    "    rec[\"conc_filtered\"], rec.geo3d, distance_threshold=1.5 * units.cm\n",
    ")\n",
    "\n",
    "# create design matrix from hrf and short channel regressors\n",
    "dms = (\n",
    "    glm.design_matrix.hrf_regressors(\n",
    "        ts_long, rec.stim, glm.Gamma(tau=0 * units.s, sigma=3 * units.s)\n",
    "    )\n",
    "    & glm.design_matrix.closest_short_channel_regressor(ts_long, ts_short, rec.geo3d)\n",
    ")\n"
   ]
  },
  {
   "cell_type": "markdown",
   "metadata": {},
   "source": [
    "The design matrix `dms.common` holds all regressors that apply to all channels. It has dimensions 'time', 'chromo' and 'regressor'. Regressors have string labels."
   ]
  },
  {
   "cell_type": "code",
   "execution_count": null,
   "metadata": {},
   "outputs": [],
   "source": [
    "display(dms)\n",
    "display(dms.common)"
   ]
  },
  {
   "cell_type": "markdown",
   "metadata": {},
   "source": [
    "`channel_wise_regressors` is list of additional xr.DataArrays that contain regressors which differ between channels.\n",
    "Each such array may contain only one regressor (i.e. the size of the regressor dimension must be 1). The regressors for \n",
    "each channel are arranged in the additional 'channel' dimension."
   ]
  },
  {
   "cell_type": "code",
   "execution_count": null,
   "metadata": {},
   "outputs": [],
   "source": [
    "display(dms.channel_wise[0]) # list contains only one element (short channel regressor)\n",
    "\n",
    "# normalize short channel regressor and remove units\n",
    "dms.channel_wise[0] = dms.channel_wise[0].pint.dequantify()\n",
    "dms.channel_wise[0] /= dms.channel_wise[0].max(\"time\")"
   ]
  },
  {
   "cell_type": "markdown",
   "metadata": {},
   "source": [
    "## Visualize the design matrix"
   ]
  },
  {
   "cell_type": "markdown",
   "metadata": {},
   "source": [
    "First, we'll plot the common regressors (those applying to all channels) using xr.DataArray.plot. This enables us to compare the onsets/offsets of each regressor.\n",
    "\n",
    "Next, we create a line plot of all regressors in the design matrix of one selected channel, including channel-wise regressors."
   ]
  },
  {
   "cell_type": "code",
   "execution_count": null,
   "metadata": {},
   "outputs": [],
   "source": [
    "# select common regressors\n",
    "dm = dms.common\n",
    "display(dm)\n",
    "\n",
    "# using xr.DataArray.plot\n",
    "f, ax = p.subplots(1,1,figsize=(12,5))\n",
    "dm.sel(chromo=\"HbO\", time=dm.time < 600).T.plot()\n",
    "p.title(\"Shared Regressors\")\n",
    "p.xticks(rotation=90)\n",
    "p.show()\n",
    "\n",
    "# line plots of all regressors\n",
    "f, ax = p.subplots(2,1,sharex=True, figsize=(12,5))\n",
    "\n",
    "ch = \"S5D5\"\n",
    "\n",
    "for i, chromo in enumerate([\"HbO\", \"HbR\"]):\n",
    "    for reg in dm.regressor.values:\n",
    "        ax[i].plot(dm.time, dm.sel(chromo=chromo, regressor=reg), label=reg)\n",
    "\n",
    "    for cwr in dms.channel_wise:\n",
    "        for reg in cwr.regressor.values:\n",
    "            ax[i].plot(cwr.time, cwr.sel(chromo=chromo, regressor=reg, channel=ch), label=reg)\n",
    "    plots.plot_stim_markers(ax[i], rec.stim, y=1)\n",
    "    ax[i].grid()\n",
    "    ax[i].set_title(chromo)\n",
    "    ax[i].set_ylim(-1.5,1.5)\n",
    "f.suptitle(\"All Regressors for Channel \" + ch)\n",
    "ax[0].legend(ncol=5)\n",
    "ax[0].set_xlim(0,240);"
   ]
  },
  {
   "cell_type": "markdown",
   "metadata": {},
   "source": [
    "## Fitting the model"
   ]
  },
  {
   "cell_type": "markdown",
   "metadata": {},
   "source": [
    "The method `glm.fit` is used to fit the GLM to the time series. The required arguments are timeseries and design matrix. We can optionally specify the noise model from the following currently available options:\n",
    "- ols (default): ordinary least squares\n",
    "- rls: recursive least squares\n",
    "- wls: weighted least squares\n",
    "- ar_irls: autoregressive iteratively reweighted least squares\n",
    "    (:cite:t:`Barker2013`)\n",
    "- gls: generalized least squares\n",
    "- glsar: generalized least squares with autoregressive covariance structure\n",
    "\n",
    "The fit method returns an xr.DataArray of statsmodels RegressionResults objects with dimensions (channel, chromo). Any RegressionResults method can be called on this DataArray using the .sm accessor. For example, we access the betas or model coefficients by using result.sm.params. Please refer to the [statsmodels documentation](https://www.statsmodels.org/dev/generated/statsmodels.regression.linear_model.RegressionResults.html) for a full list of methods and attributes."
   ]
  },
  {
   "cell_type": "code",
   "execution_count": null,
   "metadata": {},
   "outputs": [],
   "source": [
    "results = glm.fit(ts_long, dms, noise_model=\"ar_irls\", max_jobs=1)\n",
    "\n",
    "display(results)"
   ]
  },
  {
   "cell_type": "code",
   "execution_count": null,
   "metadata": {},
   "outputs": [],
   "source": [
    "# access the fitted model parameters\n",
    "betas = results.sm.params\n",
    "display(betas)\n",
    "display(betas.rename(\"betas\").to_dataframe())"
   ]
  },
  {
   "cell_type": "markdown",
   "metadata": {},
   "source": [
    "The statsmodels integration gives useful information about the uncertainty of our GLM fit. For example, here we calculate the confidence interval for the betas associated with channel S1D1."
   ]
  },
  {
   "cell_type": "code",
   "execution_count": null,
   "metadata": {},
   "outputs": [],
   "source": [
    "# best fit parameters + confidence intervals\n",
    "s1d1_conf_int = results[0,0].item().conf_int()\n",
    "s1d1_conf_int.columns = [\"Confidence Interval Lower\", \"Confidence Interval Upper\"]\n",
    "s1d1_betas = results[0,0].item().params.rename(\"betas_S1D1\")\n",
    "df = pd.concat([s1d1_conf_int, s1d1_betas], axis=1)\n",
    "df = df[[\"Confidence Interval Lower\", \"betas_S1D1\", \"Confidence Interval Upper\"]]\n",
    "display(df)"
   ]
  },
  {
   "cell_type": "markdown",
   "metadata": {},
   "source": [
    "## Model Predictions\n",
    "Using `glm.predict` one can scale the regressors in `dm` and `channel_wise_regressors` with the estimated coefficients to obtain a model prediction. By giving only a subset of betas to `glm.predict` one can predict subcomponents of the model. For example, this is useful when we want to separate HRF from drift components in our model."
   ]
  },
  {
   "cell_type": "code",
   "execution_count": null,
   "metadata": {},
   "outputs": [],
   "source": [
    "# prediction using all regressors\n",
    "betas = results.sm.params\n",
    "pred = glm.predict(ts_long, betas, dms)#, channel_wise_regressors)\n",
    "\n",
    "# prediction of all nuisance regressors, i.e. all regressors that don't start with 'HRF '\n",
    "pred_wo_hrf = glm.predict(\n",
    "    ts_long,\n",
    "    betas.sel(regressor=~betas.regressor.str.startswith(\"HRF \")),\n",
    "    dms,\n",
    ")\n",
    "\n",
    "# prediction of all HRF regressors, i.e. all regressors that start with 'HRF '\n",
    "pred_hrf = glm.predict(\n",
    "    ts_long,\n",
    "    betas.sel(regressor=betas.regressor.str.startswith(\"HRF \")),\n",
    "    dms,\n",
    ")"
   ]
  },
  {
   "cell_type": "markdown",
   "metadata": {},
   "source": [
    "### Plot model predictions\n",
    "\n",
    "Now, we'll plot our model prediction for a single channel. In order to visualize the distinct contributions of different regressors, we plot the predictions of different groups of regressors (all, w/o HRF, only HRF)."
   ]
  },
  {
   "cell_type": "code",
   "execution_count": null,
   "metadata": {},
   "outputs": [],
   "source": [
    "# plot the data and model prediction\n",
    "ch = \"S5D5\"\n",
    "f, ax = p.subplots(1,1, figsize=(12, 4))\n",
    "p.plot(ts_long.time, ts_long.sel(chromo=\"HbO\", channel=ch), \"r-\", label=\"data HbO\", alpha=.5)\n",
    "p.plot(pred.time, pred.sel(chromo=\"HbO\", channel=ch), \"r-\", label=\"model\", lw=2 )\n",
    "p.plot(pred.time, pred_wo_hrf.sel(chromo=\"HbO\", channel=ch), \"k:\", label=\"model w/o HRF\", alpha=.5)\n",
    "plots.plot_stim_markers(ax, rec.stim, y=1)\n",
    "p.xlim(60,300)\n",
    "p.ylim(-.4,.4)\n",
    "p.xlabel(\"time / s\")\n",
    "p.ylabel(r\"$\\Delta$  c / uM\")\n",
    "p.legend(ncol=4)\n",
    "\n",
    "\n",
    "# subtract nuisance regressors from data and plot against predicted HRF components\n",
    "f, ax = p.subplots(1,1, figsize=(12, 4))\n",
    "p.plot(pred_hrf.time, pred_hrf.sel(chromo=\"HbO\", channel=ch), \"r-\", label=\"HRF HbO\")\n",
    "p.plot(pred_hrf.time, pred_hrf.sel(chromo=\"HbR\", channel=ch), \"b-\", label=\"HRF HbR\")\n",
    "p.plot(\n",
    "    pred_hrf.time, \n",
    "    ts_long.sel(chromo=\"HbO\", channel=ch).pint.dequantify() - pred_wo_hrf.sel(chromo=\"HbO\", channel=ch), \n",
    "    \"r-\", label=\"data HbO - nuisance reg.\", alpha=.5\n",
    ")\n",
    "p.plot(\n",
    "    pred_hrf.time, \n",
    "    ts_long.sel(chromo=\"HbR\", channel=ch).pint.dequantify() - pred_wo_hrf.sel(chromo=\"HbR\", channel=ch), \n",
    "    \"b-\", label=\"data HbR - nuisance reg.\", alpha=.5\n",
    ")\n",
    "plots.plot_stim_markers(ax, rec.stim, y=1)\n",
    "p.legend(ncol=4, loc=\"lower right\")\n",
    "\n",
    "p.xlim(60,500)\n",
    "p.xlabel(\"time / s\")\n",
    "p.ylabel(r\"$\\Delta$  c / uM\");\n"
   ]
  },
  {
   "cell_type": "markdown",
   "metadata": {},
   "source": [
    "### Scalp plots\n",
    "\n",
    "In this section of the notebook, we visualize our GLM using cedalion's scalp plotting functionality. See the cedalion API documentation for more information on the plots.scalp_plot function.\n",
    "\n",
    "#### Betas\n",
    "\n",
    "First, we visualize the coefficient values of our GLM."
   ]
  },
  {
   "cell_type": "code",
   "execution_count": null,
   "metadata": {
    "tags": [
     "nbsphinx-thumbnail"
    ]
   },
   "outputs": [],
   "source": [
    "f, ax = p.subplots(2, 3, figsize=(12, 8))\n",
    "vlims = {\"HbO\" : [0.,0.3], \"HbR\" : [-0.1, 0.05]}\n",
    "for i_chr, chromo in enumerate(betas.chromo.values):\n",
    "    vmin, vmax = vlims[chromo]\n",
    "    for i_reg, reg in enumerate([\"HRF Tapping/Left\", \"HRF Tapping/Right\", \"HRF control\"]):\n",
    "        cedalion.plots.scalp_plot(\n",
    "            rec[\"amp\"],\n",
    "            rec.geo3d,\n",
    "            betas.sel(chromo=chromo, regressor=reg),\n",
    "            ax[i_chr, i_reg],\n",
    "            min_dist=1.5 * cedalion.units.cm,\n",
    "            title=f\"{chromo} {reg}\",\n",
    "            vmin=vmin,\n",
    "            vmax=vmax,\n",
    "            optode_labels=True,\n",
    "            cmap=\"RdBu_r\",\n",
    "            cb_label=r\"$\\beta$\"\n",
    "        )\n",
    "p.tight_layout()"
   ]
  },
  {
   "cell_type": "markdown",
   "metadata": {},
   "source": [
    "#### T-Values\n",
    "\n",
    "Now, we will calculate t-values for our model coefficients and display them on a scalp plot."
   ]
  },
  {
   "cell_type": "code",
   "execution_count": null,
   "metadata": {},
   "outputs": [],
   "source": [
    "display(results.sm.tvalues)\n",
    "results.sm.tvalues.min().item(), results.sm.tvalues.max().item() # min and max t-values across all regressors"
   ]
  },
  {
   "cell_type": "code",
   "execution_count": null,
   "metadata": {},
   "outputs": [],
   "source": [
    "# plot t-values of fitted model parameters\n",
    "f, ax = p.subplots(2, 3, figsize=(12, 8))\n",
    "vlims = {\"HbO\" : [-20,20], \"HbR\" : [-20, 20]}\n",
    "for i_chr, chromo in enumerate(betas.chromo.values):\n",
    "    vmin, vmax = vlims[chromo]\n",
    "    for i_reg, reg in enumerate([\"HRF Tapping/Left\", \"HRF Tapping/Right\", \"HRF control\"]):\n",
    "        cedalion.plots.scalp_plot(\n",
    "            rec[\"amp\"],\n",
    "            rec.geo3d,\n",
    "            results.sm.tvalues.sel(chromo=chromo, regressor=reg),\n",
    "            ax[i_chr, i_reg],\n",
    "            min_dist=1.5 * cedalion.units.cm,\n",
    "            title=f\"{chromo} {reg}\",\n",
    "            vmin=vmin,\n",
    "            vmax=vmax,\n",
    "            optode_labels=True,\n",
    "            cmap=\"RdBu_r\",\n",
    "            cb_label=r\"$t$\"\n",
    "        )\n",
    "p.tight_layout()"
   ]
  }
 ],
 "metadata": {
  "kernelspec": {
   "display_name": "cedalion",
   "language": "python",
   "name": "python3"
  },
  "language_info": {
   "codemirror_mode": {
    "name": "ipython",
    "version": 3
   },
   "file_extension": ".py",
   "mimetype": "text/x-python",
   "name": "python",
   "nbconvert_exporter": "python",
   "pygments_lexer": "ipython3",
   "version": "3.11.9"
  }
 },
 "nbformat": 4,
 "nbformat_minor": 2
}
