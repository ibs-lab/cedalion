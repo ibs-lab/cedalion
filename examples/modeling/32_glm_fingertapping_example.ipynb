{
 "cells": [
  {
   "cell_type": "markdown",
   "metadata": {},
   "source": [
    "# GLM Fingertapping Example"
   ]
  },
  {
   "cell_type": "code",
   "execution_count": null,
   "metadata": {},
   "outputs": [],
   "source": [
    "import cedalion\n",
    "import cedalion.datasets\n",
    "import cedalion.io\n",
    "import cedalion.models.glm as glm\n",
    "import cedalion.nirs\n",
    "import cedalion.plots as plots\n",
    "import cedalion.sigproc.frequency\n",
    "import matplotlib.pyplot as p\n",
    "import pandas as pd\n",
    "import xarray as xr\n",
    "from cedalion import units\n",
    "\n",
    "xr.set_options(display_expand_data=False);"
   ]
  },
  {
   "cell_type": "markdown",
   "metadata": {},
   "source": [
    "## Loading and preprocessing the dataset\n",
    "\n",
    "This notebook uses a finger-tapping dataset in BIDS layout provided by [Rob Luke](https://github.com/rob-luke/BIDS-NIRS-Tapping). It can can be downloaded via `cedalion.datasets`."
   ]
  },
  {
   "cell_type": "code",
   "execution_count": null,
   "metadata": {},
   "outputs": [],
   "source": [
    "rec = cedalion.datasets.get_fingertapping()\n",
    "\n",
    "# rename trials\n",
    "rec.stim.cd.rename_events(\n",
    "    {\n",
    "        \"1.0\": \"control\",\n",
    "        \"2.0\": \"Tapping/Left\",\n",
    "        \"3.0\": \"Tapping/Right\",\n",
    "        \"15.0\": \"sentinel\",\n",
    "    }\n",
    ")\n",
    "rec.stim = rec.stim[rec.stim.trial_type != \"sentinel\"]\n",
    "\n",
    "# differential pathlenght factors\n",
    "dpf = xr.DataArray(\n",
    "    [6, 6],\n",
    "    dims=\"wavelength\",\n",
    "    coords={\"wavelength\": rec[\"amp\"].wavelength},\n",
    ")\n",
    "\n",
    "# calculate optical density and concentrations\n",
    "rec[\"od\"] = cedalion.nirs.int2od(rec[\"amp\"])\n",
    "rec[\"conc\"] = cedalion.nirs.od2conc(rec[\"od\"], rec.geo3d, dpf, spectrum=\"prahl\")\n",
    "\n",
    "# Bandpass filter remove cardiac component and slow drifts.\n",
    "# Here we use a highpass to remove drift. Another possible option would be to\n",
    "# use drift regressors in the design matrix.\n",
    "fmin = 0.02 * units.Hz\n",
    "fmax = 0.3 * units.Hz\n",
    "\n",
    "rec[\"conc_filtered\"] = cedalion.sigproc.frequency.freq_filter(rec[\"conc\"], fmin, fmax)\n",
    "\n",
    "display(rec)"
   ]
  },
  {
   "cell_type": "markdown",
   "metadata": {},
   "source": [
    "Plot freq. filtered concentration data for two channels on the left (S1D1, S1D3) and right (S5D5, S5D7) hemispheres."
   ]
  },
  {
   "cell_type": "code",
   "execution_count": null,
   "metadata": {},
   "outputs": [],
   "source": [
    "ts = rec[\"conc_filtered\"]\n",
    "\n",
    "f, ax = p.subplots(4, 1, sharex=True, figsize=(12, 6))\n",
    "for i, ch in enumerate([\"S1D1\", \"S1D3\", \"S5D5\", \"S5D7\"]):\n",
    "    ax[i].plot(ts.time, ts.sel(channel=ch, chromo=\"HbO\"), \"r-\", label=\"HbO\")\n",
    "    ax[i].plot(ts.time, ts.sel(channel=ch, chromo=\"HbR\"), \"b-\", label=\"HbR\")\n",
    "    ax[i].set_title(f\"Ch. {ch}\")\n",
    "    cedalion.plots.plot_stim_markers(ax[i], rec.stim, y=1)\n",
    "    ax[i].set_ylabel(r\"$\\Delta$ c / uM\")\n",
    "\n",
    "ax[0].legend(ncol=6)\n",
    "ax[3].set_label(\"time / s\")\n",
    "ax[3].set_xlim(0,300)\n",
    "p.tight_layout()"
   ]
  },
  {
   "cell_type": "markdown",
   "metadata": {},
   "source": [
    "## Build design matrix\n",
    "- use the `glm.make_design_matrix` method to build regressors\n",
    "- to account for signal components from superficial layers use short-distance channel regression: for each long channel the closest short channel is selected. From these the channel-wise regressor'short' is derived."
   ]
  },
  {
   "cell_type": "code",
   "execution_count": null,
   "metadata": {},
   "outputs": [],
   "source": [
    "# split time series into two based on channel distance\n",
    "ts_long, ts_short = cedalion.nirs.split_long_short_channels(\n",
    "    rec[\"conc_filtered\"], rec.geo3d, distance_threshold=1.5 * units.cm\n",
    ")\n",
    "\n",
    "# build regressors\n",
    "dm, channel_wise_regressors = glm.make_design_matrix(\n",
    "    ts_long,\n",
    "    ts_short,\n",
    "    rec.stim,\n",
    "    rec.geo3d,\n",
    "    basis_function=glm.Gamma(tau=0 * units.s, sigma=3 * units.s, T=3 * units.s),\n",
    "    drift_order=1,\n",
    "    short_channel_method=\"closest\",\n",
    ")\n"
   ]
  },
  {
   "cell_type": "markdown",
   "metadata": {},
   "source": [
    "The design matrix `dm` holds all regressors that apply to all channels. It has dimensions 'time', 'chromo' and 'regressor'. Regressors have string labels."
   ]
  },
  {
   "cell_type": "code",
   "execution_count": null,
   "metadata": {},
   "outputs": [],
   "source": [
    "display(dm)\n"
   ]
  },
  {
   "cell_type": "markdown",
   "metadata": {},
   "source": [
    "`channel_wise_regressors` is list of additional xr.DataArrays that contain regressors which differ between channels.\n",
    "Each such array may contain only one regressor (i.e. the size of the regressor dimension must be 1). The regressors for \n",
    "each channel are arranged in the additional 'channel' dimension."
   ]
  },
  {
   "cell_type": "code",
   "execution_count": null,
   "metadata": {},
   "outputs": [],
   "source": [
    "\n",
    "display(channel_wise_regressors[0])"
   ]
  },
  {
   "cell_type": "markdown",
   "metadata": {},
   "source": [
    "## Visualize the design matrix"
   ]
  },
  {
   "cell_type": "code",
   "execution_count": null,
   "metadata": {},
   "outputs": [],
   "source": [
    "display(dm)\n",
    "\n",
    "# using xr.DataArray.plot\n",
    "f, ax = p.subplots(1,1,figsize=(12,5))\n",
    "dm.sel(chromo=\"HbO\", time=dm.time < 600).T.plot()\n",
    "p.xticks(rotation=90)\n",
    "p.show()\n",
    "\n",
    "# line plots of all regressors\n",
    "f, ax = p.subplots(2,1,sharex=True, figsize=(12,5))\n",
    "for i, chromo in enumerate([\"HbO\", \"HbR\"]):\n",
    "    for reg in dm.regressor.values:\n",
    "        ax[i].plot(dm.time, dm.sel(chromo=chromo, regressor=reg), label=reg)\n",
    "    plots.plot_stim_markers(ax[i], rec.stim, y=1)\n",
    "    ax[i].grid()\n",
    "    ax[i].set_title(chromo)\n",
    "\n",
    "ax[0].legend(ncol=3)\n",
    "ax[0].set_xlim(0,240);"
   ]
  },
  {
   "cell_type": "markdown",
   "metadata": {},
   "source": [
    "## Fitting the model"
   ]
  },
  {
   "cell_type": "code",
   "execution_count": null,
   "metadata": {},
   "outputs": [],
   "source": [
    "betas = glm.fit(ts_long, dm, channel_wise_regressors, noise_model=\"ols\")\n",
    "\n",
    "display(betas)\n",
    "\n",
    "#pd.set_option('display.max_rows', None)\n",
    "display(betas.rename(\"beta\").to_dataframe())"
   ]
  },
  {
   "cell_type": "markdown",
   "metadata": {},
   "source": [
    "## Model Predictions\n",
    "\n",
    "- using `glm.predict` one can scale the regressors in `dm` and `channel_wise_regressors` with the estimated coefficients to obtain a model prediction\n",
    "- by giving only a subset of betas to `glm.predict` one can predict subcomponents of the model"
   ]
  },
  {
   "cell_type": "code",
   "execution_count": null,
   "metadata": {},
   "outputs": [],
   "source": [
    "# prediction using all regressors\n",
    "pred = glm.predict(ts_long, betas, dm, channel_wise_regressors)\n",
    "\n",
    "# prediction of all nuisance regressors, i.e. all regressors that don't start with 'HRF '\n",
    "pred_wo_hrf = glm.predict(\n",
    "    ts_long,\n",
    "    betas.sel(regressor=~betas.regressor.str.startswith(\"HRF \")),\n",
    "    dm,\n",
    "    channel_wise_regressors,\n",
    ")\n",
    "\n",
    "# prediction of all HRF regressors, i.e. all regressors that start with 'HRF '\n",
    "pred_hrf = glm.predict(\n",
    "    ts_long,\n",
    "    betas.sel(regressor=betas.regressor.str.startswith(\"HRF \")),\n",
    "    dm,\n",
    "    channel_wise_regressors,\n",
    ")"
   ]
  },
  {
   "cell_type": "markdown",
   "metadata": {},
   "source": [
    "## Plot model predictions"
   ]
  },
  {
   "cell_type": "code",
   "execution_count": null,
   "metadata": {},
   "outputs": [],
   "source": [
    "# plot the data and model prediction\n",
    "#ch = \"S6D7\"\n",
    "ch = \"S1D3\"\n",
    "f, ax = p.subplots(1,1, figsize=(12, 4))\n",
    "p.plot(ts_long.time, ts_long.sel(chromo=\"HbO\", channel=ch), \"r-\", label=\"data HbO\", alpha=.5)\n",
    "p.plot(pred.time, pred.sel(chromo=\"HbO\", channel=ch), \"r-\", label=\"model\", lw=2 )\n",
    "p.plot(pred.time, pred_wo_hrf.sel(chromo=\"HbO\", channel=ch), \"k:\", label=\"model w/o HRF\", alpha=.5)\n",
    "plots.plot_stim_markers(ax, rec.stim, y=1)\n",
    "p.xlim(60,300)\n",
    "p.ylim(-.4,.4)\n",
    "p.xlabel(\"time / s\")\n",
    "p.ylabel(r\"$\\Delta$  c / uM\")\n",
    "p.legend(ncol=4)\n",
    "\n",
    "\n",
    "# subtract from data nuisance regressors and plot against predicted HRF components\n",
    "f, ax = p.subplots(1,1, figsize=(12, 4))\n",
    "p.plot(pred_hrf.time, pred_hrf.sel(chromo=\"HbO\", channel=ch), \"r-\", label=\"HRF HbO\")\n",
    "p.plot(pred_hrf.time, pred_hrf.sel(chromo=\"HbR\", channel=ch), \"b-\", label=\"HRF HbR\")\n",
    "p.plot(\n",
    "    pred_hrf.time, \n",
    "    ts_long.sel(chromo=\"HbO\", channel=ch).pint.dequantify() - pred_wo_hrf.sel(chromo=\"HbO\", channel=ch), \n",
    "    \"r-\", label=\"data HbO - nuisance reg.\", alpha=.5\n",
    ")\n",
    "p.plot(\n",
    "    pred_hrf.time, \n",
    "    ts_long.sel(chromo=\"HbR\", channel=ch).pint.dequantify() - pred_wo_hrf.sel(chromo=\"HbR\", channel=ch), \n",
    "    \"b-\", label=\"data HbR - nuisance reg.\", alpha=.5\n",
    ")\n",
    "plots.plot_stim_markers(ax, rec.stim, y=1)\n",
    "p.legend(ncol=4, loc=\"lower right\")\n",
    "\n",
    "p.xlim(60,500)\n",
    "p.xlabel(\"time / s\")\n",
    "p.ylabel(r\"$\\Delta$  c / uM\");\n"
   ]
  },
  {
   "cell_type": "markdown",
   "metadata": {},
   "source": [
    "### Scalp plots"
   ]
  },
  {
   "cell_type": "code",
   "execution_count": null,
   "metadata": {
    "tags": [
     "nbsphinx-thumbnail"
    ]
   },
   "outputs": [],
   "source": [
    "f, ax = p.subplots(2, 3, figsize=(12, 8))\n",
    "vlims = {\"HbO\" : [0.,0.3], \"HbR\" : [-0.1, 0.05]}\n",
    "for i_chr, chromo in enumerate(betas.chromo.values):\n",
    "    vmin, vmax = vlims[chromo]\n",
    "    for i_reg, reg in enumerate([\"HRF Tapping/Left\", \"HRF Tapping/Right\", \"HRF control\"]):\n",
    "        cedalion.plots.scalp_plot(\n",
    "            rec[\"amp\"],\n",
    "            rec.geo3d,\n",
    "            betas.sel(chromo=chromo, regressor=reg),\n",
    "            ax[i_chr, i_reg],\n",
    "            min_dist=1.5 * cedalion.units.cm,\n",
    "            title=f\"{chromo} {reg}\",\n",
    "            vmin=vmin,\n",
    "            vmax=vmax,\n",
    "            optode_labels=True,\n",
    "            cmap=\"RdBu_r\",\n",
    "            cb_label=r\"$\\beta$\"\n",
    "        )\n",
    "p.tight_layout()"
   ]
  }
 ],
 "metadata": {
  "kernelspec": {
   "display_name": "cedalion",
   "language": "python",
   "name": "python3"
  },
  "language_info": {
   "codemirror_mode": {
    "name": "ipython",
    "version": 3
   },
   "file_extension": ".py",
   "mimetype": "text/x-python",
   "name": "python",
   "nbconvert_exporter": "python",
   "pygments_lexer": "ipython3",
   "version": "3.11.8"
  }
 },
 "nbformat": 4,
 "nbformat_minor": 2
}
