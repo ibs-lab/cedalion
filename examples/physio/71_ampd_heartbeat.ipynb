{
 "cells": [
  {
   "cell_type": "markdown",
   "metadata": {},
   "source": [
    "# AMPD - Automatic Multiscale Peak Detection\n",
    "\n",
    "This notebook provides an end-to-end pipeline for processing and analyzing fNIRS data collected during a finger-tapping task. The primary goal is to identify peaks in the time series data using an **Optimized AMPD** algorithm.\n",
    "\n",
    "The **AMPD** algorithm is a multiscale peak detection technique that is especially effective for periodic and quasi-periodic signals, such as heart beats, even in the presence of noise. By analyzing the signal at multiple scales, the algorithm can reliably detect local maxima while minimizing false positives. This method is based on the work by **[Scholkmann et al. 2012](https://doi.org/10.3390/a5040588)**\n",
    "\n"
   ]
  },
  {
   "cell_type": "code",
   "execution_count": null,
   "metadata": {},
   "outputs": [],
   "source": [
    "# This cells setups the environment when executed in Google Colab.\n",
    "try:\n",
    "    import google.colab\n",
    "    !curl -s https://raw.githubusercontent.com/ibs-lab/cedalion/colab_setup/scripts/colab_setup.py -o colab_setup.py\n",
    "    # Select branch with --branch \"branch name\" (default is \"dev\")\n",
    "    %run colab_setup.py\n",
    "except ImportError:\n",
    "    pass"
   ]
  },
  {
   "cell_type": "code",
   "execution_count": null,
   "metadata": {},
   "outputs": [],
   "source": [
    "import cedalion.nirs\n",
    "from cedalion import units\n",
    "from cedalion.sigproc import quality\n",
    "from cedalion.sigproc.frequency import freq_filter\n",
    "import cedalion.xrutils as xrutils\n",
    "from cedalion.datasets import get_fingertapping_snirf_path\n",
    "import time\n",
    "import numpy as np\n",
    "import xarray as xr\n",
    "from cedalion.sigproc.physio import ampd\n",
    "import matplotlib.pyplot as plt\n",
    "\n",
    "xr.set_options(display_max_rows=3, display_values_threshold=50)\n",
    "np.set_printoptions(precision=4)"
   ]
  },
  {
   "cell_type": "markdown",
   "metadata": {},
   "source": [
    "### Loading raw CW-NIRS data from a SNIRF file\n",
    "This notebook uses a finger-tapping dataset in BIDS layout provided by [Rob Luke](https://github.com/rob-luke/BIDS-NIRS-Tapping). It can can be downloaded via `cedalion.datasets`."
   ]
  },
  {
   "cell_type": "markdown",
   "metadata": {},
   "source": [
    "### Load amplitude data from the snirf file and extract the first 60 seconds for further processing"
   ]
  },
  {
   "cell_type": "code",
   "execution_count": null,
   "metadata": {},
   "outputs": [],
   "source": [
    "path_to_snirf_file = get_fingertapping_snirf_path()\n",
    "\n",
    "recordings = cedalion.io.read_snirf(path_to_snirf_file)\n",
    "rec = recordings[0]  # there is only one NirsElement in this snirf file...\n",
    "amp = rec[\"amp\"]  # ... which holds amplitude data\n",
    "\n",
    "# restrict to first 60 seconds and fill in missing units\n",
    "amp = amp.sel(time=amp.time < 60)\n",
    "times = amp.time.values * 1000\n",
    "# print(amp.time.values[-1] / 60, len(times))\n"
   ]
  },
  {
   "cell_type": "markdown",
   "metadata": {},
   "source": [
    "### Following are utility methods for normalizing, filtering and plotting the signal"
   ]
  },
  {
   "cell_type": "code",
   "execution_count": null,
   "metadata": {},
   "outputs": [],
   "source": [
    "\n",
    "# collection of utility functions\n",
    "\n",
    "def normalize(sig):\n",
    "    min_val = np.min(sig)\n",
    "    max_val = np.max(sig)\n",
    "    return (sig - min_val) / (max_val - min_val)\n",
    "\n",
    "def filter_signal(amplitudes):\n",
    "    return freq_filter(amplitudes, 0.5 * units.Hz, 3 * units.Hz, 2)\n",
    "\n",
    "def plot_peaks(signal, s_times, s_peaks, label, title='peaks'):\n",
    "    fig, ax = plt.subplots(1, 1, figsize=(24, 8))\n",
    "    ax.plot(s_times, signal, label=label)\n",
    "\n",
    "    for ind, peak in enumerate(s_peaks):\n",
    "        if peak > 0:\n",
    "            ax.axvline(x=peak, color='black', linestyle='--', linewidth=1)\n",
    "\n",
    "    plt.title(title)\n",
    "\n"
   ]
  },
  {
   "cell_type": "markdown",
   "metadata": {},
   "source": [
    "### This is the amplitude data structure"
   ]
  },
  {
   "cell_type": "code",
   "execution_count": null,
   "metadata": {},
   "outputs": [],
   "source": [
    "\n",
    "amp\n",
    "# filter the signal to remove noise\n",
    "# amp = filter_signal(amp)"
   ]
  },
  {
   "cell_type": "markdown",
   "metadata": {},
   "source": [
    "### Now run the *optimized AMPD* on the amplitude data "
   ]
  },
  {
   "cell_type": "code",
   "execution_count": null,
   "metadata": {},
   "outputs": [],
   "source": [
    "\n",
    "# use the optimized AMPD to find the peaks\n",
    "peaks = ampd(amp)"
   ]
  },
  {
   "cell_type": "markdown",
   "metadata": {},
   "source": []
  },
  {
   "cell_type": "markdown",
   "metadata": {},
   "source": [
    "### Optimized AMPD\n",
    "\n",
    "The **Optimized AMPD** uses vectorization and data segmentation for improved performance and resource management.\n",
    "\n",
    "\n",
    "#### Methodology:\n",
    "1. **Detrending**: Each channel and wavelength signal is first detrended to remove baseline shifts, making peaks easier to detect.\n",
    "2. **Local Scalogram Matrix (LSM)**: The detrended signal is processed in overlapping chunks. A matrix (LSM) is created to identify regions where local maxima occur across different scales.\n",
    "3. **Multi-Scale Analysis**: The algorithm analyzes how these maxima behave across scales, accumulating values into a vector \\( G \\), which helps identify the scale at which peaks are most pronounced.\n",
    "4. **Peak Identification**: Peaks are identified at locations where the local maxima are consistent across scales, as indicated by low standard deviation values in the LSM.\n",
    "\n",
    "#### Parameters:\n",
    "- **`amplitudes`**: An `xarray.DataArray` that contains amplitude data from fnirs signals\n",
    "- optional **`chunk_size`**: Controls the size of each overlapping segment processed. A larger size can capture more context but may increase computation time.\n",
    "- optional **`step_size`**: Determines the step increment for the overlapping chunks, controlling how much the segments overlap.\n",
    "\n",
    "#### Output:\n",
    "The output, `peaks_xr`, is an `xarray.DataArray` that mirrors the shape and structure of the input data (`amplitudes`). Each detected peak in `peaks_xr` is marked with a `1`, while non-peak values are marked as `0`. This format allows easy access to peak locations across different channels and wavelengths.\n"
   ]
  },
  {
   "cell_type": "code",
   "execution_count": null,
   "metadata": {},
   "outputs": [],
   "source": [
    "peaks"
   ]
  },
  {
   "cell_type": "markdown",
   "metadata": {},
   "source": [
    "### Now plot the signals with the found peaks from the AMPD for Channel S1D1"
   ]
  },
  {
   "cell_type": "code",
   "execution_count": null,
   "metadata": {
    "tags": [
     "nbsphinx-thumbnail"
    ]
   },
   "outputs": [],
   "source": [
    "# select a channel for displaying the results\n",
    "channel = \"S1D1\"\n",
    "channel_data = amp.sel(channel=channel)\n",
    "\n",
    "# retrieve the peaks for that channel. peaks contains lists for the channel and both wavelengths \n",
    "# where peaks are represented by 1 and non-peaks are 0\n",
    "peak_indices = peaks.sel(channel=channel)\n",
    "\n",
    "# extract the timestamps of the identified peaks for one wavelength\n",
    "peak_times = times * peak_indices.values[1]\n",
    "peak_times = [pt for pt in peak_times if pt > 0]\n",
    "\n",
    "# for plotting prepare the signal for the same wavelength\n",
    "signal = channel_data.values[1]\n",
    "\n",
    "# plot the signal and the peaks calculated by the optimized AMPD\n",
    "plot_peaks(signal, times, peak_times, channel, f\"peaks: {len(peak_times)}\")\n"
   ]
  }
 ],
 "metadata": {
  "kernelspec": {
   "display_name": "cedalion",
   "language": "python",
   "name": "python3"
  },
  "language_info": {
   "codemirror_mode": {
    "name": "ipython",
    "version": 3
   },
   "file_extension": ".py",
   "mimetype": "text/x-python",
   "name": "python",
   "nbconvert_exporter": "python",
   "pygments_lexer": "ipython3",
   "version": "3.11.8"
  }
 },
 "nbformat": 4,
 "nbformat_minor": 2
}
