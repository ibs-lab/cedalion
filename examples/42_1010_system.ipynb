{
 "cells": [
  {
   "cell_type": "markdown",
   "id": "9d7aa72c",
   "metadata": {},
   "source": [
    "# Constructing 10-10 coordinates on segmented MRI scans"
   ]
  },
  {
   "cell_type": "code",
   "execution_count": null,
   "id": "3829e351",
   "metadata": {},
   "outputs": [],
   "source": [
    "import cedalion\n",
    "import cedalion.io\n",
    "import cedalion.geometry.segmentation\n",
    "import cedalion.geometry.landmarks\n",
    "from cedalion.imagereco.forward_model import TwoSurfaceHeadModel\n",
    "import cedalion.datasets\n",
    "import os.path\n",
    "import pyvista\n",
    "\n",
    "#pyvista.set_jupyter_backend(\"html\")\n",
    "pyvista.set_jupyter_backend(\"static\")"
   ]
  },
  {
   "cell_type": "markdown",
   "id": "2f7a2803",
   "metadata": {},
   "source": [
    "## Load segmentation masks\n",
    "\n",
    "This example constructs the 10-10 system on the Colin27 average brain."
   ]
  },
  {
   "cell_type": "code",
   "execution_count": null,
   "id": "269644f0",
   "metadata": {},
   "outputs": [],
   "source": [
    "SEG_DATADIR, mask_files, landmarks_file = cedalion.datasets.get_colin27_segmentation()\n",
    "masks, t_ijk2ras = cedalion.io.read_segmentation_masks(SEG_DATADIR, mask_files)"
   ]
  },
  {
   "cell_type": "markdown",
   "id": "e0c3a979",
   "metadata": {},
   "source": [
    "## Wrap the segmented head with derived surfaces in a TwoSurfaceHeadModel"
   ]
  },
  {
   "cell_type": "code",
   "execution_count": null,
   "id": "fc85b3a4",
   "metadata": {},
   "outputs": [],
   "source": [
    "head = TwoSurfaceHeadModel.from_surfaces(\n",
    "    segmentation_dir=SEG_DATADIR,\n",
    "    mask_files = mask_files,\n",
    "    brain_surface_file= os.path.join(SEG_DATADIR, \"mask_brain.obj\"),\n",
    "    scalp_surface_file= os.path.join(SEG_DATADIR, \"mask_scalp.obj\"),\n",
    "    landmarks_ras_file=landmarks_file,\n",
    "    brain_face_count=None,\n",
    "    scalp_face_count=None\n",
    ")"
   ]
  },
  {
   "cell_type": "markdown",
   "id": "22841792",
   "metadata": {},
   "source": [
    "## Transform the scalp surface from voxel space ('ijk') to RAS space ('aligned')"
   ]
  },
  {
   "cell_type": "code",
   "execution_count": null,
   "id": "e0ce7c55",
   "metadata": {},
   "outputs": [],
   "source": [
    "scalp_surface = head.scalp\n",
    "display(scalp_surface)\n",
    "scalp_surface = scalp_surface.apply_transform(t_ijk2ras)\n",
    "display(scalp_surface)"
   ]
  },
  {
   "cell_type": "markdown",
   "id": "ea03e5c4",
   "metadata": {},
   "source": [
    "## Transform initial landmarks from voxel space ('ijk') to RAS space ('aligned')"
   ]
  },
  {
   "cell_type": "code",
   "execution_count": null,
   "id": "a66f1a1d",
   "metadata": {},
   "outputs": [],
   "source": [
    "landmarks_ras = head.landmarks.points.apply_transform(t_ijk2ras)"
   ]
  },
  {
   "cell_type": "markdown",
   "id": "8161369b",
   "metadata": {},
   "source": [
    "## Construct landmarks"
   ]
  },
  {
   "cell_type": "code",
   "execution_count": null,
   "id": "acd27a25",
   "metadata": {
    "scrolled": false
   },
   "outputs": [],
   "source": [
    "lmbuilder = cedalion.geometry.landmarks.LandmarksBuilder1010(scalp_surface, landmarks_ras)\n",
    "all_landmarks = lmbuilder.build()"
   ]
  },
  {
   "cell_type": "markdown",
   "id": "d3db0607",
   "metadata": {},
   "source": [
    "## Visualize"
   ]
  },
  {
   "cell_type": "code",
   "execution_count": null,
   "id": "263b6670",
   "metadata": {
    "scrolled": false
   },
   "outputs": [],
   "source": [
    "lmbuilder.plot()\n",
    "display(all_landmarks)"
   ]
  }
 ],
 "metadata": {
  "kernelspec": {
   "display_name": "Python 3 (ipykernel)",
   "language": "python",
   "name": "python3"
  },
  "language_info": {
   "codemirror_mode": {
    "name": "ipython",
    "version": 3
   },
   "file_extension": ".py",
   "mimetype": "text/x-python",
   "name": "python",
   "nbconvert_exporter": "python",
   "pygments_lexer": "ipython3",
   "version": "3.11.8"
  }
 },
 "nbformat": 4,
 "nbformat_minor": 5
}
