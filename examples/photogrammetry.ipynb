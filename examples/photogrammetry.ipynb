{
 "cells": [
  {
   "cell_type": "markdown",
   "id": "0",
   "metadata": {},
   "source": [
    "# Photogrammetric Optode Coregistration"
   ]
  },
  {
   "cell_type": "code",
   "execution_count": null,
   "id": "1",
   "metadata": {},
   "outputs": [],
   "source": [
    "import logging\n",
    "logging.basicConfig()\n",
    "logging.getLogger(\"cedalion\").setLevel(logging.DEBUG)\n",
    "\n",
    "import cedalion.io\n",
    "import cedalion.plots\n",
    "from cedalion.geometry.photogrammetry.processors import ColoredStickerProcessor\n",
    "from cedalion.datasets import get_photogrammetry_example_scan\n",
    "import xarray as xr\n",
    "import pyvista as pv\n",
    "\n",
    "xr.set_options(display_expand_data=False);"
   ]
  },
  {
   "cell_type": "markdown",
   "id": "2",
   "metadata": {},
   "source": [
    "## Choose between interactive and static 3D plots"
   ]
  },
  {
   "cell_type": "code",
   "execution_count": null,
   "id": "3",
   "metadata": {},
   "outputs": [],
   "source": [
    "pv.set_jupyter_backend(\"static\")  # uncomment for static rendering\n",
    "#pv.set_jupyter_backend(\"client\")  # uncomment for interactive rendering\n",
    "#pv.set_jupyter_backend(\"html\")"
   ]
  },
  {
   "cell_type": "markdown",
   "id": "4",
   "metadata": {},
   "source": [
    "Use `cedalion.io.read_einstar_obj` to read the textured triangle mesh produced by the Einstar scanner."
   ]
  },
  {
   "cell_type": "code",
   "execution_count": null,
   "id": "5",
   "metadata": {},
   "outputs": [],
   "source": [
    "example_scan_fname = get_photogrammetry_example_scan()\n",
    "s = cedalion.io.read_einstar_obj(example_scan_fname)"
   ]
  },
  {
   "cell_type": "markdown",
   "id": "6",
   "metadata": {},
   "source": [
    "Processors are meant to analyze the textured mesh and extract positions. The ColoredStickerProcessor searches for colored circular areas. The colors must be specified by their ranges in hue and value. These can for example be found by usig a color pipette tool on the texture file.\n",
    "\n",
    "In the following to classes of stickers are searched: \"O(ptodes)\" in blue and \"L(andmarks\" in yellow."
   ]
  },
  {
   "cell_type": "code",
   "execution_count": null,
   "id": "7",
   "metadata": {},
   "outputs": [],
   "source": [
    "processor = ColoredStickerProcessor(\n",
    "    colors={\n",
    "        \"O\" : ((0.11, 0.21, 0.8, 1)), # (hue_min, hue_max, value_min, value_max)\n",
    "        \"L\" : ((0.25, 0.37, 0.35, 0.6))\n",
    "    }\n",
    ")"
   ]
  },
  {
   "cell_type": "code",
   "execution_count": null,
   "id": "8",
   "metadata": {},
   "outputs": [],
   "source": [
    "sticker_centers, normals, details = processor.process(s, details=True)"
   ]
  },
  {
   "cell_type": "code",
   "execution_count": null,
   "id": "9",
   "metadata": {},
   "outputs": [],
   "source": [
    "display(sticker_centers)"
   ]
  },
  {
   "cell_type": "markdown",
   "id": "10",
   "metadata": {},
   "source": [
    "Visualize the surface and extraced results."
   ]
  },
  {
   "cell_type": "code",
   "execution_count": null,
   "id": "11",
   "metadata": {},
   "outputs": [],
   "source": [
    "\n",
    "plt = pv.Plotter()\n",
    "cedalion.plots.plot_surface(plt, s, opacity=1.0)\n",
    "cedalion.plots.plot_labeled_points(plt, sticker_centers, color=\"r\")\n",
    "cedalion.plots.plot_vector_field(plt, sticker_centers, normals)\n",
    "plt.show()"
   ]
  },
  {
   "cell_type": "markdown",
   "id": "12",
   "metadata": {},
   "source": [
    "The details object is meant as a container for debuging information. It also provides plotting functionality.The following scatter plot shows the vertex colors in the hue-value plane in which the vertex classification operates."
   ]
  },
  {
   "cell_type": "code",
   "execution_count": null,
   "id": "13",
   "metadata": {},
   "outputs": [],
   "source": [
    "details.plot_vertex_colors()"
   ]
  },
  {
   "cell_type": "markdown",
   "id": "14",
   "metadata": {},
   "source": [
    "The following plots show for each cluster (tentative group of sticker vertices) The vertex positions perpendicular to the sticker normal as well as the minimum enclosing circle which is used to find the sticker's center."
   ]
  },
  {
   "cell_type": "code",
   "execution_count": null,
   "id": "15",
   "metadata": {
    "scrolled": false
   },
   "outputs": [],
   "source": [
    "details.plot_cluster_circles()"
   ]
  },
  {
   "cell_type": "markdown",
   "id": "16",
   "metadata": {},
   "source": [
    "Finally, to get from the sticker centers to the scalp coordinates we have to subtract the lenght of the optodes in the direction of the normals:"
   ]
  },
  {
   "cell_type": "code",
   "execution_count": null,
   "id": "17",
   "metadata": {},
   "outputs": [],
   "source": [
    "optode_length = 22.6 * cedalion.units.mm\n",
    "\n",
    "scalp_coords = sticker_centers.copy()\n",
    "mask_optodes = sticker_centers.group == 'O'\n",
    "scalp_coords[mask_optodes] = sticker_centers[mask_optodes] - optode_length*normals[mask_optodes]"
   ]
  },
  {
   "cell_type": "code",
   "execution_count": null,
   "id": "18",
   "metadata": {},
   "outputs": [],
   "source": [
    "display(scalp_coords)"
   ]
  },
  {
   "cell_type": "code",
   "execution_count": null,
   "id": "19",
   "metadata": {},
   "outputs": [],
   "source": [
    "plt = pv.Plotter()\n",
    "cedalion.plots.plot_surface(plt, s, opacity=0.3)\n",
    "cedalion.plots.plot_labeled_points(plt, sticker_centers, color=\"r\")\n",
    "cedalion.plots.plot_labeled_points(plt, scalp_coords, color=\"g\")\n",
    "cedalion.plots.plot_vector_field(plt, sticker_centers, normals)\n",
    "plt.show()"
   ]
  },
  {
   "cell_type": "markdown",
   "id": "20",
   "metadata": {},
   "source": [
    "**TBD: The found landmark and optode positions must still be matched to a montage in order to distinguish between sources and detectors and to assign the correct labels.**"
   ]
  }
 ],
 "metadata": {
  "kernelspec": {
   "display_name": "Python 3 (ipykernel)",
   "language": "python",
   "name": "python3"
  },
  "language_info": {
   "codemirror_mode": {
    "name": "ipython",
    "version": 3
   },
   "file_extension": ".py",
   "mimetype": "text/x-python",
   "name": "python",
   "nbconvert_exporter": "python",
   "pygments_lexer": "ipython3",
   "version": "3.10.13"
  }
 },
 "nbformat": 4,
 "nbformat_minor": 5
}
