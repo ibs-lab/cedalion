{
 "cells": [
  {
   "cell_type": "markdown",
   "id": "9d7aa72c",
   "metadata": {},
   "source": [
    "# Constructing 10-10 coordinates on segmented MRI scans"
   ]
  },
  {
   "cell_type": "code",
   "execution_count": null,
   "id": "3829e351",
   "metadata": {},
   "outputs": [],
   "source": [
    "import cedalion\n",
    "import cedalion.io\n",
    "import cedalion.geometry.segmentation\n",
    "import cedalion.geometry.landmarks\n",
    "from cedalion.datasets import get_colin27_segmentation\n",
    "import os.path\n",
    "import pyvista\n",
    "\n",
    "#pyvista.set_jupyter_backend(\"html\")\n",
    "pyvista.set_jupyter_backend(\"static\")"
   ]
  },
  {
   "cell_type": "markdown",
   "id": "2f7a2803",
   "metadata": {},
   "source": [
    "## Load segmentation masks\n",
    "\n",
    "This example constructs the 10-10 system on the Colin27 average brain."
   ]
  },
  {
   "cell_type": "code",
   "execution_count": null,
   "id": "269644f0",
   "metadata": {},
   "outputs": [],
   "source": [
    "SEG_DATADIR, mask_files, landmarks_files = get_colin27_segmentation()\n",
    "masks, t_ijk2ras = cedalion.io.read_segmentation_masks(SEG_DATADIR, mask_files)"
   ]
  },
  {
   "cell_type": "markdown",
   "id": "dbe0c701",
   "metadata": {},
   "source": [
    "## Load hand-picked landmarks"
   ]
  },
  {
   "cell_type": "code",
   "execution_count": null,
   "id": "4d7746e2",
   "metadata": {},
   "outputs": [],
   "source": [
    "initial_landmarks = cedalion.io.read_mrk_json(os.path.join(SEG_DATADIR, landmarks_files), crs=\"aligned\")\n",
    "initial_landmarks"
   ]
  },
  {
   "cell_type": "markdown",
   "id": "e0c3a979",
   "metadata": {},
   "source": [
    "## Construct scalp surface and transform to scanner RAS"
   ]
  },
  {
   "cell_type": "code",
   "execution_count": null,
   "id": "e0ce7c55",
   "metadata": {},
   "outputs": [],
   "source": [
    "scalp_surface = cedalion.geometry.segmentation.surface_from_segmentation(\n",
    "    masks, \n",
    "    masks.segmentation_type.values, \n",
    "    fill_holes_in_mask=True\n",
    ")\n",
    "scalp_surface = scalp_surface.apply_transform(t_ijk2ras)\n",
    "scalp_surface"
   ]
  },
  {
   "cell_type": "markdown",
   "id": "8161369b",
   "metadata": {},
   "source": [
    "## Construct landmarks"
   ]
  },
  {
   "cell_type": "code",
   "execution_count": null,
   "id": "acd27a25",
   "metadata": {
    "scrolled": false
   },
   "outputs": [],
   "source": [
    "lmbuilder = cedalion.geometry.landmarks.LandmarksBuilder1010(scalp_surface, initial_landmarks)\n",
    "all_landmarks = lmbuilder.build()"
   ]
  },
  {
   "cell_type": "markdown",
   "id": "d3db0607",
   "metadata": {},
   "source": [
    "## Visualize"
   ]
  },
  {
   "cell_type": "code",
   "execution_count": null,
   "id": "263b6670",
   "metadata": {
    "scrolled": false
   },
   "outputs": [],
   "source": [
    "lmbuilder.plot()\n",
    "display(all_landmarks)"
   ]
  }
 ],
 "metadata": {
  "kernelspec": {
   "display_name": "Python 3 (ipykernel)",
   "language": "python",
   "name": "python3"
  },
  "language_info": {
   "codemirror_mode": {
    "name": "ipython",
    "version": 3
   },
   "file_extension": ".py",
   "mimetype": "text/x-python",
   "name": "python",
   "nbconvert_exporter": "python",
   "pygments_lexer": "ipython3",
   "version": "3.10.13"
  }
 },
 "nbformat": 4,
 "nbformat_minor": 5
}
