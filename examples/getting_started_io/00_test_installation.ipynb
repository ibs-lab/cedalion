{
 "cells": [
  {
   "cell_type": "markdown",
   "metadata": {},
   "source": [
    "# This Notebook tests whether your cedalion installation is working\n",
    "\n",
    "Everything that is specific to the installation of Cedalion can be found on our documentation page: https://doc.ibs.tu-berlin.de/cedalion/doc/dev\n",
    "\n",
    "It is assumed that you already followed the steps below: \n",
    "- Have the conda package manager installed, either by installing [Anaconda or Miniconda](https://docs.anaconda.com/distro-or-miniconda/). \n",
    "- Clone the Cedalion repository from github to your local disk. The main branch is the release branch.\n",
    "- In your IDE, switch to the Cedalion folder as your local working folder or “add to path”.\n",
    "- In its Python terminal create a conda environment with the necessary dependencies by running:  \n",
    "```\n",
    "$ conda env create -n cedalion -f environment_dev.yml\n",
    "```\n",
    "- This installs all relevant dependencies and creates an environment in which you can run the toolbox. It also includes Jupyter Notebook to run the example notebooks.\n",
    "- Afterwards activate the environment and add an editable install of Cedalion to it:\n",
    "\n",
    "```\n",
    "$ conda activate cedalion\n",
    "$ pip install -e .\n",
    "```\n",
    "\n",
    " \n",
    "If creating the environment is slow:\n",
    "- To create the environment conda needs to find a set of packages that fulfills all requirements. If conda needs too much time to find a solution, there are two ways to speed it up.\n",
    "- Install [libmamba-solver](https://conda.github.io/conda-libmamba-solver/user-guide/) and configure conda to use it. (recommended )\n",
    "- If you have a recent conda version (23.10 or later), libmamba is already preconfigured. Otherwise update:\n",
    "```\n",
    "$ conda update -n base conda\n",
    "```"
   ]
  },
  {
   "cell_type": "code",
   "execution_count": null,
   "metadata": {},
   "outputs": [],
   "source": [
    "# This cells setups the environment when executed in Google Colab.\n",
    "try:\n",
    "    import google.colab\n",
    "    !curl -s https://raw.githubusercontent.com/ibs-lab/cedalion/dev/scripts/colab_setup.py -o colab_setup.py\n",
    "    # Select branch with --branch \"branch name\" (default is \"dev\")\n",
    "    %run colab_setup.py\n",
    "except ImportError:\n",
    "    pass"
   ]
  },
  {
   "cell_type": "markdown",
   "metadata": {},
   "source": [
    "## Import Cedalion Dependencies\n",
    "If you get an error here, revisit the setup above."
   ]
  },
  {
   "cell_type": "code",
   "execution_count": null,
   "metadata": {},
   "outputs": [],
   "source": [
    "import cedalion\n",
    "import cedalion.datasets\n",
    "import cedalion.plots"
   ]
  },
  {
   "cell_type": "markdown",
   "metadata": {},
   "source": [
    "## Download datasets\n",
    "These will be cached and are used by amongst others by the example notebooks.\n",
    "\n",
    "- [Image Reconstruction](https://github.com/ibs-lab/cedalion/blob/main/examples/image_reconstruction.ipynb)\n",
    "- [Photogrammetric Coregistration](https://github.com/ibs-lab/cedalion/blob/main/examples/photogrammetric_optode_coregistration.ipynb)\n",
    "\n",
    "Depending on your operating system the user cache directory is one of these:\n",
    "- Mac: `~/Library/Caches/cedalion`\n",
    "- Unix: `~/.cache/cedalion`\n",
    "- Windows: `C:\\Users\\<user>\\AppData\\Local\\cedalion\\cedalion\\Cache`\n",
    "\n",
    "It is safe to delete the downloaded files, if they are not needed anymore. During a new run of the example notebooks they are downloaded again.\n"
   ]
  },
  {
   "cell_type": "code",
   "execution_count": null,
   "metadata": {},
   "outputs": [],
   "source": [
    "# loads finger tapping data with sparse probe \n",
    "rec = cedalion.datasets.get_fingertapping()\n",
    "display(rec)"
   ]
  },
  {
   "cell_type": "code",
   "execution_count": null,
   "metadata": {},
   "outputs": [],
   "source": [
    "# loads finger tapping data with high density probe\n",
    "rec = cedalion.datasets.get_fingertappingDOT()\n",
    "display(rec)"
   ]
  },
  {
   "cell_type": "code",
   "execution_count": null,
   "metadata": {},
   "outputs": [],
   "source": [
    "cedalion.datasets.get_colin27_segmentation()\n"
   ]
  },
  {
   "cell_type": "code",
   "execution_count": null,
   "metadata": {},
   "outputs": [],
   "source": [
    "Adot = cedalion.datasets.get_precomputed_sensitivity(\"fingertappingDOT\", \"colin27\")\n",
    "display(Adot)"
   ]
  },
  {
   "cell_type": "code",
   "execution_count": null,
   "metadata": {},
   "outputs": [],
   "source": [
    "# loads photogrammetry scan example \n",
    "fname_scan, fname_snirf,fname_montage = cedalion.datasets.get_photogrammetry_example_scan()\n",
    "s = cedalion.io.read_einstar_obj(fname_scan)"
   ]
  },
  {
   "cell_type": "markdown",
   "metadata": {},
   "source": [
    "## Optional: Plot a 3D scan with Pyvista\n",
    "Note: If you run into problems here this will not be due to a faulty Cedalion installation, but your Pyvista setup"
   ]
  },
  {
   "cell_type": "code",
   "execution_count": null,
   "metadata": {},
   "outputs": [],
   "source": [
    "# plot the scan\n",
    "import pyvista as pv\n",
    "pv.set_jupyter_backend(\"static\") # use \"client\" for interactive rendering\n",
    "plt = pv.Plotter()\n",
    "cedalion.plots.plot_surface(plt, s, opacity=1.0)\n",
    "plt.show()"
   ]
  },
  {
   "cell_type": "markdown",
   "metadata": {},
   "source": [
    "## If you run into trouble you can get help by the community\n",
    "Visit the Cedalion forum on openfnirs.org/community/cedalion and particularly the [thread for installing cedalion](https://openfnirs.org/community/cedalion/installing-cedalion/#post-2165)"
   ]
  }
 ],
 "metadata": {
  "kernelspec": {
   "display_name": "cedalion_default_3.11",
   "language": "python",
   "name": "python3"
  },
  "language_info": {
   "codemirror_mode": {
    "name": "ipython",
    "version": 3
   },
   "file_extension": ".py",
   "mimetype": "text/x-python",
   "name": "python",
   "nbconvert_exporter": "python",
   "pygments_lexer": "ipython3",
   "version": "3.11.8"
  }
 },
 "nbformat": 4,
 "nbformat_minor": 2
}
