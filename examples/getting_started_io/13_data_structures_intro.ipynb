{
 "cells": [
  {
   "cell_type": "markdown",
   "id": "0",
   "metadata": {
    "slideshow": {
     "slide_type": "slide"
    }
   },
   "source": [
    "# Data Structures and I/O"
   ]
  },
  {
   "cell_type": "code",
   "execution_count": null,
   "id": "1",
   "metadata": {},
   "outputs": [],
   "source": [
    "# This cells setups the environment when executed in Google Colab.\n",
    "try:\n",
    "    import google.colab\n",
    "    !curl -s https://raw.githubusercontent.com/ibs-lab/cedalion/colab_setup/scripts/colab_setup.py -o colab_setup.py\n",
    "    # Select branch with --branch \"branch name\" (default is \"dev\")\n",
    "    %run colab_setup.py\n",
    "except ImportError:\n",
    "    pass"
   ]
  },
  {
   "cell_type": "code",
   "execution_count": null,
   "id": "2",
   "metadata": {
    "slideshow": {
     "slide_type": "skip"
    }
   },
   "outputs": [],
   "source": [
    "import numpy as np\n",
    "import pandas as pd\n",
    "import xarray as xr\n",
    "import tempfile\n",
    "from pathlib import Path\n",
    "\n",
    "import cedalion\n",
    "import cedalion.io\n",
    "import cedalion.datasets\n",
    "import cedalion.nirs\n",
    "import cedalion.xrutils as xrutils\n",
    "\n",
    "pd.set_option('display.max_rows', 10)\n",
    "xr.set_options(display_expand_data=False);"
   ]
  },
  {
   "cell_type": "code",
   "execution_count": null,
   "id": "3",
   "metadata": {},
   "outputs": [],
   "source": [
    "# helper function\n",
    "def calc_concentratoin(rec):\n",
    "    od = cedalion.nirs.int2od(rec[\"amp\"])\n",
    "    dpf = xr.DataArray([6, 6], dims=\"wavelength\", coords={\"wavelength\" : od.wavelength})\n",
    "    return cedalion.nirs.od2conc(od, rec.geo3d, dpf)"
   ]
  },
  {
   "cell_type": "markdown",
   "id": "4",
   "metadata": {
    "slideshow": {
     "slide_type": "slide"
    }
   },
   "source": [
    "## Reading Snirf Files\n",
    "\n",
    "Snirf files can be loaded with the `cedalion.io.read_snirf` method. This returns a list of `cedalion.dataclasses.Recording` objects. The "
   ]
  },
  {
   "cell_type": "code",
   "execution_count": null,
   "id": "5",
   "metadata": {},
   "outputs": [],
   "source": [
    "path_to_snirf_file = cedalion.datasets.get_fingertapping_snirf_path()\n",
    "\n",
    "recordings = cedalion.io.read_snirf(path_to_snirf_file)\n",
    "\n",
    "display(path_to_snirf_file)\n",
    "display(recordings)\n",
    "display(len(recordings))"
   ]
  },
  {
   "cell_type": "markdown",
   "id": "6",
   "metadata": {},
   "source": [
    "## Accessing example datasets\n",
    "\n",
    "Example datasets are accessible through functions in `cedalion.datasets`. These take care of downloading, caching and updating the data files. Often they also already load the data."
   ]
  },
  {
   "cell_type": "markdown",
   "id": "7",
   "metadata": {},
   "source": []
  },
  {
   "cell_type": "code",
   "execution_count": null,
   "id": "8",
   "metadata": {},
   "outputs": [],
   "source": [
    "rec = cedalion.datasets.get_fingertapping()\n",
    "display(rec)"
   ]
  },
  {
   "cell_type": "markdown",
   "id": "9",
   "metadata": {},
   "source": [
    "## Recording containers\n",
    "\n",
    "The class `cedalion.dataclasses.Recording` is Cedalion's **main data container** to carry related data objects through the program. \n",
    "It can store time series, masks, auxiliary timeseries, probe, headmodel and stimulus information as well as meta data about the recording.\n",
    "It has the following properties:\n",
    "\n",
    "\n",
    "\n",
    "| field      | description                                                | \n",
    "|------------|------------------------------------------------------------|\n",
    "| timeseries | a dictionary of timeseries objects                         |  \n",
    "| masks      | a dictionary of masks that flag time points as good or bad | \n",
    "| geo3d      | 3D probe geometry                                          | \n",
    "| geo2d      | 2D probe geometry                                          | \n",
    "| stim       | dataframe with stimulus information                        |\n",
    "| aux_tx     | dictionary of auxiliary time series objects                |\n",
    "| aux_tx     | dictionary for any other auxiliary objects                 |\n",
    "| head_model | voxel image, cortex and scalp surfaces                     |\n",
    "| meta_data  | dictionary for meta data                                   |\n",
    "\n",
    "* container is very similar to the layout of a snirf file\n",
    "* `Recording` maps mainly to nirs groups\n",
    "* timeseries objects map to data elements\n",
    "\n",
    "\n",
    "### Dictionaries in `Recording`\n",
    "\n",
    "- dictionaries are key value stores\n",
    "- maintain order in which values are added -> facilitate workflows\n",
    "- the user differentiates time series by name. \n",
    "- names are free to choose but there are a few **canonical names** used by `read_snirf` and expected by `write_snirf`:\n",
    "\n",
    "| data type                         | canonical name|  \n",
    "|-----------------------------------|---------------|\n",
    "|  unprocessed raw                  | \"amp\"         |\n",
    "|  processed raw                    | \"amp\"         |\n",
    "|  processed dOD                    | \"od\"          |\n",
    "|  processed concentrations         | \"conc\"        |\n",
    "|  processed central moments\"       | \"moments\"     |\n",
    "|  processed blood flow inddata_structures_oldex       | \"bfi\"         |\n",
    "|  processed HRF dOD                | \"hrf_od\"      |\n",
    "|  processed HRF central moments    | \"hrf_moments\" |\n",
    "|  processed HRF concentrations\"    | \"hrf_conc\"    |\n",
    "|  processed HRF blood flow index   | \"hrf_bfi\"     |\n",
    "|  processed absorption coefficient | \"mua\"         |\n",
    "|  processed scattering coefficient | \"musp\"        |\n",
    "  \n",
    "  \n",
    "\n"
   ]
  },
  {
   "cell_type": "markdown",
   "id": "10",
   "metadata": {},
   "source": [
    "### Inspecting a Recording container"
   ]
  },
  {
   "cell_type": "code",
   "execution_count": null,
   "id": "11",
   "metadata": {},
   "outputs": [],
   "source": [
    "display(rec.timeseries.keys())\n",
    "display(type(rec.timeseries[\"amp\"]))"
   ]
  },
  {
   "cell_type": "code",
   "execution_count": null,
   "id": "12",
   "metadata": {},
   "outputs": [],
   "source": [
    "rec.meta_data"
   ]
  },
  {
   "cell_type": "markdown",
   "id": "13",
   "metadata": {},
   "source": [
    "Shortcut for accessing time series:"
   ]
  },
  {
   "cell_type": "code",
   "execution_count": null,
   "id": "14",
   "metadata": {},
   "outputs": [],
   "source": [
    "rec[\"amp\"] is rec.timeseries[\"amp\"]"
   ]
  },
  {
   "cell_type": "markdown",
   "id": "15",
   "metadata": {},
   "source": [
    "## Time Series\n",
    "\n",
    "<center>\n",
    "<img src=\"../img/recording/ndarray.png\">\n",
    "</center>\n",
    "\n",
    "- mulitvariate time series are stored in `xarray.DataArrays`\n",
    "- if it has dimensions 'channel' and 'time' we call it a `NDTimeSeries`\n",
    "- named dimensions\n",
    "- coordinates\n",
    "- physical units\n",
    "\n"
   ]
  },
  {
   "cell_type": "code",
   "execution_count": null,
   "id": "16",
   "metadata": {},
   "outputs": [],
   "source": [
    "rec[\"amp\"]"
   ]
  },
  {
   "cell_type": "code",
   "execution_count": null,
   "id": "17",
   "metadata": {},
   "outputs": [],
   "source": [
    "rec[\"conc\"] = calc_concentratoin(rec)\n",
    "display(rec[\"conc\"])"
   ]
  },
  {
   "cell_type": "markdown",
   "id": "18",
   "metadata": {},
   "source": [
    "## Probe Geometry - geo3D\n",
    "\n",
    "- labeled points stored in 2D array\n",
    "- if it has a 'label' dimension and 'label' and 'type' coordinates we call it a `LabeledPointCloud`"
   ]
  },
  {
   "cell_type": "code",
   "execution_count": null,
   "id": "19",
   "metadata": {},
   "outputs": [],
   "source": [
    "rec.geo3d"
   ]
  },
  {
   "cell_type": "markdown",
   "id": "20",
   "metadata": {},
   "source": [
    "## Xarray functionality\n",
    "\n",
    "Specify axis by name:"
   ]
  },
  {
   "cell_type": "code",
   "execution_count": null,
   "id": "21",
   "metadata": {},
   "outputs": [],
   "source": [
    "amp = rec[\"amp\"]\n",
    "\n",
    "amp.mean(\"time\") "
   ]
  },
  {
   "cell_type": "markdown",
   "id": "22",
   "metadata": {},
   "source": [
    "get the second channel formed by S1 and D2:"
   ]
  },
  {
   "cell_type": "code",
   "execution_count": null,
   "id": "23",
   "metadata": {},
   "outputs": [],
   "source": [
    "amp[1, :, :] # location-based indexing\n",
    "amp.loc[\"S1D2\", :, :] # label-based indexing\n",
    "amp.sel(channel=\"S1D2\") # label-based indexing"
   ]
  },
  {
   "cell_type": "markdown",
   "id": "24",
   "metadata": {},
   "source": [
    "Joins between two arrays:"
   ]
  },
  {
   "cell_type": "code",
   "execution_count": null,
   "id": "25",
   "metadata": {},
   "outputs": [],
   "source": [
    "rec.geo3d.loc[amp.source]"
   ]
  },
  {
   "cell_type": "code",
   "execution_count": null,
   "id": "26",
   "metadata": {},
   "outputs": [],
   "source": [
    "distances = xrutils.norm(rec.geo3d.loc[amp.source] - rec.geo3d.loc[amp.detector], \"digitized\")\n",
    "display(distances)"
   ]
  },
  {
   "cell_type": "markdown",
   "id": "27",
   "metadata": {},
   "source": [
    "Physical units:"
   ]
  },
  {
   "cell_type": "code",
   "execution_count": null,
   "id": "28",
   "metadata": {},
   "outputs": [],
   "source": [
    "rec.masks[\"distance_mask\"] = distances > 1.5 * cedalion.units.cm\n",
    "display(rec.masks[\"distance_mask\"])"
   ]
  },
  {
   "cell_type": "markdown",
   "id": "29",
   "metadata": {},
   "source": [
    "Additional functionality through accessors:"
   ]
  },
  {
   "cell_type": "code",
   "execution_count": null,
   "id": "30",
   "metadata": {},
   "outputs": [],
   "source": [
    "distances.pint.to(\"mm\")"
   ]
  },
  {
   "cell_type": "markdown",
   "id": "31",
   "metadata": {},
   "source": [
    "## Writing snirf files\n",
    "\n",
    "- pass `Recording` object to `cedalion.io.write_snirf`\n",
    "- caveat: many `Recording`fields have correspondants in snirf files, but not all."
   ]
  },
  {
   "cell_type": "code",
   "execution_count": null,
   "id": "32",
   "metadata": {},
   "outputs": [],
   "source": [
    "with tempfile.TemporaryDirectory() as tmpdir:\n",
    "    output_path = Path(tmpdir).joinpath(\"test.snirf\")\n",
    "\n",
    "    cedalion.io.write_snirf(output_path, rec)"
   ]
  }
 ],
 "metadata": {
  "celltoolbar": "Slideshow",
  "kernelspec": {
   "display_name": "cedalion_default_3.11",
   "language": "python",
   "name": "python3"
  },
  "language_info": {
   "codemirror_mode": {
    "name": "ipython",
    "version": 3
   },
   "file_extension": ".py",
   "mimetype": "text/x-python",
   "name": "python",
   "nbconvert_exporter": "python",
   "pygments_lexer": "ipython3",
   "version": "3.11.8"
  }
 },
 "nbformat": 4,
 "nbformat_minor": 5
}
