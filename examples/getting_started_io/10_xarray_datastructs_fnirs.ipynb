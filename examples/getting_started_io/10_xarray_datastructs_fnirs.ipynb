{
 "cells": [
  {
   "cell_type": "markdown",
   "metadata": {},
   "source": [
    "# Xarray Data Structures - an fNIRS example\n",
    "\n",
    "This example illustrates the usage of xarray-based data structures for calculating the Beer-Lambert transformation."
   ]
  },
  {
   "cell_type": "code",
   "execution_count": null,
   "metadata": {},
   "outputs": [],
   "source": [
    "# This cells setups the environment when executed in Google Colab.\n",
    "try:\n",
    "    import google.colab\n",
    "    !curl -s https://raw.githubusercontent.com/ibs-lab/cedalion/colab_setup/scripts/colab_setup.py -o colab_setup.py\n",
    "    # Select branch with --branch \"branch name\" (default is \"dev\")\n",
    "    %run colab_setup.py\n",
    "except ImportError:\n",
    "    pass"
   ]
  },
  {
   "cell_type": "code",
   "execution_count": null,
   "metadata": {},
   "outputs": [],
   "source": [
    "import cedalion\n",
    "import cedalion.nirs\n",
    "import cedalion.xrutils\n",
    "import cedalion.xrutils as xrutils\n",
    "from cedalion.datasets import get_fingertapping_snirf_path\n",
    "import numpy as np\n",
    "import xarray as xr\n",
    "import pint\n",
    "import matplotlib.pyplot as p\n",
    "import scipy.signal\n",
    "import os.path\n",
    "xr.set_options(display_max_rows=3, display_values_threshold=50)\n",
    "np.set_printoptions(precision=4)"
   ]
  },
  {
   "cell_type": "markdown",
   "metadata": {},
   "source": [
    "### Loading raw CW-NIRS data from a SNIRF file\n",
    "This notebook uses a finger-tapping dataset in BIDS layout provided by [Rob Luke](https://github.com/rob-luke/BIDS-NIRS-Tapping). It can can be downloaded via `cedalion.datasets`."
   ]
  },
  {
   "cell_type": "markdown",
   "metadata": {},
   "source": [
    "Load amplitude data from the snirf file."
   ]
  },
  {
   "cell_type": "code",
   "execution_count": null,
   "metadata": {},
   "outputs": [],
   "source": [
    "path_to_snirf_file = get_fingertapping_snirf_path()\n",
    "\n",
    "recordings = cedalion.io.read_snirf(path_to_snirf_file)\n",
    "rec = recordings[0] # there is only one NirsElement in this snirf file...\n",
    "amp = rec[\"amp\"]    # ... which holds amplitude data\n",
    "\n",
    "# restrict to first 60 seconds and fill in missing units\n",
    "amp = amp.sel(time=amp.time < 60)\n",
    "amp = amp.pint.dequantify().pint.quantify(\"V\")\n",
    "geo3d = rec.geo3d\n"
   ]
  },
  {
   "cell_type": "code",
   "execution_count": null,
   "metadata": {},
   "outputs": [],
   "source": [
    "recordings"
   ]
  },
  {
   "cell_type": "markdown",
   "metadata": {},
   "source": [
    "### Amplitude data"
   ]
  },
  {
   "cell_type": "code",
   "execution_count": null,
   "metadata": {},
   "outputs": [],
   "source": [
    "display(amp.round(4))"
   ]
  },
  {
   "cell_type": "markdown",
   "metadata": {},
   "source": [
    "### Montage information"
   ]
  },
  {
   "cell_type": "markdown",
   "metadata": {},
   "source": [
    "The `geo3d` DataArray maps labels to 3D positions, thus storing the location of optodes and landmarks."
   ]
  },
  {
   "cell_type": "code",
   "execution_count": null,
   "metadata": {},
   "outputs": [],
   "source": [
    "display_labels = [\"S1\", \"S2\", \"D1\", \"D2\", \"NASION\"] # for brevity show only these\n",
    "geo3d.round(5).sel(label=display_labels)"
   ]
  },
  {
   "cell_type": "markdown",
   "metadata": {},
   "source": [
    "To obtain channel distances, we can lookup `amp`'s source and detector coordinates in `geo3d`,\n",
    "subtract these and calculate the vector norm."
   ]
  },
  {
   "cell_type": "code",
   "execution_count": null,
   "metadata": {},
   "outputs": [],
   "source": [
    "dists = xrutils.norm(geo3d.loc[amp.source] - geo3d.loc[amp.detector], dim=\"pos\")\n",
    "display(dists.round(3))"
   ]
  },
  {
   "cell_type": "markdown",
   "metadata": {},
   "source": [
    "### Beer-Lambert transformation"
   ]
  },
  {
   "cell_type": "markdown",
   "metadata": {},
   "source": [
    "Specify differential path length factors (DPF). Obtain a matrix of tabulated extinction coefficients for the wavelengths of our dataset and calculate the inverse. Cedalion offers dedicated functions for mBLL conversion ( nirs.int2od(), nirs.od2conc(), and nirs.beer-lambert() functions from the nirs subpackage) - but we do not use them here to better showcase how Xarrays work. "
   ]
  },
  {
   "cell_type": "code",
   "execution_count": null,
   "metadata": {},
   "outputs": [],
   "source": [
    "dpf = xr.DataArray([6., 6.], dims=\"wavelength\", coords={\"wavelength\" : [760., 850.]})\n",
    "\n",
    "E = cedalion.nirs.get_extinction_coefficients(\"prahl\", amp.wavelength)\n",
    "Einv = cedalion.xrutils.pinv(E)\n",
    "display(Einv.round(4))"
   ]
  },
  {
   "cell_type": "code",
   "execution_count": null,
   "metadata": {},
   "outputs": [],
   "source": [
    "optical_density =  -np.log( amp / amp.mean(\"time\"))\n",
    "\n",
    "conc = Einv @ (optical_density / ( dists * dpf))\n",
    "\n",
    "display(conc.pint.to(\"micromolar\").round(4))"
   ]
  },
  {
   "cell_type": "code",
   "execution_count": null,
   "metadata": {
    "tags": [
     "nbsphinx-thumbnail"
    ]
   },
   "outputs": [],
   "source": [
    "f,ax = p.subplots(1,1, figsize=(12,4))\n",
    "ax.plot( conc.time, conc.sel(channel=\"S1D1\", chromo=\"HbO\").pint.to(\"micromolar\"), \"r-\", label=\"HbO\")\n",
    "ax.plot( conc.time, conc.sel(channel=\"S1D1\", chromo=\"HbR\").pint.to(\"micromolar\"), \"b-\", label=\"HbR\")\n",
    "p.legend()\n",
    "ax.set_xlabel(\"time / s\")\n",
    "ax.set_ylabel(\"$\\Delta c$ / $\\mu M$\");"
   ]
  }
 ],
 "metadata": {
  "kernelspec": {
   "display_name": "cedalion_240924",
   "language": "python",
   "name": "python3"
  },
  "language_info": {
   "codemirror_mode": {
    "name": "ipython",
    "version": 3
   },
   "file_extension": ".py",
   "mimetype": "text/x-python",
   "name": "python",
   "nbconvert_exporter": "python",
   "pygments_lexer": "ipython3",
   "version": "3.11.8"
  }
 },
 "nbformat": 4,
 "nbformat_minor": 2
}
